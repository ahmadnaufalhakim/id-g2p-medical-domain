{
 "cells": [
  {
   "cell_type": "markdown",
   "metadata": {
    "id": "ec9kWAWVD9UU"
   },
   "source": [
    "## Import libraries"
   ]
  },
  {
   "cell_type": "code",
   "execution_count": 27,
   "metadata": {
    "colab": {
     "base_uri": "https://localhost:8080/"
    },
    "executionInfo": {
     "elapsed": 52,
     "status": "ok",
     "timestamp": 1740675351638,
     "user": {
      "displayName": "23522026 Ahmad Naufal Hakim",
      "userId": "16621933245327613442"
     },
     "user_tz": -420
    },
    "id": "JT1nFx9SK5UF",
    "outputId": "a0a0765a-0875-4b33-ecc4-bd79a983e1e3"
   },
   "outputs": [
    {
     "name": "stdout",
     "output_type": "stream",
     "text": [
      "/mnt/d/Hakims/college/S2/tesis/id-g2p-medical-domain/modules/prn-gen/exp/en_id\n"
     ]
    }
   ],
   "source": [
    "print(globals()[\"_dh\"][0])"
   ]
  },
  {
   "cell_type": "code",
   "execution_count": 28,
   "metadata": {
    "colab": {
     "base_uri": "https://localhost:8080/"
    },
    "executionInfo": {
     "elapsed": 5402,
     "status": "ok",
     "timestamp": 1740675357038,
     "user": {
      "displayName": "23522026 Ahmad Naufal Hakim",
      "userId": "16621933245327613442"
     },
     "user_tz": -420
    },
    "id": "LdstRSwX86t4",
    "outputId": "a2a9c1c8-0899-4fd8-ba03-79f0c447b594"
   },
   "outputs": [],
   "source": [
    "import os\n",
    "import random\n",
    "import shutil\n",
    "\n",
    "import torch\n",
    "import torch.nn as nn\n",
    "import torch.nn.functional as F\n",
    "from torch.nn.utils.rnn import pad_sequence\n",
    "import torch.optim as optim\n",
    "from torch.utils.data import Dataset, DataLoader"
   ]
  },
  {
   "cell_type": "code",
   "execution_count": 29,
   "metadata": {
    "colab": {
     "base_uri": "https://localhost:8080/"
    },
    "executionInfo": {
     "elapsed": 8519,
     "status": "ok",
     "timestamp": 1740675365559,
     "user": {
      "displayName": "23522026 Ahmad Naufal Hakim",
      "userId": "16621933245327613442"
     },
     "user_tz": -420
    },
    "id": "FlovFUQYJj6-",
    "outputId": "7e8d72e5-7442-46de-cd60-a0b8d7a078e7"
   },
   "outputs": [
    {
     "name": "stdout",
     "output_type": "stream",
     "text": [
      "Defaulting to user installation because normal site-packages is not writeable\n",
      "\u001b[33mWARNING: Ignoring invalid distribution -vidia-cudnn-cu12 (/home/ahmadnaufalhakim/.local/lib/python3.8/site-packages)\u001b[0m\u001b[33m\n",
      "\u001b[0mRequirement already satisfied: jiwer in /home/ahmadnaufalhakim/.local/lib/python3.8/site-packages (3.1.0)\n",
      "Requirement already satisfied: click>=8.1.8 in /home/ahmadnaufalhakim/.local/lib/python3.8/site-packages (from jiwer) (8.1.8)\n",
      "Requirement already satisfied: rapidfuzz>=3.9.7 in /home/ahmadnaufalhakim/.local/lib/python3.8/site-packages (from jiwer) (3.9.7)\n",
      "\u001b[33mWARNING: Ignoring invalid distribution -vidia-cudnn-cu12 (/home/ahmadnaufalhakim/.local/lib/python3.8/site-packages)\u001b[0m\u001b[33m\n",
      "\u001b[0m\u001b[33mWARNING: Ignoring invalid distribution -vidia-cudnn-cu12 (/home/ahmadnaufalhakim/.local/lib/python3.8/site-packages)\u001b[0m\u001b[33m\n",
      "\u001b[0mNote: you may need to restart the kernel to use updated packages.\n"
     ]
    }
   ],
   "source": [
    "%pip install jiwer"
   ]
  },
  {
   "cell_type": "code",
   "execution_count": 30,
   "metadata": {
    "executionInfo": {
     "elapsed": 36,
     "status": "ok",
     "timestamp": 1740675365597,
     "user": {
      "displayName": "23522026 Ahmad Naufal Hakim",
      "userId": "16621933245327613442"
     },
     "user_tz": -420
    },
    "id": "tIgQTZ7ZJsfT"
   },
   "outputs": [],
   "source": [
    "from jiwer import wer"
   ]
  },
  {
   "cell_type": "markdown",
   "metadata": {
    "id": "3xGGFh-68xYx"
   },
   "source": [
    "## Variables"
   ]
  },
  {
   "cell_type": "code",
   "execution_count": 31,
   "metadata": {
    "executionInfo": {
     "elapsed": 5,
     "status": "ok",
     "timestamp": 1740675365637,
     "user": {
      "displayName": "23522026 Ahmad Naufal Hakim",
      "userId": "16621933245327613442"
     },
     "user_tz": -420
    },
    "id": "R2DTSa3h8zgf"
   },
   "outputs": [],
   "source": [
    "GRP_TYPE = \"bigram\" # @param [\"unigram\", \"bigram\", \"trigram\"]\n",
    "ATTN_MODEL = \"dot\"\n",
    "EMB_DIM = \"256\" # @param [16, 32, 64, 128, 256, 512]\n",
    "HIDDEN_SIZE = \"128\" # @param [64, 128, 256, 512, 1024]\n",
    "N_LAYERS = \"1\" # @param [1, 2]\n",
    "DROPOUT_PROBA = .1"
   ]
  },
  {
   "cell_type": "markdown",
   "metadata": {
    "id": "BiSP-GxlIvUG"
   },
   "source": [
    "## Constants"
   ]
  },
  {
   "cell_type": "code",
   "execution_count": 32,
   "metadata": {
    "colab": {
     "base_uri": "https://localhost:8080/"
    },
    "executionInfo": {
     "elapsed": 232,
     "status": "ok",
     "timestamp": 1740675365872,
     "user": {
      "displayName": "23522026 Ahmad Naufal Hakim",
      "userId": "16621933245327613442"
     },
     "user_tz": -420
    },
    "id": "FfAkZ0ErIxOW",
    "outputId": "6b054b91-1e7f-4738-c254-2f9c73138c88"
   },
   "outputs": [
    {
     "name": "stdout",
     "output_type": "stream",
     "text": [
      "Using device: cuda\n"
     ]
    }
   ],
   "source": [
    "# PyTorch\n",
    "DEVICE = torch.device(\"cuda\" if torch.cuda.is_available() else \"cpu\")\n",
    "USE_CUDA = (DEVICE.type == \"cuda\")\n",
    "print(f\"Using device: {DEVICE}\")\n",
    "BATCH_SIZE = 64\n",
    "\n",
    "# Data preprocessing\n",
    "SOS_TOKEN = 0\n",
    "EOS_TOKEN = 1\n",
    "PAD_TOKEN = 2\n",
    "UNK_TOKEN = 3\n",
    "\n",
    "# Directories\n",
    "CURR_DIR = globals()[\"_dh\"][0]\n",
    "DATA_SOURCE_DIR = os.path.join(CURR_DIR, \"../../data/en_ma\")\n",
    "DATA_DIR = os.path.join(CURR_DIR, \"data\")\n",
    "if not os.path.exists(DATA_DIR) :\n",
    "  os.mkdir(DATA_DIR)\n",
    "shutil.copy(os.path.join(DATA_SOURCE_DIR, \"train_converted.csv\"), os.path.join(DATA_DIR, \"train.csv\"))\n",
    "shutil.copy(os.path.join(DATA_SOURCE_DIR, \"val_converted.csv\"), os.path.join(DATA_DIR, \"val.csv\"))\n",
    "shutil.copy(os.path.join(DATA_SOURCE_DIR, \"test_converted.csv\"), os.path.join(DATA_DIR, \"test.csv\"))\n",
    "MODELS_DIR = os.path.join(CURR_DIR, \"models\")\n",
    "if not os.path.exists(MODELS_DIR) :\n",
    "  os.mkdir(MODELS_DIR)\n",
    "MODELS_DIR = os.path.join(MODELS_DIR, GRP_TYPE)\n",
    "if not os.path.exists(MODELS_DIR) :\n",
    "  os.mkdir(MODELS_DIR)\n",
    "\n",
    "# Dataset preparation\n",
    "PHONEME_REGEX_PATTERNS = {\n",
    "  'C': [\n",
    "    \"((tʃ)|(dʒ)|(ŋ)|(ɲ)|(sj))\",\n",
    "    \"((ʔ)|(b)|(d)|(f)|(g)|(h)|(k)|(l)|(m)|(n)|(p)|(r)|(s)|(t)|(v)|(w)|(j)|(z))\"\n",
    "  ],\n",
    "  'V': [\n",
    "    \"((ai)|(au)|(oi)|(ei))\",\n",
    "    \"(a|i|u|e|ə|o)\"\n",
    "  ]\n",
    "}\n",
    "COMBINED_PHONEME_REGEX_PATTERNS = '|'.join(\n",
    "  pattern for patterns in PHONEME_REGEX_PATTERNS.values() for pattern in patterns\n",
    ")\n",
    "COMBINED_PHONEME_REGEX_PATTERNS = f\"(?:{COMBINED_PHONEME_REGEX_PATTERNS})\""
   ]
  },
  {
   "cell_type": "markdown",
   "metadata": {
    "id": "Rd1ak2wwJJem"
   },
   "source": [
    "## Preparing dataset"
   ]
  },
  {
   "cell_type": "markdown",
   "metadata": {
    "id": "NFIgZGRJ9qLV"
   },
   "source": [
    "### `G2PDataset` torch dataset class definition"
   ]
  },
  {
   "cell_type": "code",
   "execution_count": 33,
   "metadata": {
    "executionInfo": {
     "elapsed": 33,
     "status": "ok",
     "timestamp": 1740675365908,
     "user": {
      "displayName": "23522026 Ahmad Naufal Hakim",
      "userId": "16621933245327613442"
     },
     "user_tz": -420
    },
    "id": "qaOrjh2JJLLO"
   },
   "outputs": [],
   "source": [
    "class G2PDataset(Dataset) :\n",
    "  def __init__(self, graphemes_list, phonemes_list, lang_list) -> None :\n",
    "    assert len(graphemes_list) == len(phonemes_list) == len(lang_list)\n",
    "    # Handle graphemes\n",
    "    self.graphemes_list = graphemes_list\n",
    "    self.grapheme2index = {}\n",
    "    self.index2grapheme = {0: \"<SOS>\", 1: \"<EOS>\", 2:\"<PAD>\", 3:\"<UNK>\"}\n",
    "    self.n_graphemes = 4\n",
    "    for graphemes in graphemes_list :\n",
    "      for grapheme in graphemes :\n",
    "        self.add_grapheme(grapheme)\n",
    "    i = 4\n",
    "    for grapheme in sorted(self.grapheme2index) :\n",
    "      self.grapheme2index[grapheme] = i\n",
    "      self.index2grapheme[i] = grapheme\n",
    "      i += 1\n",
    "    # Handle phonemes\n",
    "    self.phonemes_list = phonemes_list\n",
    "    self.phoneme2index = {}\n",
    "    self.index2phoneme = {0: \"<SOS>\", 1: \"<EOS>\", 2:\"<PAD>\"}\n",
    "    self.n_phonemes = 3\n",
    "    for phonemes in phonemes_list :\n",
    "      for phoneme in phonemes :\n",
    "        self.add_phoneme(phoneme)\n",
    "    i = 3\n",
    "    for phoneme in sorted(self.phoneme2index) :\n",
    "      self.phoneme2index[phoneme] = i\n",
    "      self.index2phoneme[i] = phoneme\n",
    "      i += 1\n",
    "    # Handle lang\n",
    "    self.lang_list = lang_list\n",
    "\n",
    "  def add_grapheme(self, grapheme) :\n",
    "    if grapheme not in self.grapheme2index :\n",
    "      self.grapheme2index[grapheme] = self.n_graphemes\n",
    "      self.index2grapheme[self.n_graphemes] = grapheme\n",
    "      self.n_graphemes += 1\n",
    "\n",
    "  def add_phoneme(self, phoneme) :\n",
    "    if phoneme not in self.phoneme2index :\n",
    "      self.phoneme2index[phoneme] = self.n_phonemes\n",
    "      self.index2phoneme[self.n_phonemes] = phoneme\n",
    "      self.n_phonemes += 1\n",
    "\n",
    "  def __len__(self) :\n",
    "    return len(self.graphemes_list)\n",
    "\n",
    "  def __getitem__(self, index) -> str :\n",
    "    graphemes = [self.grapheme2index.get(grapheme, UNK_TOKEN) for grapheme in self.graphemes_list[index]] + [EOS_TOKEN]\n",
    "    phonemes = [self.phoneme2index[phoneme] for phoneme in self.phonemes_list[index]] + [EOS_TOKEN]\n",
    "    lang = self.lang_list[index]\n",
    "    return graphemes, phonemes, lang"
   ]
  },
  {
   "cell_type": "markdown",
   "metadata": {
    "id": "J8IB7SapA7MM"
   },
   "source": [
    "### Helper functions to prepare `train/val/test` set"
   ]
  },
  {
   "cell_type": "code",
   "execution_count": 34,
   "metadata": {
    "executionInfo": {
     "elapsed": 2,
     "status": "ok",
     "timestamp": 1740675365912,
     "user": {
      "displayName": "23522026 Ahmad Naufal Hakim",
      "userId": "16621933245327613442"
     },
     "user_tz": -420
    },
    "id": "vU52JF_pBru4"
   },
   "outputs": [],
   "source": [
    "def extract_graphemes(grapheme_syllable_sequence:str, grp_type:str) :\n",
    "  word = ''.join(grapheme_syllable_sequence.split('.'))\n",
    "  # Unigram\n",
    "  if grp_type == \"unigram\" :\n",
    "    return [*word]\n",
    "  # Bigram\n",
    "  elif grp_type == \"bigram\" :\n",
    "    if len(word) < 2 :\n",
    "      return [word]\n",
    "    return [word[i:i+2] for i in range(len(word)-1)]\n",
    "  # Trigram\n",
    "  elif grp_type == \"trigram\" :\n",
    "    if len(word) < 3 :\n",
    "      return [word]\n",
    "    return [word[i:i+3] for i in range(len(word)-2)]\n",
    "\n",
    "def extract_arpabet_phonemes(arpabet_phoneme_sequence:str) :\n",
    "  return arpabet_phoneme_sequence.split()"
   ]
  },
  {
   "cell_type": "code",
   "execution_count": 35,
   "metadata": {
    "executionInfo": {
     "elapsed": 4,
     "status": "ok",
     "timestamp": 1740675365919,
     "user": {
      "displayName": "23522026 Ahmad Naufal Hakim",
      "userId": "16621933245327613442"
     },
     "user_tz": -420
    },
    "id": "59DHgoYQ-R6T"
   },
   "outputs": [],
   "source": [
    "def prepare_dataset(split_name:str, grp_type:str) :\n",
    "  assert split_name in [\"train\", \"val\", \"test\"]\n",
    "  assert grp_type in [\"unigram\", \"bigram\", \"trigram\"]\n",
    "  print(f\"Reading {split_name} entries ..\")\n",
    "  # Read the file and split into lines\n",
    "  with open(os.path.join(DATA_DIR, f\"{split_name}.csv\"), encoding=\"utf-8\") as f_csv :\n",
    "    next(f_csv, None)\n",
    "    # Split every row into pairs\n",
    "    pairs = [[s.strip('\\n') for s in row.split(',')] for row in f_csv]\n",
    "    # Accumulate all lines into two graphemes and phonemes lists\n",
    "    graphemes_list = [extract_graphemes(pair[0], grp_type) for pair in pairs] # Split grapheme as desired\n",
    "    phonemes_list = [extract_arpabet_phonemes(pair[1]) for pair in pairs]\n",
    "    lang_list = [pair[2] for pair in pairs]\n",
    "    # Create the G2PDataset object\n",
    "    g2p_dataset = G2PDataset(graphemes_list, phonemes_list, lang_list)\n",
    "  return g2p_dataset, pairs"
   ]
  },
  {
   "cell_type": "code",
   "execution_count": 36,
   "metadata": {
    "colab": {
     "base_uri": "https://localhost:8080/"
    },
    "executionInfo": {
     "elapsed": 1775,
     "status": "ok",
     "timestamp": 1740675367697,
     "user": {
      "displayName": "23522026 Ahmad Naufal Hakim",
      "userId": "16621933245327613442"
     },
     "user_tz": -420
    },
    "id": "DwbB20gZDJOe",
    "outputId": "ec8792bd-f2b2-4246-9f0b-b93dbb078385"
   },
   "outputs": [
    {
     "name": "stdout",
     "output_type": "stream",
     "text": [
      "Reading train entries ..\n",
      "Reading val entries ..\n",
      "Reading test entries ..\n",
      "EN_WEIGHT: 0.6138648959009436\n",
      "ID_WEIGHT: 2.6955844953082524\n"
     ]
    }
   ],
   "source": [
    "train_g2p_dataset, train_pairs = prepare_dataset(\"train\", grp_type=GRP_TYPE)\n",
    "val_g2p_dataset, val_pairs = prepare_dataset(\"val\", grp_type=GRP_TYPE)\n",
    "test_g2p_dataset, test_pairs = prepare_dataset(\"test\", grp_type=GRP_TYPE)\n",
    "pairs = train_pairs + val_pairs + test_pairs\n",
    "\n",
    "# Equalize grapheme and phoneme mappings for val and test set\n",
    "## Valid set\n",
    "val_g2p_dataset.grapheme2index = train_g2p_dataset.grapheme2index\n",
    "val_g2p_dataset.index2grapheme = train_g2p_dataset.index2grapheme\n",
    "val_g2p_dataset.n_graphemes = train_g2p_dataset.n_graphemes\n",
    "val_g2p_dataset.phoneme2index = train_g2p_dataset.phoneme2index\n",
    "val_g2p_dataset.index2phoneme = train_g2p_dataset.index2phoneme\n",
    "val_g2p_dataset.n_phonemes = train_g2p_dataset.n_phonemes\n",
    "## Test set\n",
    "test_g2p_dataset.grapheme2index = train_g2p_dataset.grapheme2index\n",
    "test_g2p_dataset.index2grapheme = train_g2p_dataset.index2grapheme\n",
    "test_g2p_dataset.n_graphemes = train_g2p_dataset.n_graphemes\n",
    "test_g2p_dataset.phoneme2index = train_g2p_dataset.phoneme2index\n",
    "test_g2p_dataset.index2phoneme = train_g2p_dataset.index2phoneme\n",
    "test_g2p_dataset.n_phonemes = train_g2p_dataset.n_phonemes\n",
    "\n",
    "# Find the maximum output sequence length among graphemes and phonemes across all datasets\n",
    "MAX_LENGTH = -999\n",
    "for graphemes in train_g2p_dataset.graphemes_list :\n",
    "  if MAX_LENGTH < len(graphemes) :\n",
    "    MAX_LENGTH = len(graphemes)\n",
    "for phonemes in train_g2p_dataset.phonemes_list :\n",
    "  if MAX_LENGTH < len(phonemes) :\n",
    "    MAX_LENGTH = len(phonemes)\n",
    "for graphemes in val_g2p_dataset.graphemes_list :\n",
    "  if MAX_LENGTH < len(graphemes) :\n",
    "    MAX_LENGTH = len(graphemes)\n",
    "for phonemes in val_g2p_dataset.phonemes_list :\n",
    "  if MAX_LENGTH < len(phonemes) :\n",
    "    MAX_LENGTH = len(phonemes)\n",
    "for graphemes in test_g2p_dataset.graphemes_list :\n",
    "  if MAX_LENGTH < len(graphemes) :\n",
    "    MAX_LENGTH = len(graphemes)\n",
    "for phonemes in test_g2p_dataset.phonemes_list :\n",
    "  if MAX_LENGTH < len(phonemes) :\n",
    "    MAX_LENGTH = len(phonemes)\n",
    "\n",
    "# Initialize weight loss for en and id\n",
    "N = len(train_pairs)\n",
    "K = 2\n",
    "EN_WEIGHT = N/(K * sum(1 for pair in train_pairs if pair[2]==\"en\"))\n",
    "ID_WEIGHT = N/(K * sum(1 for pair in train_pairs if pair[2]==\"ma\"))\n",
    "print(f\"EN_WEIGHT: {EN_WEIGHT}\")\n",
    "print(f\"ID_WEIGHT: {ID_WEIGHT}\")"
   ]
  },
  {
   "cell_type": "code",
   "execution_count": 37,
   "metadata": {
    "executionInfo": {
     "elapsed": 22,
     "status": "ok",
     "timestamp": 1740675367742,
     "user": {
      "displayName": "23522026 Ahmad Naufal Hakim",
      "userId": "16621933245327613442"
     },
     "user_tz": -420
    },
    "id": "O9fmoIa9M6RG"
   },
   "outputs": [],
   "source": [
    "torch.save(train_g2p_dataset.index2grapheme, os.path.join(MODELS_DIR, \"id2grp.pth\"))\n",
    "torch.save(train_g2p_dataset.index2phoneme, os.path.join(MODELS_DIR, \"id2phn.pth\"))\n",
    "\n",
    "# Custom Collate function (for padding)\n",
    "def collate_fn(batch) :\n",
    "  # batch: [(input_seq, target_seq, lang), ...]\n",
    "  graphemes, phonemes, langs = zip(*batch)\n",
    "  # Pad sequences\n",
    "  graphemes_padded = pad_sequence([torch.tensor(x) for x in graphemes], padding_value=PAD_TOKEN)\n",
    "  phonemes_padded = pad_sequence([torch.tensor(y) for y in phonemes], padding_value=PAD_TOKEN)\n",
    "  return graphemes_padded, phonemes_padded, langs\n",
    "\n",
    "train_dataloader = DataLoader(train_g2p_dataset, batch_size=BATCH_SIZE, collate_fn=collate_fn, shuffle=True)\n",
    "valid_dataloader = DataLoader(val_g2p_dataset, batch_size=BATCH_SIZE, collate_fn=collate_fn, shuffle=False)\n",
    "test_dataloader = DataLoader(test_g2p_dataset, batch_size=BATCH_SIZE, collate_fn=collate_fn, shuffle=False)"
   ]
  },
  {
   "cell_type": "markdown",
   "metadata": {
    "id": "W9rbldUGJN7b"
   },
   "source": [
    "## Turning grapheme and phoneme data to Tensors/Variables"
   ]
  },
  {
   "cell_type": "code",
   "execution_count": 38,
   "metadata": {
    "executionInfo": {
     "elapsed": 135,
     "status": "ok",
     "timestamp": 1740675367879,
     "user": {
      "displayName": "23522026 Ahmad Naufal Hakim",
      "userId": "16621933245327613442"
     },
     "user_tz": -420
    },
    "id": "I2cem0ghY0mA"
   },
   "outputs": [],
   "source": [
    "def indexes_from_word(dataset, word, grp_type) :\n",
    "  assert grp_type in [\"unigram\", \"bigram\", \"trigram\"]\n",
    "  if grp_type == \"unigram\" :\n",
    "    graphemes = [*word]\n",
    "  elif grp_type == \"bigram\" :\n",
    "    graphemes = [word[i:i+2] for i in range(len(word)-1)] if len(word)>=2 else [word]\n",
    "  elif grp_type == \"trigram\" :\n",
    "    graphemes = [word[i:i+3] for i in range(len(word)-2)] if len(word)>=3 else [word]\n",
    "  return [dataset.grapheme2index.get(grapheme, UNK_TOKEN) for grapheme in graphemes] + [EOS_TOKEN]\n",
    "\n",
    "def variable_from_word(dataset, word, grp_type) :\n",
    "  indexes = indexes_from_word(dataset, word, grp_type)\n",
    "  var = torch.LongTensor(indexes).view(-1, 1)\n",
    "  if USE_CUDA :\n",
    "    var = var.cuda()\n",
    "  return var\n",
    "\n",
    "### BOTH NOT USED until further observation\n",
    "def indexes_from_pair(dataset, pair) :\n",
    "  \"\"\"\n",
    "  pair: [graphemes, phonemes]\n",
    "  \"\"\"\n",
    "  graphemes_indexes = [dataset.grapheme2index.get(grapheme, UNK_TOKEN) for grapheme in pair[0].split()] + [EOS_TOKEN]\n",
    "  phonemes_indexes = [dataset.phoneme2index[phoneme] for phoneme in pair[1].split()] + [EOS_TOKEN]\n",
    "  return graphemes_indexes, phonemes_indexes\n",
    "\n",
    "def variables_from_pair(dataset, pair) :\n",
    "  graphemes_indexes, phonemes_indexes = indexes_from_pair(dataset, pair)\n",
    "  graphemes_var = torch.LongTensor(graphemes_indexes).view(-1, 1)\n",
    "  phonemes_var = torch.LongTensor(phonemes_indexes).view(-1, 1)\n",
    "  if USE_CUDA :\n",
    "    graphemes_var = graphemes_var.cuda()\n",
    "    phonemes_var = phonemes_var.cuda()\n",
    "  return graphemes_var, phonemes_var"
   ]
  },
  {
   "cell_type": "code",
   "execution_count": 39,
   "metadata": {
    "colab": {
     "base_uri": "https://localhost:8080/"
    },
    "executionInfo": {
     "elapsed": 19,
     "status": "ok",
     "timestamp": 1740675367882,
     "user": {
      "displayName": "23522026 Ahmad Naufal Hakim",
      "userId": "16621933245327613442"
     },
     "user_tz": -420
    },
    "id": "433SrerOr4_Y",
    "outputId": "b03a688e-d182-44ca-a5ee-f8e0b5679352"
   },
   "outputs": [
    {
     "name": "stdout",
     "output_type": "stream",
     "text": [
      "[375, 170, 404, 233, 584, 400, 111, 281, 422, 671, 1]\n"
     ]
    }
   ],
   "source": [
    "print(indexes_from_word(train_g2p_dataset, \"menguncinya\", grp_type=GRP_TYPE))\n",
    "# print(variable_from_word(train_g2p_dataset, \"menguncinya\", grp_type=GRP_TYPE))"
   ]
  },
  {
   "cell_type": "code",
   "execution_count": 40,
   "metadata": {
    "colab": {
     "base_uri": "https://localhost:8080/"
    },
    "executionInfo": {
     "elapsed": 14,
     "status": "ok",
     "timestamp": 1740675367884,
     "user": {
      "displayName": "23522026 Ahmad Naufal Hakim",
      "userId": "16621933245327613442"
     },
     "user_tz": -420
    },
    "id": "vBgWZU1zZIEp",
    "outputId": "801ff8d1-c0c5-49fc-a337-df5484e9e424"
   },
   "outputs": [
    {
     "name": "stdout",
     "output_type": "stream",
     "text": [
      "<__main__.G2PDataset object at 0x7fc896f51820> ([6, 103, 71, 589, 520, 1], [18, 6, 35, 1], 'en')\n",
      "([6, 103, 71, 589, 520, 1], [18, 6, 35, 1], 'en')\n",
      "([6, 103, 71, 589, 520, 1], [18, 6, 35, 1], 'en')\n",
      "train grp 722 {0: '<SOS>', 1: '<EOS>', 2: '<PAD>', 3: '<UNK>', 4: \"'a\", 5: \"'b\", 6: \"'c\", 7: \"'d\", 8: \"'e\", 9: \"'g\", 10: \"'h\", 11: \"'i\", 12: \"'j\", 13: \"'k\", 14: \"'l\", 15: \"'m\", 16: \"'n\", 17: \"'o\", 18: \"'q\", 19: \"'r\", 20: \"'s\", 21: \"'t\", 22: \"'u\", 23: \"'v\", 24: '--', 25: '-a', 26: '-b', 27: '-c', 28: '-d', 29: '-e', 30: '-f', 31: '-g', 32: '-h', 33: '-i', 34: '-j', 35: '-k', 36: '-l', 37: '-m', 38: '-n', 39: '-o', 40: '-p', 41: '-q', 42: '-r', 43: '-s', 44: '-t', 45: '-u', 46: '-v', 47: '-w', 48: '-y', 49: \"a'\", 50: 'a-', 51: 'aa', 52: 'ab', 53: 'ac', 54: 'ad', 55: 'ae', 56: 'af', 57: 'ag', 58: 'ah', 59: 'ai', 60: 'aj', 61: 'ak', 62: 'al', 63: 'am', 64: 'an', 65: 'ao', 66: 'ap', 67: 'aq', 68: 'ar', 69: 'as', 70: 'at', 71: 'au', 72: 'av', 73: 'aw', 74: 'ax', 75: 'ay', 76: 'az', 77: \"b'\", 78: 'ba', 79: 'bb', 80: 'bc', 81: 'bd', 82: 'be', 83: 'bf', 84: 'bg', 85: 'bh', 86: 'bi', 87: 'bj', 88: 'bk', 89: 'bl', 90: 'bm', 91: 'bn', 92: 'bo', 93: 'bp', 94: 'br', 95: 'bs', 96: 'bt', 97: 'bu', 98: 'bv', 99: 'bw', 100: 'by', 101: 'bz', 102: \"c'\", 103: 'ca', 104: 'cb', 105: 'cc', 106: 'cd', 107: 'ce', 108: 'cf', 109: 'cg', 110: 'ch', 111: 'ci', 112: 'cj', 113: 'ck', 114: 'cl', 115: 'cm', 116: 'cn', 117: 'co', 118: 'cp', 119: 'cq', 120: 'cr', 121: 'cs', 122: 'ct', 123: 'cu', 124: 'cv', 125: 'cw', 126: 'cy', 127: 'cz', 128: \"d'\", 129: 'd-', 130: 'da', 131: 'db', 132: 'dc', 133: 'dd', 134: 'de', 135: 'df', 136: 'dg', 137: 'dh', 138: 'di', 139: 'dj', 140: 'dk', 141: 'dl', 142: 'dm', 143: 'dn', 144: 'do', 145: 'dp', 146: 'dq', 147: 'dr', 148: 'ds', 149: 'dt', 150: 'du', 151: 'dv', 152: 'dw', 153: 'dy', 154: 'dz', 155: \"e'\", 156: 'e-', 157: 'ea', 158: 'eb', 159: 'ec', 160: 'ed', 161: 'ee', 162: 'ef', 163: 'eg', 164: 'eh', 165: 'ei', 166: 'ej', 167: 'ek', 168: 'el', 169: 'em', 170: 'en', 171: 'eo', 172: 'ep', 173: 'eq', 174: 'er', 175: 'es', 176: 'et', 177: 'eu', 178: 'ev', 179: 'ew', 180: 'ex', 181: 'ey', 182: 'ez', 183: \"f'\", 184: 'f-', 185: 'fa', 186: 'fb', 187: 'fc', 188: 'fd', 189: 'fe', 190: 'ff', 191: 'fg', 192: 'fh', 193: 'fi', 194: 'fj', 195: 'fk', 196: 'fl', 197: 'fm', 198: 'fn', 199: 'fo', 200: 'fp', 201: 'fq', 202: 'fr', 203: 'fs', 204: 'ft', 205: 'fu', 206: 'fv', 207: 'fw', 208: 'fx', 209: 'fy', 210: 'fz', 211: \"g'\", 212: 'g-', 213: 'ga', 214: 'gb', 215: 'gc', 216: 'gd', 217: 'ge', 218: 'gf', 219: 'gg', 220: 'gh', 221: 'gi', 222: 'gj', 223: 'gk', 224: 'gl', 225: 'gm', 226: 'gn', 227: 'go', 228: 'gp', 229: 'gq', 230: 'gr', 231: 'gs', 232: 'gt', 233: 'gu', 234: 'gv', 235: 'gw', 236: 'gx', 237: 'gy', 238: 'gz', 239: \"h'\", 240: 'h-', 241: 'ha', 242: 'hb', 243: 'hc', 244: 'hd', 245: 'he', 246: 'hf', 247: 'hg', 248: 'hh', 249: 'hi', 250: 'hj', 251: 'hk', 252: 'hl', 253: 'hm', 254: 'hn', 255: 'ho', 256: 'hp', 257: 'hq', 258: 'hr', 259: 'hs', 260: 'ht', 261: 'hu', 262: 'hv', 263: 'hw', 264: 'hy', 265: 'i', 266: \"i'\", 267: 'i-', 268: 'ia', 269: 'ib', 270: 'ic', 271: 'id', 272: 'ie', 273: 'if', 274: 'ig', 275: 'ih', 276: 'ii', 277: 'ij', 278: 'ik', 279: 'il', 280: 'im', 281: 'in', 282: 'io', 283: 'ip', 284: 'iq', 285: 'ir', 286: 'is', 287: 'it', 288: 'iu', 289: 'iv', 290: 'iw', 291: 'ix', 292: 'iy', 293: 'iz', 294: \"j'\", 295: 'ja', 296: 'jc', 297: 'jd', 298: 'je', 299: 'jf', 300: 'jh', 301: 'ji', 302: 'jj', 303: 'jk', 304: 'jl', 305: 'jm', 306: 'jn', 307: 'jo', 308: 'jr', 309: 'js', 310: 'jt', 311: 'ju', 312: 'jv', 313: 'jw', 314: 'jy', 315: \"k'\", 316: 'k-', 317: 'ka', 318: 'kb', 319: 'kc', 320: 'kd', 321: 'ke', 322: 'kf', 323: 'kg', 324: 'kh', 325: 'ki', 326: 'kj', 327: 'kk', 328: 'kl', 329: 'km', 330: 'kn', 331: 'ko', 332: 'kp', 333: 'kr', 334: 'ks', 335: 'kt', 336: 'ku', 337: 'kv', 338: 'kw', 339: 'ky', 340: 'kz', 341: \"l'\", 342: 'l-', 343: 'la', 344: 'lb', 345: 'lc', 346: 'ld', 347: 'le', 348: 'lf', 349: 'lg', 350: 'lh', 351: 'li', 352: 'lj', 353: 'lk', 354: 'll', 355: 'lm', 356: 'ln', 357: 'lo', 358: 'lp', 359: 'lq', 360: 'lr', 361: 'ls', 362: 'lt', 363: 'lu', 364: 'lv', 365: 'lw', 366: 'lx', 367: 'ly', 368: 'lz', 369: \"m'\", 370: 'm-', 371: 'ma', 372: 'mb', 373: 'mc', 374: 'md', 375: 'me', 376: 'mf', 377: 'mg', 378: 'mh', 379: 'mi', 380: 'mj', 381: 'mk', 382: 'ml', 383: 'mm', 384: 'mn', 385: 'mo', 386: 'mp', 387: 'mq', 388: 'mr', 389: 'ms', 390: 'mt', 391: 'mu', 392: 'mv', 393: 'mw', 394: 'my', 395: 'mz', 396: \"n'\", 397: 'n-', 398: 'na', 399: 'nb', 400: 'nc', 401: 'nd', 402: 'ne', 403: 'nf', 404: 'ng', 405: 'nh', 406: 'ni', 407: 'nj', 408: 'nk', 409: 'nl', 410: 'nm', 411: 'nn', 412: 'no', 413: 'np', 414: 'nq', 415: 'nr', 416: 'ns', 417: 'nt', 418: 'nu', 419: 'nv', 420: 'nw', 421: 'nx', 422: 'ny', 423: 'nz', 424: 'o', 425: \"o'\", 426: 'o-', 427: 'oa', 428: 'ob', 429: 'oc', 430: 'od', 431: 'oe', 432: 'of', 433: 'og', 434: 'oh', 435: 'oi', 436: 'oj', 437: 'ok', 438: 'ol', 439: 'om', 440: 'on', 441: 'oo', 442: 'op', 443: 'oq', 444: 'or', 445: 'os', 446: 'ot', 447: 'ou', 448: 'ov', 449: 'ow', 450: 'ox', 451: 'oy', 452: 'oz', 453: \"p'\", 454: 'p-', 455: 'pa', 456: 'pb', 457: 'pc', 458: 'pd', 459: 'pe', 460: 'pf', 461: 'pg', 462: 'ph', 463: 'pi', 464: 'pj', 465: 'pk', 466: 'pl', 467: 'pm', 468: 'pn', 469: 'po', 470: 'pp', 471: 'pr', 472: 'ps', 473: 'pt', 474: 'pu', 475: 'pw', 476: 'py', 477: 'pz', 478: \"q'\", 479: 'qa', 480: 'qb', 481: 'qg', 482: 'qi', 483: 'qo', 484: 'qu', 485: 'qv', 486: \"r'\", 487: 'r-', 488: 'ra', 489: 'rb', 490: 'rc', 491: 'rd', 492: 're', 493: 'rf', 494: 'rg', 495: 'rh', 496: 'ri', 497: 'rj', 498: 'rk', 499: 'rl', 500: 'rm', 501: 'rn', 502: 'ro', 503: 'rp', 504: 'rq', 505: 'rr', 506: 'rs', 507: 'rt', 508: 'ru', 509: 'rv', 510: 'rw', 511: 'rx', 512: 'ry', 513: 'rz', 514: \"s'\", 515: 's-', 516: 'sa', 517: 'sb', 518: 'sc', 519: 'sd', 520: 'se', 521: 'sf', 522: 'sg', 523: 'sh', 524: 'si', 525: 'sj', 526: 'sk', 527: 'sl', 528: 'sm', 529: 'sn', 530: 'so', 531: 'sp', 532: 'sq', 533: 'sr', 534: 'ss', 535: 'st', 536: 'su', 537: 'sv', 538: 'sw', 539: 'sx', 540: 'sy', 541: 'sz', 542: \"t'\", 543: 't-', 544: 'ta', 545: 'tb', 546: 'tc', 547: 'td', 548: 'te', 549: 'tf', 550: 'tg', 551: 'th', 552: 'ti', 553: 'tj', 554: 'tk', 555: 'tl', 556: 'tm', 557: 'tn', 558: 'to', 559: 'tp', 560: 'tr', 561: 'ts', 562: 'tt', 563: 'tu', 564: 'tv', 565: 'tw', 566: 'tx', 567: 'ty', 568: 'tz', 569: \"u'\", 570: 'u-', 571: 'ua', 572: 'ub', 573: 'uc', 574: 'ud', 575: 'ue', 576: 'uf', 577: 'ug', 578: 'uh', 579: 'ui', 580: 'uj', 581: 'uk', 582: 'ul', 583: 'um', 584: 'un', 585: 'uo', 586: 'up', 587: 'uq', 588: 'ur', 589: 'us', 590: 'ut', 591: 'uu', 592: 'uv', 593: 'uw', 594: 'ux', 595: 'uy', 596: 'uz', 597: \"v'\", 598: 'va', 599: 'vc', 600: 'vd', 601: 've', 602: 'vg', 603: 'vh', 604: 'vi', 605: 'vj', 606: 'vk', 607: 'vl', 608: 'vn', 609: 'vo', 610: 'vr', 611: 'vs', 612: 'vt', 613: 'vu', 614: 'vv', 615: 'vy', 616: 'vz', 617: \"w'\", 618: 'w-', 619: 'wa', 620: 'wb', 621: 'wc', 622: 'wd', 623: 'we', 624: 'wf', 625: 'wg', 626: 'wh', 627: 'wi', 628: 'wk', 629: 'wl', 630: 'wm', 631: 'wn', 632: 'wo', 633: 'wp', 634: 'wq', 635: 'wr', 636: 'ws', 637: 'wt', 638: 'wu', 639: 'wv', 640: 'ww', 641: 'wy', 642: 'wz', 643: \"x'\", 644: 'x-', 645: 'xa', 646: 'xb', 647: 'xc', 648: 'xd', 649: 'xe', 650: 'xf', 651: 'xg', 652: 'xh', 653: 'xi', 654: 'xl', 655: 'xm', 656: 'xn', 657: 'xo', 658: 'xp', 659: 'xq', 660: 'xr', 661: 'xs', 662: 'xt', 663: 'xu', 664: 'xv', 665: 'xw', 666: 'xx', 667: 'xy', 668: 'xz', 669: \"y'\", 670: 'y-', 671: 'ya', 672: 'yb', 673: 'yc', 674: 'yd', 675: 'ye', 676: 'yf', 677: 'yg', 678: 'yh', 679: 'yi', 680: 'yj', 681: 'yk', 682: 'yl', 683: 'ym', 684: 'yn', 685: 'yo', 686: 'yp', 687: 'yq', 688: 'yr', 689: 'ys', 690: 'yt', 691: 'yu', 692: 'yv', 693: 'yw', 694: 'yx', 695: 'yy', 696: 'yz', 697: \"z'\", 698: 'za', 699: 'zb', 700: 'zc', 701: 'zd', 702: 'ze', 703: 'zf', 704: 'zg', 705: 'zh', 706: 'zi', 707: 'zk', 708: 'zl', 709: 'zm', 710: 'zn', 711: 'zo', 712: 'zp', 713: 'zq', 714: 'zr', 715: 'zs', 716: 'zt', 717: 'zu', 718: 'zv', 719: 'zw', 720: 'zy', 721: 'zz'}\n",
      "valid grp 722 {0: '<SOS>', 1: '<EOS>', 2: '<PAD>', 3: '<UNK>', 4: \"'a\", 5: \"'b\", 6: \"'c\", 7: \"'d\", 8: \"'e\", 9: \"'g\", 10: \"'h\", 11: \"'i\", 12: \"'j\", 13: \"'k\", 14: \"'l\", 15: \"'m\", 16: \"'n\", 17: \"'o\", 18: \"'q\", 19: \"'r\", 20: \"'s\", 21: \"'t\", 22: \"'u\", 23: \"'v\", 24: '--', 25: '-a', 26: '-b', 27: '-c', 28: '-d', 29: '-e', 30: '-f', 31: '-g', 32: '-h', 33: '-i', 34: '-j', 35: '-k', 36: '-l', 37: '-m', 38: '-n', 39: '-o', 40: '-p', 41: '-q', 42: '-r', 43: '-s', 44: '-t', 45: '-u', 46: '-v', 47: '-w', 48: '-y', 49: \"a'\", 50: 'a-', 51: 'aa', 52: 'ab', 53: 'ac', 54: 'ad', 55: 'ae', 56: 'af', 57: 'ag', 58: 'ah', 59: 'ai', 60: 'aj', 61: 'ak', 62: 'al', 63: 'am', 64: 'an', 65: 'ao', 66: 'ap', 67: 'aq', 68: 'ar', 69: 'as', 70: 'at', 71: 'au', 72: 'av', 73: 'aw', 74: 'ax', 75: 'ay', 76: 'az', 77: \"b'\", 78: 'ba', 79: 'bb', 80: 'bc', 81: 'bd', 82: 'be', 83: 'bf', 84: 'bg', 85: 'bh', 86: 'bi', 87: 'bj', 88: 'bk', 89: 'bl', 90: 'bm', 91: 'bn', 92: 'bo', 93: 'bp', 94: 'br', 95: 'bs', 96: 'bt', 97: 'bu', 98: 'bv', 99: 'bw', 100: 'by', 101: 'bz', 102: \"c'\", 103: 'ca', 104: 'cb', 105: 'cc', 106: 'cd', 107: 'ce', 108: 'cf', 109: 'cg', 110: 'ch', 111: 'ci', 112: 'cj', 113: 'ck', 114: 'cl', 115: 'cm', 116: 'cn', 117: 'co', 118: 'cp', 119: 'cq', 120: 'cr', 121: 'cs', 122: 'ct', 123: 'cu', 124: 'cv', 125: 'cw', 126: 'cy', 127: 'cz', 128: \"d'\", 129: 'd-', 130: 'da', 131: 'db', 132: 'dc', 133: 'dd', 134: 'de', 135: 'df', 136: 'dg', 137: 'dh', 138: 'di', 139: 'dj', 140: 'dk', 141: 'dl', 142: 'dm', 143: 'dn', 144: 'do', 145: 'dp', 146: 'dq', 147: 'dr', 148: 'ds', 149: 'dt', 150: 'du', 151: 'dv', 152: 'dw', 153: 'dy', 154: 'dz', 155: \"e'\", 156: 'e-', 157: 'ea', 158: 'eb', 159: 'ec', 160: 'ed', 161: 'ee', 162: 'ef', 163: 'eg', 164: 'eh', 165: 'ei', 166: 'ej', 167: 'ek', 168: 'el', 169: 'em', 170: 'en', 171: 'eo', 172: 'ep', 173: 'eq', 174: 'er', 175: 'es', 176: 'et', 177: 'eu', 178: 'ev', 179: 'ew', 180: 'ex', 181: 'ey', 182: 'ez', 183: \"f'\", 184: 'f-', 185: 'fa', 186: 'fb', 187: 'fc', 188: 'fd', 189: 'fe', 190: 'ff', 191: 'fg', 192: 'fh', 193: 'fi', 194: 'fj', 195: 'fk', 196: 'fl', 197: 'fm', 198: 'fn', 199: 'fo', 200: 'fp', 201: 'fq', 202: 'fr', 203: 'fs', 204: 'ft', 205: 'fu', 206: 'fv', 207: 'fw', 208: 'fx', 209: 'fy', 210: 'fz', 211: \"g'\", 212: 'g-', 213: 'ga', 214: 'gb', 215: 'gc', 216: 'gd', 217: 'ge', 218: 'gf', 219: 'gg', 220: 'gh', 221: 'gi', 222: 'gj', 223: 'gk', 224: 'gl', 225: 'gm', 226: 'gn', 227: 'go', 228: 'gp', 229: 'gq', 230: 'gr', 231: 'gs', 232: 'gt', 233: 'gu', 234: 'gv', 235: 'gw', 236: 'gx', 237: 'gy', 238: 'gz', 239: \"h'\", 240: 'h-', 241: 'ha', 242: 'hb', 243: 'hc', 244: 'hd', 245: 'he', 246: 'hf', 247: 'hg', 248: 'hh', 249: 'hi', 250: 'hj', 251: 'hk', 252: 'hl', 253: 'hm', 254: 'hn', 255: 'ho', 256: 'hp', 257: 'hq', 258: 'hr', 259: 'hs', 260: 'ht', 261: 'hu', 262: 'hv', 263: 'hw', 264: 'hy', 265: 'i', 266: \"i'\", 267: 'i-', 268: 'ia', 269: 'ib', 270: 'ic', 271: 'id', 272: 'ie', 273: 'if', 274: 'ig', 275: 'ih', 276: 'ii', 277: 'ij', 278: 'ik', 279: 'il', 280: 'im', 281: 'in', 282: 'io', 283: 'ip', 284: 'iq', 285: 'ir', 286: 'is', 287: 'it', 288: 'iu', 289: 'iv', 290: 'iw', 291: 'ix', 292: 'iy', 293: 'iz', 294: \"j'\", 295: 'ja', 296: 'jc', 297: 'jd', 298: 'je', 299: 'jf', 300: 'jh', 301: 'ji', 302: 'jj', 303: 'jk', 304: 'jl', 305: 'jm', 306: 'jn', 307: 'jo', 308: 'jr', 309: 'js', 310: 'jt', 311: 'ju', 312: 'jv', 313: 'jw', 314: 'jy', 315: \"k'\", 316: 'k-', 317: 'ka', 318: 'kb', 319: 'kc', 320: 'kd', 321: 'ke', 322: 'kf', 323: 'kg', 324: 'kh', 325: 'ki', 326: 'kj', 327: 'kk', 328: 'kl', 329: 'km', 330: 'kn', 331: 'ko', 332: 'kp', 333: 'kr', 334: 'ks', 335: 'kt', 336: 'ku', 337: 'kv', 338: 'kw', 339: 'ky', 340: 'kz', 341: \"l'\", 342: 'l-', 343: 'la', 344: 'lb', 345: 'lc', 346: 'ld', 347: 'le', 348: 'lf', 349: 'lg', 350: 'lh', 351: 'li', 352: 'lj', 353: 'lk', 354: 'll', 355: 'lm', 356: 'ln', 357: 'lo', 358: 'lp', 359: 'lq', 360: 'lr', 361: 'ls', 362: 'lt', 363: 'lu', 364: 'lv', 365: 'lw', 366: 'lx', 367: 'ly', 368: 'lz', 369: \"m'\", 370: 'm-', 371: 'ma', 372: 'mb', 373: 'mc', 374: 'md', 375: 'me', 376: 'mf', 377: 'mg', 378: 'mh', 379: 'mi', 380: 'mj', 381: 'mk', 382: 'ml', 383: 'mm', 384: 'mn', 385: 'mo', 386: 'mp', 387: 'mq', 388: 'mr', 389: 'ms', 390: 'mt', 391: 'mu', 392: 'mv', 393: 'mw', 394: 'my', 395: 'mz', 396: \"n'\", 397: 'n-', 398: 'na', 399: 'nb', 400: 'nc', 401: 'nd', 402: 'ne', 403: 'nf', 404: 'ng', 405: 'nh', 406: 'ni', 407: 'nj', 408: 'nk', 409: 'nl', 410: 'nm', 411: 'nn', 412: 'no', 413: 'np', 414: 'nq', 415: 'nr', 416: 'ns', 417: 'nt', 418: 'nu', 419: 'nv', 420: 'nw', 421: 'nx', 422: 'ny', 423: 'nz', 424: 'o', 425: \"o'\", 426: 'o-', 427: 'oa', 428: 'ob', 429: 'oc', 430: 'od', 431: 'oe', 432: 'of', 433: 'og', 434: 'oh', 435: 'oi', 436: 'oj', 437: 'ok', 438: 'ol', 439: 'om', 440: 'on', 441: 'oo', 442: 'op', 443: 'oq', 444: 'or', 445: 'os', 446: 'ot', 447: 'ou', 448: 'ov', 449: 'ow', 450: 'ox', 451: 'oy', 452: 'oz', 453: \"p'\", 454: 'p-', 455: 'pa', 456: 'pb', 457: 'pc', 458: 'pd', 459: 'pe', 460: 'pf', 461: 'pg', 462: 'ph', 463: 'pi', 464: 'pj', 465: 'pk', 466: 'pl', 467: 'pm', 468: 'pn', 469: 'po', 470: 'pp', 471: 'pr', 472: 'ps', 473: 'pt', 474: 'pu', 475: 'pw', 476: 'py', 477: 'pz', 478: \"q'\", 479: 'qa', 480: 'qb', 481: 'qg', 482: 'qi', 483: 'qo', 484: 'qu', 485: 'qv', 486: \"r'\", 487: 'r-', 488: 'ra', 489: 'rb', 490: 'rc', 491: 'rd', 492: 're', 493: 'rf', 494: 'rg', 495: 'rh', 496: 'ri', 497: 'rj', 498: 'rk', 499: 'rl', 500: 'rm', 501: 'rn', 502: 'ro', 503: 'rp', 504: 'rq', 505: 'rr', 506: 'rs', 507: 'rt', 508: 'ru', 509: 'rv', 510: 'rw', 511: 'rx', 512: 'ry', 513: 'rz', 514: \"s'\", 515: 's-', 516: 'sa', 517: 'sb', 518: 'sc', 519: 'sd', 520: 'se', 521: 'sf', 522: 'sg', 523: 'sh', 524: 'si', 525: 'sj', 526: 'sk', 527: 'sl', 528: 'sm', 529: 'sn', 530: 'so', 531: 'sp', 532: 'sq', 533: 'sr', 534: 'ss', 535: 'st', 536: 'su', 537: 'sv', 538: 'sw', 539: 'sx', 540: 'sy', 541: 'sz', 542: \"t'\", 543: 't-', 544: 'ta', 545: 'tb', 546: 'tc', 547: 'td', 548: 'te', 549: 'tf', 550: 'tg', 551: 'th', 552: 'ti', 553: 'tj', 554: 'tk', 555: 'tl', 556: 'tm', 557: 'tn', 558: 'to', 559: 'tp', 560: 'tr', 561: 'ts', 562: 'tt', 563: 'tu', 564: 'tv', 565: 'tw', 566: 'tx', 567: 'ty', 568: 'tz', 569: \"u'\", 570: 'u-', 571: 'ua', 572: 'ub', 573: 'uc', 574: 'ud', 575: 'ue', 576: 'uf', 577: 'ug', 578: 'uh', 579: 'ui', 580: 'uj', 581: 'uk', 582: 'ul', 583: 'um', 584: 'un', 585: 'uo', 586: 'up', 587: 'uq', 588: 'ur', 589: 'us', 590: 'ut', 591: 'uu', 592: 'uv', 593: 'uw', 594: 'ux', 595: 'uy', 596: 'uz', 597: \"v'\", 598: 'va', 599: 'vc', 600: 'vd', 601: 've', 602: 'vg', 603: 'vh', 604: 'vi', 605: 'vj', 606: 'vk', 607: 'vl', 608: 'vn', 609: 'vo', 610: 'vr', 611: 'vs', 612: 'vt', 613: 'vu', 614: 'vv', 615: 'vy', 616: 'vz', 617: \"w'\", 618: 'w-', 619: 'wa', 620: 'wb', 621: 'wc', 622: 'wd', 623: 'we', 624: 'wf', 625: 'wg', 626: 'wh', 627: 'wi', 628: 'wk', 629: 'wl', 630: 'wm', 631: 'wn', 632: 'wo', 633: 'wp', 634: 'wq', 635: 'wr', 636: 'ws', 637: 'wt', 638: 'wu', 639: 'wv', 640: 'ww', 641: 'wy', 642: 'wz', 643: \"x'\", 644: 'x-', 645: 'xa', 646: 'xb', 647: 'xc', 648: 'xd', 649: 'xe', 650: 'xf', 651: 'xg', 652: 'xh', 653: 'xi', 654: 'xl', 655: 'xm', 656: 'xn', 657: 'xo', 658: 'xp', 659: 'xq', 660: 'xr', 661: 'xs', 662: 'xt', 663: 'xu', 664: 'xv', 665: 'xw', 666: 'xx', 667: 'xy', 668: 'xz', 669: \"y'\", 670: 'y-', 671: 'ya', 672: 'yb', 673: 'yc', 674: 'yd', 675: 'ye', 676: 'yf', 677: 'yg', 678: 'yh', 679: 'yi', 680: 'yj', 681: 'yk', 682: 'yl', 683: 'ym', 684: 'yn', 685: 'yo', 686: 'yp', 687: 'yq', 688: 'yr', 689: 'ys', 690: 'yt', 691: 'yu', 692: 'yv', 693: 'yw', 694: 'yx', 695: 'yy', 696: 'yz', 697: \"z'\", 698: 'za', 699: 'zb', 700: 'zc', 701: 'zd', 702: 'ze', 703: 'zf', 704: 'zg', 705: 'zh', 706: 'zi', 707: 'zk', 708: 'zl', 709: 'zm', 710: 'zn', 711: 'zo', 712: 'zp', 713: 'zq', 714: 'zr', 715: 'zs', 716: 'zt', 717: 'zu', 718: 'zv', 719: 'zw', 720: 'zy', 721: 'zz'}\n",
      "test grp 722 {0: '<SOS>', 1: '<EOS>', 2: '<PAD>', 3: '<UNK>', 4: \"'a\", 5: \"'b\", 6: \"'c\", 7: \"'d\", 8: \"'e\", 9: \"'g\", 10: \"'h\", 11: \"'i\", 12: \"'j\", 13: \"'k\", 14: \"'l\", 15: \"'m\", 16: \"'n\", 17: \"'o\", 18: \"'q\", 19: \"'r\", 20: \"'s\", 21: \"'t\", 22: \"'u\", 23: \"'v\", 24: '--', 25: '-a', 26: '-b', 27: '-c', 28: '-d', 29: '-e', 30: '-f', 31: '-g', 32: '-h', 33: '-i', 34: '-j', 35: '-k', 36: '-l', 37: '-m', 38: '-n', 39: '-o', 40: '-p', 41: '-q', 42: '-r', 43: '-s', 44: '-t', 45: '-u', 46: '-v', 47: '-w', 48: '-y', 49: \"a'\", 50: 'a-', 51: 'aa', 52: 'ab', 53: 'ac', 54: 'ad', 55: 'ae', 56: 'af', 57: 'ag', 58: 'ah', 59: 'ai', 60: 'aj', 61: 'ak', 62: 'al', 63: 'am', 64: 'an', 65: 'ao', 66: 'ap', 67: 'aq', 68: 'ar', 69: 'as', 70: 'at', 71: 'au', 72: 'av', 73: 'aw', 74: 'ax', 75: 'ay', 76: 'az', 77: \"b'\", 78: 'ba', 79: 'bb', 80: 'bc', 81: 'bd', 82: 'be', 83: 'bf', 84: 'bg', 85: 'bh', 86: 'bi', 87: 'bj', 88: 'bk', 89: 'bl', 90: 'bm', 91: 'bn', 92: 'bo', 93: 'bp', 94: 'br', 95: 'bs', 96: 'bt', 97: 'bu', 98: 'bv', 99: 'bw', 100: 'by', 101: 'bz', 102: \"c'\", 103: 'ca', 104: 'cb', 105: 'cc', 106: 'cd', 107: 'ce', 108: 'cf', 109: 'cg', 110: 'ch', 111: 'ci', 112: 'cj', 113: 'ck', 114: 'cl', 115: 'cm', 116: 'cn', 117: 'co', 118: 'cp', 119: 'cq', 120: 'cr', 121: 'cs', 122: 'ct', 123: 'cu', 124: 'cv', 125: 'cw', 126: 'cy', 127: 'cz', 128: \"d'\", 129: 'd-', 130: 'da', 131: 'db', 132: 'dc', 133: 'dd', 134: 'de', 135: 'df', 136: 'dg', 137: 'dh', 138: 'di', 139: 'dj', 140: 'dk', 141: 'dl', 142: 'dm', 143: 'dn', 144: 'do', 145: 'dp', 146: 'dq', 147: 'dr', 148: 'ds', 149: 'dt', 150: 'du', 151: 'dv', 152: 'dw', 153: 'dy', 154: 'dz', 155: \"e'\", 156: 'e-', 157: 'ea', 158: 'eb', 159: 'ec', 160: 'ed', 161: 'ee', 162: 'ef', 163: 'eg', 164: 'eh', 165: 'ei', 166: 'ej', 167: 'ek', 168: 'el', 169: 'em', 170: 'en', 171: 'eo', 172: 'ep', 173: 'eq', 174: 'er', 175: 'es', 176: 'et', 177: 'eu', 178: 'ev', 179: 'ew', 180: 'ex', 181: 'ey', 182: 'ez', 183: \"f'\", 184: 'f-', 185: 'fa', 186: 'fb', 187: 'fc', 188: 'fd', 189: 'fe', 190: 'ff', 191: 'fg', 192: 'fh', 193: 'fi', 194: 'fj', 195: 'fk', 196: 'fl', 197: 'fm', 198: 'fn', 199: 'fo', 200: 'fp', 201: 'fq', 202: 'fr', 203: 'fs', 204: 'ft', 205: 'fu', 206: 'fv', 207: 'fw', 208: 'fx', 209: 'fy', 210: 'fz', 211: \"g'\", 212: 'g-', 213: 'ga', 214: 'gb', 215: 'gc', 216: 'gd', 217: 'ge', 218: 'gf', 219: 'gg', 220: 'gh', 221: 'gi', 222: 'gj', 223: 'gk', 224: 'gl', 225: 'gm', 226: 'gn', 227: 'go', 228: 'gp', 229: 'gq', 230: 'gr', 231: 'gs', 232: 'gt', 233: 'gu', 234: 'gv', 235: 'gw', 236: 'gx', 237: 'gy', 238: 'gz', 239: \"h'\", 240: 'h-', 241: 'ha', 242: 'hb', 243: 'hc', 244: 'hd', 245: 'he', 246: 'hf', 247: 'hg', 248: 'hh', 249: 'hi', 250: 'hj', 251: 'hk', 252: 'hl', 253: 'hm', 254: 'hn', 255: 'ho', 256: 'hp', 257: 'hq', 258: 'hr', 259: 'hs', 260: 'ht', 261: 'hu', 262: 'hv', 263: 'hw', 264: 'hy', 265: 'i', 266: \"i'\", 267: 'i-', 268: 'ia', 269: 'ib', 270: 'ic', 271: 'id', 272: 'ie', 273: 'if', 274: 'ig', 275: 'ih', 276: 'ii', 277: 'ij', 278: 'ik', 279: 'il', 280: 'im', 281: 'in', 282: 'io', 283: 'ip', 284: 'iq', 285: 'ir', 286: 'is', 287: 'it', 288: 'iu', 289: 'iv', 290: 'iw', 291: 'ix', 292: 'iy', 293: 'iz', 294: \"j'\", 295: 'ja', 296: 'jc', 297: 'jd', 298: 'je', 299: 'jf', 300: 'jh', 301: 'ji', 302: 'jj', 303: 'jk', 304: 'jl', 305: 'jm', 306: 'jn', 307: 'jo', 308: 'jr', 309: 'js', 310: 'jt', 311: 'ju', 312: 'jv', 313: 'jw', 314: 'jy', 315: \"k'\", 316: 'k-', 317: 'ka', 318: 'kb', 319: 'kc', 320: 'kd', 321: 'ke', 322: 'kf', 323: 'kg', 324: 'kh', 325: 'ki', 326: 'kj', 327: 'kk', 328: 'kl', 329: 'km', 330: 'kn', 331: 'ko', 332: 'kp', 333: 'kr', 334: 'ks', 335: 'kt', 336: 'ku', 337: 'kv', 338: 'kw', 339: 'ky', 340: 'kz', 341: \"l'\", 342: 'l-', 343: 'la', 344: 'lb', 345: 'lc', 346: 'ld', 347: 'le', 348: 'lf', 349: 'lg', 350: 'lh', 351: 'li', 352: 'lj', 353: 'lk', 354: 'll', 355: 'lm', 356: 'ln', 357: 'lo', 358: 'lp', 359: 'lq', 360: 'lr', 361: 'ls', 362: 'lt', 363: 'lu', 364: 'lv', 365: 'lw', 366: 'lx', 367: 'ly', 368: 'lz', 369: \"m'\", 370: 'm-', 371: 'ma', 372: 'mb', 373: 'mc', 374: 'md', 375: 'me', 376: 'mf', 377: 'mg', 378: 'mh', 379: 'mi', 380: 'mj', 381: 'mk', 382: 'ml', 383: 'mm', 384: 'mn', 385: 'mo', 386: 'mp', 387: 'mq', 388: 'mr', 389: 'ms', 390: 'mt', 391: 'mu', 392: 'mv', 393: 'mw', 394: 'my', 395: 'mz', 396: \"n'\", 397: 'n-', 398: 'na', 399: 'nb', 400: 'nc', 401: 'nd', 402: 'ne', 403: 'nf', 404: 'ng', 405: 'nh', 406: 'ni', 407: 'nj', 408: 'nk', 409: 'nl', 410: 'nm', 411: 'nn', 412: 'no', 413: 'np', 414: 'nq', 415: 'nr', 416: 'ns', 417: 'nt', 418: 'nu', 419: 'nv', 420: 'nw', 421: 'nx', 422: 'ny', 423: 'nz', 424: 'o', 425: \"o'\", 426: 'o-', 427: 'oa', 428: 'ob', 429: 'oc', 430: 'od', 431: 'oe', 432: 'of', 433: 'og', 434: 'oh', 435: 'oi', 436: 'oj', 437: 'ok', 438: 'ol', 439: 'om', 440: 'on', 441: 'oo', 442: 'op', 443: 'oq', 444: 'or', 445: 'os', 446: 'ot', 447: 'ou', 448: 'ov', 449: 'ow', 450: 'ox', 451: 'oy', 452: 'oz', 453: \"p'\", 454: 'p-', 455: 'pa', 456: 'pb', 457: 'pc', 458: 'pd', 459: 'pe', 460: 'pf', 461: 'pg', 462: 'ph', 463: 'pi', 464: 'pj', 465: 'pk', 466: 'pl', 467: 'pm', 468: 'pn', 469: 'po', 470: 'pp', 471: 'pr', 472: 'ps', 473: 'pt', 474: 'pu', 475: 'pw', 476: 'py', 477: 'pz', 478: \"q'\", 479: 'qa', 480: 'qb', 481: 'qg', 482: 'qi', 483: 'qo', 484: 'qu', 485: 'qv', 486: \"r'\", 487: 'r-', 488: 'ra', 489: 'rb', 490: 'rc', 491: 'rd', 492: 're', 493: 'rf', 494: 'rg', 495: 'rh', 496: 'ri', 497: 'rj', 498: 'rk', 499: 'rl', 500: 'rm', 501: 'rn', 502: 'ro', 503: 'rp', 504: 'rq', 505: 'rr', 506: 'rs', 507: 'rt', 508: 'ru', 509: 'rv', 510: 'rw', 511: 'rx', 512: 'ry', 513: 'rz', 514: \"s'\", 515: 's-', 516: 'sa', 517: 'sb', 518: 'sc', 519: 'sd', 520: 'se', 521: 'sf', 522: 'sg', 523: 'sh', 524: 'si', 525: 'sj', 526: 'sk', 527: 'sl', 528: 'sm', 529: 'sn', 530: 'so', 531: 'sp', 532: 'sq', 533: 'sr', 534: 'ss', 535: 'st', 536: 'su', 537: 'sv', 538: 'sw', 539: 'sx', 540: 'sy', 541: 'sz', 542: \"t'\", 543: 't-', 544: 'ta', 545: 'tb', 546: 'tc', 547: 'td', 548: 'te', 549: 'tf', 550: 'tg', 551: 'th', 552: 'ti', 553: 'tj', 554: 'tk', 555: 'tl', 556: 'tm', 557: 'tn', 558: 'to', 559: 'tp', 560: 'tr', 561: 'ts', 562: 'tt', 563: 'tu', 564: 'tv', 565: 'tw', 566: 'tx', 567: 'ty', 568: 'tz', 569: \"u'\", 570: 'u-', 571: 'ua', 572: 'ub', 573: 'uc', 574: 'ud', 575: 'ue', 576: 'uf', 577: 'ug', 578: 'uh', 579: 'ui', 580: 'uj', 581: 'uk', 582: 'ul', 583: 'um', 584: 'un', 585: 'uo', 586: 'up', 587: 'uq', 588: 'ur', 589: 'us', 590: 'ut', 591: 'uu', 592: 'uv', 593: 'uw', 594: 'ux', 595: 'uy', 596: 'uz', 597: \"v'\", 598: 'va', 599: 'vc', 600: 'vd', 601: 've', 602: 'vg', 603: 'vh', 604: 'vi', 605: 'vj', 606: 'vk', 607: 'vl', 608: 'vn', 609: 'vo', 610: 'vr', 611: 'vs', 612: 'vt', 613: 'vu', 614: 'vv', 615: 'vy', 616: 'vz', 617: \"w'\", 618: 'w-', 619: 'wa', 620: 'wb', 621: 'wc', 622: 'wd', 623: 'we', 624: 'wf', 625: 'wg', 626: 'wh', 627: 'wi', 628: 'wk', 629: 'wl', 630: 'wm', 631: 'wn', 632: 'wo', 633: 'wp', 634: 'wq', 635: 'wr', 636: 'ws', 637: 'wt', 638: 'wu', 639: 'wv', 640: 'ww', 641: 'wy', 642: 'wz', 643: \"x'\", 644: 'x-', 645: 'xa', 646: 'xb', 647: 'xc', 648: 'xd', 649: 'xe', 650: 'xf', 651: 'xg', 652: 'xh', 653: 'xi', 654: 'xl', 655: 'xm', 656: 'xn', 657: 'xo', 658: 'xp', 659: 'xq', 660: 'xr', 661: 'xs', 662: 'xt', 663: 'xu', 664: 'xv', 665: 'xw', 666: 'xx', 667: 'xy', 668: 'xz', 669: \"y'\", 670: 'y-', 671: 'ya', 672: 'yb', 673: 'yc', 674: 'yd', 675: 'ye', 676: 'yf', 677: 'yg', 678: 'yh', 679: 'yi', 680: 'yj', 681: 'yk', 682: 'yl', 683: 'ym', 684: 'yn', 685: 'yo', 686: 'yp', 687: 'yq', 688: 'yr', 689: 'ys', 690: 'yt', 691: 'yu', 692: 'yv', 693: 'yw', 694: 'yx', 695: 'yy', 696: 'yz', 697: \"z'\", 698: 'za', 699: 'zb', 700: 'zc', 701: 'zd', 702: 'ze', 703: 'zf', 704: 'zg', 705: 'zh', 706: 'zi', 707: 'zk', 708: 'zl', 709: 'zm', 710: 'zn', 711: 'zo', 712: 'zp', 713: 'zq', 714: 'zr', 715: 'zs', 716: 'zt', 717: 'zu', 718: 'zv', 719: 'zw', 720: 'zy', 721: 'zz'}\n",
      "train phn 36 {0: '<SOS>', 1: '<EOS>', 2: '<PAD>', 3: 'AA', 4: 'AO', 5: 'AW', 6: 'AX', 7: 'AY', 8: 'B', 9: 'CH', 10: 'D', 11: 'EH', 12: 'EY', 13: 'F', 14: 'G', 15: 'HH', 16: 'IY', 17: 'JH', 18: 'K', 19: 'L', 20: 'M', 21: 'N', 22: 'NG', 23: 'NY', 24: 'OY', 25: 'P', 26: 'Q', 27: 'R', 28: 'S', 29: 'SH', 30: 'T', 31: 'UW', 32: 'V', 33: 'W', 34: 'Y', 35: 'Z'}\n",
      "valid phn 36 {0: '<SOS>', 1: '<EOS>', 2: '<PAD>', 3: 'AA', 4: 'AO', 5: 'AW', 6: 'AX', 7: 'AY', 8: 'B', 9: 'CH', 10: 'D', 11: 'EH', 12: 'EY', 13: 'F', 14: 'G', 15: 'HH', 16: 'IY', 17: 'JH', 18: 'K', 19: 'L', 20: 'M', 21: 'N', 22: 'NG', 23: 'NY', 24: 'OY', 25: 'P', 26: 'Q', 27: 'R', 28: 'S', 29: 'SH', 30: 'T', 31: 'UW', 32: 'V', 33: 'W', 34: 'Y', 35: 'Z'}\n",
      "test phn 36 {0: '<SOS>', 1: '<EOS>', 2: '<PAD>', 3: 'AA', 4: 'AO', 5: 'AW', 6: 'AX', 7: 'AY', 8: 'B', 9: 'CH', 10: 'D', 11: 'EH', 12: 'EY', 13: 'F', 14: 'G', 15: 'HH', 16: 'IY', 17: 'JH', 18: 'K', 19: 'L', 20: 'M', 21: 'N', 22: 'NG', 23: 'NY', 24: 'OY', 25: 'P', 26: 'Q', 27: 'R', 28: 'S', 29: 'SH', 30: 'T', 31: 'UW', 32: 'V', 33: 'W', 34: 'Y', 35: 'Z'}\n",
      "718 {\"'c\": 6, 'ca': 103, 'au': 71, 'us': 589, 'se': 520, 'co': 117, 'ou': 447, 'ur': 588, 'rs': 506, \"'e\": 8, 'em': 169, \"'m\": 15, \"'n\": 16, \"'q\": 18, 'qu': 484, 'uo': 585, 'ot': 446, 'te': 548, \"'t\": 21, 'ti': 552, 'is': 286, '--': 24, '-n': 38, 'ny': 422, 'ya': 671, '-a': 25, 'an': 64, 'nd': 401, 'da': 130, '-b': 26, 'be': 82, 'el': 168, 'la': 343, 'as': 69, '-c': 27, 'om': 439, 'mp': 386, 'pe': 459, 'en': 170, 'ng': 404, '-d': 28, 'de': 134, 'ap': 66, 'pa': 455, '-k': 35, 'ka': 317, 'ku': 336, '-l': 36, 'le': 347, 'gg': 219, 'ga': 213, '-m': 37, 'ma': 371, 'ah': 58, 'ha': 241, 'si': 524, 'sw': 538, 'wa': 619, '-s': 43, 'ep': 172, 'pi': 463, 'it': 287, '-t': 44, 'ta': 544, 'ak': 61, '-w': 47, 'at': 70, \"a'\": 49, \"'d\": 7, 'du': 150, \"'h\": 10, 'ad': 54, 'aa': 51, 'ab': 52, 'er': 174, 'rg': 494, 'ac': 53, 'ch': 110, 'he': 245, 'ke': 321, 'al': 62, 'ls': 361, 'et': 176, 'th': 551, 'am': 63, 'mo': 385, 'od': 430, 'dt': 149, 'nc': 400, 'or': 444, 'ar': 68, 'rd': 491, 'dv': 151, 'va': 598, 'rk': 498, 'ro': 502, 'on': 440, \"n'\": 396, \"'s\": 20, 'ns': 416, 'so': 530, 'rt': 507, 'ba': 78, 'ck': 113, 'cu': 123, 'di': 138, 'ia': 268, 'ik': 278, 'ai': 59, 'im': 280, 'na': 398, 'ir': 285, 'lk': 353, 'ki': 325, 'in': 281, 'lo': 357, 'ne': 402, 'os': 445, 'do': 144, 'ni': 406, 'nm': 410, 'me': 375, 'nt': 417, 'ts': 561, 'gn': 226, 'to': 558, 'ra': 488, 'rc': 490, 're': 492, 'sc': 518, 'sh': 523, 'ed': 160, 'es': 175, 'oa': 427, 'bb': 79, 'ie': 272, 'll': 354, 'nh': 405, 'tt': 562, 'ev': 178, 'vi': 604, 'il': 279, 'ey': 181, \"y'\": 669, 'bi': 86, 'bo': 92, \"t'\": 542, 'ud': 574, 'br': 94, 'io': 282, 'bs': 95, 'by': 100, 'bc': 80, 'ek': 167, 'bd': 81, 'ic': 270, 'dn': 143, 'no': 412, 'ol': 438, 'mi': 379, 'uc': 573, 'ct': 122, 'ee': 161, 'ul': 582, 'az': 76, 'zi': 706, 'iz': 293, 'ln': 356, 'ow': 449, 'dr': 147, 'cr': 120, 'mb': 372, 'rl': 499, 'rm': 500, 'rr': 505, 'ce': 107, 'yt': 690, 'bh': 85, 'ho': 255, 'id': 271, 'ig': 274, 'li': 351, 'ty': 567, 'gt': 232, 'ib': 269, 'tu': 563, 'ri': 496, 'tz': 568, 'bj': 87, 'ja': 295, 'je': 298, 'ec': 159, 'bk': 88, 'kh': 324, 'bl': 89, 'ut': 590, 'ze': 702, 'e-': 156, 'st': 535, 'oo': 441, 'ly': 367, 'bn': 91, 'nu': 418, \"o'\": 425, 'oi': 435, 'hi': 249, 'sm': 528, 'gi': 221, 'rn': 501, 'if': 273, 'fa': 185, 'ci': 111, 'iv': 289, 've': 601, 'uh': 578, 'un': 584, 'ds': 148, 'ov': 448, \"e'\": 155, 'bp': 93, 'pl': 466, 'lp': 358, 'ms': 389, 'mc': 373, 'cz': 127, 'zy': 720, 'yk': 681, 'wi': 627, 'ea': 157, 'ks': 334, 'eg': 163, 'go': 227, 'dg': 136, 'ge': 217, 'ko': 331, 'og': 433, 'ru': 508, 'up': 586, 'pt': 473, 'tl': 555, 'tn': 557, 'ss': 534, 'yn': 684, 'uz': 596, 'zz': 721, 'zo': 711, 'sa': 516, 'ei': 165, 'lu': 363, 'lv': 364, 'rb': 489, 'rp': 503, 'ps': 472, 'tr': 560, 'su': 536, 'dl': 141, 'bt': 96, 'bu': 97, 'ua': 571, 'hm': 253, 'uk': 581, 'dz': 154, 'lh': 350, 'ay': 75, 'ys': 689, 'cs': 121, 'my': 394, 'po': 469, 'pu': 474, 'lc': 345, 'cc': 105, 'ry': 512, 't-': 543, '-p': 40, 'pr': 471, 'cl': 114, 'mm': 383, 'yi': 679, \"r'\": 486, 'gl': 224, 'cy': 126, \"s'\": 514, 'ue': 575, 'ui': 579, 'um': 583, 'mu': 391, 'op': 442, 'ph': 462, 'yl': 682, 'eb': 158, 'nb': 399, 'ht': 260, 'hy': 264, 'fi': 193, 'fy': 209, 'kl': 328, 'km': 329, 'kn': 330, 'wl': 629, 'gm': 225, 'kr': 333, 'oy': 451, 'yd': 674, \"d'\": 128, 'cm': 115, 'cn': 116, 'oc': 429, 'of': 432, 'ff': 190, 'cq': 119, 'av': 72, 'ag': 57, 'ob': 428, 'ym': 683, 'tm': 556, 'uf': 576, 'gk': 223, 'sy': 540, 'yc': 673, 'iu': 288, \"m'\": 369, 'za': 698, 'sk': 526, 'wn': 631, 'ex': 180, 'dc': 132, 'dd': 133, 'eo': 171, 'dw': 152, 'we': 623, 'dy': 153, 'eh': 164, 'lb': 344, \"l'\": 341, 'lm': 355, 'nn': 411, 'sb': 517, 'eq': 173, 'rh': 495, 'ld': 346, 'lt': 362, 'dh': 137, 'eu': 177, 'gu': 233, 'kk': 327, 'kt': 335, 'lf': 348, 'ip': 283, 'gh': 220, 'aj': 60, 'ok': 437, 'oh': 434, 'iw': 290, 'gs': 231, 'dj': 139, 'jo': 307, 'ju': 311, 'dk': 140, 'dm': 142, \"f'\": 183, 'fo': 199, 'hs': 259, '-f': 30, 'ae': 55, 'sd': 519, \"g'\": 211, 'vo': 609, 'gr': 230, 'ft': 204, 'oq': 443, \"h'\": 239, 'sp': 531, 'hl': 252, \"p'\": 453, 'af': 56, 'ye': 675, 'fd': 188, 'fe': 189, 'ix': 291, 'xe': 649, 'fl': 196, 'fr': 202, 'ax': 74, 'fg': 191, \"i'\": 266, 'fh': 192, 'ox': 450, 'xi': 653, 'fm': 197, 'fs': 203, 'ef': 162, 'ug': 577, 'rw': 510, 'fw': 207, 'aw': 73, 'mn': 384, 'gy': 237, 'gc': 215, 'gf': 218, 'ih': 275, 'ew': 179, 'xc': 647, 'fu': 205, 'pp': 470, 'hh': 248, 'hk': 251, 'lg': 349, 'lq': 359, 'ub': 572, 'hn': 254, 'hr': 258, 'hu': 261, 'hw': 263, 'ml': 382, 'sl': 527, 'wo': 632, \"c'\": 102, 'rf': 493, 'nk': 408, 'tc': 546, \"x'\": 643, 'ji': 301, 'jn': 306, 'oj': 436, 'uj': 580, 'k-': 316, 'kc': 319, 'hb': 242, 'iy': 292, 'kw': 338, 'ky': 339, 'kz': 340, 'l-': 342, '-q': 41, \"'a\": 4, 'tv': 564, 'uq': 587, 'rq': 504, 'ej': 166, 'xa': 645, 'xo': 657, 'xy': 667, 'nq': 414, 'md': 374, 'nz': 423, 'fb': 186, 'ij': 277, 'iq': 284, 'lj': 352, '-i': 33, 'n-': 397, '-o': 39, 'nw': 420, 'yw': 693, 'lr': 360, 'uv': 592, 'lw': 365, 'ez': 182, 'mq': 387, 'fn': 198, \"k'\": 315, 'tf': 549, 'zh': 705, 'wy': 641, 'lz': 368, 'np': 413, 'xt': 662, 'zc': 700, 'zq': 713, 'mf': 376, 'mg': 377, 'mh': 378, 'yv': 692, 'mk': 381, 'oe': 431, 'pc': 457, 'mr': 388, 'mt': 390, 'mv': 392, 'mw': 393, 'yo': 685, 'yx': 694, 'yz': 696, 'sq': 532, 'nv': 419, 'oz': 452, 'ws': 636, 'cd': 106, 'nf': 403, 'gp': 228, 'nj': 407, 'jl': 304, 'nr': 415, 'sg': 522, 'i-': 267, 'bm': 90, 'tk': 554, \"u'\": 569, 'tw': 565, 'nx': 421, 'yb': 672, 'yh': 678, 'yp': 686, 'wh': 626, 'ao': 65, 'pf': 460, 'pg': 461, 'pk': 465, 'aq': 67, 'qa': 479, 'qi': 482, 'rv': 509, 'ux': 594, 'hd': 244, 'zm': 709, 'rj': 497, 'wr': 635, 'd-': 129, \"w'\": 617, 'zt': 716, 'zu': 717, 'rx': 511, 'rz': 513, 'sn': 529, 'ii': 276, 'sf': 521, 'hc': 243, 'hf': 246, \"v'\": 597, 'pn': 468, 'sr': 533, 'yr': 688, 'uy': 595, 'vd': 600, 'vg': 602, 'vn': 608, 'vr': 610, 'vt': 612, 'wb': 620, 'wf': 624, 'wk': 628, 'wt': 637, 'wu': 638, 'xf': 650, 'xl': 654, 'xs': 661, 'yg': 677, 'yu': 691, 'yy': 695, 'zb': 699, \"b'\": 77, \"'r\": 19, 'kb': 318, 'kd': 320, 'kf': 322, 'kg': 323, 'kp': 332, 'y-': 670, 'tj': 553, 'gb': 214, 'gd': 216, 'gw': 235, \"'i\": 11, 'sz': 541, 'kv': 337, 'xq': 659, 'fk': 195, 'sv': 537, 'vs': 611, 'wm': 630, 'tb': 545, 'td': 547, 'hg': 247, 'uw': 593, 'wd': 622, 'zl': 708, 'cv': 124, 'db': 131, 'df': 135, 'dp': 145, 'vu': 613, \"'o\": 17, 'zr': 714, 'nl': 409, 'jy': 314, \"z'\": 697, 'r-': 487, 'a-': 50, '-g': 31, 'o-': 426, 's-': 515, 'gq': 229, 'jr': 308, 'g-': 212, '-j': 34, 'hp': 256, 'vy': 615, 'zd': 701, 'zn': 710, 'xu': 663, 'xb': 646, 'kj': 326, '-r': 42, '-v': 46, 'bz': 101, 'tg': 550, 'sj': 525, 'gj': 222, 'wc': 621, 'xw': 665, 'xx': 666, 'yf': 676, 'jd': 297, 'zk': 707, 'tp': 559, 'fc': 187, 'uu': 591, '-u': 45, 'py': 476, 'h-': 240, 'zw': 719, 'pb': 456, 'pj': 464, 'pw': 475, \"q'\": 478, \"'v\": 23, 'jk': 303, 'pd': 458, 'pm': 467, 'gx': 236, 'zp': 712, 'bw': 99, '-e': 29, 'wg': 625, 'zf': 703, 'vl': 607, 'cw': 125, 'hv': 262, 'vc': 599, 'zs': 715, 'mj': 380, 'xh': 652, 'vv': 614, 'xv': 664, 'mz': 395, 'bf': 83, 'hq': 257, 'dq': 146, 'lx': 366, '-h': 32, 'vj': 605, 'x-': 644, 'xn': 656, 'xp': 658, 'jv': 312, 'zg': 704, '-y': 48, 'fj': 194, 'jt': 310, 'w-': 618, 'xg': 651, 'xm': 655, 'tx': 566, 'gz': 238, 'gv': 234, 'jj': 302, 'f-': 184, 'wv': 639, \"'l\": 14, 'hj': 250, 'fp': 200, 'js': 309, 'vh': 603, 'wz': 642, 'u-': 570, 'i': 265, 'qb': 480, 'qg': 481, 'zv': 718, 'jf': 299, 'jh': 300, 'jc': 296, 'wp': 633, 'bv': 98, 'pz': 477, 'fq': 201, 'cb': 104, 'cf': 108, 'cg': 109, 'cp': 118, \"j'\": 294, 'xz': 668, 'cj': 112, 'fx': 208, \"'j\": 12, 'fz': 210, 'qv': 485, 'wq': 634, 'ww': 640, 'xr': 660, 'xd': 648, 'o': 424, \"'b\": 5, \"'g\": 9, \"'k\": 13, 'vk': 606, 'qo': 483, 'vz': 616, 'jm': 305, 'yj': 680, 'p-': 454, 'fv': 206, 'bg': 84, \"'u\": 22, 'jw': 313, 'sx': 539, 'm-': 370, 'yq': 687}\n",
      "718 {\"'c\": 6, 'ca': 103, 'au': 71, 'us': 589, 'se': 520, 'co': 117, 'ou': 447, 'ur': 588, 'rs': 506, \"'e\": 8, 'em': 169, \"'m\": 15, \"'n\": 16, \"'q\": 18, 'qu': 484, 'uo': 585, 'ot': 446, 'te': 548, \"'t\": 21, 'ti': 552, 'is': 286, '--': 24, '-n': 38, 'ny': 422, 'ya': 671, '-a': 25, 'an': 64, 'nd': 401, 'da': 130, '-b': 26, 'be': 82, 'el': 168, 'la': 343, 'as': 69, '-c': 27, 'om': 439, 'mp': 386, 'pe': 459, 'en': 170, 'ng': 404, '-d': 28, 'de': 134, 'ap': 66, 'pa': 455, '-k': 35, 'ka': 317, 'ku': 336, '-l': 36, 'le': 347, 'gg': 219, 'ga': 213, '-m': 37, 'ma': 371, 'ah': 58, 'ha': 241, 'si': 524, 'sw': 538, 'wa': 619, '-s': 43, 'ep': 172, 'pi': 463, 'it': 287, '-t': 44, 'ta': 544, 'ak': 61, '-w': 47, 'at': 70, \"a'\": 49, \"'d\": 7, 'du': 150, \"'h\": 10, 'ad': 54, 'aa': 51, 'ab': 52, 'er': 174, 'rg': 494, 'ac': 53, 'ch': 110, 'he': 245, 'ke': 321, 'al': 62, 'ls': 361, 'et': 176, 'th': 551, 'am': 63, 'mo': 385, 'od': 430, 'dt': 149, 'nc': 400, 'or': 444, 'ar': 68, 'rd': 491, 'dv': 151, 'va': 598, 'rk': 498, 'ro': 502, 'on': 440, \"n'\": 396, \"'s\": 20, 'ns': 416, 'so': 530, 'rt': 507, 'ba': 78, 'ck': 113, 'cu': 123, 'di': 138, 'ia': 268, 'ik': 278, 'ai': 59, 'im': 280, 'na': 398, 'ir': 285, 'lk': 353, 'ki': 325, 'in': 281, 'lo': 357, 'ne': 402, 'os': 445, 'do': 144, 'ni': 406, 'nm': 410, 'me': 375, 'nt': 417, 'ts': 561, 'gn': 226, 'to': 558, 'ra': 488, 'rc': 490, 're': 492, 'sc': 518, 'sh': 523, 'ed': 160, 'es': 175, 'oa': 427, 'bb': 79, 'ie': 272, 'll': 354, 'nh': 405, 'tt': 562, 'ev': 178, 'vi': 604, 'il': 279, 'ey': 181, \"y'\": 669, 'bi': 86, 'bo': 92, \"t'\": 542, 'ud': 574, 'br': 94, 'io': 282, 'bs': 95, 'by': 100, 'bc': 80, 'ek': 167, 'bd': 81, 'ic': 270, 'dn': 143, 'no': 412, 'ol': 438, 'mi': 379, 'uc': 573, 'ct': 122, 'ee': 161, 'ul': 582, 'az': 76, 'zi': 706, 'iz': 293, 'ln': 356, 'ow': 449, 'dr': 147, 'cr': 120, 'mb': 372, 'rl': 499, 'rm': 500, 'rr': 505, 'ce': 107, 'yt': 690, 'bh': 85, 'ho': 255, 'id': 271, 'ig': 274, 'li': 351, 'ty': 567, 'gt': 232, 'ib': 269, 'tu': 563, 'ri': 496, 'tz': 568, 'bj': 87, 'ja': 295, 'je': 298, 'ec': 159, 'bk': 88, 'kh': 324, 'bl': 89, 'ut': 590, 'ze': 702, 'e-': 156, 'st': 535, 'oo': 441, 'ly': 367, 'bn': 91, 'nu': 418, \"o'\": 425, 'oi': 435, 'hi': 249, 'sm': 528, 'gi': 221, 'rn': 501, 'if': 273, 'fa': 185, 'ci': 111, 'iv': 289, 've': 601, 'uh': 578, 'un': 584, 'ds': 148, 'ov': 448, \"e'\": 155, 'bp': 93, 'pl': 466, 'lp': 358, 'ms': 389, 'mc': 373, 'cz': 127, 'zy': 720, 'yk': 681, 'wi': 627, 'ea': 157, 'ks': 334, 'eg': 163, 'go': 227, 'dg': 136, 'ge': 217, 'ko': 331, 'og': 433, 'ru': 508, 'up': 586, 'pt': 473, 'tl': 555, 'tn': 557, 'ss': 534, 'yn': 684, 'uz': 596, 'zz': 721, 'zo': 711, 'sa': 516, 'ei': 165, 'lu': 363, 'lv': 364, 'rb': 489, 'rp': 503, 'ps': 472, 'tr': 560, 'su': 536, 'dl': 141, 'bt': 96, 'bu': 97, 'ua': 571, 'hm': 253, 'uk': 581, 'dz': 154, 'lh': 350, 'ay': 75, 'ys': 689, 'cs': 121, 'my': 394, 'po': 469, 'pu': 474, 'lc': 345, 'cc': 105, 'ry': 512, 't-': 543, '-p': 40, 'pr': 471, 'cl': 114, 'mm': 383, 'yi': 679, \"r'\": 486, 'gl': 224, 'cy': 126, \"s'\": 514, 'ue': 575, 'ui': 579, 'um': 583, 'mu': 391, 'op': 442, 'ph': 462, 'yl': 682, 'eb': 158, 'nb': 399, 'ht': 260, 'hy': 264, 'fi': 193, 'fy': 209, 'kl': 328, 'km': 329, 'kn': 330, 'wl': 629, 'gm': 225, 'kr': 333, 'oy': 451, 'yd': 674, \"d'\": 128, 'cm': 115, 'cn': 116, 'oc': 429, 'of': 432, 'ff': 190, 'cq': 119, 'av': 72, 'ag': 57, 'ob': 428, 'ym': 683, 'tm': 556, 'uf': 576, 'gk': 223, 'sy': 540, 'yc': 673, 'iu': 288, \"m'\": 369, 'za': 698, 'sk': 526, 'wn': 631, 'ex': 180, 'dc': 132, 'dd': 133, 'eo': 171, 'dw': 152, 'we': 623, 'dy': 153, 'eh': 164, 'lb': 344, \"l'\": 341, 'lm': 355, 'nn': 411, 'sb': 517, 'eq': 173, 'rh': 495, 'ld': 346, 'lt': 362, 'dh': 137, 'eu': 177, 'gu': 233, 'kk': 327, 'kt': 335, 'lf': 348, 'ip': 283, 'gh': 220, 'aj': 60, 'ok': 437, 'oh': 434, 'iw': 290, 'gs': 231, 'dj': 139, 'jo': 307, 'ju': 311, 'dk': 140, 'dm': 142, \"f'\": 183, 'fo': 199, 'hs': 259, '-f': 30, 'ae': 55, 'sd': 519, \"g'\": 211, 'vo': 609, 'gr': 230, 'ft': 204, 'oq': 443, \"h'\": 239, 'sp': 531, 'hl': 252, \"p'\": 453, 'af': 56, 'ye': 675, 'fd': 188, 'fe': 189, 'ix': 291, 'xe': 649, 'fl': 196, 'fr': 202, 'ax': 74, 'fg': 191, \"i'\": 266, 'fh': 192, 'ox': 450, 'xi': 653, 'fm': 197, 'fs': 203, 'ef': 162, 'ug': 577, 'rw': 510, 'fw': 207, 'aw': 73, 'mn': 384, 'gy': 237, 'gc': 215, 'gf': 218, 'ih': 275, 'ew': 179, 'xc': 647, 'fu': 205, 'pp': 470, 'hh': 248, 'hk': 251, 'lg': 349, 'lq': 359, 'ub': 572, 'hn': 254, 'hr': 258, 'hu': 261, 'hw': 263, 'ml': 382, 'sl': 527, 'wo': 632, \"c'\": 102, 'rf': 493, 'nk': 408, 'tc': 546, \"x'\": 643, 'ji': 301, 'jn': 306, 'oj': 436, 'uj': 580, 'k-': 316, 'kc': 319, 'hb': 242, 'iy': 292, 'kw': 338, 'ky': 339, 'kz': 340, 'l-': 342, '-q': 41, \"'a\": 4, 'tv': 564, 'uq': 587, 'rq': 504, 'ej': 166, 'xa': 645, 'xo': 657, 'xy': 667, 'nq': 414, 'md': 374, 'nz': 423, 'fb': 186, 'ij': 277, 'iq': 284, 'lj': 352, '-i': 33, 'n-': 397, '-o': 39, 'nw': 420, 'yw': 693, 'lr': 360, 'uv': 592, 'lw': 365, 'ez': 182, 'mq': 387, 'fn': 198, \"k'\": 315, 'tf': 549, 'zh': 705, 'wy': 641, 'lz': 368, 'np': 413, 'xt': 662, 'zc': 700, 'zq': 713, 'mf': 376, 'mg': 377, 'mh': 378, 'yv': 692, 'mk': 381, 'oe': 431, 'pc': 457, 'mr': 388, 'mt': 390, 'mv': 392, 'mw': 393, 'yo': 685, 'yx': 694, 'yz': 696, 'sq': 532, 'nv': 419, 'oz': 452, 'ws': 636, 'cd': 106, 'nf': 403, 'gp': 228, 'nj': 407, 'jl': 304, 'nr': 415, 'sg': 522, 'i-': 267, 'bm': 90, 'tk': 554, \"u'\": 569, 'tw': 565, 'nx': 421, 'yb': 672, 'yh': 678, 'yp': 686, 'wh': 626, 'ao': 65, 'pf': 460, 'pg': 461, 'pk': 465, 'aq': 67, 'qa': 479, 'qi': 482, 'rv': 509, 'ux': 594, 'hd': 244, 'zm': 709, 'rj': 497, 'wr': 635, 'd-': 129, \"w'\": 617, 'zt': 716, 'zu': 717, 'rx': 511, 'rz': 513, 'sn': 529, 'ii': 276, 'sf': 521, 'hc': 243, 'hf': 246, \"v'\": 597, 'pn': 468, 'sr': 533, 'yr': 688, 'uy': 595, 'vd': 600, 'vg': 602, 'vn': 608, 'vr': 610, 'vt': 612, 'wb': 620, 'wf': 624, 'wk': 628, 'wt': 637, 'wu': 638, 'xf': 650, 'xl': 654, 'xs': 661, 'yg': 677, 'yu': 691, 'yy': 695, 'zb': 699, \"b'\": 77, \"'r\": 19, 'kb': 318, 'kd': 320, 'kf': 322, 'kg': 323, 'kp': 332, 'y-': 670, 'tj': 553, 'gb': 214, 'gd': 216, 'gw': 235, \"'i\": 11, 'sz': 541, 'kv': 337, 'xq': 659, 'fk': 195, 'sv': 537, 'vs': 611, 'wm': 630, 'tb': 545, 'td': 547, 'hg': 247, 'uw': 593, 'wd': 622, 'zl': 708, 'cv': 124, 'db': 131, 'df': 135, 'dp': 145, 'vu': 613, \"'o\": 17, 'zr': 714, 'nl': 409, 'jy': 314, \"z'\": 697, 'r-': 487, 'a-': 50, '-g': 31, 'o-': 426, 's-': 515, 'gq': 229, 'jr': 308, 'g-': 212, '-j': 34, 'hp': 256, 'vy': 615, 'zd': 701, 'zn': 710, 'xu': 663, 'xb': 646, 'kj': 326, '-r': 42, '-v': 46, 'bz': 101, 'tg': 550, 'sj': 525, 'gj': 222, 'wc': 621, 'xw': 665, 'xx': 666, 'yf': 676, 'jd': 297, 'zk': 707, 'tp': 559, 'fc': 187, 'uu': 591, '-u': 45, 'py': 476, 'h-': 240, 'zw': 719, 'pb': 456, 'pj': 464, 'pw': 475, \"q'\": 478, \"'v\": 23, 'jk': 303, 'pd': 458, 'pm': 467, 'gx': 236, 'zp': 712, 'bw': 99, '-e': 29, 'wg': 625, 'zf': 703, 'vl': 607, 'cw': 125, 'hv': 262, 'vc': 599, 'zs': 715, 'mj': 380, 'xh': 652, 'vv': 614, 'xv': 664, 'mz': 395, 'bf': 83, 'hq': 257, 'dq': 146, 'lx': 366, '-h': 32, 'vj': 605, 'x-': 644, 'xn': 656, 'xp': 658, 'jv': 312, 'zg': 704, '-y': 48, 'fj': 194, 'jt': 310, 'w-': 618, 'xg': 651, 'xm': 655, 'tx': 566, 'gz': 238, 'gv': 234, 'jj': 302, 'f-': 184, 'wv': 639, \"'l\": 14, 'hj': 250, 'fp': 200, 'js': 309, 'vh': 603, 'wz': 642, 'u-': 570, 'i': 265, 'qb': 480, 'qg': 481, 'zv': 718, 'jf': 299, 'jh': 300, 'jc': 296, 'wp': 633, 'bv': 98, 'pz': 477, 'fq': 201, 'cb': 104, 'cf': 108, 'cg': 109, 'cp': 118, \"j'\": 294, 'xz': 668, 'cj': 112, 'fx': 208, \"'j\": 12, 'fz': 210, 'qv': 485, 'wq': 634, 'ww': 640, 'xr': 660, 'xd': 648, 'o': 424, \"'b\": 5, \"'g\": 9, \"'k\": 13, 'vk': 606, 'qo': 483, 'vz': 616, 'jm': 305, 'yj': 680, 'p-': 454, 'fv': 206, 'bg': 84, \"'u\": 22, 'jw': 313, 'sx': 539, 'm-': 370, 'yq': 687}\n",
      "718 {\"'c\": 6, 'ca': 103, 'au': 71, 'us': 589, 'se': 520, 'co': 117, 'ou': 447, 'ur': 588, 'rs': 506, \"'e\": 8, 'em': 169, \"'m\": 15, \"'n\": 16, \"'q\": 18, 'qu': 484, 'uo': 585, 'ot': 446, 'te': 548, \"'t\": 21, 'ti': 552, 'is': 286, '--': 24, '-n': 38, 'ny': 422, 'ya': 671, '-a': 25, 'an': 64, 'nd': 401, 'da': 130, '-b': 26, 'be': 82, 'el': 168, 'la': 343, 'as': 69, '-c': 27, 'om': 439, 'mp': 386, 'pe': 459, 'en': 170, 'ng': 404, '-d': 28, 'de': 134, 'ap': 66, 'pa': 455, '-k': 35, 'ka': 317, 'ku': 336, '-l': 36, 'le': 347, 'gg': 219, 'ga': 213, '-m': 37, 'ma': 371, 'ah': 58, 'ha': 241, 'si': 524, 'sw': 538, 'wa': 619, '-s': 43, 'ep': 172, 'pi': 463, 'it': 287, '-t': 44, 'ta': 544, 'ak': 61, '-w': 47, 'at': 70, \"a'\": 49, \"'d\": 7, 'du': 150, \"'h\": 10, 'ad': 54, 'aa': 51, 'ab': 52, 'er': 174, 'rg': 494, 'ac': 53, 'ch': 110, 'he': 245, 'ke': 321, 'al': 62, 'ls': 361, 'et': 176, 'th': 551, 'am': 63, 'mo': 385, 'od': 430, 'dt': 149, 'nc': 400, 'or': 444, 'ar': 68, 'rd': 491, 'dv': 151, 'va': 598, 'rk': 498, 'ro': 502, 'on': 440, \"n'\": 396, \"'s\": 20, 'ns': 416, 'so': 530, 'rt': 507, 'ba': 78, 'ck': 113, 'cu': 123, 'di': 138, 'ia': 268, 'ik': 278, 'ai': 59, 'im': 280, 'na': 398, 'ir': 285, 'lk': 353, 'ki': 325, 'in': 281, 'lo': 357, 'ne': 402, 'os': 445, 'do': 144, 'ni': 406, 'nm': 410, 'me': 375, 'nt': 417, 'ts': 561, 'gn': 226, 'to': 558, 'ra': 488, 'rc': 490, 're': 492, 'sc': 518, 'sh': 523, 'ed': 160, 'es': 175, 'oa': 427, 'bb': 79, 'ie': 272, 'll': 354, 'nh': 405, 'tt': 562, 'ev': 178, 'vi': 604, 'il': 279, 'ey': 181, \"y'\": 669, 'bi': 86, 'bo': 92, \"t'\": 542, 'ud': 574, 'br': 94, 'io': 282, 'bs': 95, 'by': 100, 'bc': 80, 'ek': 167, 'bd': 81, 'ic': 270, 'dn': 143, 'no': 412, 'ol': 438, 'mi': 379, 'uc': 573, 'ct': 122, 'ee': 161, 'ul': 582, 'az': 76, 'zi': 706, 'iz': 293, 'ln': 356, 'ow': 449, 'dr': 147, 'cr': 120, 'mb': 372, 'rl': 499, 'rm': 500, 'rr': 505, 'ce': 107, 'yt': 690, 'bh': 85, 'ho': 255, 'id': 271, 'ig': 274, 'li': 351, 'ty': 567, 'gt': 232, 'ib': 269, 'tu': 563, 'ri': 496, 'tz': 568, 'bj': 87, 'ja': 295, 'je': 298, 'ec': 159, 'bk': 88, 'kh': 324, 'bl': 89, 'ut': 590, 'ze': 702, 'e-': 156, 'st': 535, 'oo': 441, 'ly': 367, 'bn': 91, 'nu': 418, \"o'\": 425, 'oi': 435, 'hi': 249, 'sm': 528, 'gi': 221, 'rn': 501, 'if': 273, 'fa': 185, 'ci': 111, 'iv': 289, 've': 601, 'uh': 578, 'un': 584, 'ds': 148, 'ov': 448, \"e'\": 155, 'bp': 93, 'pl': 466, 'lp': 358, 'ms': 389, 'mc': 373, 'cz': 127, 'zy': 720, 'yk': 681, 'wi': 627, 'ea': 157, 'ks': 334, 'eg': 163, 'go': 227, 'dg': 136, 'ge': 217, 'ko': 331, 'og': 433, 'ru': 508, 'up': 586, 'pt': 473, 'tl': 555, 'tn': 557, 'ss': 534, 'yn': 684, 'uz': 596, 'zz': 721, 'zo': 711, 'sa': 516, 'ei': 165, 'lu': 363, 'lv': 364, 'rb': 489, 'rp': 503, 'ps': 472, 'tr': 560, 'su': 536, 'dl': 141, 'bt': 96, 'bu': 97, 'ua': 571, 'hm': 253, 'uk': 581, 'dz': 154, 'lh': 350, 'ay': 75, 'ys': 689, 'cs': 121, 'my': 394, 'po': 469, 'pu': 474, 'lc': 345, 'cc': 105, 'ry': 512, 't-': 543, '-p': 40, 'pr': 471, 'cl': 114, 'mm': 383, 'yi': 679, \"r'\": 486, 'gl': 224, 'cy': 126, \"s'\": 514, 'ue': 575, 'ui': 579, 'um': 583, 'mu': 391, 'op': 442, 'ph': 462, 'yl': 682, 'eb': 158, 'nb': 399, 'ht': 260, 'hy': 264, 'fi': 193, 'fy': 209, 'kl': 328, 'km': 329, 'kn': 330, 'wl': 629, 'gm': 225, 'kr': 333, 'oy': 451, 'yd': 674, \"d'\": 128, 'cm': 115, 'cn': 116, 'oc': 429, 'of': 432, 'ff': 190, 'cq': 119, 'av': 72, 'ag': 57, 'ob': 428, 'ym': 683, 'tm': 556, 'uf': 576, 'gk': 223, 'sy': 540, 'yc': 673, 'iu': 288, \"m'\": 369, 'za': 698, 'sk': 526, 'wn': 631, 'ex': 180, 'dc': 132, 'dd': 133, 'eo': 171, 'dw': 152, 'we': 623, 'dy': 153, 'eh': 164, 'lb': 344, \"l'\": 341, 'lm': 355, 'nn': 411, 'sb': 517, 'eq': 173, 'rh': 495, 'ld': 346, 'lt': 362, 'dh': 137, 'eu': 177, 'gu': 233, 'kk': 327, 'kt': 335, 'lf': 348, 'ip': 283, 'gh': 220, 'aj': 60, 'ok': 437, 'oh': 434, 'iw': 290, 'gs': 231, 'dj': 139, 'jo': 307, 'ju': 311, 'dk': 140, 'dm': 142, \"f'\": 183, 'fo': 199, 'hs': 259, '-f': 30, 'ae': 55, 'sd': 519, \"g'\": 211, 'vo': 609, 'gr': 230, 'ft': 204, 'oq': 443, \"h'\": 239, 'sp': 531, 'hl': 252, \"p'\": 453, 'af': 56, 'ye': 675, 'fd': 188, 'fe': 189, 'ix': 291, 'xe': 649, 'fl': 196, 'fr': 202, 'ax': 74, 'fg': 191, \"i'\": 266, 'fh': 192, 'ox': 450, 'xi': 653, 'fm': 197, 'fs': 203, 'ef': 162, 'ug': 577, 'rw': 510, 'fw': 207, 'aw': 73, 'mn': 384, 'gy': 237, 'gc': 215, 'gf': 218, 'ih': 275, 'ew': 179, 'xc': 647, 'fu': 205, 'pp': 470, 'hh': 248, 'hk': 251, 'lg': 349, 'lq': 359, 'ub': 572, 'hn': 254, 'hr': 258, 'hu': 261, 'hw': 263, 'ml': 382, 'sl': 527, 'wo': 632, \"c'\": 102, 'rf': 493, 'nk': 408, 'tc': 546, \"x'\": 643, 'ji': 301, 'jn': 306, 'oj': 436, 'uj': 580, 'k-': 316, 'kc': 319, 'hb': 242, 'iy': 292, 'kw': 338, 'ky': 339, 'kz': 340, 'l-': 342, '-q': 41, \"'a\": 4, 'tv': 564, 'uq': 587, 'rq': 504, 'ej': 166, 'xa': 645, 'xo': 657, 'xy': 667, 'nq': 414, 'md': 374, 'nz': 423, 'fb': 186, 'ij': 277, 'iq': 284, 'lj': 352, '-i': 33, 'n-': 397, '-o': 39, 'nw': 420, 'yw': 693, 'lr': 360, 'uv': 592, 'lw': 365, 'ez': 182, 'mq': 387, 'fn': 198, \"k'\": 315, 'tf': 549, 'zh': 705, 'wy': 641, 'lz': 368, 'np': 413, 'xt': 662, 'zc': 700, 'zq': 713, 'mf': 376, 'mg': 377, 'mh': 378, 'yv': 692, 'mk': 381, 'oe': 431, 'pc': 457, 'mr': 388, 'mt': 390, 'mv': 392, 'mw': 393, 'yo': 685, 'yx': 694, 'yz': 696, 'sq': 532, 'nv': 419, 'oz': 452, 'ws': 636, 'cd': 106, 'nf': 403, 'gp': 228, 'nj': 407, 'jl': 304, 'nr': 415, 'sg': 522, 'i-': 267, 'bm': 90, 'tk': 554, \"u'\": 569, 'tw': 565, 'nx': 421, 'yb': 672, 'yh': 678, 'yp': 686, 'wh': 626, 'ao': 65, 'pf': 460, 'pg': 461, 'pk': 465, 'aq': 67, 'qa': 479, 'qi': 482, 'rv': 509, 'ux': 594, 'hd': 244, 'zm': 709, 'rj': 497, 'wr': 635, 'd-': 129, \"w'\": 617, 'zt': 716, 'zu': 717, 'rx': 511, 'rz': 513, 'sn': 529, 'ii': 276, 'sf': 521, 'hc': 243, 'hf': 246, \"v'\": 597, 'pn': 468, 'sr': 533, 'yr': 688, 'uy': 595, 'vd': 600, 'vg': 602, 'vn': 608, 'vr': 610, 'vt': 612, 'wb': 620, 'wf': 624, 'wk': 628, 'wt': 637, 'wu': 638, 'xf': 650, 'xl': 654, 'xs': 661, 'yg': 677, 'yu': 691, 'yy': 695, 'zb': 699, \"b'\": 77, \"'r\": 19, 'kb': 318, 'kd': 320, 'kf': 322, 'kg': 323, 'kp': 332, 'y-': 670, 'tj': 553, 'gb': 214, 'gd': 216, 'gw': 235, \"'i\": 11, 'sz': 541, 'kv': 337, 'xq': 659, 'fk': 195, 'sv': 537, 'vs': 611, 'wm': 630, 'tb': 545, 'td': 547, 'hg': 247, 'uw': 593, 'wd': 622, 'zl': 708, 'cv': 124, 'db': 131, 'df': 135, 'dp': 145, 'vu': 613, \"'o\": 17, 'zr': 714, 'nl': 409, 'jy': 314, \"z'\": 697, 'r-': 487, 'a-': 50, '-g': 31, 'o-': 426, 's-': 515, 'gq': 229, 'jr': 308, 'g-': 212, '-j': 34, 'hp': 256, 'vy': 615, 'zd': 701, 'zn': 710, 'xu': 663, 'xb': 646, 'kj': 326, '-r': 42, '-v': 46, 'bz': 101, 'tg': 550, 'sj': 525, 'gj': 222, 'wc': 621, 'xw': 665, 'xx': 666, 'yf': 676, 'jd': 297, 'zk': 707, 'tp': 559, 'fc': 187, 'uu': 591, '-u': 45, 'py': 476, 'h-': 240, 'zw': 719, 'pb': 456, 'pj': 464, 'pw': 475, \"q'\": 478, \"'v\": 23, 'jk': 303, 'pd': 458, 'pm': 467, 'gx': 236, 'zp': 712, 'bw': 99, '-e': 29, 'wg': 625, 'zf': 703, 'vl': 607, 'cw': 125, 'hv': 262, 'vc': 599, 'zs': 715, 'mj': 380, 'xh': 652, 'vv': 614, 'xv': 664, 'mz': 395, 'bf': 83, 'hq': 257, 'dq': 146, 'lx': 366, '-h': 32, 'vj': 605, 'x-': 644, 'xn': 656, 'xp': 658, 'jv': 312, 'zg': 704, '-y': 48, 'fj': 194, 'jt': 310, 'w-': 618, 'xg': 651, 'xm': 655, 'tx': 566, 'gz': 238, 'gv': 234, 'jj': 302, 'f-': 184, 'wv': 639, \"'l\": 14, 'hj': 250, 'fp': 200, 'js': 309, 'vh': 603, 'wz': 642, 'u-': 570, 'i': 265, 'qb': 480, 'qg': 481, 'zv': 718, 'jf': 299, 'jh': 300, 'jc': 296, 'wp': 633, 'bv': 98, 'pz': 477, 'fq': 201, 'cb': 104, 'cf': 108, 'cg': 109, 'cp': 118, \"j'\": 294, 'xz': 668, 'cj': 112, 'fx': 208, \"'j\": 12, 'fz': 210, 'qv': 485, 'wq': 634, 'ww': 640, 'xr': 660, 'xd': 648, 'o': 424, \"'b\": 5, \"'g\": 9, \"'k\": 13, 'vk': 606, 'qo': 483, 'vz': 616, 'jm': 305, 'yj': 680, 'p-': 454, 'fv': 206, 'bg': 84, \"'u\": 22, 'jw': 313, 'sx': 539, 'm-': 370, 'yq': 687}\n",
      "33 {'K': 18, 'AX': 6, 'Z': 35, 'AO': 4, 'R': 27, 'S': 28, 'M': 20, 'N': 21, 'W': 33, 'T': 30, 'IY': 16, 'NY': 23, 'AA': 3, 'D': 10, 'B': 8, 'L': 19, 'CH': 9, 'P': 25, 'EH': 11, 'NG': 22, 'UW': 31, 'G': 14, 'HH': 15, 'Q': 26, 'V': 32, 'AY': 7, 'SH': 29, 'EY': 12, 'AW': 5, 'JH': 17, 'Y': 34, 'OY': 24, 'F': 13}\n",
      "33 {'K': 18, 'AX': 6, 'Z': 35, 'AO': 4, 'R': 27, 'S': 28, 'M': 20, 'N': 21, 'W': 33, 'T': 30, 'IY': 16, 'NY': 23, 'AA': 3, 'D': 10, 'B': 8, 'L': 19, 'CH': 9, 'P': 25, 'EH': 11, 'NG': 22, 'UW': 31, 'G': 14, 'HH': 15, 'Q': 26, 'V': 32, 'AY': 7, 'SH': 29, 'EY': 12, 'AW': 5, 'JH': 17, 'Y': 34, 'OY': 24, 'F': 13}\n",
      "33 {'K': 18, 'AX': 6, 'Z': 35, 'AO': 4, 'R': 27, 'S': 28, 'M': 20, 'N': 21, 'W': 33, 'T': 30, 'IY': 16, 'NY': 23, 'AA': 3, 'D': 10, 'B': 8, 'L': 19, 'CH': 9, 'P': 25, 'EH': 11, 'NG': 22, 'UW': 31, 'G': 14, 'HH': 15, 'Q': 26, 'V': 32, 'AY': 7, 'SH': 29, 'EY': 12, 'AW': 5, 'JH': 17, 'Y': 34, 'OY': 24, 'F': 13}\n"
     ]
    }
   ],
   "source": [
    "print(train_g2p_dataset, train_dataloader.dataset[0])\n",
    "print(train_g2p_dataset[0])\n",
    "print(train_dataloader.dataset[0])\n",
    "print(\"train grp\", len(train_g2p_dataset.index2grapheme), train_g2p_dataset.index2grapheme)\n",
    "print(\"valid grp\", len(val_g2p_dataset.index2grapheme), val_g2p_dataset.index2grapheme)\n",
    "print(\"test grp\", len(test_g2p_dataset.index2grapheme), test_g2p_dataset.index2grapheme)\n",
    "print(\"train phn\", len(train_g2p_dataset.index2phoneme), train_g2p_dataset.index2phoneme)\n",
    "print(\"valid phn\", len(val_g2p_dataset.index2phoneme), val_g2p_dataset.index2phoneme)\n",
    "print(\"test phn\", len(test_g2p_dataset.index2phoneme), test_g2p_dataset.index2phoneme)\n",
    "print(len(train_g2p_dataset.grapheme2index), train_g2p_dataset.grapheme2index)\n",
    "print(len(val_g2p_dataset.grapheme2index), val_g2p_dataset.grapheme2index)\n",
    "print(len(test_g2p_dataset.grapheme2index), test_g2p_dataset.grapheme2index)\n",
    "print(len(train_g2p_dataset.phoneme2index), train_g2p_dataset.phoneme2index)\n",
    "print(len(val_g2p_dataset.phoneme2index), val_g2p_dataset.phoneme2index)\n",
    "print(len(test_g2p_dataset.phoneme2index), test_g2p_dataset.phoneme2index)"
   ]
  },
  {
   "cell_type": "markdown",
   "metadata": {
    "id": "rR7MN5jhZKF_"
   },
   "source": [
    "## Model definitions"
   ]
  },
  {
   "cell_type": "markdown",
   "metadata": {
    "id": "ygVvCWJJZOeP"
   },
   "source": [
    "### Encoder"
   ]
  },
  {
   "cell_type": "code",
   "execution_count": 41,
   "metadata": {
    "executionInfo": {
     "elapsed": 4,
     "status": "ok",
     "timestamp": 1740675367889,
     "user": {
      "displayName": "23522026 Ahmad Naufal Hakim",
      "userId": "16621933245327613442"
     },
     "user_tz": -420
    },
    "id": "Q3UD4r8FZP5U"
   },
   "outputs": [],
   "source": [
    "class Encoder(nn.Module) :\n",
    "  def __init__(self, input_size, emb_dim, hidden_size, n_layers=1) -> None :\n",
    "    super(Encoder, self).__init__()\n",
    "    self.input_size = input_size\n",
    "    self.hidden_size = hidden_size\n",
    "    self.n_layers = n_layers\n",
    "\n",
    "    self.embedding = nn.Embedding(input_size, emb_dim)\n",
    "    self.gru = nn.GRU(emb_dim, hidden_size, n_layers, batch_first=False)\n",
    "    if USE_CUDA :\n",
    "      self.embedding = self.embedding.cuda()\n",
    "      self.gru = self.gru.cuda()\n",
    "\n",
    "  def forward(self, token_inputs, hidden) :\n",
    "    embedded = self.embedding(token_inputs) # [seq_len, batch_size, emb_dim]\n",
    "    output, hidden = self.gru(embedded, hidden)\n",
    "    return output, hidden # output: [seq_len, batch_size, hidden_size]\n",
    "\n",
    "  def init_hidden(self, batch_size=1) :\n",
    "    hidden = torch.zeros(self.n_layers, batch_size, self.hidden_size)\n",
    "    # hidden shape: [n_layers, batch_size, hidden_size]\n",
    "    if USE_CUDA :\n",
    "      hidden = hidden.cuda()\n",
    "    return hidden"
   ]
  },
  {
   "cell_type": "markdown",
   "metadata": {
    "id": "tVCH2fcZZRgY"
   },
   "source": [
    "### Attention"
   ]
  },
  {
   "cell_type": "code",
   "execution_count": 42,
   "metadata": {
    "executionInfo": {
     "elapsed": 4,
     "status": "ok",
     "timestamp": 1740675367890,
     "user": {
      "displayName": "23522026 Ahmad Naufal Hakim",
      "userId": "16621933245327613442"
     },
     "user_tz": -420
    },
    "id": "P_7WmJUSZSgT"
   },
   "outputs": [],
   "source": [
    "class Attn(nn.Module) :\n",
    "  def __init__(self, method, hidden_size) -> None :\n",
    "    super(Attn, self).__init__()\n",
    "    self.method = method\n",
    "    self.hidden_size = hidden_size\n",
    "\n",
    "    if self.method == \"general\" :\n",
    "      self.attn = nn.Linear(self.hidden_size, hidden_size)\n",
    "      if USE_CUDA :\n",
    "        self.attn = self.attn.cuda()\n",
    "    elif self.method == \"concat\" :\n",
    "      self.attn = nn.Linear(self.hidden_size*2, hidden_size)\n",
    "      self.v = nn.Parameter(torch.FloatTensor(hidden_size))\n",
    "      if USE_CUDA :\n",
    "        self.attn = self.attn.cuda()\n",
    "        self.v = self.v.cuda()\n",
    "\n",
    "  def forward(self, hidden, encoder_outputs) :\n",
    "    # hidden shape: [1, batch_size, hidden_size]\n",
    "    # encoder_outputs shape: [seq_len, batch_size, hidden_size]\n",
    "\n",
    "    if self.method == \"dot\" :\n",
    "      # Vectorized dot product for all positions in the sequence\n",
    "      attn_energies = torch.sum(hidden * encoder_outputs, dim=2) # [seq_len, batch_size]\n",
    "    elif self.method == \"general\" :\n",
    "      energy = self.attn(encoder_outputs) # [seq_len, batch_size, hidden_size]\n",
    "      attn_energies = torch.sum(hidden * energy, dim=2)\n",
    "    elif self.method == \"concat\" :\n",
    "      hidden_expanded = hidden.expand(encoder_outputs.size(0), -1, -1) # [seq_len, batch_size, hidden_size]\n",
    "      energy = self.attn(torch.cat((hidden_expanded, encoder_outputs), 2)) # [seq_len, batch_size, hidden_size]\n",
    "      attn_energies = torch.sum(self.v * energy, dim=2)\n",
    "\n",
    "    # Normalize energies to weights\n",
    "    attn_weights = F.softmax(attn_energies, dim=0) # [seq_len, batch_size]\n",
    "    return attn_weights.transpose(0, 1).unsqueeze(1) # [batch_size, 1, seq_len]"
   ]
  },
  {
   "cell_type": "markdown",
   "metadata": {
    "id": "pLkvrRCoZWf3"
   },
   "source": [
    "### Decoder"
   ]
  },
  {
   "cell_type": "code",
   "execution_count": 43,
   "metadata": {
    "executionInfo": {
     "elapsed": 3,
     "status": "ok",
     "timestamp": 1740675367895,
     "user": {
      "displayName": "23522026 Ahmad Naufal Hakim",
      "userId": "16621933245327613442"
     },
     "user_tz": -420
    },
    "id": "oVtYeNNIZa8U"
   },
   "outputs": [],
   "source": [
    "class Decoder(nn.Module) :\n",
    "  def __init__(self, attn_model, emb_dim, hidden_size, output_size, n_layers=1, dropout_proba=.1) -> None :\n",
    "    super(Decoder, self).__init__()\n",
    "    self.attn_model = attn_model\n",
    "    self.hidden_size = hidden_size\n",
    "    self.output_size = output_size\n",
    "    self.n_layers = n_layers\n",
    "    self.dropout_proba = dropout_proba\n",
    "\n",
    "    # Define layers\n",
    "    self.embedding = nn.Embedding(output_size, emb_dim)\n",
    "    self.gru = nn.GRU(emb_dim + hidden_size, hidden_size, n_layers, dropout=dropout_proba, batch_first=False)\n",
    "    self.out = nn.Linear(hidden_size*2, output_size)\n",
    "\n",
    "    # Choose attention model\n",
    "    if attn_model != \"none\" :\n",
    "      self.attn = Attn(attn_model, hidden_size)\n",
    "\n",
    "    if USE_CUDA :\n",
    "      self.embedding = self.embedding.cuda()\n",
    "      self.gru = self.gru.cuda()\n",
    "      self.out = self.out.cuda()\n",
    "      self.attn = self.attn.cuda()\n",
    "\n",
    "  def forward(self, token_input, last_context, last_hidden, encoder_outputs) :\n",
    "    # token_input shape: [1, batch_size]\n",
    "    # last_context shape: [batch_size, hidden_size]\n",
    "    # last_hidden shape: [n_layers, batch_size, hidden_size]\n",
    "    # encoder_outputs shape: [seq_len, batch_size, hidden]\n",
    "    # Get the embedding of the current input token (last output token)\n",
    "\n",
    "    embedded = self.embedding(token_input) # [1, batch_size, emb_dim]\n",
    "    # Combine embedded input token and last context, run through RNN\n",
    "    rnn_input = torch.cat((embedded, last_context.unsqueeze(0)), dim=2) # [1, batch_size, emb_dim + hidden_size]\n",
    "    # GRU forward\n",
    "    rnn_output, hidden = self.gru(rnn_input, last_hidden) # rnn_output: [1, batch_size, hidden_size]\n",
    "\n",
    "    # Calculate attention from current RNN state and all encoder outputs; apply to encoder outputs\n",
    "    attn_weights = self.attn(rnn_output, encoder_outputs) # [batch_size, 1, seq_len]\n",
    "    context = torch.bmm(attn_weights, encoder_outputs.transpose(0, 1)) # [batch_size, 1, hidden_size]\n",
    "    context = context.transpose(0, 1) # [1, batch_size, hidden_size]\n",
    "\n",
    "    # Final output layer (next token prediction) using the RNN hidden state and context vector\n",
    "    rnn_output = rnn_output.squeeze(0)  # [batch_size, hidden_size]\n",
    "    context = context.squeeze(0)        # [batch_size, hidden_size]\n",
    "    output = torch.cat((rnn_output, context), dim=1) # [batch_size, hidden_size * 2]\n",
    "    output = F.log_softmax(self.out(output), dim=1) # [batch_size, output_size]\n",
    "\n",
    "    # Return final output, hidden state, and attention weights (for visualization)\n",
    "    return output, context, hidden, attn_weights"
   ]
  },
  {
   "cell_type": "markdown",
   "metadata": {
    "id": "8mDO6QlJZpUZ"
   },
   "source": [
    "## Technical check"
   ]
  },
  {
   "cell_type": "code",
   "execution_count": 44,
   "metadata": {
    "colab": {
     "base_uri": "https://localhost:8080/"
    },
    "executionInfo": {
     "elapsed": 12,
     "status": "ok",
     "timestamp": 1740675367910,
     "user": {
      "displayName": "23522026 Ahmad Naufal Hakim",
      "userId": "16621933245327613442"
     },
     "user_tz": -420
    },
    "id": "kC8lx7n7Zr1Z",
    "outputId": "7c50e3bf-898c-41ed-9c99-f73b0bcbb1f0"
   },
   "outputs": [
    {
     "name": "stdout",
     "output_type": "stream",
     "text": [
      "Encoder hidden shape: torch.Size([1, 3, 15])\n",
      "Input batch shape: torch.Size([4, 3])\n",
      "Encoder outputs shape: torch.Size([4, 3, 15])\n",
      "Encoder hidden shape: torch.Size([1, 3, 15])\n",
      "Step 0:\n",
      "Decoder output shape: torch.Size([3, 100])\n",
      "Decoder context shape: torch.Size([3, 15])\n",
      "Decoder hidden shape: torch.Size([1, 3, 15])\n",
      "Attention shape: torch.Size([3, 1, 4])\n",
      "Step 1:\n",
      "Decoder output shape: torch.Size([3, 100])\n",
      "Decoder context shape: torch.Size([3, 15])\n",
      "Decoder hidden shape: torch.Size([1, 3, 15])\n",
      "Attention shape: torch.Size([3, 1, 4])\n"
     ]
    },
    {
     "name": "stderr",
     "output_type": "stream",
     "text": [
      "/home/ahmadnaufalhakim/.local/lib/python3.8/site-packages/torch/nn/modules/rnn.py:83: UserWarning: dropout option adds dropout after all but last recurrent layer, so non-zero dropout expects num_layers greater than 1, but got dropout=0.1 and num_layers=1\n",
      "  warnings.warn(\"dropout option adds dropout after all but last \"\n"
     ]
    }
   ],
   "source": [
    "# testing params\n",
    "batch_size = 3\n",
    "input_size = 100\n",
    "emb_dim = 25\n",
    "hidden_size = 15\n",
    "n_layers = 1\n",
    "\n",
    "# Init models\n",
    "encoder_test = Encoder(input_size, emb_dim, hidden_size, n_layers)\n",
    "decoder_test = Decoder(\"dot\", emb_dim, hidden_size, output_size=input_size, n_layers=n_layers)\n",
    "# Test encoder\n",
    "encoder_hidden = encoder_test.init_hidden(batch_size=batch_size)\n",
    "print(\"Encoder hidden shape:\", encoder_hidden.shape)\n",
    "# Test input (seq_len=4, batch_size=3)\n",
    "input_batch = torch.LongTensor([[1,4,7], [2,5,8], [3,6,9], [4,7,10]])\n",
    "if USE_CUDA :\n",
    "  input_batch = input_batch.cuda()\n",
    "print(\"Input batch shape:\", input_batch.shape)\n",
    "\n",
    "encoder_outputs, encoder_hidden = encoder_test(input_batch, encoder_hidden)\n",
    "print(\"Encoder outputs shape:\", encoder_outputs.shape)\n",
    "print(\"Encoder hidden shape:\", encoder_hidden.shape)\n",
    "\n",
    "# Test decoder\n",
    "decoder_input = torch.LongTensor([[SOS_TOKEN] * batch_size]) # (1, batch_size)\n",
    "decoder_context = torch.zeros(batch_size, hidden_size) # (batch_size, hidden_size)\n",
    "decoder_hidden = encoder_hidden\n",
    "if USE_CUDA :\n",
    "  decoder_input = decoder_input.cuda()\n",
    "  decoder_context = decoder_context.cuda()\n",
    "for di in range(2) :\n",
    "  decoder_output, decoder_context, decoder_hidden, attn = decoder_test(\n",
    "      decoder_input,\n",
    "      decoder_context,\n",
    "      decoder_hidden,\n",
    "      encoder_outputs\n",
    "  )\n",
    "  print(f\"Step {di}:\")\n",
    "  print(\"Decoder output shape:\", decoder_output.shape) # [batch_size, output_size]\n",
    "  print(\"Decoder context shape:\", decoder_context.shape)\n",
    "  print(\"Decoder hidden shape:\", decoder_hidden.shape) # [n_layers, batch_size, hidden_size]\n",
    "  print(\"Attention shape:\", attn.shape) # [batch_size, 1, seq_len]\n",
    "  decoder_input = torch.argmax(decoder_output, dim=1).unsqueeze(0) # Greedy decoding\n"
   ]
  },
  {
   "cell_type": "markdown",
   "metadata": {
    "id": "T8eP0I6rZtvY"
   },
   "source": [
    "## Helper functions (for training log)"
   ]
  },
  {
   "cell_type": "code",
   "execution_count": 45,
   "metadata": {
    "executionInfo": {
     "elapsed": 4,
     "status": "ok",
     "timestamp": 1740675367916,
     "user": {
      "displayName": "23522026 Ahmad Naufal Hakim",
      "userId": "16621933245327613442"
     },
     "user_tz": -420
    },
    "id": "V-3uJwDCZvqz"
   },
   "outputs": [],
   "source": [
    "import time\n",
    "import math\n",
    "import matplotlib.pyplot as plt\n",
    "plt.switch_backend(\"agg\")\n",
    "import matplotlib.ticker as ticker\n",
    "%matplotlib inline\n",
    "import numpy as np\n",
    "\n",
    "def as_minutes(seconds) :\n",
    "  minutes = math.floor(seconds/60)\n",
    "  seconds -= minutes*60\n",
    "  return f\"{minutes}m {round(seconds, 2)}s\"\n",
    "\n",
    "def time_since(since, percent) :\n",
    "  now = time.time()\n",
    "  seconds = now - since\n",
    "  eta_seconds = seconds/(percent)\n",
    "  remaining_seconds = eta_seconds - seconds\n",
    "  return f\"{as_minutes(seconds)} (- {as_minutes(remaining_seconds)})\""
   ]
  },
  {
   "cell_type": "markdown",
   "metadata": {
    "id": "Cbvh639cZxlA"
   },
   "source": [
    "## Train and validation script"
   ]
  },
  {
   "cell_type": "code",
   "execution_count": 46,
   "metadata": {
    "executionInfo": {
     "elapsed": 92,
     "status": "ok",
     "timestamp": 1740675368009,
     "user": {
      "displayName": "23522026 Ahmad Naufal Hakim",
      "userId": "16621933245327613442"
     },
     "user_tz": -420
    },
    "id": "8l3KSCAaZy5K"
   },
   "outputs": [],
   "source": [
    "teacher_forcing_ratio = .5\n",
    "\n",
    "def train_batch(input_batch, target_batch, langs, encoder, decoder, encoder_optimizer, decoder_optimizer, criterion) :\n",
    "  encoder_optimizer.zero_grad()\n",
    "  decoder_optimizer.zero_grad()\n",
    "  if USE_CUDA :\n",
    "    input_batch = input_batch.cuda()\n",
    "    target_batch = target_batch.cuda()\n",
    "\n",
    "  batch_size = input_batch.size(1)\n",
    "  # Forward through encoder\n",
    "  encoder_hidden = encoder.init_hidden(batch_size)\n",
    "  encoder_outputs, encoder_hidden = encoder(input_batch, encoder_hidden)\n",
    "  # Prepare decoder inputs\n",
    "  decoder_input = torch.LongTensor([[SOS_TOKEN] * batch_size])\n",
    "  decoder_context = torch.zeros(batch_size, decoder.hidden_size)\n",
    "  decoder_hidden = encoder_hidden # Use last hidden state from encoder to start decoder\n",
    "  if USE_CUDA :\n",
    "    decoder_input = decoder_input.cuda()\n",
    "    decoder_context = decoder_context.cuda()\n",
    "\n",
    "  loss = 0\n",
    "  for di in range(target_batch.size(0)) :\n",
    "    decoder_output, decoder_context, decoder_hidden, decoder_attention = decoder(\n",
    "      decoder_input, decoder_context, decoder_hidden, encoder_outputs\n",
    "    )\n",
    "    # # Debug: check for nan\n",
    "    # if torch.isnan(criterion(decoder_output, target_batch[di])).any() :\n",
    "    #   print(\"nan detected in decoder_output at step\", di)\n",
    "    #   print(f\"step {di}/{target_batch.size(0)-1}\")\n",
    "    #   print(f\"{di-1}:\\t{target_batch[di-1]}\")\n",
    "    #   for i in range(di, target_batch.size(0)) :\n",
    "    #     print(f\"{i}:\\t{target_batch[i]}\")\n",
    "    #   print(target_batch)\n",
    "    #   print(decoder_output.shape, target_batch[di].shape, criterion(decoder_output, target_batch[di]))\n",
    "    # Calculate loss for this step (sum over batch)\n",
    "    loss += criterion(decoder_output, target_batch[di])\n",
    "    # Teacher forcing\n",
    "    decoder_input = target_batch[di].unsqueeze(0) if random.random() < teacher_forcing_ratio else decoder_output.argmax(1).unsqueeze(0)\n",
    "    if USE_CUDA :\n",
    "      decoder_input = decoder_input.cuda()\n",
    "\n",
    "  # Normalize loss\n",
    "  loss /= target_batch.size(0)\n",
    "\n",
    "  # Apply language weights\n",
    "  weights = torch.tensor([EN_WEIGHT if lang==\"en\" else ID_WEIGHT for lang in langs])\n",
    "  if USE_CUDA :\n",
    "    weights = weights.cuda()\n",
    "  weighted_loss = (loss * weights).mean()\n",
    "\n",
    "  # Backpropagate weighted loss\n",
    "  weighted_loss.backward()\n",
    "  encoder_optimizer.step()\n",
    "  decoder_optimizer.step()\n",
    "\n",
    "  return loss.item(), weighted_loss.item()\n",
    "\n",
    "def infer_batch(input_batch, target_batch, encoder, decoder, criterion) :\n",
    "  if USE_CUDA :\n",
    "    input_batch = input_batch.cuda()\n",
    "    target_batch = target_batch.cuda()\n",
    "\n",
    "  batch_size = input_batch.size(1)\n",
    "  # Forward through encoder\n",
    "  encoder_hidden = encoder.init_hidden(batch_size)\n",
    "  encoder_outputs, encoder_hidden = encoder(input_batch, encoder_hidden)\n",
    "  # Prepare decoder inputs\n",
    "  decoder_input = torch.LongTensor([[SOS_TOKEN] * batch_size])\n",
    "  decoder_context = torch.zeros(batch_size, decoder.hidden_size)\n",
    "  decoder_hidden = encoder_hidden # Use last hidden state from encoder to start decoder\n",
    "  if USE_CUDA :\n",
    "    decoder_input = decoder_input.cuda()\n",
    "    decoder_context = decoder_context.cuda()\n",
    "\n",
    "  loss = 0\n",
    "  for di in range(target_batch.size(0)) :\n",
    "    decoder_output, decoder_context, decoder_hidden, decoder_attention = decoder(\n",
    "      decoder_input, decoder_context, decoder_hidden, encoder_outputs\n",
    "    )\n",
    "    # Calculate loss for this step (sum over batch)\n",
    "    loss += criterion(decoder_output, target_batch[di])\n",
    "    # Greedy decoding without teacher forcing\n",
    "    topi = decoder_output.argmax(1)\n",
    "    decoder_input = topi.unsqueeze(0).detach() # detach from history\n",
    "\n",
    "  # Normalize loss\n",
    "  loss /= target_batch.size(0)\n",
    "\n",
    "  return loss.item()"
   ]
  },
  {
   "cell_type": "markdown",
   "metadata": {
    "id": "u9nserDfZ4Xo"
   },
   "source": [
    "## Initialize model"
   ]
  },
  {
   "cell_type": "code",
   "execution_count": 47,
   "metadata": {
    "colab": {
     "base_uri": "https://localhost:8080/"
    },
    "executionInfo": {
     "elapsed": 1857,
     "status": "ok",
     "timestamp": 1740675369864,
     "user": {
      "displayName": "23522026 Ahmad Naufal Hakim",
      "userId": "16621933245327613442"
     },
     "user_tz": -420
    },
    "id": "s1JHP18oZ6zy",
    "outputId": "95183643-e690-43c7-c973-86c6d9cce6ae"
   },
   "outputs": [
    {
     "name": "stdout",
     "output_type": "stream",
     "text": [
      "attn_model: dot\n",
      "emb_dim: 256\n",
      "hidden_size: 128\n",
      "n_layers: 1\n",
      "Encoder has a total number of 333056 parameters\n",
      "Decoder has a total number of 215844 parameters\n",
      "Total number of all parameters is 548900\n"
     ]
    }
   ],
   "source": [
    "attn_model = ATTN_MODEL\n",
    "emb_dim = EMB_DIM\n",
    "hidden_size = HIDDEN_SIZE\n",
    "n_layers = N_LAYERS\n",
    "dropout_proba = DROPOUT_PROBA\n",
    "\n",
    "# Initialize models\n",
    "encoder = Encoder(train_g2p_dataset.n_graphemes, int(emb_dim), int(hidden_size), int(n_layers))\n",
    "decoder = Decoder(attn_model, int(emb_dim), int(hidden_size), train_g2p_dataset.n_phonemes, int(n_layers), dropout_proba=dropout_proba)\n",
    "n_encoder_parameters = sum(p.numel() for p in encoder.parameters() if p.requires_grad)\n",
    "n_decoder_parameters = sum(p.numel() for p in decoder.parameters() if p.requires_grad)\n",
    "\n",
    "print(f\"attn_model: {attn_model}\")\n",
    "print(f\"emb_dim: {emb_dim}\")\n",
    "print(f\"hidden_size: {hidden_size}\")\n",
    "print(f\"n_layers: {n_layers}\")\n",
    "print(f\"Encoder has a total number of {n_encoder_parameters} parameters\")\n",
    "print(f\"Decoder has a total number of {n_decoder_parameters} parameters\")\n",
    "print(f\"Total number of all parameters is {n_encoder_parameters+n_decoder_parameters}\")\n",
    "\n",
    "# Move models to GPU\n",
    "if USE_CUDA :\n",
    "  encoder.cuda()\n",
    "  decoder.cuda()\n",
    "\n",
    "# Learning rate and weight decay parameters\n",
    "learning_rate = .001\n",
    "weight_decay = 1e-5\n",
    "# Initialize optimizers and criterion\n",
    "encoder_optimizer = optim.Adam(encoder.parameters(), lr=learning_rate, weight_decay=weight_decay)\n",
    "decoder_optimizer = optim.Adam(decoder.parameters(), lr=learning_rate, weight_decay=weight_decay)\n",
    "criterion = nn.NLLLoss(ignore_index=PAD_TOKEN)\n",
    "\n",
    "# Early stopping parameters\n",
    "patience = 999\n",
    "epochs_without_improvement = 0\n",
    "# Learning rate scheduling\n",
    "encoder_scheduler = optim.lr_scheduler.ReduceLROnPlateau(encoder_optimizer, factor=.5)\n",
    "decoder_scheduler = optim.lr_scheduler.ReduceLROnPlateau(decoder_optimizer, factor=.5)"
   ]
  },
  {
   "cell_type": "markdown",
   "metadata": {
    "id": "4OI03JU0Z9dw"
   },
   "source": [
    "## Run the training script"
   ]
  },
  {
   "cell_type": "code",
   "execution_count": 48,
   "metadata": {
    "colab": {
     "base_uri": "https://localhost:8080/"
    },
    "id": "gP6Zh2q4aBvd",
    "outputId": "200a4116-04e5-447b-885d-c22f6ad6642f"
   },
   "outputs": [
    {
     "name": "stdout",
     "output_type": "stream",
     "text": [
      "Training for epoch 1 has started (lr=0.001). Found 1922 batch(es).\n",
      "Epoch 1 finished in 0m 47.49s (- 78m 21.46s) (1 1.0%). train avg loss: 1.1831, val avg loss: 1.1663\n",
      "Training for epoch 2 has started (lr=0.001). Found 1922 batch(es).\n",
      "Epoch 2 finished in 1m 33.12s (- 76m 2.76s) (2 2.0%). train avg loss: 0.5943, val avg loss: 1.0726\n",
      "Training for epoch 3 has started (lr=0.001). Found 1922 batch(es).\n",
      "Epoch 3 finished in 2m 19.28s (- 75m 3.37s) (3 3.0%). train avg loss: 0.5113, val avg loss: 1.0814\n",
      "Training for epoch 4 has started (lr=0.001). Found 1922 batch(es).\n",
      "Epoch 4 finished in 3m 5.19s (- 74m 4.6s) (4 4.0%). train avg loss: 0.499, val avg loss: 0.9472\n",
      "Training for epoch 5 has started (lr=0.001). Found 1922 batch(es).\n",
      "Epoch 5 finished in 3m 50.55s (- 73m 0.53s) (5 5.0%). train avg loss: 0.4501, val avg loss: 0.9217\n",
      "Training for epoch 6 has started (lr=0.001). Found 1922 batch(es).\n",
      "Epoch 6 finished in 4m 37.92s (- 72m 34.09s) (6 6.0%). train avg loss: 0.3994, val avg loss: 0.9005\n",
      "Training for epoch 7 has started (lr=0.001). Found 1922 batch(es).\n",
      "Epoch 7 finished in 5m 23.77s (- 71m 41.55s) (7 7.0%). train avg loss: 0.4053, val avg loss: 0.9175\n",
      "Training for epoch 8 has started (lr=0.001). Found 1922 batch(es).\n",
      "Epoch 8 finished in 6m 10.7s (- 71m 3.04s) (8 8.0%). train avg loss: 0.4038, val avg loss: 0.9046\n",
      "Training for epoch 9 has started (lr=0.001). Found 1922 batch(es).\n",
      "Epoch 9 finished in 6m 57.33s (- 70m 19.65s) (9 9.0%). train avg loss: 0.3829, val avg loss: 0.9187\n",
      "Training for epoch 10 has started (lr=0.001). Found 1922 batch(es).\n",
      "Epoch 10 finished in 7m 43.78s (- 69m 34.05s) (10 10.0%). train avg loss: 0.3734, val avg loss: 0.8506\n",
      "Training for epoch 11 has started (lr=0.001). Found 1922 batch(es).\n",
      "Epoch 11 finished in 8m 28.64s (- 68m 35.33s) (11 11.0%). train avg loss: 0.3677, val avg loss: 0.8156\n",
      "Training for epoch 12 has started (lr=0.001). Found 1922 batch(es).\n",
      "Epoch 12 finished in 9m 13.93s (- 67m 42.12s) (12 12.0%). train avg loss: 0.3525, val avg loss: 0.8883\n",
      "Training for epoch 13 has started (lr=0.001). Found 1922 batch(es).\n",
      "Epoch 13 finished in 10m 0.59s (- 66m 59.34s) (13 13.0%). train avg loss: 0.3735, val avg loss: 0.8547\n",
      "Training for epoch 14 has started (lr=0.001). Found 1922 batch(es).\n",
      "Epoch 14 finished in 10m 47.02s (- 66m 14.58s) (14 14.0%). train avg loss: 0.3387, val avg loss: 0.8003\n",
      "Training for epoch 15 has started (lr=0.001). Found 1922 batch(es).\n",
      "Epoch 15 finished in 11m 32.62s (- 65m 24.82s) (15 15.0%). train avg loss: 0.3265, val avg loss: 0.7838\n",
      "Training for epoch 16 has started (lr=0.001). Found 1922 batch(es).\n",
      "Epoch 16 finished in 12m 17.91s (- 64m 34.02s) (16 16.0%). train avg loss: 0.3279, val avg loss: 0.848\n",
      "Training for epoch 17 has started (lr=0.001). Found 1922 batch(es).\n",
      "Epoch 17 finished in 13m 3.59s (- 63m 45.78s) (17 17.0%). train avg loss: 0.3601, val avg loss: 0.8529\n",
      "Training for epoch 18 has started (lr=0.001). Found 1922 batch(es).\n",
      "Epoch 18 finished in 13m 48.58s (- 62m 54.65s) (18 18.0%). train avg loss: 0.3397, val avg loss: 0.8245\n",
      "Training for epoch 19 has started (lr=0.001). Found 1922 batch(es).\n",
      "Epoch 19 finished in 14m 34.71s (- 62m 9.05s) (19 19.0%). train avg loss: 0.3314, val avg loss: 0.8666\n",
      "Training for epoch 20 has started (lr=0.001). Found 1922 batch(es).\n",
      "Epoch 20 finished in 15m 22.24s (- 61m 28.94s) (20 20.0%). train avg loss: 0.3417, val avg loss: 0.8261\n",
      "Training for epoch 21 has started (lr=0.001). Found 1922 batch(es).\n",
      "Epoch 21 finished in 16m 8.63s (- 60m 43.89s) (21 21.0%). train avg loss: 0.3078, val avg loss: 0.7628\n",
      "Training for epoch 22 has started (lr=0.001). Found 1922 batch(es).\n",
      "Epoch 22 finished in 16m 54.23s (- 59m 55.91s) (22 22.0%). train avg loss: 0.3352, val avg loss: 0.8282\n",
      "Training for epoch 23 has started (lr=0.001). Found 1922 batch(es).\n",
      "Epoch 23 finished in 17m 39.46s (- 59m 6.89s) (23 23.0%). train avg loss: 0.3013, val avg loss: 0.767\n",
      "Training for epoch 24 has started (lr=0.001). Found 1922 batch(es).\n",
      "Epoch 24 finished in 18m 25.54s (- 58m 20.86s) (24 24.0%). train avg loss: 0.3029, val avg loss: 0.7451\n",
      "Training for epoch 25 has started (lr=0.001). Found 1922 batch(es).\n",
      "Epoch 25 finished in 19m 10.2s (- 57m 30.61s) (25 25.0%). train avg loss: 0.2973, val avg loss: 0.8276\n",
      "Training for epoch 26 has started (lr=0.001). Found 1922 batch(es).\n",
      "Epoch 26 finished in 19m 55.54s (- 56m 42.68s) (26 26.0%). train avg loss: 0.3018, val avg loss: 0.703\n",
      "Training for epoch 27 has started (lr=0.001). Found 1922 batch(es).\n",
      "Epoch 27 finished in 20m 40.82s (- 55m 54.81s) (27 27.0%). train avg loss: 0.2612, val avg loss: 0.7398\n",
      "Training for epoch 28 has started (lr=0.001). Found 1922 batch(es).\n",
      "Epoch 28 finished in 21m 25.97s (- 55m 6.78s) (28 28.0%). train avg loss: 0.2871, val avg loss: 0.7085\n",
      "Training for epoch 29 has started (lr=0.001). Found 1922 batch(es).\n",
      "Epoch 29 finished in 22m 10.5s (- 54m 17.44s) (29 29.0%). train avg loss: 0.2991, val avg loss: 0.7777\n",
      "Training for epoch 30 has started (lr=0.001). Found 1922 batch(es).\n",
      "Epoch 30 finished in 22m 54.86s (- 53m 28.0s) (30 30.0%). train avg loss: 0.2945, val avg loss: 0.7677\n",
      "Training for epoch 31 has started (lr=0.001). Found 1922 batch(es).\n",
      "Epoch 31 finished in 23m 39.1s (- 52m 38.64s) (31 31.0%). train avg loss: 0.2908, val avg loss: 0.7094\n",
      "Training for epoch 32 has started (lr=0.001). Found 1922 batch(es).\n",
      "Epoch 32 finished in 24m 23.69s (- 51m 50.35s) (32 32.0%). train avg loss: 0.2962, val avg loss: 0.7918\n",
      "Training for epoch 33 has started (lr=0.001). Found 1922 batch(es).\n",
      "Epoch 33 finished in 25m 9.04s (- 51m 3.81s) (33 33.0%). train avg loss: 0.2883, val avg loss: 0.7271\n",
      "Training for epoch 34 has started (lr=0.001). Found 1922 batch(es).\n",
      "Epoch 34 finished in 25m 54.09s (- 50m 16.75s) (34 34.0%). train avg loss: 0.2708, val avg loss: 0.7085\n",
      "Training for epoch 35 has started (lr=0.001). Found 1922 batch(es).\n",
      "Epoch 35 finished in 26m 40.0s (- 49m 31.44s) (35 35.0%). train avg loss: 0.2633, val avg loss: 0.7041\n",
      "Training for epoch 36 has started (lr=0.001). Found 1922 batch(es).\n",
      "Epoch 36 finished in 27m 25.8s (- 48m 45.86s) (36 36.0%). train avg loss: 0.2526, val avg loss: 0.7024\n",
      "Training for epoch 37 has started (lr=0.001). Found 1922 batch(es).\n",
      "Epoch 37 finished in 28m 10.57s (- 47m 58.54s) (37 37.0%). train avg loss: 0.2746, val avg loss: 0.769\n",
      "Training for epoch 38 has started (lr=0.001). Found 1922 batch(es).\n",
      "Epoch 38 finished in 28m 56.37s (- 47m 13.02s) (38 38.0%). train avg loss: 0.2929, val avg loss: 0.7217\n",
      "Training for epoch 39 has started (lr=0.001). Found 1922 batch(es).\n",
      "Epoch 39 finished in 29m 42.14s (- 46m 27.44s) (39 39.0%). train avg loss: 0.2633, val avg loss: 0.7466\n",
      "Training for epoch 40 has started (lr=0.001). Found 1922 batch(es).\n",
      "Epoch 40 finished in 30m 29.03s (- 45m 43.54s) (40 40.0%). train avg loss: 0.266, val avg loss: 0.6998\n",
      "Training for epoch 41 has started (lr=0.001). Found 1922 batch(es).\n",
      "Epoch 41 finished in 31m 21.56s (- 45m 7.62s) (41 41.0%). train avg loss: 0.3152, val avg loss: 0.8119\n",
      "Training for epoch 42 has started (lr=0.001). Found 1922 batch(es).\n",
      "Epoch 42 finished in 32m 13.99s (- 44m 30.75s) (42 42.0%). train avg loss: 0.2864, val avg loss: 0.8385\n",
      "Training for epoch 43 has started (lr=0.001). Found 1922 batch(es).\n",
      "Epoch 43 finished in 32m 59.37s (- 43m 43.81s) (43 43.0%). train avg loss: 0.285, val avg loss: 0.7416\n",
      "Training for epoch 44 has started (lr=0.001). Found 1922 batch(es).\n",
      "Epoch 44 finished in 33m 48.5s (- 43m 1.73s) (44 44.0%). train avg loss: 0.2415, val avg loss: 0.701\n",
      "Training for epoch 45 has started (lr=0.001). Found 1922 batch(es).\n",
      "Epoch 45 finished in 34m 36.41s (- 42m 17.83s) (45 45.0%). train avg loss: 0.2503, val avg loss: 0.7565\n",
      "Training for epoch 46 has started (lr=0.001). Found 1922 batch(es).\n",
      "Epoch 46 finished in 35m 21.56s (- 41m 30.53s) (46 46.0%). train avg loss: 0.2557, val avg loss: 0.6816\n",
      "Training for epoch 47 has started (lr=0.001). Found 1922 batch(es).\n",
      "Epoch 47 finished in 36m 8.54s (- 40m 45.37s) (47 47.0%). train avg loss: 0.2371, val avg loss: 0.6722\n",
      "Training for epoch 48 has started (lr=0.001). Found 1922 batch(es).\n",
      "Epoch 48 finished in 36m 55.69s (- 40m 0.33s) (48 48.0%). train avg loss: 0.2453, val avg loss: 0.684\n",
      "Training for epoch 49 has started (lr=0.001). Found 1922 batch(es).\n",
      "Epoch 49 finished in 37m 42.77s (- 39m 15.13s) (49 49.0%). train avg loss: 0.2557, val avg loss: 0.8311\n",
      "Training for epoch 50 has started (lr=0.001). Found 1922 batch(es).\n",
      "Epoch 50 finished in 38m 29.73s (- 38m 29.73s) (50 50.0%). train avg loss: 0.275, val avg loss: 0.7239\n",
      "Training for epoch 51 has started (lr=0.001). Found 1922 batch(es).\n",
      "Epoch 51 finished in 39m 16.48s (- 37m 44.06s) (51 51.0%). train avg loss: 0.2707, val avg loss: 0.7053\n",
      "Training for epoch 52 has started (lr=0.001). Found 1922 batch(es).\n",
      "Epoch 52 finished in 40m 2.9s (- 36m 58.07s) (52 52.0%). train avg loss: 0.2771, val avg loss: 0.727\n",
      "Training for epoch 53 has started (lr=0.001). Found 1922 batch(es).\n",
      "Epoch 53 finished in 40m 49.48s (- 36m 12.18s) (53 53.0%). train avg loss: 0.2447, val avg loss: 0.7429\n",
      "Training for epoch 54 has started (lr=0.001). Found 1922 batch(es).\n",
      "Epoch 54 finished in 41m 36.59s (- 35m 26.73s) (54 54.0%). train avg loss: 0.2412, val avg loss: 0.6534\n",
      "Training for epoch 55 has started (lr=0.001). Found 1922 batch(es).\n",
      "Epoch 55 finished in 42m 23.94s (- 34m 41.4s) (55 55.0%). train avg loss: 0.2353, val avg loss: 0.6561\n",
      "Training for epoch 56 has started (lr=0.001). Found 1922 batch(es).\n",
      "Epoch 56 finished in 43m 11.1s (- 33m 55.86s) (56 56.0%). train avg loss: 0.2615, val avg loss: 0.6863\n",
      "Training for epoch 57 has started (lr=0.001). Found 1922 batch(es).\n",
      "Epoch 57 finished in 43m 57.4s (- 33m 9.62s) (57 57.0%). train avg loss: 0.2276, val avg loss: 0.6449\n",
      "Training for epoch 58 has started (lr=0.001). Found 1922 batch(es).\n",
      "Epoch 58 finished in 44m 43.76s (- 32m 23.41s) (58 58.0%). train avg loss: 0.2384, val avg loss: 0.6652\n",
      "Training for epoch 59 has started (lr=0.001). Found 1922 batch(es).\n",
      "Epoch 59 finished in 45m 30.4s (- 31m 37.39s) (59 59.0%). train avg loss: 0.2442, val avg loss: 0.637\n",
      "Training for epoch 60 has started (lr=0.001). Found 1922 batch(es).\n",
      "Epoch 60 finished in 46m 17.79s (- 30m 51.86s) (60 60.0%). train avg loss: 0.244, val avg loss: 0.6319\n",
      "Training for epoch 61 has started (lr=0.001). Found 1922 batch(es).\n",
      "Epoch 61 finished in 47m 4.97s (- 30m 6.13s) (61 61.0%). train avg loss: 0.2354, val avg loss: 0.6586\n",
      "Training for epoch 62 has started (lr=0.001). Found 1922 batch(es).\n",
      "Epoch 62 finished in 47m 50.93s (- 29m 19.6s) (62 62.0%). train avg loss: 0.2281, val avg loss: 0.6259\n",
      "Training for epoch 63 has started (lr=0.001). Found 1922 batch(es).\n",
      "Epoch 63 finished in 48m 37.53s (- 28m 33.47s) (63 63.0%). train avg loss: 0.2216, val avg loss: 0.6437\n",
      "Training for epoch 64 has started (lr=0.001). Found 1922 batch(es).\n",
      "Epoch 64 finished in 49m 28.41s (- 27m 49.73s) (64 64.0%). train avg loss: 0.2269, val avg loss: 0.6906\n",
      "Training for epoch 65 has started (lr=0.001). Found 1922 batch(es).\n",
      "Epoch 65 finished in 50m 22.75s (- 27m 7.64s) (65 65.0%). train avg loss: 0.2154, val avg loss: 0.664\n",
      "Training for epoch 66 has started (lr=0.001). Found 1922 batch(es).\n",
      "Epoch 66 finished in 51m 15.23s (- 26m 24.21s) (66 66.0%). train avg loss: 0.2397, val avg loss: 0.6617\n",
      "Training for epoch 67 has started (lr=0.001). Found 1922 batch(es).\n",
      "Epoch 67 finished in 52m 7.12s (- 25m 40.22s) (67 67.0%). train avg loss: 0.2265, val avg loss: 0.6733\n",
      "Training for epoch 68 has started (lr=0.001). Found 1922 batch(es).\n",
      "Epoch 68 finished in 53m 0.54s (- 24m 56.72s) (68 68.0%). train avg loss: 0.2392, val avg loss: 0.6366\n",
      "Training for epoch 69 has started (lr=0.001). Found 1922 batch(es).\n",
      "Epoch 69 finished in 53m 45.85s (- 24m 9.29s) (69 69.0%). train avg loss: 0.2297, val avg loss: 0.6537\n",
      "Training for epoch 70 has started (lr=0.001). Found 1922 batch(es).\n",
      "Epoch 70 finished in 54m 31.1s (- 23m 21.9s) (70 70.0%). train avg loss: 0.2215, val avg loss: 0.5974\n",
      "Training for epoch 71 has started (lr=0.001). Found 1922 batch(es).\n",
      "Epoch 71 finished in 55m 16.14s (- 22m 34.48s) (71 71.0%). train avg loss: 0.202, val avg loss: 0.5867\n",
      "Training for epoch 72 has started (lr=0.001). Found 1922 batch(es).\n",
      "Epoch 72 finished in 56m 2.01s (- 21m 47.45s) (72 72.0%). train avg loss: 0.2052, val avg loss: 0.597\n",
      "Training for epoch 73 has started (lr=0.001). Found 1922 batch(es).\n",
      "Epoch 73 finished in 56m 47.23s (- 21m 0.21s) (73 73.0%). train avg loss: 0.2166, val avg loss: 0.6239\n",
      "Training for epoch 74 has started (lr=0.001). Found 1922 batch(es).\n",
      "Epoch 74 finished in 57m 31.25s (- 20m 12.6s) (74 74.0%). train avg loss: 0.1987, val avg loss: 0.5791\n",
      "Training for epoch 75 has started (lr=0.001). Found 1922 batch(es).\n",
      "Epoch 75 finished in 58m 15.17s (- 19m 25.06s) (75 75.0%). train avg loss: 0.229, val avg loss: 0.6045\n",
      "Training for epoch 76 has started (lr=0.001). Found 1922 batch(es).\n",
      "Epoch 76 finished in 59m 0.21s (- 18m 37.96s) (76 76.0%). train avg loss: 0.2199, val avg loss: 0.6743\n",
      "Training for epoch 77 has started (lr=0.001). Found 1922 batch(es).\n",
      "Epoch 77 finished in 59m 44.96s (- 17m 50.83s) (77 77.0%). train avg loss: 0.2017, val avg loss: 0.6016\n",
      "Training for epoch 78 has started (lr=0.001). Found 1922 batch(es).\n",
      "Epoch 78 finished in 60m 29.61s (- 17m 3.74s) (78 78.0%). train avg loss: 0.1957, val avg loss: 0.6582\n",
      "Training for epoch 79 has started (lr=0.001). Found 1922 batch(es).\n",
      "Epoch 79 finished in 61m 15.32s (- 16m 16.98s) (79 79.0%). train avg loss: 0.2064, val avg loss: 0.6381\n",
      "Training for epoch 80 has started (lr=0.001). Found 1922 batch(es).\n",
      "Epoch 80 finished in 62m 0.44s (- 15m 30.11s) (80 80.0%). train avg loss: 0.1947, val avg loss: 0.5623\n",
      "Training for epoch 81 has started (lr=0.001). Found 1922 batch(es).\n",
      "Epoch 81 finished in 62m 44.79s (- 14m 43.1s) (81 81.0%). train avg loss: 0.2027, val avg loss: 0.6114\n",
      "Training for epoch 82 has started (lr=0.001). Found 1922 batch(es).\n",
      "Epoch 82 finished in 63m 28.35s (- 13m 55.98s) (82 82.0%). train avg loss: 0.2011, val avg loss: 0.6095\n",
      "Training for epoch 83 has started (lr=0.001). Found 1922 batch(es).\n",
      "Epoch 83 finished in 64m 12.43s (- 13m 9.05s) (83 83.0%). train avg loss: 0.1994, val avg loss: 0.6046\n",
      "Training for epoch 84 has started (lr=0.001). Found 1922 batch(es).\n",
      "Epoch 84 finished in 64m 56.81s (- 12m 22.25s) (84 84.0%). train avg loss: 0.1948, val avg loss: 0.5709\n",
      "Training for epoch 85 has started (lr=0.001). Found 1922 batch(es).\n",
      "Epoch 85 finished in 65m 42.25s (- 11m 35.69s) (85 85.0%). train avg loss: 0.1973, val avg loss: 0.6533\n",
      "Training for epoch 86 has started (lr=0.001). Found 1922 batch(es).\n",
      "Epoch 86 finished in 66m 26.96s (- 10m 49.04s) (86 86.0%). train avg loss: 0.1957, val avg loss: 0.6141\n",
      "Training for epoch 87 has started (lr=0.001). Found 1922 batch(es).\n",
      "Epoch 87 finished in 67m 10.97s (- 10m 2.33s) (87 87.0%). train avg loss: 0.1878, val avg loss: 0.6235\n",
      "Training for epoch 88 has started (lr=0.001). Found 1922 batch(es).\n",
      "Epoch 88 finished in 67m 55.32s (- 9m 15.73s) (88 88.0%). train avg loss: 0.2013, val avg loss: 0.6051\n",
      "Training for epoch 89 has started (lr=0.001). Found 1922 batch(es).\n",
      "Epoch 89 finished in 68m 39.74s (- 8m 29.18s) (89 89.0%). train avg loss: 0.1964, val avg loss: 0.5625\n",
      "Training for epoch 90 has started (lr=0.001). Found 1922 batch(es).\n",
      "Epoch 90 finished in 69m 27.5s (- 7m 43.06s) (90 90.0%). train avg loss: 0.1838, val avg loss: 0.5787\n",
      "Training for epoch 91 has started (lr=0.001). Found 1922 batch(es).\n",
      "Epoch 91 finished in 70m 18.1s (- 6m 57.17s) (91 91.0%). train avg loss: 0.1862, val avg loss: 0.5775\n",
      "Training for epoch 92 has started (lr=0.0005). Found 1922 batch(es).\n",
      "Epoch 92 finished in 71m 2.46s (- 6m 10.65s) (92 92.0%). train avg loss: 0.1676, val avg loss: 0.5654\n",
      "Training for epoch 93 has started (lr=0.0005). Found 1922 batch(es).\n",
      "Epoch 93 finished in 71m 46.38s (- 5m 24.14s) (93 93.0%). train avg loss: 0.1516, val avg loss: 0.533\n",
      "Training for epoch 94 has started (lr=0.0005). Found 1922 batch(es).\n",
      "Epoch 94 finished in 72m 30.41s (- 4m 37.69s) (94 94.0%). train avg loss: 0.149, val avg loss: 0.5292\n",
      "Training for epoch 95 has started (lr=0.0005). Found 1922 batch(es).\n",
      "Epoch 95 finished in 73m 15.24s (- 3m 51.33s) (95 95.0%). train avg loss: 0.1432, val avg loss: 0.523\n",
      "Training for epoch 96 has started (lr=0.0005). Found 1922 batch(es).\n",
      "Epoch 96 finished in 73m 59.64s (- 3m 4.99s) (96 96.0%). train avg loss: 0.1467, val avg loss: 0.5279\n",
      "Training for epoch 97 has started (lr=0.0005). Found 1922 batch(es).\n",
      "Epoch 97 finished in 74m 44.21s (- 2m 18.69s) (97 97.0%). train avg loss: 0.143, val avg loss: 0.5072\n",
      "Training for epoch 98 has started (lr=0.0005). Found 1922 batch(es).\n",
      "Epoch 98 finished in 75m 29.07s (- 1m 32.43s) (98 98.0%). train avg loss: 0.1381, val avg loss: 0.5406\n",
      "Training for epoch 99 has started (lr=0.0005). Found 1922 batch(es).\n",
      "Epoch 99 finished in 76m 13.61s (- 0m 46.2s) (99 99.0%). train avg loss: 0.1369, val avg loss: 0.5087\n",
      "Training for epoch 100 has started (lr=0.0005). Found 1922 batch(es).\n",
      "Epoch 100 finished in 76m 57.84s (- 0m 0.0s) (100 100.0%). train avg loss: 0.1376, val avg loss: 0.5179\n"
     ]
    }
   ],
   "source": [
    "# Training configurations\n",
    "n_epochs = 100\n",
    "# Keep track of time elapsed and running averages\n",
    "train_losses = []\n",
    "val_losses = []\n",
    "# Keep track of the best validation set loss\n",
    "best_val_loss = float(\"inf\")\n",
    "\n",
    "start = time.time()\n",
    "for epoch in range(1, n_epochs+1) :\n",
    "  # Set both encoder and decoder to training mode\n",
    "  encoder.train()\n",
    "  decoder.train()\n",
    "  print(f\"Training for epoch {epoch} has started (lr={encoder_optimizer.param_groups[0]['lr']}). Found {len(train_dataloader)} batch(es).\")\n",
    "  # Training\n",
    "  total_train_loss = 0\n",
    "  total_train_tokens = 0\n",
    "  for batch, (grps, phns, langs) in enumerate(train_dataloader) :\n",
    "    # Count tokens (excluding padding)\n",
    "    total_train_tokens += (phns!=PAD_TOKEN).sum().item()\n",
    "    # Train and get WEIGHTED loss\n",
    "    unweighted_train_loss, weighted_train_loss = train_batch(grps, phns, langs, encoder, decoder, encoder_optimizer, decoder_optimizer, criterion)\n",
    "    # Track UNWEIGHTED train loss for logging\n",
    "    total_train_loss += unweighted_train_loss * (phns!=PAD_TOKEN).sum().item()\n",
    "\n",
    "  # Set both encoder and decoder to evaluation mode\n",
    "  encoder.eval()\n",
    "  decoder.eval()\n",
    "  # Validation\n",
    "  with torch.no_grad() :\n",
    "    total_val_loss = 0\n",
    "    total_val_tokens = 0\n",
    "    for grps, phns, langs in valid_dataloader :\n",
    "      # Count tokens (excluding padding)\n",
    "      total_val_tokens += (phns!=PAD_TOKEN).sum().item()\n",
    "      # Infer and get loss\n",
    "      val_loss = infer_batch(grps, phns, encoder, decoder, criterion)\n",
    "      # Track val loss for logging\n",
    "      total_val_loss += val_loss * (phns!=PAD_TOKEN).sum().item()\n",
    "\n",
    "  # Calculate epoch metrics\n",
    "  avg_train_loss = total_train_loss/total_train_tokens\n",
    "  avg_val_loss = total_val_loss/total_val_tokens\n",
    "  print(f\"Epoch {epoch} finished in {time_since(start, epoch/n_epochs)} ({epoch} {epoch*100/n_epochs}%). train avg loss: {round(avg_train_loss, 4)}, val avg loss: {round(avg_val_loss, 4)}\")\n",
    "\n",
    "  # Update schedulers based on validation loss\n",
    "  encoder_scheduler.step(avg_val_loss)\n",
    "  decoder_scheduler.step(avg_val_loss)\n",
    "\n",
    "  # Save the losses for visualization\n",
    "  train_losses.append(avg_train_loss)\n",
    "  val_losses.append(avg_val_loss)\n",
    "\n",
    "  # Save the model if the validation loss is better than the previous iterations' validation loss\n",
    "  if avg_val_loss < best_val_loss :\n",
    "    epochs_without_improvement = 0\n",
    "    if epoch > 1 :\n",
    "      previous_best_encoder = [f for f in os.listdir(MODELS_DIR) if f.startswith(f\"FIN-encoder-wdecay_1e_5-attn_{attn_model}-emb_{emb_dim}-hddn_{hidden_size}-layers_{n_layers}\")][0]\n",
    "      previous_best_decoder = [f for f in os.listdir(MODELS_DIR) if f.startswith(f\"FIN-decoder-wdecay_1e_5-attn_{attn_model}-emb_{emb_dim}-hddn_{hidden_size}-layers_{n_layers}\")][0]\n",
    "      os.remove(os.path.join(MODELS_DIR, previous_best_encoder))\n",
    "      os.remove(os.path.join(MODELS_DIR, previous_best_decoder))\n",
    "    torch.save(encoder.state_dict(), os.path.join(MODELS_DIR, f\"FIN-encoder-wdecay_1e_5-attn_{attn_model}-emb_{emb_dim}-hddn_{hidden_size}-layers_{n_layers}-epoch_{epoch}.pth\"))\n",
    "    torch.save(decoder.state_dict(), os.path.join(MODELS_DIR, f\"FIN-decoder-wdecay_1e_5-attn_{attn_model}-emb_{emb_dim}-hddn_{hidden_size}-layers_{n_layers}-epoch_{epoch}.pth\"))\n",
    "    best_val_loss = avg_val_loss\n",
    "  else :\n",
    "    epochs_without_improvement += 1\n",
    "    if epochs_without_improvement >= patience :\n",
    "      print(f\"Early stopping after {epoch} epochs\")\n",
    "      break"
   ]
  },
  {
   "cell_type": "markdown",
   "metadata": {
    "id": "IvWFlA69aJXJ"
   },
   "source": [
    "## Visualize training loss"
   ]
  },
  {
   "cell_type": "code",
   "execution_count": 53,
   "metadata": {
    "id": "-498emHUaNzb"
   },
   "outputs": [
    {
     "data": {
      "text/plain": [
       "<Figure size 640x480 with 0 Axes>"
      ]
     },
     "metadata": {},
     "output_type": "display_data"
    },
    {
     "data": {
      "image/png": "[encoded data removed]",
      "text/plain": [
       "<Figure size 640x480 with 1 Axes>"
      ]
     },
     "metadata": {},
     "output_type": "display_data"
    }
   ],
   "source": [
    "def show_plot(**kwargs) :\n",
    "  plt.figure()\n",
    "  fig, ax = plt.subplots()\n",
    "  # This locator puts ticks at regular intervals\n",
    "  loc = ticker.MultipleLocator(base=.2)\n",
    "  ax.yaxis.set_major_locator(loc)\n",
    "  plt.title(\"Loss\")\n",
    "  legends = []\n",
    "  for k, v in kwargs.items() :\n",
    "    plt.plot(v)\n",
    "    plt.xlabel(\"Epoch\")\n",
    "    legends.append(k)\n",
    "    if k == \"val\" :\n",
    "      # Find the minimum value and its index\n",
    "      min_value = min(v)\n",
    "      min_index = v.index(min_value)\n",
    "      # Plot a red dot at the minimum value\n",
    "      plt.plot(min_index, min_value, \"ro\")\n",
    "      # Add text box in the middle of the plot showing the minimum value\n",
    "      plt.text(min_index-5, min_value-.075, f\"{min_value:.4f}\", bbox=dict(facecolor=\"white\", alpha=.5))\n",
    "  plt.legend(legends)\n",
    "\n",
    "show_plot(train=train_losses, val=val_losses)"
   ]
  },
  {
   "cell_type": "markdown",
   "metadata": {
    "id": "X8q3Ubs5aUWa"
   },
   "source": [
    "## Evaluate the model"
   ]
  },
  {
   "cell_type": "markdown",
   "metadata": {
    "id": "sgFQoUrINk_L"
   },
   "source": [
    "### Helper functions to evaluate encoder-decoder attention model performance"
   ]
  },
  {
   "cell_type": "code",
   "execution_count": 50,
   "metadata": {
    "id": "wHJTHcbONu7W"
   },
   "outputs": [],
   "source": [
    "def evaluate(word, max_length=MAX_LENGTH) :\n",
    "  # Convert word to tensor with batch dimension\n",
    "  input_variable = variable_from_word(test_g2p_dataset, word, grp_type=GRP_TYPE) # Already in [seq_len, 1]\n",
    "\n",
    "  # Run through encoder\n",
    "  encoder_hidden = encoder.init_hidden(batch_size=1)\n",
    "  encoder_outputs, encoder_hidden = encoder(input_variable, encoder_hidden)\n",
    "  # Prepare decoder inputs\n",
    "  decoder_input = torch.LongTensor([[SOS_TOKEN]]) # [1, 1]\n",
    "  decoder_context = torch.zeros(1, decoder.hidden_size)\n",
    "  decoder_hidden = encoder_hidden # Use last hidden state from encoder to start decoder\n",
    "  if USE_CUDA :\n",
    "    decoder_input = decoder_input.cuda()\n",
    "    decoder_context = decoder_context.cuda()\n",
    "\n",
    "  decoded_phonemes = []\n",
    "  attentions = torch.zeros(max_length, max_length)\n",
    "  for di in range(max_length) :\n",
    "    decoder_output, decoder_context, decoder_hidden, attn_weights = decoder(\n",
    "      decoder_input, decoder_context, decoder_hidden, encoder_outputs\n",
    "    )\n",
    "    # Store attention\n",
    "    attentions[di, :attn_weights.size(2)] += attn_weights.squeeze(0).squeeze(0).cpu().data\n",
    "    # Get most likely token\n",
    "    topv, topi = decoder_output.data.topk(1)\n",
    "    ni = topi[0][0]\n",
    "    if ni.item() == EOS_TOKEN :\n",
    "      decoded_phonemes.append(\"<EOS>\")\n",
    "      break\n",
    "    else :\n",
    "      decoded_phonemes.append(test_g2p_dataset.index2phoneme[ni.item()])\n",
    "    # Next input is predicted token\n",
    "    decoder_input = torch.LongTensor([[ni.item()]])\n",
    "    if USE_CUDA :\n",
    "      decoder_input = decoder_input.cuda()\n",
    "\n",
    "  return decoded_phonemes, attentions[:di+1, 1:len(encoder_outputs)]\n",
    "\n",
    "def evaluate_randomly() :\n",
    "  pair = random.choice(pairs)\n",
    "  word, arpabet_phoneme_sequence, lang = pair\n",
    "\n",
    "  output_phonemes, decoder_attns = evaluate(word)\n",
    "  try :\n",
    "    output_phonemes.remove(\"<EOS>\")\n",
    "  except ValueError as e :\n",
    "    pass\n",
    "  output_phoneme_sequence = ' '.join(output_phonemes)\n",
    "  label_phonemes = arpabet_phoneme_sequence.split()\n",
    "\n",
    "  print('>', word)\n",
    "  print('=', label_phonemes)\n",
    "  print('<', output_phoneme_sequence, output_phonemes)\n",
    "  print('')\n",
    "  return pair, output_phonemes, decoder_attns"
   ]
  },
  {
   "cell_type": "markdown",
   "metadata": {
    "id": "hedzsfDAM_LC"
   },
   "source": [
    "### Using `val` set (optional)"
   ]
  },
  {
   "cell_type": "code",
   "execution_count": 51,
   "metadata": {
    "id": "MlSPdqo3QDyr"
   },
   "outputs": [
    {
     "name": "stdout",
     "output_type": "stream",
     "text": [
      "Phone error rate (PER) on val set: 15.087769780208045%\n"
     ]
    }
   ],
   "source": [
    "# Total Phone Error Rate (PER)\n",
    "total_per = .0\n",
    "for pair in val_pairs :\n",
    "  word, arpabet_phoneme_sequence, lang = pair\n",
    "  output_phonemes, decoder_attns = evaluate(word)\n",
    "  try :\n",
    "    output_phonemes.remove(\"<EOS>\")\n",
    "  except ValueError as e :\n",
    "    pass\n",
    "  total_per += wer(\n",
    "    arpabet_phoneme_sequence,\n",
    "    ' '.join(output_phonemes)\n",
    "  )\n",
    "average_per = total_per / len(val_pairs)\n",
    "print(f\"Phone error rate (PER) on val set: {average_per*100}%\")"
   ]
  },
  {
   "cell_type": "markdown",
   "metadata": {
    "id": "-yQDWj6lNzOZ"
   },
   "source": [
    "### Using randomly chosen words"
   ]
  },
  {
   "cell_type": "code",
   "execution_count": 52,
   "metadata": {
    "id": "HSHGOjSmc3Vi"
   },
   "outputs": [
    {
     "name": "stdout",
     "output_type": "stream",
     "text": [
      "> decennial\n",
      "= ['D', 'AX', 'S', 'EH', 'N', 'IY', 'AX', 'L']\n",
      "< D AX S EH N IY AX L ['D', 'AX', 'S', 'EH', 'N', 'IY', 'AX', 'L']\n",
      "\n"
     ]
    },
    {
     "data": {
      "text/plain": [
       "<matplotlib.image.AxesImage at 0x7fc90e63e9d0>"
      ]
     },
     "execution_count": 52,
     "metadata": {},
     "output_type": "execute_result"
    },
    {
     "data": {
      "image/png": "[encoded data removed]",
      "text/plain": [
       "<Figure size 426.667x480 with 1 Axes>"
      ]
     },
     "metadata": {},
     "output_type": "display_data"
    }
   ],
   "source": [
    "pair, output_phonemes, decoder_attns = evaluate_randomly()\n",
    "plt.matshow(decoder_attns.numpy())"
   ]
  }
 ],
 "metadata": {
  "colab": {
   "authorship_tag": "ABX9TyMRh9GumEBVlz3ZAFeGMpGk",
   "collapsed_sections": [
    "T8eP0I6rZtvY"
   ],
   "provenance": []
  },
  "kernelspec": {
   "display_name": "Python 3",
   "name": "python3"
  },
  "language_info": {
   "codemirror_mode": {
    "name": "ipython",
    "version": 3
   },
   "file_extension": ".py",
   "mimetype": "text/x-python",
   "name": "python",
   "nbconvert_exporter": "python",
   "pygments_lexer": "ipython3",
   "version": "3.8.10"
  }
 },
 "nbformat": 4,
 "nbformat_minor": 0
}
