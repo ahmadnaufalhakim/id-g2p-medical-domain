{
 "cells": [
  {
   "cell_type": "markdown",
   "metadata": {},
   "source": [
    "## Import libraries"
   ]
  },
  {
   "cell_type": "code",
   "execution_count": 1,
   "metadata": {},
   "outputs": [
    {
     "name": "stdout",
     "output_type": "stream",
     "text": [
      "Using device: cuda\n"
     ]
    }
   ],
   "source": [
    "from __future__ import unicode_literals, print_function, division\n",
    "from io import open\n",
    "import os\n",
    "import re\n",
    "import random\n",
    "import unicodedata\n",
    "\n",
    "import torch\n",
    "from torch.autograd import Variable\n",
    "import torch.nn as nn\n",
    "from torch import optim\n",
    "import torch.nn.functional as F\n",
    "\n",
    "# Constants\n",
    "DEVICE = torch.device(\"cuda\" if torch.cuda.is_available() else \"cpu\")\n",
    "USE_CUDA = (str(DEVICE)==\"cuda\")\n",
    "print(f\"Using device: {DEVICE}\")\n",
    "CURR_DIR = os.path.dirname(os.path.abspath(__file__))\n",
    "DATA_DIR = os.path.join(CURR_DIR, \"..\", \"\")"
   ]
  },
  {
   "cell_type": "markdown",
   "metadata": {},
   "source": [
    "## Preparing dataset"
   ]
  },
  {
   "cell_type": "code",
   "execution_count": 2,
   "metadata": {},
   "outputs": [],
   "source": [
    "SOS_TOKEN = 0\n",
    "EOS_TOKEN = 1\n",
    "\n",
    "class Lang :\n",
    "  def __init__(self, name) -> None :\n",
    "    self.name = name\n",
    "    self.word2index = {}\n",
    "    self.word2count = {}\n",
    "    self.index2word = {0: \"<SOS>\", 1: \"<EOS>\"}\n",
    "    self.n_words = 2\n",
    "  def add_sentence(self, sentence) :\n",
    "    for word in sentence.split(' ') :\n",
    "      self.add_word(word)\n",
    "  def add_word(self, word) :\n",
    "    if word not in self.word2index :\n",
    "      self.word2index[word] = self.n_words\n",
    "      self.word2count[word] = 1\n",
    "      self.index2word[self.n_words] = word\n",
    "      self.n_words += 1\n",
    "    else :\n",
    "      self.word2count[word] += 1"
   ]
  },
  {
   "cell_type": "code",
   "execution_count": 3,
   "metadata": {},
   "outputs": [],
   "source": [
    "# Turn a Unicode string into plain ASCII\n",
    "def unicode_to_ascii(s) :\n",
    "  return ''.join(\n",
    "    c for c in unicodedata.normalize(\"NFD\", s)\n",
    "    if unicodedata.category(c) != \"Mn\"\n",
    "  )\n",
    "\n",
    "# Lowercase, trim, and remove non-letter characters\n",
    "def normalize_string(s) :\n",
    "  s = unicode_to_ascii(s.lower().strip())\n",
    "  s = re.sub(r\"([.!?])\", r\" \\1\", s)\n",
    "  s = re.sub(r\"[^a-zA-Z!?]+\", r' ', s)\n",
    "  return s.strip()"
   ]
  },
  {
   "cell_type": "code",
   "execution_count": 4,
   "metadata": {},
   "outputs": [],
   "source": [
    "def read_langs(lang1, lang2, reverse=False) :\n",
    "  print(\"Reading lines ..\")\n",
    "\n",
    "  # Read the file and split into lines\n",
    "  lines = open(f\"{lang1}-{lang2}.txt\", encoding=\"utf-8\").read().strip().split('\\n')\n",
    "  \n",
    "  # Split every line into pairs and normalize\n",
    "  pairs = [[normalize_string(s) for s in line.split('\\t')] for line in lines]\n",
    "\n",
    "  # Reverse pairs, make Lang instances\n",
    "  if reverse :\n",
    "    pairs = [list(reversed(pair)) for pair in pairs]\n",
    "    input_lang = Lang(lang2)\n",
    "    output_lang = Lang(lang1)\n",
    "  else :\n",
    "    input_lang = Lang(lang1)\n",
    "    output_lang = Lang(lang2)\n",
    "  \n",
    "  return input_lang, output_lang, pairs"
   ]
  },
  {
   "cell_type": "code",
   "execution_count": 5,
   "metadata": {},
   "outputs": [],
   "source": [
    "MAX_LENGTH = 10\n",
    "eng_prefixes = (\n",
    "  \"i am \", \"i m \",\n",
    "  \"he is \", \"he s \",\n",
    "  \"she is\", \"she s \",\n",
    "  \"you are\", \"you re \",\n",
    "  \"we are\", \"we re \",\n",
    "  \"they are\", \"they re \"\n",
    ")\n",
    "\n",
    "def filter_pair(pair) :\n",
    "  return len(pair[0].split(' ')) < MAX_LENGTH and \\\n",
    "         len(pair[1].split(' ')) < MAX_LENGTH and \\\n",
    "         pair[1].startswith(eng_prefixes)\n",
    "\n",
    "def filter_pairs(pairs) :\n",
    "  return [pair for pair in pairs if filter_pair(pair)]"
   ]
  },
  {
   "cell_type": "code",
   "execution_count": 6,
   "metadata": {},
   "outputs": [
    {
     "name": "stdout",
     "output_type": "stream",
     "text": [
      "Reading lines ..\n",
      "Read 135842 sentence pairs\n",
      "Trimmed to 11423 sentence pairs\n",
      "Counting words ..\n",
      "Counted words :\n",
      "fra 4599\n",
      "eng 2990\n",
      "['elle est innocente', 'she s innocent']\n"
     ]
    }
   ],
   "source": [
    "def prepare_data(lang1, lang2, reverse=False) :\n",
    "  input_lang, output_lang, pairs = read_langs(lang1, lang2, reverse)\n",
    "  print(f\"Read {len(pairs)} sentence pairs\")\n",
    "  pairs = filter_pairs(pairs)\n",
    "  print(f\"Trimmed to {len(pairs)} sentence pairs\")\n",
    "  print(\"Counting words ..\")\n",
    "  for pair in pairs :\n",
    "    input_lang.add_sentence(pair[0])\n",
    "    output_lang.add_sentence(pair[1])\n",
    "  print(\"Counted words :\")\n",
    "  print(input_lang.name, input_lang.n_words)\n",
    "  print(output_lang.name, output_lang.n_words)\n",
    "  return input_lang, output_lang, pairs\n",
    "\n",
    "input_lang, output_lang, pairs = prepare_data(\"eng\", \"fra\", True)\n",
    "print(random.choice(pairs))"
   ]
  },
  {
   "cell_type": "markdown",
   "metadata": {},
   "source": [
    "## Turning training data into Tensors/Variables"
   ]
  },
  {
   "cell_type": "code",
   "execution_count": 7,
   "metadata": {},
   "outputs": [],
   "source": [
    "def indexes_from_sentence(lang, sentence) :\n",
    "  return [lang.word2index[word] for word in sentence.split(' ')]\n",
    "\n",
    "def variable_from_sentence(lang, sentence) :\n",
    "  indexes = indexes_from_sentence(lang, sentence)\n",
    "  indexes.append(EOS_TOKEN)\n",
    "  var = Variable(torch.LongTensor(indexes).view(-1, 1))\n",
    "  if USE_CUDA :\n",
    "    var = var.cuda()\n",
    "  return var\n",
    "\n",
    "def variables_from_pair(pair) :\n",
    "  input_variable = variable_from_sentence(input_lang, pair[0])\n",
    "  output_variable = variable_from_sentence(output_lang, pair[1])\n",
    "  return (input_variable, output_variable)"
   ]
  },
  {
   "cell_type": "markdown",
   "metadata": {},
   "source": [
    "## Model definitions"
   ]
  },
  {
   "cell_type": "markdown",
   "metadata": {},
   "source": [
    "### Encoder"
   ]
  },
  {
   "cell_type": "code",
   "execution_count": 8,
   "metadata": {},
   "outputs": [],
   "source": [
    "class Encoder(nn.Module) :\n",
    "  def __init__(self, input_size, hidden_size, n_layers=1) -> None :\n",
    "    super(Encoder, self).__init__()\n",
    "\n",
    "    self.input_size = input_size\n",
    "    self.hidden_size = hidden_size\n",
    "    self.n_layers = n_layers\n",
    "\n",
    "    self.embedding = nn.Embedding(input_size, hidden_size)\n",
    "    self.gru = nn.GRU(hidden_size, hidden_size, n_layers)\n",
    "\n",
    "  def forward(self, word_inputs, hidden) :\n",
    "    seq_len = len(word_inputs)\n",
    "    embedded = self.embedding(word_inputs).view(seq_len, 1, -1)\n",
    "    output, hidden = self.gru(embedded, hidden)\n",
    "    return output, hidden\n",
    "  \n",
    "  def init_hidden(self) :\n",
    "    hidden = Variable(torch.zeros(self.n_layers, 1, self.hidden_size))\n",
    "    if USE_CUDA :\n",
    "      hidden = hidden.cuda()\n",
    "    return hidden"
   ]
  },
  {
   "cell_type": "markdown",
   "metadata": {},
   "source": [
    "### Attention"
   ]
  },
  {
   "cell_type": "code",
   "execution_count": 40,
   "metadata": {},
   "outputs": [],
   "source": [
    "class Attn(nn.Module) :\n",
    "  def __init__(self, method, hidden_size) -> None :\n",
    "    super(Attn, self).__init__()\n",
    "\n",
    "    self.method = method\n",
    "    self.hidden_size = hidden_size\n",
    "\n",
    "    if self.method == \"general\" :\n",
    "      self.attn = nn.Linear(self.hidden_size, hidden_size)\n",
    "    elif self.method == \"concat\" :\n",
    "      self.attn = nn.Linear(self.hidden_size*2, hidden_size)\n",
    "      self.other = nn.Parameter(torch.FloatTensor(hidden_size))\n",
    "  \n",
    "  def forward(self, hidden, encoder_outputs) :\n",
    "    seq_len = len(encoder_outputs)\n",
    "\n",
    "    # Create variable to store attention energies\n",
    "    attn_energies = Variable(torch.zeros(seq_len)) # B x 1 x S\n",
    "    if USE_CUDA :\n",
    "      attn_energies = attn_energies.cuda()\n",
    "    \n",
    "    # Calculate energies for each encoder output\n",
    "    for i in range(seq_len) :\n",
    "      attn_energies[i] = self.score(hidden.squeeze(0), encoder_outputs[i].squeeze(0))\n",
    "    \n",
    "    # Normalize energiees to weights in range 0 to 1, resize to 1 x 1 x seq_len\n",
    "    return F.softmax(attn_energies).unsqueeze(0).unsqueeze(0)\n",
    "\n",
    "  def score(self, hidden, encoder_output) :\n",
    "    # print(\"hidden shape\", hidden.shape, hidden)\n",
    "    # print(\"encoder_output shape\", encoder_output.shape, encoder_output)\n",
    "    if self.method == \"dot\" :\n",
    "      energy = hidden.dot(encoder_output)\n",
    "    elif self.method == \"general\" :\n",
    "      energy = self.attn(encoder_output)\n",
    "      energy = hidden.dot(energy)\n",
    "    elif self.method == \"concat\" :\n",
    "      hidden = hidden.unsqueeze(0)\n",
    "      encoder_output = encoder_output.unsqueeze(0)\n",
    "      energy = self.attn(torch.cat((hidden, encoder_output), 1))\n",
    "      energy = self.other.dot(energy.squeeze(0))\n",
    "    return energy"
   ]
  },
  {
   "cell_type": "markdown",
   "metadata": {},
   "source": [
    "### AttnDecoderRNN"
   ]
  },
  {
   "cell_type": "code",
   "execution_count": 26,
   "metadata": {},
   "outputs": [],
   "source": [
    "class AttnDecoderRNN(nn.Module) :\n",
    "  def __init__(self, attn_model, hidden_size, output_size, n_layers=1, dropout_proba=.1) -> None :\n",
    "    super(AttnDecoderRNN, self).__init__()\n",
    "    \n",
    "    self.attn_model = attn_model\n",
    "    self.hidden_size = hidden_size\n",
    "    self.output_size = output_size\n",
    "    self.n_layers = n_layers\n",
    "    self.dropout_proba = dropout_proba\n",
    "\n",
    "    # Define layers\n",
    "    self.embedding = nn.Embedding(output_size, hidden_size)\n",
    "    self.gru = nn.GRU(hidden_size*2, hidden_size, n_layers, dropout=dropout_proba)\n",
    "    self.out = nn.Linear(hidden_size*2, output_size)\n",
    "\n",
    "    # Choose attention model\n",
    "    if attn_model != \"none\" :\n",
    "      self.attn = Attn(attn_model, hidden_size)\n",
    "  \n",
    "  def forward(self, word_input, last_context, last_hidden, encoder_outputs) :\n",
    "    # Get the embedding of the current input word (last output word)\n",
    "    word_embedded = self.embedding(word_input).view(1, 1, -1) # S=1 x B x N\n",
    "    \n",
    "    # Combine embedded input word and last context, run through RNN\n",
    "    rnn_input = torch.cat((word_embedded, last_context.unsqueeze(0)), dim=2)\n",
    "    rnn_output, hidden = self.gru(rnn_input, last_hidden)\n",
    "\n",
    "    # Calculate attention from current RNN state and all encoder outputs; apply to encoder outputs\n",
    "    attn_weights = self.attn(rnn_output.squeeze(0), encoder_outputs)\n",
    "    context = attn_weights.bmm(encoder_outputs.transpose(0, 1)) # B x 1 x N\n",
    "\n",
    "    # Final output layer (next word prediction) usint the RNN hidden state and context vector\n",
    "    rnn_output = rnn_output.squeeze(0)  # S=1 x B x N => B x N\n",
    "    context = context.squeeze(1)        # B x S=1 x N => B x N\n",
    "    output = F.log_softmax(self.out(torch.cat((rnn_output, context), dim=1)))\n",
    "\n",
    "    # Return final output, hidden state, and attention weights (for visualization)\n",
    "    return output, context, hidden, attn_weights"
   ]
  },
  {
   "cell_type": "markdown",
   "metadata": {},
   "source": [
    "## Testing the models"
   ]
  },
  {
   "cell_type": "code",
   "execution_count": 44,
   "metadata": {},
   "outputs": [
    {
     "name": "stdout",
     "output_type": "stream",
     "text": [
      "Encoder(\n",
      "  (embedding): Embedding(10, 10)\n",
      "  (gru): GRU(10, 10, num_layers=2)\n",
      ")\n",
      "AttnDecoderRNN(\n",
      "  (embedding): Embedding(10, 10)\n",
      "  (gru): GRU(20, 10, num_layers=2, dropout=0.1)\n",
      "  (out): Linear(in_features=20, out_features=10, bias=True)\n",
      "  (attn): Attn(\n",
      "    (attn): Linear(in_features=10, out_features=10, bias=True)\n",
      "  )\n",
      ")\n",
      "torch.Size([1, 10]) torch.Size([2, 1, 10]) torch.Size([1, 1, 3])\n",
      "torch.Size([1, 10]) torch.Size([2, 1, 10]) torch.Size([1, 1, 3])\n",
      "torch.Size([1, 10]) torch.Size([2, 1, 10]) torch.Size([1, 1, 3])\n"
     ]
    },
    {
     "name": "stderr",
     "output_type": "stream",
     "text": [
      "/tmp/ipykernel_23086/3262303860.py:27: UserWarning: Implicit dimension choice for softmax has been deprecated. Change the call to include dim=X as an argument.\n",
      "  return F.softmax(attn_energies).unsqueeze(0).unsqueeze(0)\n",
      "/tmp/ipykernel_23086/1620053795.py:35: UserWarning: Implicit dimension choice for log_softmax has been deprecated. Change the call to include dim=X as an argument.\n",
      "  output = F.log_softmax(self.out(torch.cat((rnn_output, context), dim=1)))\n"
     ]
    }
   ],
   "source": [
    "encoder_test = Encoder(10, 10, 2)\n",
    "decoder_test = AttnDecoderRNN(\"general\", 10, 10, 2)\n",
    "print(encoder_test)\n",
    "print(decoder_test)\n",
    "\n",
    "encoder_hidden = encoder_test.init_hidden()\n",
    "word_input = Variable(torch.LongTensor([1, 2, 3]))\n",
    "if USE_CUDA :\n",
    "  encoder_test.cuda()\n",
    "  word_input = word_input.cuda()\n",
    "encoder_outputs, encoder_hidden = encoder_test(word_input, encoder_hidden)\n",
    "\n",
    "word_inputs = Variable(torch.LongTensor([1, 2, 3]))\n",
    "decoder_attns = torch.zeros(1, 3, 3)\n",
    "decoder_hidden = encoder_hidden\n",
    "decoder_context = Variable(torch.zeros(1, decoder_test.hidden_size))\n",
    "\n",
    "if USE_CUDA :\n",
    "  decoder_test.cuda()\n",
    "  word_inputs = word_inputs.cuda()\n",
    "  decoder_context = decoder_context.cuda()\n",
    "\n",
    "for i in range(3) :\n",
    "  decoder_output, decoder_context, decoder_hidden, decoder_attn = decoder_test(word_inputs[i], decoder_context, decoder_hidden, encoder_outputs)\n",
    "  print(decoder_output.size(), decoder_hidden.size(), decoder_attn.size())\n",
    "  decoder_attns[0, i] = decoder_attn.squeeze(0).cpu().data"
   ]
  },
  {
   "cell_type": "markdown",
   "metadata": {},
   "source": [
    "## Helper functions"
   ]
  },
  {
   "cell_type": "code",
   "execution_count": 57,
   "metadata": {},
   "outputs": [],
   "source": [
    "import time\n",
    "import math\n",
    "import matplotlib.pyplot as plt\n",
    "plt.switch_backend(\"agg\")\n",
    "import matplotlib.ticker as ticker\n",
    "%matplotlib inline\n",
    "import numpy as np\n",
    "\n",
    "def as_minutes(seconds) :\n",
    "  minutes = math.floor(seconds/60)\n",
    "  seconds -= minutes*60\n",
    "  return f\"{minutes}m {seconds}s\"\n",
    "\n",
    "def time_since(since, percent) :\n",
    "  now = time.time()\n",
    "  seconds = now - since\n",
    "  eta_seconds = seconds/(percent)\n",
    "  remaining_seconds = eta_seconds - seconds\n",
    "  return f\"{as_minutes(seconds)} (- {as_minutes(remaining_seconds)})\""
   ]
  },
  {
   "cell_type": "markdown",
   "metadata": {},
   "source": [
    "## Training script"
   ]
  },
  {
   "cell_type": "code",
   "execution_count": 52,
   "metadata": {},
   "outputs": [],
   "source": [
    "teacher_forcing_ratio = .5\n",
    "\n",
    "def train(input_variable, target_variable, encoder, decoder, encoder_optimizer, decoder_optimizer, criterion, max_length=MAX_LENGTH) :\n",
    "  # Zero gradients of both optimizers\n",
    "  encoder_optimizer.zero_grad()\n",
    "  decoder_optimizer.zero_grad()\n",
    "  loss = 0 # Added onto for each word\n",
    "\n",
    "  # Get size of input and target sentences\n",
    "  input_length = input_variable.size()[0]\n",
    "  target_length = target_variable.size()[0]\n",
    "\n",
    "  # Run words through the encoder\n",
    "  encoder_hidden = encoder.init_hidden()\n",
    "  encoder_outputs, encoder_hidden = encoder(input_variable, encoder_hidden)\n",
    "\n",
    "  # Prepare input and output variables\n",
    "  decoder_input = Variable(torch.LongTensor([[SOS_TOKEN]]))\n",
    "  decoder_context = Variable(torch.zeros(1, decoder.hidden_size))\n",
    "  decoder_hidden = encoder_hidden # Use last hidden state from encoder to start decoder\n",
    "  if USE_CUDA :\n",
    "    decoder_input = decoder_input.cuda()\n",
    "    decoder_context = decoder_context.cuda()\n",
    "  \n",
    "  # Choose whether to use teacher forcing or not\n",
    "  use_teacher_forcing = random.random() < teacher_forcing_ratio\n",
    "  if use_teacher_forcing :\n",
    "    # Teacher forcing: Use the ground-truth target as the next input\n",
    "    for di in range(target_length) :\n",
    "      decoder_output, decoder_context, decoder_hidden, decoder_attention = decoder(decoder_input, decoder_context, decoder_hidden, encoder_outputs)\n",
    "      loss += criterion(decoder_output, target_variable[di])\n",
    "      decoder_input = target_variable[di] # Next target is the next input\n",
    "  else :\n",
    "    # Without teacher forcing: use network's own prediction as the next input\n",
    "    for di in range(target_length) :\n",
    "      decoder_output, decoder_context, decoder_hidden, decoder_attention = decoder(decoder_input, decoder_context, decoder_hidden, encoder_outputs)\n",
    "      loss += criterion(decoder_output, target_variable[di])\n",
    "\n",
    "      # Get most likely word index (highest value) from output\n",
    "      topv, topi = decoder_output.data.topk(1)\n",
    "      ni = topi[0][0]\n",
    "\n",
    "      decoder_input = Variable(torch.LongTensor([[ni]])) # Chosen word is next input\n",
    "      if USE_CUDA :\n",
    "        decoder_input = decoder_input.cuda()\n",
    "      \n",
    "      # Stop at the end of sentence (not necessary when using known targets)\n",
    "      if ni == EOS_TOKEN :\n",
    "        break\n",
    "  \n",
    "  # Backpropagation\n",
    "  loss.backward()\n",
    "  encoder_optimizer.step()\n",
    "  decoder_optimizer.step()\n",
    "\n",
    "  return loss.item()/target_length"
   ]
  },
  {
   "cell_type": "markdown",
   "metadata": {},
   "source": [
    "## Initialize the model"
   ]
  },
  {
   "cell_type": "code",
   "execution_count": 48,
   "metadata": {},
   "outputs": [],
   "source": [
    "attn_model = \"general\"\n",
    "hidden_size = 500\n",
    "n_layers = 2\n",
    "dropout_proba = .1\n",
    "\n",
    "# Initialize models\n",
    "encoder = Encoder(input_lang.n_words, hidden_size, n_layers)\n",
    "decoder = AttnDecoderRNN(attn_model, hidden_size, output_lang.n_words, n_layers, dropout_proba=dropout_proba)\n",
    "\n",
    "# Move models to GPU\n",
    "if USE_CUDA :\n",
    "  encoder.cuda()\n",
    "  decoder.cuda()\n",
    "\n",
    "# Initialize optimizers and criterion\n",
    "learning_rate = .001\n",
    "encoder_optimizer = optim.Adam(encoder.parameters(), lr=learning_rate)\n",
    "decoder_optimizer = optim.Adam(decoder.parameters(), lr=learning_rate)\n",
    "criterion = nn.NLLLoss()"
   ]
  },
  {
   "cell_type": "markdown",
   "metadata": {},
   "source": [
    "## Training the model"
   ]
  },
  {
   "cell_type": "code",
   "execution_count": 55,
   "metadata": {},
   "outputs": [
    {
     "name": "stderr",
     "output_type": "stream",
     "text": [
      "/tmp/ipykernel_23086/3262303860.py:27: UserWarning: Implicit dimension choice for softmax has been deprecated. Change the call to include dim=X as an argument.\n",
      "  return F.softmax(attn_energies).unsqueeze(0).unsqueeze(0)\n",
      "/tmp/ipykernel_23086/1620053795.py:35: UserWarning: Implicit dimension choice for log_softmax has been deprecated. Change the call to include dim=X as an argument.\n",
      "  output = F.log_softmax(self.out(torch.cat((rnn_output, context), dim=1)))\n"
     ]
    },
    {
     "name": "stdout",
     "output_type": "stream",
     "text": [
      "0m 29.366055488586426s (- 23m 58.93671894073486s) (1000 2.0%) 3.2471\n",
      "0m 58.43393921852112s (- 23m 22.414541244506836s) (2000 4.0%) 3.1043\n",
      "1m 29.972367763519287s (- 23m 29.56709496180224s) (3000 6.0%) 2.8548\n",
      "1m 59.977914571762085s (- 22m 59.74601757526398s) (4000 8.0%) 2.7292\n",
      "2m 30.725708723068237s (- 22m 36.531378507614136s) (5000 10.0%) 2.6414\n",
      "3m 2.521368980407715s (- 22m 18.490039189656727s) (6000 12.0%) 2.5301\n",
      "3m 33.48179769515991s (- 21m 51.38818584169644s) (7000 14.0%) 2.522\n",
      "4m 5.83414888381958s (- 21m 30.629281640052795s) (8000 16.0%) 2.3845\n",
      "4m 36.824787616729736s (- 21m 1.0906991428798847s) (9000 18.0%) 2.2754\n",
      "5m 7.862658500671387s (- 20m 31.450634002685547s) (10000 20.0%) 2.1957\n",
      "5m 42.2999382019043s (- 20m 13.608871806751495s) (11000 22.0%) 2.1139\n",
      "6m 14.423075199127197s (- 19m 45.67307146390294s) (12000 24.0%) 2.1035\n",
      "6m 45.787901878356934s (- 19m 14.934797653785154s) (13000 26.0%) 2.0437\n",
      "7m 16.556686878204346s (- 18m 42.57433768681108s) (14000 28.0%) 1.9858\n",
      "7m 48.77609896659851s (- 18m 13.810897588729858s) (15000 30.0%) 1.9208\n",
      "8m 20.9842050075531s (- 17m 44.59143564105034s) (16000 32.0%) 1.9352\n",
      "8m 52.30463933944702s (- 17m 13.297241070691143s) (17000 34.0%) 1.8231\n",
      "9m 24.406089305877686s (- 16m 43.38860321044922s) (18000 36.0%) 1.9008\n",
      "9m 56.173126220703125s (- 16m 12.703521728515625s) (19000 38.0%) 1.8102\n",
      "10m 26.531169176101685s (- 15m 39.79675376415253s) (20000 40.0%) 1.7046\n",
      "10m 58.0379958152771s (- 15m 8.719137078239783s) (21000 42.0%) 1.6514\n",
      "11m 31.538492441177368s (- 14m 40.1398994705894s) (22000 44.0%) 1.7\n",
      "12m 2.152820348739624s (- 14m 7.744615191998719s) (23000 46.0%) 1.685\n",
      "12m 35.835681200027466s (- 13m 38.8219879666965s) (24000 48.0%) 1.5814\n",
      "13m 8.562906503677368s (- 13m 8.562906503677368s) (25000 50.0%) 1.595\n",
      "13m 41.76028251647949s (- 12m 38.547953092134776s) (26000 52.0%) 1.5137\n",
      "14m 14.419387102127075s (- 12m 7.838737161071094s) (27000 54.0%) 1.456\n",
      "14m 47.20243859291077s (- 11m 37.08763032300112s) (28000 56.0%) 1.4339\n",
      "15m 20.51272988319397s (- 11m 6.578183708519873s) (29000 58.0%) 1.548\n",
      "15m 52.42003870010376s (- 10m 34.94669246673584s) (30000 60.0%) 1.4333\n",
      "16m 24.970041513442993s (- 10m 3.6913157663038874s) (31000 62.0%) 1.4713\n",
      "16m 57.106741428375244s (- 9m 32.122542053461075s) (32000 64.0%) 1.4368\n",
      "17m 29.937312602996826s (- 9m 0.876797401543854s) (33000 66.0%) 1.3838\n",
      "18m 4.261523008346558s (- 8m 30.24071670980993s) (34000 68.0%) 1.4112\n",
      "18m 41.82721519470215s (- 8m 0.7830922263010507s) (35000 70.0%) 1.4373\n",
      "19m 14.355298519134521s (- 7m 28.91594942410802s) (36000 72.0%) 1.3861\n",
      "19m 47.000574827194214s (- 6m 57.05425602036553s) (37000 74.0%) 1.3428\n",
      "20m 18.981311321258545s (- 6m 24.941466733029074s) (38000 76.0%) 1.338\n",
      "20m 50.9639458656311s (- 5m 52.83598473133179s) (39000 78.0%) 1.3308\n",
      "21m 23.437312841415405s (- 5m 20.85932821035385s) (40000 80.0%) 1.3314\n",
      "21m 56.30050325393677s (- 4m 48.94401290940095s) (41000 82.0%) 1.2669\n",
      "22m 28.538740158081055s (- 4m 16.864521934872528s) (42000 84.0%) 1.2483\n",
      "23m 1.0400633811950684s (- 3m 44.820475434147966s) (43000 86.0%) 1.277\n",
      "23m 33.18935990333557s (- 3m 12.707639986818549s) (44000 88.0%) 1.2694\n",
      "24m 6.13436484336853s (- 2m 40.68159609370764s) (45000 90.0%) 1.268\n",
      "24m 39.61318778991699s (- 2m 8.6620163295579s) (46000 92.0%) 1.2961\n",
      "25m 12.271605730056763s (- 1m 36.52797483383347s) (47000 94.0%) 1.2209\n",
      "25m 45.07462286949158s (- 1m 4.3781092862288915s) (48000 96.0%) 1.2495\n",
      "26m 17.60042095184326s (- 0m 32.19592695820097s) (49000 98.0%) 1.1525\n",
      "26m 50.029807806015015s (- 0m 0.0s) (50000 100.0%) 1.2414\n"
     ]
    }
   ],
   "source": [
    "# Training configurations\n",
    "n_epochs = 50000\n",
    "plot_every = 1\n",
    "print_every = 1\n",
    "\n",
    "# Keep track of time elapsed and running averages\n",
    "plot_losses = []\n",
    "print_loss_total = 0 # Reset every print_every\n",
    "plot_loss_total = 0 # Reset every plot_every\n",
    "\n",
    "start = time.time()\n",
    "for epoch in range(1, n_epochs+1) :\n",
    "  # Get training data for this epoch\n",
    "  training_pair = variables_from_pair(random.choice(pairs))\n",
    "  input_variable = training_pair[0]\n",
    "  target_variable = training_pair[1]\n",
    "\n",
    "  # Run the train function\n",
    "  loss = train(input_variable, target_variable, encoder, decoder, encoder_optimizer, decoder_optimizer, criterion)\n",
    "\n",
    "  # Keep track of loss\n",
    "  print_loss_total += loss\n",
    "  plot_loss_total += loss\n",
    "\n",
    "  if epoch%print_every == 0 :\n",
    "    print_loss_avg = print_loss_total/print_every\n",
    "    print_loss_total = 0\n",
    "    print(f\"{time_since(start, epoch/n_epochs)} ({epoch} {epoch*100/n_epochs}%) {round(print_loss_avg, 4)}\")\n",
    "\n",
    "  if epoch%plot_every == 0 :\n",
    "    plot_loss_avg = plot_loss_total/plot_every\n",
    "    plot_losses.append(plot_loss_avg)\n",
    "    plot_loss_total = 0"
   ]
  },
  {
   "cell_type": "markdown",
   "metadata": {},
   "source": [
    "## Visualize training loss"
   ]
  },
  {
   "cell_type": "code",
   "execution_count": 58,
   "metadata": {},
   "outputs": [
    {
     "data": {
      "text/plain": [
       "<Figure size 640x480 with 0 Axes>"
      ]
     },
     "metadata": {},
     "output_type": "display_data"
    },
    {
     "data": {
      "image/png": "[encoded data removed]",
      "text/plain": [
       "<Figure size 640x480 with 1 Axes>"
      ]
     },
     "metadata": {},
     "output_type": "display_data"
    }
   ],
   "source": [
    "def show_plot(points) :\n",
    "  plt.figure()\n",
    "  fig, ax = plt.subplots()\n",
    "  # This locator puts ticks at regular intervals\n",
    "  loc = ticker.MultipleLocator(base=.2)\n",
    "  ax.yaxis.set_major_locator(loc)\n",
    "  plt.title(\"Training loss\")\n",
    "  plt.\n",
    "  plt.plot(points)\n",
    "\n",
    "show_plot(plot_losses)"
   ]
  },
  {
   "cell_type": "markdown",
   "metadata": {},
   "source": [
    "## Evaluate the model"
   ]
  },
  {
   "cell_type": "code",
   "execution_count": 108,
   "metadata": {},
   "outputs": [
    {
     "name": "stdout",
     "output_type": "stream",
     "text": [
      "input_length 7\n",
      "encoder_outputs torch.Size([7, 1, 500])\n",
      "encoder_hidden torch.Size([2, 1, 500])\n",
      "tensor([[1.7951e-14, 1.0000e+00, 1.0146e-31, 4.0595e-40, 2.8193e-41, 1.4209e-37,\n",
      "         1.0848e-28],\n",
      "        [1.3389e-15, 1.0000e+00, 1.6874e-32, 1.0707e-40, 0.0000e+00, 0.0000e+00,\n",
      "         2.8026e-45],\n",
      "        [0.0000e+00, 4.6527e-39, 1.0000e+00, 3.7014e-29, 0.0000e+00, 0.0000e+00,\n",
      "         0.0000e+00],\n",
      "        [8.0662e-01, 1.9338e-01, 8.8620e-37, 0.0000e+00, 0.0000e+00, 0.0000e+00,\n",
      "         0.0000e+00],\n",
      "        [1.0000e+00, 4.1422e-15, 0.0000e+00, 0.0000e+00, 0.0000e+00, 0.0000e+00,\n",
      "         0.0000e+00],\n",
      "        [1.0000e+00, 1.5076e-13, 0.0000e+00, 0.0000e+00, 0.0000e+00, 0.0000e+00,\n",
      "         0.0000e+00]])\n",
      "> je suis dans la meme galere\n",
      "= i m in the same boat\n",
      "< i m in the same <EOS>\n",
      "\n"
     ]
    },
    {
     "name": "stderr",
     "output_type": "stream",
     "text": [
      "/tmp/ipykernel_23086/3262303860.py:27: UserWarning: Implicit dimension choice for softmax has been deprecated. Change the call to include dim=X as an argument.\n",
      "  return F.softmax(attn_energies).unsqueeze(0).unsqueeze(0)\n",
      "/tmp/ipykernel_23086/1620053795.py:35: UserWarning: Implicit dimension choice for log_softmax has been deprecated. Change the call to include dim=X as an argument.\n",
      "  output = F.log_softmax(self.out(torch.cat((rnn_output, context), dim=1)))\n"
     ]
    },
    {
     "data": {
      "text/plain": [
       "<matplotlib.image.AxesImage at 0x7fe00c91d160>"
      ]
     },
     "execution_count": 108,
     "metadata": {},
     "output_type": "execute_result"
    },
    {
     "data": {
      "image/png": "[encoded data removed]",
      "text/plain": [
       "<Figure size 560x480 with 1 Axes>"
      ]
     },
     "metadata": {},
     "output_type": "display_data"
    }
   ],
   "source": [
    "def evaluate(sentence, max_length=MAX_LENGTH) :\n",
    "  input_variable = variable_from_sentence(input_lang, sentence)\n",
    "  input_length = input_variable.size()[0]\n",
    "  print(\"input_length\", input_length)\n",
    "\n",
    "  # Run through encoder\n",
    "  encoder_hidden = encoder.init_hidden()\n",
    "  encoder_outputs, encoder_hidden = encoder(input_variable, encoder_hidden)\n",
    "  print(\"encoder_outputs\", encoder_outputs.shape)\n",
    "  print(\"encoder_hidden\", encoder_hidden.shape)\n",
    "\n",
    "  # Create starting vectors for decoder\n",
    "  decoder_input = Variable(torch.LongTensor([[SOS_TOKEN]])) # SOS\n",
    "  decoder_context = Variable(torch.zeros(1, decoder.hidden_size))\n",
    "  if USE_CUDA :\n",
    "    decoder_input = decoder_input.cuda()\n",
    "    decoder_context = decoder_context.cuda()\n",
    "  \n",
    "  decoder_hidden = encoder_hidden\n",
    "  decoded_words = []\n",
    "  decoder_attentions = torch.zeros(max_length, max_length)\n",
    "  \n",
    "  # Run through decoder\n",
    "  for di in range(max_length) :\n",
    "    decoder_output, decoder_context, decoder_hidden, decoder_attention = decoder(decoder_input, decoder_context, decoder_hidden, encoder_outputs)\n",
    "    decoder_attentions[di, :decoder_attention.size(2)] += decoder_attention.squeeze(0).squeeze(0).cpu().data\n",
    "\n",
    "    # Choose top word from output\n",
    "    topv, topi = decoder_output.data.topk(1)\n",
    "    ni = topi[0][0]\n",
    "    if ni.item() == EOS_TOKEN :\n",
    "      decoded_words.append(\"<EOS>\")\n",
    "      break\n",
    "    else :\n",
    "      decoded_words.append(output_lang.index2word[ni.item()])\n",
    "    \n",
    "    # Next input is chosen word\n",
    "    decoder_input = Variable(torch.LongTensor([[ni.item()]]))\n",
    "    if USE_CUDA :\n",
    "      decoder_input = decoder_input.cuda()\n",
    "  print(decoder_attentions[:di+1, :len(encoder_outputs)])\n",
    "  return decoded_words, decoder_attentions[:di+1, :len(encoder_outputs)]\n",
    "\n",
    "def evaluate_randomly() :\n",
    "  pair = random.choice(pairs)\n",
    "\n",
    "  output_words, decoder_attns = evaluate(pair[0])\n",
    "  output_sentence = ' '.join(output_words)\n",
    "\n",
    "  print('>', pair[0])\n",
    "  print('=', pair[1])\n",
    "  print('<', output_sentence)\n",
    "  print('')\n",
    "  return pair, output_words, decoder_attns\n",
    "\n",
    "pair, output_words, decoder_attns = evaluate_randomly()\n",
    "plt.matshow(decoder_attns.numpy())"
   ]
  }
 ],
 "metadata": {
  "kernelspec": {
   "display_name": "Python 3",
   "language": "python",
   "name": "python3"
  },
  "language_info": {
   "codemirror_mode": {
    "name": "ipython",
    "version": 3
   },
   "file_extension": ".py",
   "mimetype": "text/x-python",
   "name": "python",
   "nbconvert_exporter": "python",
   "pygments_lexer": "ipython3",
   "version": "3.8.10"
  }
 },
 "nbformat": 4,
 "nbformat_minor": 2
}
