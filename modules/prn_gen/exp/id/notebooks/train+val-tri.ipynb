{
 "cells": [
  {
   "cell_type": "markdown",
   "metadata": {
    "id": "ec9kWAWVD9UU"
   },
   "source": [
    "## Import libraries"
   ]
  },
  {
   "cell_type": "code",
   "execution_count": 77,
   "metadata": {
    "colab": {
     "base_uri": "https://localhost:8080/"
    },
    "executionInfo": {
     "elapsed": 329,
     "status": "ok",
     "timestamp": 1739957705963,
     "user": {
      "displayName": "23522026 Ahmad Naufal Hakim",
      "userId": "16621933245327613442"
     },
     "user_tz": -420
    },
    "id": "JT1nFx9SK5UF",
    "outputId": "29775173-7761-4953-d853-502b8b825ccc"
   },
   "outputs": [
    {
     "name": "stdout",
     "output_type": "stream",
     "text": [
      "/mnt/d/Hakims/college/S2/tesis/id-g2p-medical-domain/modules/prn_gen/exp/id\n"
     ]
    }
   ],
   "source": [
    "print(globals()[\"_dh\"][0])"
   ]
  },
  {
   "cell_type": "code",
   "execution_count": 78,
   "metadata": {
    "colab": {
     "base_uri": "https://localhost:8080/"
    },
    "executionInfo": {
     "elapsed": 4880,
     "status": "ok",
     "timestamp": 1739957711340,
     "user": {
      "displayName": "23522026 Ahmad Naufal Hakim",
      "userId": "16621933245327613442"
     },
     "user_tz": -420
    },
    "id": "LdstRSwX86t4",
    "outputId": "33e9e6e9-f2b0-4d04-e665-6f2600a2c57e"
   },
   "outputs": [],
   "source": [
    "import os\n",
    "import random\n",
    "import shutil\n",
    "\n",
    "import torch\n",
    "import torch.nn as nn\n",
    "import torch.nn.functional as F\n",
    "from torch.nn.utils.rnn import pad_sequence\n",
    "import torch.optim as optim\n",
    "from torch.utils.data import Dataset, DataLoader"
   ]
  },
  {
   "cell_type": "code",
   "execution_count": 79,
   "metadata": {
    "colab": {
     "base_uri": "https://localhost:8080/"
    },
    "executionInfo": {
     "elapsed": 8274,
     "status": "ok",
     "timestamp": 1739957719612,
     "user": {
      "displayName": "23522026 Ahmad Naufal Hakim",
      "userId": "16621933245327613442"
     },
     "user_tz": -420
    },
    "id": "FlovFUQYJj6-",
    "outputId": "7a08073c-d249-49ab-ddaf-f827de5d8d94"
   },
   "outputs": [
    {
     "name": "stdout",
     "output_type": "stream",
     "text": [
      "Defaulting to user installation because normal site-packages is not writeable\n",
      "\u001b[33mWARNING: Ignoring invalid distribution -vidia-cudnn-cu12 (/home/ahmadnaufalhakim/.local/lib/python3.8/site-packages)\u001b[0m\u001b[33m\n",
      "\u001b[0mRequirement already satisfied: jiwer in /home/ahmadnaufalhakim/.local/lib/python3.8/site-packages (3.1.0)\n",
      "Requirement already satisfied: click>=8.1.8 in /home/ahmadnaufalhakim/.local/lib/python3.8/site-packages (from jiwer) (8.1.8)\n",
      "Requirement already satisfied: rapidfuzz>=3.9.7 in /home/ahmadnaufalhakim/.local/lib/python3.8/site-packages (from jiwer) (3.9.7)\n",
      "\u001b[33mWARNING: Ignoring invalid distribution -vidia-cudnn-cu12 (/home/ahmadnaufalhakim/.local/lib/python3.8/site-packages)\u001b[0m\u001b[33m\n",
      "\u001b[0m\u001b[33mWARNING: Ignoring invalid distribution -vidia-cudnn-cu12 (/home/ahmadnaufalhakim/.local/lib/python3.8/site-packages)\u001b[0m\u001b[33m\n",
      "\u001b[0mNote: you may need to restart the kernel to use updated packages.\n"
     ]
    }
   ],
   "source": [
    "%pip install jiwer"
   ]
  },
  {
   "cell_type": "code",
   "execution_count": 80,
   "metadata": {
    "executionInfo": {
     "elapsed": 9,
     "status": "ok",
     "timestamp": 1739957719612,
     "user": {
      "displayName": "23522026 Ahmad Naufal Hakim",
      "userId": "16621933245327613442"
     },
     "user_tz": -420
    },
    "id": "tIgQTZ7ZJsfT"
   },
   "outputs": [],
   "source": [
    "from jiwer import wer"
   ]
  },
  {
   "cell_type": "markdown",
   "metadata": {
    "id": "3xGGFh-68xYx"
   },
   "source": [
    "## Variables"
   ]
  },
  {
   "cell_type": "code",
   "execution_count": 81,
   "metadata": {
    "executionInfo": {
     "elapsed": 9,
     "status": "ok",
     "timestamp": 1739957719613,
     "user": {
      "displayName": "23522026 Ahmad Naufal Hakim",
      "userId": "16621933245327613442"
     },
     "user_tz": -420
    },
    "id": "R2DTSa3h8zgf"
   },
   "outputs": [],
   "source": [
    "GRP_TYPE = \"trigram\" # @param [\"unigram\", \"bigram\", \"trigram\"]\n",
    "ATTN_MODEL =\"dot\"\n",
    "EMB_DIM = \"128\" # @param [16, 32, 64, 128, 256, 512]\n",
    "HIDDEN_SIZE = \"128\" # @param [64, 128, 256, 512, 1024]\n",
    "N_LAYERS = \"1\" # @param [1, 2]\n",
    "DROPOUT_PROBA = .1"
   ]
  },
  {
   "cell_type": "markdown",
   "metadata": {
    "id": "BiSP-GxlIvUG"
   },
   "source": [
    "## Constants"
   ]
  },
  {
   "cell_type": "code",
   "execution_count": 82,
   "metadata": {
    "colab": {
     "base_uri": "https://localhost:8080/"
    },
    "executionInfo": {
     "elapsed": 9,
     "status": "ok",
     "timestamp": 1739957719613,
     "user": {
      "displayName": "23522026 Ahmad Naufal Hakim",
      "userId": "16621933245327613442"
     },
     "user_tz": -420
    },
    "id": "FfAkZ0ErIxOW",
    "outputId": "704ba764-a750-40fc-d5c9-0a6d289c3ed3"
   },
   "outputs": [
    {
     "name": "stdout",
     "output_type": "stream",
     "text": [
      "Using device: cuda\n"
     ]
    }
   ],
   "source": [
    "# PyTorch\n",
    "DEVICE = torch.device(\"cuda\" if torch.cuda.is_available() else \"cpu\")\n",
    "USE_CUDA = (DEVICE.type == \"cuda\")\n",
    "print(f\"Using device: {DEVICE}\")\n",
    "BATCH_SIZE = 64\n",
    "\n",
    "# Data preprocessing\n",
    "SOS_TOKEN = 0\n",
    "EOS_TOKEN = 1\n",
    "PAD_TOKEN = 2\n",
    "UNK_TOKEN = 3\n",
    "\n",
    "# Directories\n",
    "CURR_DIR = globals()[\"_dh\"][0]\n",
    "DATA_SOURCE_DIR = os.path.join(CURR_DIR, \"../../data/ma\")\n",
    "DATA_DIR = os.path.join(CURR_DIR, \"data\")\n",
    "if not os.path.exists(DATA_DIR) :\n",
    "  os.mkdir(DATA_DIR)\n",
    "shutil.copy(os.path.join(DATA_SOURCE_DIR, \"train_converted.csv\"), os.path.join(DATA_DIR, \"train.csv\"))\n",
    "shutil.copy(os.path.join(DATA_SOURCE_DIR, \"val_converted.csv\"), os.path.join(DATA_DIR, \"val.csv\"))\n",
    "shutil.copy(os.path.join(DATA_SOURCE_DIR, \"test_converted.csv\"), os.path.join(DATA_DIR, \"test.csv\"))\n",
    "MODELS_DIR = os.path.join(CURR_DIR, \"models_fallback\")\n",
    "if not os.path.exists(MODELS_DIR) :\n",
    "  os.mkdir(MODELS_DIR)\n",
    "MODELS_DIR = os.path.join(MODELS_DIR, GRP_TYPE)\n",
    "if not os.path.exists(MODELS_DIR) :\n",
    "  os.mkdir(MODELS_DIR)"
   ]
  },
  {
   "cell_type": "markdown",
   "metadata": {
    "id": "Rd1ak2wwJJem"
   },
   "source": [
    "## Preparing dataset"
   ]
  },
  {
   "cell_type": "markdown",
   "metadata": {
    "id": "NFIgZGRJ9qLV"
   },
   "source": [
    "### `G2PDataset` torch dataset class definition"
   ]
  },
  {
   "cell_type": "code",
   "execution_count": 83,
   "metadata": {
    "executionInfo": {
     "elapsed": 6,
     "status": "ok",
     "timestamp": 1739957719613,
     "user": {
      "displayName": "23522026 Ahmad Naufal Hakim",
      "userId": "16621933245327613442"
     },
     "user_tz": -420
    },
    "id": "qaOrjh2JJLLO"
   },
   "outputs": [],
   "source": [
    "class G2PDataset(Dataset) :\n",
    "  def __init__(self, graphemes_list, phonemes_list) -> None :\n",
    "    assert len(graphemes_list) == len(phonemes_list)\n",
    "    # Handle graphemes\n",
    "    self.graphemes_list = graphemes_list\n",
    "    self.grapheme2index = {}\n",
    "    self.index2grapheme = {0: \"<SOS>\", 1: \"<EOS>\", 2:\"<PAD>\", 3:\"<UNK>\"}\n",
    "    self.n_graphemes = 4\n",
    "    for graphemes in graphemes_list :\n",
    "      for grapheme in graphemes :\n",
    "        self.add_grapheme(grapheme)\n",
    "    i = 4\n",
    "    for grapheme in sorted(self.grapheme2index) :\n",
    "      self.grapheme2index[grapheme] = i\n",
    "      self.index2grapheme[i] = grapheme\n",
    "      i += 1\n",
    "    # Handle phonemes\n",
    "    self.phonemes_list = phonemes_list\n",
    "    self.phoneme2index = {}\n",
    "    self.index2phoneme = {0: \"<SOS>\", 1: \"<EOS>\", 2:\"<PAD>\"}\n",
    "    self.n_phonemes = 3\n",
    "    for phonemes in phonemes_list :\n",
    "      for phoneme in phonemes :\n",
    "        self.add_phoneme(phoneme)\n",
    "    i = 3\n",
    "    for phoneme in sorted(self.phoneme2index) :\n",
    "      self.phoneme2index[phoneme] = i\n",
    "      self.index2phoneme[i] = phoneme\n",
    "      i += 1\n",
    "\n",
    "  def add_grapheme(self, grapheme) :\n",
    "    if grapheme not in self.grapheme2index :\n",
    "      self.grapheme2index[grapheme] = self.n_graphemes\n",
    "      self.index2grapheme[self.n_graphemes] = grapheme\n",
    "      self.n_graphemes += 1\n",
    "\n",
    "  def add_phoneme(self, phoneme) :\n",
    "    if phoneme not in self.phoneme2index :\n",
    "      self.phoneme2index[phoneme] = self.n_phonemes\n",
    "      self.index2phoneme[self.n_phonemes] = phoneme\n",
    "      self.n_phonemes += 1\n",
    "\n",
    "  def __len__(self) :\n",
    "    return len(self.graphemes_list)\n",
    "\n",
    "  def __getitem__(self, index) -> str :\n",
    "    graphemes = [self.grapheme2index.get(grapheme, UNK_TOKEN) for grapheme in self.graphemes_list[index]] + [EOS_TOKEN]\n",
    "    phonemes = [self.phoneme2index[phoneme] for phoneme in self.phonemes_list[index]] + [EOS_TOKEN]\n",
    "    return graphemes, phonemes"
   ]
  },
  {
   "cell_type": "markdown",
   "metadata": {
    "id": "J8IB7SapA7MM"
   },
   "source": [
    "### Helper functions to prepare training set"
   ]
  },
  {
   "cell_type": "code",
   "execution_count": 84,
   "metadata": {
    "executionInfo": {
     "elapsed": 6,
     "status": "ok",
     "timestamp": 1739957719613,
     "user": {
      "displayName": "23522026 Ahmad Naufal Hakim",
      "userId": "16621933245327613442"
     },
     "user_tz": -420
    },
    "id": "vU52JF_pBru4"
   },
   "outputs": [],
   "source": [
    "def extract_graphemes(grapheme_syllable_sequence:str, grp_type:str) :\n",
    "  word = ''.join(grapheme_syllable_sequence.split('.')).lower()\n",
    "  # Unigram\n",
    "  if grp_type == \"unigram\" :\n",
    "    return [*word]\n",
    "  # Bigram\n",
    "  elif grp_type == \"bigram\" :\n",
    "    if len(word) < 2 :\n",
    "      return [word]\n",
    "    return [word[i:i+2] for i in range(len(word)-1)]\n",
    "  # Trigram\n",
    "  elif grp_type == \"trigram\" :\n",
    "    if len(word) < 3 :\n",
    "      return [word]\n",
    "    return [word[i:i+3] for i in range(len(word)-2)]\n",
    "\n",
    "def extract_arpabet_phonemes(arpabet_phoneme_sequence:str) :\n",
    "  return arpabet_phoneme_sequence.split()"
   ]
  },
  {
   "cell_type": "code",
   "execution_count": 85,
   "metadata": {
    "executionInfo": {
     "elapsed": 6,
     "status": "ok",
     "timestamp": 1739957719613,
     "user": {
      "displayName": "23522026 Ahmad Naufal Hakim",
      "userId": "16621933245327613442"
     },
     "user_tz": -420
    },
    "id": "59DHgoYQ-R6T"
   },
   "outputs": [],
   "source": [
    "def prepare_dataset(split_name:str, grp_type:str) :\n",
    "  if split_name == \"train+val\" :\n",
    "    print(f\"Merging train and val entries ..\")\n",
    "    with open(os.path.join(DATA_DIR, f\"train.csv\"), encoding=\"utf-8\") as f_train_csv, \\\n",
    "         open(os.path.join(DATA_DIR, f\"val.csv\"), encoding=\"utf-8\") as f_val_csv :\n",
    "      next(f_train_csv, None)\n",
    "      next(f_val_csv, None)\n",
    "      train_pairs = [[s.strip('\\n') for s in row.split(',')] for row in f_train_csv]\n",
    "      val_pairs = [[s.strip('\\n') for s in row.split(',')] for row in f_val_csv]\n",
    "      pairs = train_pairs + val_pairs\n",
    "      graphemes_list = [extract_graphemes(pair[0], grp_type) for pair in pairs] # Split grapheme as desired\n",
    "      phonemes_list = [extract_arpabet_phonemes(pair[-1]) for pair in pairs]\n",
    "      g2p_dataset = G2PDataset(graphemes_list, phonemes_list)\n",
    "    return g2p_dataset, pairs\n",
    "  assert split_name in [\"train\", \"val\", \"test\"]\n",
    "  assert grp_type in [\"unigram\", \"bigram\", \"trigram\"]\n",
    "  print(f\"Reading {split_name} entries ..\")\n",
    "  # Read the file and split into lines\n",
    "  with open(os.path.join(DATA_DIR, f\"{split_name}.csv\"), encoding=\"utf-8\") as f_csv :\n",
    "    next(f_csv, None)\n",
    "    # Split every row into pairs\n",
    "    pairs = [[s.strip('\\n') for s in row.split(',')] for row in f_csv]\n",
    "    # Accumulate all lines into two graphemes and phonemes lists\n",
    "    graphemes_list = [extract_graphemes(pair[0], grp_type) for pair in pairs] # Split grapheme as desired\n",
    "    phonemes_list = [extract_arpabet_phonemes(pair[-1]) for pair in pairs]\n",
    "    # Create the G2PDataset object\n",
    "    g2p_dataset = G2PDataset(graphemes_list, phonemes_list)\n",
    "  return g2p_dataset, pairs"
   ]
  },
  {
   "cell_type": "code",
   "execution_count": 86,
   "metadata": {
    "colab": {
     "base_uri": "https://localhost:8080/"
    },
    "executionInfo": {
     "elapsed": 1757,
     "status": "ok",
     "timestamp": 1739957721365,
     "user": {
      "displayName": "23522026 Ahmad Naufal Hakim",
      "userId": "16621933245327613442"
     },
     "user_tz": -420
    },
    "id": "DwbB20gZDJOe",
    "outputId": "1a7e253b-ee59-419e-f7d6-0e469cac96fa"
   },
   "outputs": [
    {
     "name": "stdout",
     "output_type": "stream",
     "text": [
      "Merging train and val entries ..\n",
      "Reading test entries ..\n"
     ]
    }
   ],
   "source": [
    "train_g2p_dataset, train_pairs = prepare_dataset(\"train+val\", grp_type=GRP_TYPE)\n",
    "test_g2p_dataset, test_pairs = prepare_dataset(\"test\", grp_type=GRP_TYPE)\n",
    "pairs = train_pairs + test_pairs\n",
    "\n",
    "# Equalize grapheme and phoneme mappings for val and test set\n",
    "## Test set\n",
    "test_g2p_dataset.grapheme2index = train_g2p_dataset.grapheme2index\n",
    "test_g2p_dataset.index2grapheme = train_g2p_dataset.index2grapheme\n",
    "test_g2p_dataset.n_graphemes = train_g2p_dataset.n_graphemes\n",
    "test_g2p_dataset.phoneme2index = train_g2p_dataset.phoneme2index\n",
    "test_g2p_dataset.index2phoneme = train_g2p_dataset.index2phoneme\n",
    "test_g2p_dataset.n_phonemes = train_g2p_dataset.n_phonemes\n",
    "\n",
    "# Find the maximum output sequence length among graphemes and phonemes across all datasets\n",
    "MAX_LENGTH = -999\n",
    "for graphemes in train_g2p_dataset.graphemes_list :\n",
    "  if MAX_LENGTH < len(graphemes) :\n",
    "    MAX_LENGTH = len(graphemes)\n",
    "for phonemes in train_g2p_dataset.phonemes_list :\n",
    "  if MAX_LENGTH < len(phonemes) :\n",
    "    MAX_LENGTH = len(phonemes)\n",
    "for graphemes in test_g2p_dataset.graphemes_list :\n",
    "  if MAX_LENGTH < len(graphemes) :\n",
    "    MAX_LENGTH = len(graphemes)\n",
    "for phonemes in test_g2p_dataset.phonemes_list :\n",
    "  if MAX_LENGTH < len(phonemes) :\n",
    "    MAX_LENGTH = len(phonemes)"
   ]
  },
  {
   "cell_type": "code",
   "execution_count": 87,
   "metadata": {
    "executionInfo": {
     "elapsed": 4,
     "status": "ok",
     "timestamp": 1739957721365,
     "user": {
      "displayName": "23522026 Ahmad Naufal Hakim",
      "userId": "16621933245327613442"
     },
     "user_tz": -420
    },
    "id": "O9fmoIa9M6RG"
   },
   "outputs": [],
   "source": [
    "torch.save(train_g2p_dataset.index2grapheme, os.path.join(MODELS_DIR, \"id2grp.pth\"))\n",
    "torch.save(train_g2p_dataset.index2phoneme, os.path.join(MODELS_DIR, \"id2phn.pth\"))\n",
    "\n",
    "# Custom Collate function (for padding)\n",
    "def collate_fn(batch) :\n",
    "  # batch: [(input_seq, target_seq), ...]\n",
    "  graphemes, phonemes = zip(*batch)\n",
    "  # Pad sequences\n",
    "  graphemes_padded = pad_sequence([torch.tensor(x) for x in graphemes], padding_value=PAD_TOKEN)\n",
    "  phonemes_padded = pad_sequence([torch.tensor(y) for y in phonemes], padding_value=PAD_TOKEN)\n",
    "  return graphemes_padded, phonemes_padded\n",
    "\n",
    "train_dataloader = DataLoader(train_g2p_dataset, batch_size=BATCH_SIZE, collate_fn=collate_fn, shuffle=True)\n",
    "test_dataloader = DataLoader(test_g2p_dataset, batch_size=BATCH_SIZE, collate_fn=collate_fn, shuffle=False)"
   ]
  },
  {
   "cell_type": "markdown",
   "metadata": {
    "id": "W9rbldUGJN7b"
   },
   "source": [
    "## Turning grapheme and phoneme data to Tensors/Variables"
   ]
  },
  {
   "cell_type": "code",
   "execution_count": 88,
   "metadata": {
    "executionInfo": {
     "elapsed": 5,
     "status": "ok",
     "timestamp": 1739957721366,
     "user": {
      "displayName": "23522026 Ahmad Naufal Hakim",
      "userId": "16621933245327613442"
     },
     "user_tz": -420
    },
    "id": "I2cem0ghY0mA"
   },
   "outputs": [],
   "source": [
    "def indexes_from_word(dataset, word, grp_type) :\n",
    "  assert grp_type in [\"unigram\", \"bigram\", \"trigram\"]\n",
    "  word = word.lower()\n",
    "  if grp_type == \"unigram\" :\n",
    "    graphemes = [*word]\n",
    "  elif grp_type == \"bigram\" :\n",
    "    graphemes = [word[i:i+2] for i in range(len(word)-1)] if len(word)>=2 else [word]\n",
    "  elif grp_type == \"trigram\" :\n",
    "    graphemes = [word[i:i+3] for i in range(len(word)-2)] if len(word)>=3 else [word]\n",
    "  return [dataset.grapheme2index.get(grapheme, UNK_TOKEN) for grapheme in graphemes] + [EOS_TOKEN]\n",
    "\n",
    "def variable_from_word(dataset, word, grp_type) :\n",
    "  indexes = indexes_from_word(dataset, word, grp_type)\n",
    "  var = torch.LongTensor(indexes).view(-1, 1).to(DEVICE)\n",
    "  return var"
   ]
  },
  {
   "cell_type": "code",
   "execution_count": 89,
   "metadata": {
    "colab": {
     "base_uri": "https://localhost:8080/"
    },
    "executionInfo": {
     "elapsed": 5,
     "status": "ok",
     "timestamp": 1739957721366,
     "user": {
      "displayName": "23522026 Ahmad Naufal Hakim",
      "userId": "16621933245327613442"
     },
     "user_tz": -420
    },
    "id": "433SrerOr4_Y",
    "outputId": "92da8620-4d32-4614-db38-6fdfcd7e04fa"
   },
   "outputs": [
    {
     "name": "stdout",
     "output_type": "stream",
     "text": [
      "[2053, 888, 2236, 1225, 3291, 2181, 590, 1498, 2333, 1]\n"
     ]
    }
   ],
   "source": [
    "print(indexes_from_word(train_g2p_dataset, \"menguncinya\", grp_type=GRP_TYPE))\n",
    "# print(variable_from_word(train_g2p_dataset, \"menguncinya\", grp_type=GRP_TYPE))"
   ]
  },
  {
   "cell_type": "code",
   "execution_count": 90,
   "metadata": {
    "colab": {
     "base_uri": "https://localhost:8080/"
    },
    "executionInfo": {
     "elapsed": 1522,
     "status": "ok",
     "timestamp": 1739957722884,
     "user": {
      "displayName": "23522026 Ahmad Naufal Hakim",
      "userId": "16621933245327613442"
     },
     "user_tz": -420
    },
    "id": "vBgWZU1zZIEp",
    "outputId": "56a821f8-be28-4de8-8e2c-f5e7b8d2bc7b"
   },
   "outputs": [
    {
     "name": "stdout",
     "output_type": "stream",
     "text": [
      "<__main__.G2PDataset object at 0x7f82e258fbb0> ([18, 58, 2333, 1], [23, 3, 1])\n",
      "([18, 58, 2333, 1], [23, 3, 1])\n",
      "([18, 58, 2333, 1], [23, 3, 1])\n",
      "train grp 3575 {0: '<SOS>', 1: '<EOS>', 2: '<PAD>', 3: '<UNK>', 4: \"'ah\", 5: \"'an\", 6: \"'at\", 7: \"'ay\", 8: \"'ba\", 9: \"'da\", 10: \"'du\", 11: \"'ha\", 12: \"'ji\", 13: \"'na\", 14: \"'on\", 15: \"'ri\", 16: \"'un\", 17: '--i', 18: '--n', 19: '-ab', 20: '-ad', 21: '-ak', 22: '-al', 23: '-an', 24: '-ap', 25: '-ar', 26: '-ba', 27: '-be', 28: '-bi', 29: '-bl', 30: '-bo', 31: '-ca', 32: '-ci', 33: '-co', 34: '-cu', 35: '-de', 36: '-di', 37: '-du', 38: '-el', 39: '-ga', 40: '-go', 41: '-gu', 42: '-ha', 43: '-hi', 44: '-is', 45: '-ja', 46: '-je', 47: '-ka', 48: '-ku', 49: '-la', 50: '-le', 51: '-li', 52: '-ma', 53: '-me', 54: '-mi', 55: '-mo', 56: '-ne', 57: '-nu', 58: '-ny', 59: '-pa', 60: '-pi', 61: '-pl', 62: '-po', 63: '-qu', 64: '-ra', 65: '-sa', 66: '-se', 67: '-si', 68: '-su', 69: '-ta', 70: '-te', 71: '-ti', 72: '-tu', 73: '-ub', 74: '-un', 75: '-ur', 76: '-wa', 77: \"a'a\", 78: \"a'b\", 79: \"a'd\", 80: \"a'h\", 81: \"a'i\", 82: \"a'n\", 83: \"a'r\", 84: \"a'u\", 85: 'a-a', 86: 'a-c', 87: 'a-g', 88: 'a-j', 89: 'a-k', 90: 'a-m', 91: 'a-n', 92: 'a-p', 93: 'a-r', 94: 'a-u', 95: 'aad', 96: 'aaf', 97: 'aah', 98: 'aai', 99: 'aal', 100: 'aan', 101: 'aar', 102: 'aat', 103: 'aay', 104: 'ab', 105: 'aba', 106: 'abd', 107: 'abe', 108: 'abi', 109: 'abj', 110: 'abk', 111: 'abl', 112: 'abn', 113: 'abo', 114: 'abr', 115: 'abs', 116: 'abt', 117: 'abu', 118: 'aca', 119: 'ace', 120: 'aci', 121: 'aco', 122: 'acu', 123: 'ada', 124: 'adb', 125: 'ade', 126: 'adh', 127: 'adi', 128: 'adj', 129: 'adk', 130: 'adm', 131: 'ado', 132: 'adr', 133: 'ads', 134: 'adu', 135: 'adv', 136: 'adw', 137: 'adz', 138: 'aed', 139: 'aem', 140: 'aen', 141: 'aer', 142: 'afa', 143: 'afd', 144: 'afe', 145: 'afi', 146: 'afk', 147: 'afn', 148: 'afo', 149: 'afr', 150: 'afs', 151: 'aft', 152: 'afw', 153: 'ag-', 154: 'aga', 155: 'age', 156: 'agh', 157: 'agi', 158: 'agl', 159: 'agm', 160: 'agn', 161: 'ago', 162: 'agr', 163: 'agu', 164: 'ah', 165: 'ah-', 166: 'aha', 167: 'ahb', 168: 'ahd', 169: 'ahe', 170: 'ahg', 171: 'ahi', 172: 'ahj', 173: 'ahk', 174: 'ahl', 175: 'ahm', 176: 'ahn', 177: 'aho', 178: 'ahr', 179: 'ahs', 180: 'aht', 181: 'ahu', 182: 'ahw', 183: 'ahy', 184: 'aia', 185: 'aib', 186: 'aic', 187: 'aid', 188: 'aif', 189: 'aih', 190: 'aij', 191: 'aik', 192: 'ail', 193: 'aim', 194: 'ain', 195: 'aip', 196: 'air', 197: 'ais', 198: 'ait', 199: 'aiw', 200: 'aiz', 201: 'aja', 202: 'aje', 203: 'aji', 204: 'ajl', 205: 'ajn', 206: 'ajo', 207: 'aju', 208: 'ajw', 209: 'ak-', 210: 'aka', 211: 'akb', 212: 'akc', 213: 'akd', 214: 'ake', 215: 'akh', 216: 'aki', 217: 'akj', 218: 'akk', 219: 'akl', 220: 'akm', 221: 'akn', 222: 'ako', 223: 'akp', 224: 'akr', 225: 'aks', 226: 'akt', 227: 'aku', 228: 'akw', 229: 'aky', 230: 'akz', 231: 'al', 232: 'al-', 233: 'ala', 234: 'alb', 235: 'ald', 236: 'ale', 237: 'alf', 238: 'alg', 239: 'alh', 240: 'ali', 241: 'alj', 242: 'alk', 243: 'all', 244: 'alm', 245: 'aln', 246: 'alo', 247: 'alp', 248: 'als', 249: 'alt', 250: 'alu', 251: 'alv', 252: 'alw', 253: 'am', 254: 'ama', 255: 'amb', 256: 'amc', 257: 'amd', 258: 'ame', 259: 'amf', 260: 'ami', 261: 'amk', 262: 'amn', 263: 'amo', 264: 'amp', 265: 'amr', 266: 'ams', 267: 'amt', 268: 'amu', 269: 'amz', 270: 'ana', 271: 'anb', 272: 'anc', 273: 'and', 274: 'ane', 275: 'anf', 276: 'ang', 277: 'ani', 278: 'anj', 279: 'ank', 280: 'anl', 281: 'anm', 282: 'ann', 283: 'ano', 284: 'anp', 285: 'ans', 286: 'ant', 287: 'anu', 288: 'anw', 289: 'any', 290: 'anz', 291: 'aok', 292: 'aos', 293: 'apa', 294: 'apc', 295: 'ape', 296: 'api', 297: 'apj', 298: 'apk', 299: 'apl', 300: 'apn', 301: 'apo', 302: 'apr', 303: 'aps', 304: 'apt', 305: 'apu', 306: 'aqi', 307: 'ar-', 308: 'ara', 309: 'arb', 310: 'arc', 311: 'ard', 312: 'are', 313: 'arf', 314: 'arg', 315: 'arh', 316: 'ari', 317: 'arj', 318: 'ark', 319: 'arl', 320: 'arm', 321: 'arn', 322: 'aro', 323: 'arp', 324: 'arr', 325: 'ars', 326: 'art', 327: 'aru', 328: 'arw', 329: 'ary', 330: 'arz', 331: 'as', 332: 'as-', 333: 'asa', 334: 'asb', 335: 'asc', 336: 'ase', 337: 'asf', 338: 'ash', 339: 'asi', 340: 'asj', 341: 'ask', 342: 'asl', 343: 'asm', 344: 'asn', 345: 'aso', 346: 'asp', 347: 'asr', 348: 'ass', 349: 'ast', 350: 'asu', 351: 'asw', 352: 'asy', 353: 'at-', 354: 'ata', 355: 'atb', 356: 'ate', 357: 'atf', 358: 'ath', 359: 'ati', 360: 'atk', 361: 'atl', 362: 'atm', 363: 'atn', 364: 'ato', 365: 'atp', 366: 'atr', 367: 'att', 368: 'atu', 369: 'atw', 370: 'au', 371: 'aua', 372: 'aub', 373: 'aud', 374: 'auf', 375: 'aug', 376: 'auh', 377: 'aui', 378: 'auj', 379: 'auk', 380: 'aul', 381: 'aum', 382: 'aun', 383: 'aup', 384: 'aur', 385: 'aus', 386: 'aut', 387: 'auz', 388: 'ava', 389: 'ave', 390: 'avg', 391: 'avi', 392: 'avo', 393: 'awa', 394: 'awe', 395: 'awi', 396: 'awo', 397: 'awu', 398: 'aya', 399: 'aye', 400: 'ayi', 401: 'ayo', 402: 'ayu', 403: 'aza', 404: 'azb', 405: 'aze', 406: 'azh', 407: 'azi', 408: 'azm', 409: 'azo', 410: 'azu', 411: 'ba', 412: \"ba'\", 413: 'baa', 414: 'bab', 415: 'bac', 416: 'bad', 417: 'bag', 418: 'bah', 419: 'bai', 420: 'baj', 421: 'bak', 422: 'bal', 423: 'bam', 424: 'ban', 425: 'bap', 426: 'bar', 427: 'bas', 428: 'bat', 429: 'bau', 430: 'baw', 431: 'bay', 432: 'baz', 433: 'bda', 434: 'bdi', 435: 'bdo', 436: 'bdu', 437: 'be', 438: 'bea', 439: 'beb', 440: 'bec', 441: 'bed', 442: 'beg', 443: 'beh', 444: 'bei', 445: 'bej', 446: 'bek', 447: 'bel', 448: 'bem', 449: 'ben', 450: 'beo', 451: 'bep', 452: 'ber', 453: 'bes', 454: 'bet', 455: 'bew', 456: 'bez', 457: 'bha', 458: 'bi', 459: 'bia', 460: 'bib', 461: 'bic', 462: 'bid', 463: 'big', 464: 'bih', 465: 'bii', 466: 'bij', 467: 'bik', 468: 'bil', 469: 'bim', 470: 'bin', 471: 'bio', 472: 'bip', 473: 'bir', 474: 'bis', 475: 'bit', 476: 'biu', 477: 'biv', 478: 'biz', 479: 'bja', 480: 'bje', 481: 'bka', 482: 'bku', 483: 'bla', 484: 'ble', 485: 'bli', 486: 'blo', 487: 'blu', 488: 'bmu', 489: 'bno', 490: 'bnu', 491: 'bny', 492: 'bob', 493: 'boc', 494: 'bod', 495: 'bog', 496: 'boh', 497: 'boi', 498: 'boj', 499: 'bok', 500: 'bol', 501: 'bom', 502: 'bon', 503: 'bop', 504: 'bor', 505: 'bos', 506: 'bot', 507: 'boy', 508: 'boz', 509: 'bra', 510: 'bre', 511: 'bri', 512: 'bro', 513: 'bru', 514: 'bsa', 515: 'bse', 516: 'bsi', 517: 'bso', 518: 'bst', 519: 'bsu', 520: 'bta', 521: 'btr', 522: 'bu', 523: 'bua', 524: 'bub', 525: 'buc', 526: 'bud', 527: 'buf', 528: 'bug', 529: 'buh', 530: 'bui', 531: 'buj', 532: 'buk', 533: 'bul', 534: 'bum', 535: 'bun', 536: 'bup', 537: 'bur', 538: 'bus', 539: 'but', 540: 'buy', 541: 'bve', 542: 'bya', 543: 'caa', 544: 'cab', 545: 'cac', 546: 'cad', 547: 'cae', 548: 'cag', 549: 'cah', 550: 'cai', 551: 'cak', 552: 'cal', 553: 'cam', 554: 'can', 555: 'cao', 556: 'cap', 557: 'car', 558: 'cas', 559: 'cat', 560: 'cau', 561: 'caw', 562: 'cay', 563: 'ce', 564: \"ce'\", 565: 'ceb', 566: 'cec', 567: 'ced', 568: 'ceg', 569: 'ceh', 570: 'cek', 571: 'cel', 572: 'cem', 573: 'cen', 574: 'cep', 575: 'cer', 576: 'ces', 577: 'cet', 578: 'cew', 579: 'chi', 580: 'ci', 581: 'cia', 582: 'cib', 583: 'cic', 584: 'cid', 585: 'cig', 586: 'cih', 587: 'cik', 588: 'cil', 589: 'cim', 590: 'cin', 591: 'cip', 592: 'cir', 593: 'cis', 594: 'cit', 595: 'ciu', 596: 'cm', 597: 'coa', 598: 'cob', 599: 'coc', 600: 'cod', 601: 'cog', 602: 'coh', 603: 'cok', 604: 'col', 605: 'com', 606: 'con', 607: 'cop', 608: 'cor', 609: 'cos', 610: 'cot', 611: 'cow', 612: 'cra', 613: 'cre', 614: 'cri', 615: 'cua', 616: 'cub', 617: 'cuc', 618: 'cud', 619: 'cue', 620: 'cuh', 621: 'cui', 622: 'cuk', 623: 'cul', 624: 'cum', 625: 'cun', 626: 'cup', 627: 'cur', 628: 'cus', 629: 'cut', 630: \"d'a\", 631: \"da'\", 632: 'daa', 633: 'dab', 634: 'dac', 635: 'dad', 636: 'dae', 637: 'daf', 638: 'dag', 639: 'dah', 640: 'dai', 641: 'daj', 642: 'dak', 643: 'dal', 644: 'dam', 645: 'dan', 646: 'dap', 647: 'dar', 648: 'das', 649: 'dat', 650: 'dau', 651: 'daw', 652: 'day', 653: 'dbi', 654: 'de', 655: 'dea', 656: 'deb', 657: 'dec', 658: 'ded', 659: 'dee', 660: 'def', 661: 'deg', 662: 'deh', 663: 'dek', 664: 'del', 665: 'dem', 666: 'den', 667: 'deo', 668: 'dep', 669: 'der', 670: 'des', 671: 'det', 672: 'dev', 673: 'dew', 674: 'dha', 675: 'dhe', 676: 'di', 677: 'dia', 678: 'dib', 679: 'dic', 680: 'did', 681: 'die', 682: 'dif', 683: 'dig', 684: 'dih', 685: 'dii', 686: 'dij', 687: 'dik', 688: 'dil', 689: 'dim', 690: 'din', 691: 'dio', 692: 'dip', 693: 'dir', 694: 'dis', 695: 'dit', 696: 'diu', 697: 'div', 698: 'diw', 699: 'diy', 700: 'dje', 701: 'dka', 702: 'dma', 703: 'dmi', 704: 'dmu', 705: 'dny', 706: 'do', 707: 'doa', 708: 'dob', 709: 'doc', 710: 'dod', 711: 'dog', 712: 'doh', 713: 'doi', 714: 'dok', 715: 'dol', 716: 'dom', 717: 'don', 718: 'dop', 719: 'dor', 720: 'dos', 721: 'dot', 722: 'dow', 723: 'doy', 724: 'dr', 725: 'dra', 726: 'dre', 727: 'dri', 728: 'dro', 729: 'dru', 730: 'dsk', 731: 'dso', 732: 'dua', 733: 'dub', 734: 'dud', 735: 'due', 736: 'dug', 737: 'duh', 738: 'dui', 739: 'duk', 740: 'dul', 741: 'dum', 742: 'dun', 743: 'dup', 744: 'dur', 745: 'dus', 746: 'dut', 747: 'duw', 748: 'duy', 749: 'dve', 750: 'dvi', 751: 'dvo', 752: 'dwa', 753: 'dwi', 754: 'dya', 755: 'dzi', 756: 'e-t', 757: 'eab', 758: 'ead', 759: 'eag', 760: 'eah', 761: 'eai', 762: 'eaj', 763: 'eak', 764: 'eal', 765: 'eam', 766: 'ean', 767: 'ear', 768: 'eas', 769: 'eat', 770: 'eau', 771: 'eaw', 772: 'eay', 773: 'eaz', 774: 'eba', 775: 'ebe', 776: 'ebi', 777: 'ebl', 778: 'ebo', 779: 'ebr', 780: 'ebu', 781: 'eby', 782: 'eca', 783: 'ece', 784: 'eci', 785: 'eco', 786: 'ecr', 787: 'ecu', 788: 'eda', 789: 'ede', 790: 'edh', 791: 'edi', 792: 'edo', 793: 'edr', 794: 'edu', 795: 'edw', 796: 'eed', 797: 'eeh', 798: 'eek', 799: 'eel', 800: 'een', 801: 'eer', 802: 'ees', 803: 'ef', 804: 'efa', 805: 'efe', 806: 'efi', 807: 'efl', 808: 'efo', 809: 'ega', 810: 'ege', 811: 'egi', 812: 'egm', 813: 'ego', 814: 'egr', 815: 'egu', 816: 'eh', 817: 'eha', 818: 'ehe', 819: 'ehi', 820: 'ehk', 821: 'ehn', 822: 'eho', 823: 'ehu', 824: 'eia', 825: 'eib', 826: 'eid', 827: 'eie', 828: 'eig', 829: 'eik', 830: 'eil', 831: 'eim', 832: 'ein', 833: 'eir', 834: 'eis', 835: 'eiz', 836: 'eja', 837: 'eje', 838: 'eji', 839: 'ejo', 840: 'eju', 841: 'ek-', 842: 'eka', 843: 'ekc', 844: 'ekd', 845: 'eke', 846: 'ekh', 847: 'eki', 848: 'ekk', 849: 'ekl', 850: 'ekm', 851: 'ekn', 852: 'eko', 853: 'ekp', 854: 'ekr', 855: 'eks', 856: 'ekt', 857: 'eku', 858: 'ekw', 859: 'el', 860: 'ela', 861: 'elb', 862: 'eld', 863: 'ele', 864: 'eli', 865: 'elk', 866: 'elm', 867: 'eln', 868: 'elo', 869: 'elp', 870: 'elt', 871: 'elu', 872: 'elv', 873: 'em', 874: 'ema', 875: 'emb', 876: 'eme', 877: 'emf', 878: 'emi', 879: 'eml', 880: 'emo', 881: 'emp', 882: 'emr', 883: 'emu', 884: 'ena', 885: 'enc', 886: 'end', 887: 'ene', 888: 'eng', 889: 'enh', 890: 'eni', 891: 'enj', 892: 'enk', 893: 'enm', 894: 'enn', 895: 'eno', 896: 'ens', 897: 'ent', 898: 'enu', 899: 'env', 900: 'eny', 901: 'enz', 902: 'eod', 903: 'eof', 904: 'eog', 905: 'eok', 906: 'eol', 907: 'eom', 908: 'eon', 909: 'eop', 910: 'eor', 911: 'eos', 912: 'eot', 913: 'epa', 914: 'epe', 915: 'epi', 916: 'epl', 917: 'epo', 918: 'epr', 919: 'eps', 920: 'ept', 921: 'epu', 922: 'er-', 923: 'era', 924: 'erb', 925: 'erc', 926: 'erd', 927: 'ere', 928: 'erf', 929: 'erg', 930: 'erh', 931: 'eri', 932: 'erj', 933: 'erk', 934: 'erl', 935: 'erm', 936: 'ern', 937: 'ero', 938: 'erp', 939: 'ers', 940: 'ert', 941: 'eru', 942: 'erv', 943: 'erw', 944: 'erz', 945: 'es', 946: 'esa', 947: 'ese', 948: 'esi', 949: 'esk', 950: 'esl', 951: 'esm', 952: 'eso', 953: 'esp', 954: 'esr', 955: 'est', 956: 'esu', 957: 'esy', 958: 'eta', 959: 'ete', 960: 'eti', 961: 'etk', 962: 'etn', 963: 'eto', 964: 'etr', 965: 'ets', 966: 'ett', 967: 'etu', 968: 'eua', 969: 'eud', 970: 'eul', 971: 'eum', 972: 'eun', 973: 'eus', 974: 'eut', 975: 'euz', 976: 'eva', 977: 'eve', 978: 'evi', 979: 'evo', 980: 'ewa', 981: 'ewe', 982: 'ewi', 983: 'ewo', 984: 'ewu', 985: 'eya', 986: 'eye', 987: 'eyo', 988: 'eza', 989: 'eze', 990: 'ezi', 991: 'faa', 992: 'fab', 993: 'fad', 994: 'fae', 995: 'fah', 996: 'fai', 997: 'faj', 998: 'fak', 999: 'fal', 1000: 'fam', 1001: 'fan', 1002: 'far', 1003: 'fas', 1004: 'fat', 1005: 'fau', 1006: 'fav', 1007: 'fay', 1008: 'faz', 1009: 'fba', 1010: 'fda', 1011: 'fde', 1012: 'fdr', 1013: 'fed', 1014: 'fek', 1015: 'fel', 1016: 'fem', 1017: 'fen', 1018: 'feo', 1019: 'fer', 1020: 'fes', 1021: 'fet', 1022: 'fia', 1023: 'fib', 1024: 'fid', 1025: 'fig', 1026: 'fik', 1027: 'fil', 1028: 'fin', 1029: 'fir', 1030: 'fis', 1031: 'fit', 1032: 'fka', 1033: 'fla', 1034: 'fle', 1035: 'fli', 1036: 'flo', 1037: 'flu', 1038: 'fna', 1039: 'fob', 1040: 'fok', 1041: 'fol', 1042: 'fon', 1043: 'for', 1044: 'fos', 1045: 'fot', 1046: 'foy', 1047: 'fra', 1048: 'fre', 1049: 'fri', 1050: 'fro', 1051: 'fru', 1052: 'fsi', 1053: 'fsu', 1054: 'fta', 1055: 'fte', 1056: 'fti', 1057: 'fto', 1058: 'fua', 1059: 'fug', 1060: 'fuk', 1061: 'ful', 1062: 'fun', 1063: 'fur', 1064: 'fus', 1065: 'fut', 1066: 'fwa', 1067: 'g--', 1068: 'g-b', 1069: 'g-c', 1070: 'g-d', 1071: 'g-j', 1072: 'g-p', 1073: 'g-t', 1074: 'g-u', 1075: 'ga-', 1076: 'gaa', 1077: 'gab', 1078: 'gac', 1079: 'gad', 1080: 'gaf', 1081: 'gag', 1082: 'gah', 1083: 'gai', 1084: 'gaj', 1085: 'gak', 1086: 'gal', 1087: 'gam', 1088: 'gan', 1089: 'gao', 1090: 'gap', 1091: 'gar', 1092: 'gas', 1093: 'gat', 1094: 'gau', 1095: 'gaw', 1096: 'gay', 1097: 'gaz', 1098: 'gbe', 1099: 'gbr', 1100: 'gbu', 1101: 'gca', 1102: 'gco', 1103: 'gda', 1104: 'gde', 1105: 'gdo', 1106: 'gdu', 1107: 'gea', 1108: 'geb', 1109: 'gec', 1110: 'ged', 1111: 'gef', 1112: 'geg', 1113: 'geh', 1114: 'gej', 1115: 'gek', 1116: 'gel', 1117: 'gem', 1118: 'gen', 1119: 'geo', 1120: 'gep', 1121: 'ger', 1122: 'ges', 1123: 'get', 1124: 'gev', 1125: 'gfu', 1126: 'gga', 1127: 'gge', 1128: 'ggi', 1129: 'ggl', 1130: 'ggo', 1131: 'ggr', 1132: 'ggu', 1133: 'gha', 1134: 'ghe', 1135: 'ghf', 1136: 'ghi', 1137: 'gho', 1138: 'ghr', 1139: 'ghu', 1140: 'ghy', 1141: 'gi-', 1142: 'gia', 1143: 'gib', 1144: 'gid', 1145: 'gig', 1146: 'gih', 1147: 'gik', 1148: 'gil', 1149: 'gim', 1150: 'gin', 1151: 'gio', 1152: 'gip', 1153: 'gir', 1154: 'gis', 1155: 'git', 1156: 'giu', 1157: 'giz', 1158: 'gja', 1159: 'gka', 1160: 'gke', 1161: 'gkh', 1162: 'gki', 1163: 'gkl', 1164: 'gko', 1165: 'gkr', 1166: 'gku', 1167: 'gla', 1168: 'gle', 1169: 'gli', 1170: 'glo', 1171: 'glu', 1172: 'gma', 1173: 'gme', 1174: 'gna', 1175: 'gne', 1176: 'gni', 1177: 'gno', 1178: 'gny', 1179: 'go-', 1180: 'goa', 1181: 'gob', 1182: 'goc', 1183: 'god', 1184: 'gog', 1185: 'goh', 1186: 'goi', 1187: 'goj', 1188: 'gok', 1189: 'gol', 1190: 'gom', 1191: 'gon', 1192: 'gop', 1193: 'gor', 1194: 'gos', 1195: 'got', 1196: 'goy', 1197: 'gpa', 1198: 'gpo', 1199: 'gra', 1200: 'gre', 1201: 'gri', 1202: 'gro', 1203: 'gru', 1204: 'gsa', 1205: 'gse', 1206: 'gsi', 1207: 'gso', 1208: 'gst', 1209: 'gsu', 1210: 'gta', 1211: 'gti', 1212: 'gtu', 1213: 'gua', 1214: 'gub', 1215: 'guc', 1216: 'gud', 1217: 'gue', 1218: 'gug', 1219: 'guh', 1220: 'gui', 1221: 'guj', 1222: 'guk', 1223: 'gul', 1224: 'gum', 1225: 'gun', 1226: 'gup', 1227: 'gur', 1228: 'gus', 1229: 'gut', 1230: 'guy', 1231: 'h-a', 1232: 'h-b', 1233: 'h-s', 1234: 'h-t', 1235: 'ha', 1236: 'haa', 1237: 'hab', 1238: 'had', 1239: 'hae', 1240: 'haf', 1241: 'hag', 1242: 'hah', 1243: 'hai', 1244: 'haj', 1245: 'hak', 1246: 'hal', 1247: 'ham', 1248: 'han', 1249: 'hap', 1250: 'har', 1251: 'has', 1252: 'hat', 1253: 'hau', 1254: 'haw', 1255: 'hay', 1256: 'haz', 1257: 'hba', 1258: 'hbi', 1259: 'hdi', 1260: 'heb', 1261: 'hei', 1262: 'hek', 1263: 'hel', 1264: 'hem', 1265: 'hen', 1266: 'her', 1267: 'hes', 1268: 'het', 1269: 'heu', 1270: 'hew', 1271: 'hfa', 1272: 'hgu', 1273: 'hia', 1274: 'hib', 1275: 'hid', 1276: 'hie', 1277: 'hih', 1278: 'hij', 1279: 'hik', 1280: 'hil', 1281: 'him', 1282: 'hin', 1283: 'hip', 1284: 'hir', 1285: 'his', 1286: 'hit', 1287: 'hiu', 1288: 'hja', 1289: 'hji', 1290: 'hka', 1291: 'hko', 1292: 'hku', 1293: 'hla', 1294: 'hli', 1295: 'hlu', 1296: 'hma', 1297: 'hmu', 1298: 'hni', 1299: 'hny', 1300: 'hob', 1301: 'hod', 1302: 'hok', 1303: 'hol', 1304: 'hom', 1305: 'hon', 1306: 'hor', 1307: 'hos', 1308: 'hot', 1309: 'hpu', 1310: 'hra', 1311: 'hri', 1312: 'hru', 1313: 'hsa', 1314: 'hsi', 1315: 'hsy', 1316: 'hta', 1317: 'hte', 1318: 'hti', 1319: 'hua', 1320: 'hub', 1321: 'hud', 1322: 'hui', 1323: 'huj', 1324: 'huk', 1325: 'hul', 1326: 'hum', 1327: 'hun', 1328: 'hur', 1329: 'hus', 1330: 'hut', 1331: 'huy', 1332: 'hwa', 1333: 'hwe', 1334: 'hwi', 1335: 'hya', 1336: 'hyu', 1337: 'i-b', 1338: 'i-h', 1339: 'i-k', 1340: 'i-l', 1341: 'i-n', 1342: 'i-r', 1343: 'i-t', 1344: 'ia', 1345: 'ia-', 1346: 'iaa', 1347: 'iab', 1348: 'iac', 1349: 'iad', 1350: 'iag', 1351: 'iah', 1352: 'iai', 1353: 'iaj', 1354: 'iak', 1355: 'ial', 1356: 'iam', 1357: 'ian', 1358: 'iap', 1359: 'iar', 1360: 'ias', 1361: 'iat', 1362: 'iau', 1363: 'iaw', 1364: 'iay', 1365: 'iba', 1366: 'ibe', 1367: 'ibi', 1368: 'ibk', 1369: 'ibl', 1370: 'ibm', 1371: 'ibn', 1372: 'ibo', 1373: 'ibr', 1374: 'ibu', 1375: 'ica', 1376: 'ice', 1377: 'ici', 1378: 'ico', 1379: 'icu', 1380: 'id', 1381: \"id'\", 1382: 'ida', 1383: 'ide', 1384: 'idi', 1385: 'idm', 1386: 'idn', 1387: 'ido', 1388: 'idr', 1389: 'idu', 1390: 'idy', 1391: 'ieb', 1392: 'iek', 1393: 'iel', 1394: 'ien', 1395: 'ier', 1396: 'ies', 1397: 'iet', 1398: 'ifa', 1399: 'ifb', 1400: 'ife', 1401: 'ifi', 1402: 'ifk', 1403: 'ifo', 1404: 'ift', 1405: 'ifu', 1406: 'ig-', 1407: 'iga', 1408: 'igd', 1409: 'ige', 1410: 'igh', 1411: 'igi', 1412: 'igm', 1413: 'ign', 1414: 'igo', 1415: 'igr', 1416: 'igu', 1417: 'ih-', 1418: 'iha', 1419: 'ihe', 1420: 'ihi', 1421: 'ihk', 1422: 'ihn', 1423: 'iho', 1424: 'ihs', 1425: 'ihu', 1426: 'ihw', 1427: 'iik', 1428: 'iim', 1429: 'iin', 1430: 'iir', 1431: 'iis', 1432: 'iiz', 1433: 'ija', 1434: 'ije', 1435: 'iji', 1436: 'ijr', 1437: 'ijt', 1438: 'iju', 1439: 'ik-', 1440: 'ika', 1441: 'ike', 1442: 'ikh', 1443: 'iki', 1444: 'ikk', 1445: 'ikl', 1446: 'ikm', 1447: 'ikn', 1448: 'iko', 1449: 'ikr', 1450: 'iks', 1451: 'ikt', 1452: 'iku', 1453: 'il-', 1454: 'ila', 1455: 'ile', 1456: 'ilf', 1457: 'ilh', 1458: 'ili', 1459: 'ilk', 1460: 'ill', 1461: 'ilm', 1462: 'iln', 1463: 'ilo', 1464: 'ils', 1465: 'ilt', 1466: 'ilu', 1467: 'ilw', 1468: 'ily', 1469: 'ima', 1470: 'imb', 1471: 'ime', 1472: 'imf', 1473: 'imi', 1474: 'imk', 1475: 'imn', 1476: 'imo', 1477: 'imp', 1478: 'ims', 1479: 'imu', 1480: 'in-', 1481: 'ina', 1482: 'inc', 1483: 'ind', 1484: 'ine', 1485: 'inf', 1486: 'ing', 1487: 'inh', 1488: 'ini', 1489: 'inj', 1490: 'ink', 1491: 'inn', 1492: 'ino', 1493: 'inp', 1494: 'ins', 1495: 'int', 1496: 'inu', 1497: 'inv', 1498: 'iny', 1499: 'io-', 1500: 'ioa', 1501: 'iob', 1502: 'iod', 1503: 'iof', 1504: 'iog', 1505: 'iok', 1506: 'iol', 1507: 'iom', 1508: 'ion', 1509: 'iop', 1510: 'ior', 1511: 'ios', 1512: 'iot', 1513: 'iov', 1514: 'ipa', 1515: 'ipe', 1516: 'ipi', 1517: 'ipk', 1518: 'ipl', 1519: 'ipn', 1520: 'ipo', 1521: 'ipr', 1522: 'ips', 1523: 'ipt', 1524: 'ipu', 1525: 'ira', 1526: 'irb', 1527: 'irc', 1528: 'ird', 1529: 'ire', 1530: 'irg', 1531: 'irh', 1532: 'iri', 1533: 'irj', 1534: 'irk', 1535: 'irm', 1536: 'irn', 1537: 'iro', 1538: 'irs', 1539: 'iru', 1540: 'is-', 1541: 'isa', 1542: 'isb', 1543: 'isc', 1544: 'isd', 1545: 'ise', 1546: 'isf', 1547: 'ish', 1548: 'isi', 1549: 'isj', 1550: 'isk', 1551: 'isl', 1552: 'ism', 1553: 'isn', 1554: 'iso', 1555: 'isp', 1556: 'isr', 1557: 'iss', 1558: 'ist', 1559: 'isu', 1560: 'isw', 1561: 'isy', 1562: 'ita', 1563: 'ite', 1564: 'ith', 1565: 'iti', 1566: 'itk', 1567: 'itl', 1568: 'itm', 1569: 'itn', 1570: 'ito', 1571: 'itp', 1572: 'itr', 1573: 'itu', 1574: 'iub', 1575: 'iuc', 1576: 'iuh', 1577: 'iuj', 1578: 'iuk', 1579: 'iul', 1580: 'ium', 1581: 'iun', 1582: 'iup', 1583: 'iur', 1584: 'ius', 1585: 'iut', 1586: 'iva', 1587: 'ive', 1588: 'ivi', 1589: 'ivo', 1590: 'iwa', 1591: 'iwe', 1592: 'iwi', 1593: 'iwu', 1594: 'iya', 1595: 'iyi', 1596: 'iza', 1597: 'ize', 1598: 'izi', 1599: 'izu', 1600: 'izz', 1601: 'jaa', 1602: 'jab', 1603: 'jad', 1604: 'jag', 1605: 'jah', 1606: 'jai', 1607: 'jaj', 1608: 'jak', 1609: 'jal', 1610: 'jam', 1611: 'jan', 1612: 'jap', 1613: 'jar', 1614: 'jas', 1615: 'jat', 1616: 'jau', 1617: 'jaw', 1618: 'jay', 1619: 'jaz', 1620: 'jeb', 1621: 'jed', 1622: 'jej', 1623: 'jek', 1624: 'jel', 1625: 'jem', 1626: 'jen', 1627: 'jep', 1628: 'jer', 1629: 'jet', 1630: 'jia', 1631: 'jib', 1632: 'jid', 1633: 'jih', 1634: 'jij', 1635: 'jik', 1636: 'jil', 1637: 'jim', 1638: 'jin', 1639: 'jip', 1640: 'jir', 1641: 'jis', 1642: 'jit', 1643: 'jiw', 1644: 'jiz', 1645: 'jli', 1646: 'jlo', 1647: 'jna', 1648: 'jod', 1649: 'jog', 1650: 'joh', 1651: 'joj', 1652: 'jok', 1653: 'jol', 1654: 'jom', 1655: 'jon', 1656: 'jor', 1657: 'jot', 1658: 'jra', 1659: 'jta', 1660: 'jti', 1661: 'jua', 1662: 'jub', 1663: 'jud', 1664: 'jug', 1665: 'juh', 1666: 'jui', 1667: 'juj', 1668: 'juk', 1669: 'jul', 1670: 'jum', 1671: 'jun', 1672: 'jur', 1673: 'jus', 1674: 'jut', 1675: 'juw', 1676: 'jwi', 1677: 'k-a', 1678: 'k-b', 1679: 'k-d', 1680: 'k-j', 1681: 'k-m', 1682: 'k-p', 1683: 'k-s', 1684: 'k-t', 1685: 'ka-', 1686: 'kaa', 1687: 'kab', 1688: 'kac', 1689: 'kad', 1690: 'kae', 1691: 'kaf', 1692: 'kag', 1693: 'kah', 1694: 'kai', 1695: 'kaj', 1696: 'kak', 1697: 'kal', 1698: 'kam', 1699: 'kan', 1700: 'kao', 1701: 'kap', 1702: 'kar', 1703: 'kas', 1704: 'kat', 1705: 'kau', 1706: 'kav', 1707: 'kaw', 1708: 'kay', 1709: 'kbi', 1710: 'kbu', 1711: 'kci', 1712: 'kco', 1713: 'kda', 1714: 'kdi', 1715: 'kdu', 1716: 'ke', 1717: 'kea', 1718: 'keb', 1719: 'kec', 1720: 'ked', 1721: 'kee', 1722: 'kef', 1723: 'keg', 1724: 'keh', 1725: 'kei', 1726: 'kej', 1727: 'kek', 1728: 'kel', 1729: 'kem', 1730: 'ken', 1731: 'keo', 1732: 'kep', 1733: 'ker', 1734: 'kes', 1735: 'ket', 1736: 'keu', 1737: 'kew', 1738: 'key', 1739: 'kha', 1740: 'khb', 1741: 'khe', 1742: 'khi', 1743: 'khl', 1744: 'kho', 1745: 'kht', 1746: 'khu', 1747: 'khw', 1748: 'ki-', 1749: 'kia', 1750: 'kib', 1751: 'kic', 1752: 'kid', 1753: 'kif', 1754: 'kih', 1755: 'kij', 1756: 'kik', 1757: 'kil', 1758: 'kim', 1759: 'kin', 1760: 'kio', 1761: 'kip', 1762: 'kir', 1763: 'kis', 1764: 'kit', 1765: 'kiw', 1766: 'kji', 1767: 'kju', 1768: 'kka', 1769: 'kku', 1770: 'kla', 1771: 'kle', 1772: 'kli', 1773: 'klo', 1774: 'klu', 1775: 'kma', 1776: 'kme', 1777: 'kmi', 1778: 'kmu', 1779: 'kna', 1780: 'kni', 1781: 'kno', 1782: 'knu', 1783: 'kny', 1784: 'koa', 1785: 'kob', 1786: 'koc', 1787: 'kod', 1788: 'koe', 1789: 'kog', 1790: 'koh', 1791: 'koi', 1792: 'koj', 1793: 'kok', 1794: 'kol', 1795: 'kom', 1796: 'kon', 1797: 'koo', 1798: 'kop', 1799: 'kor', 1800: 'kos', 1801: 'kot', 1802: 'koy', 1803: 'kpa', 1804: 'kpe', 1805: 'kpi', 1806: 'kra', 1807: 'kre', 1808: 'kri', 1809: 'kro', 1810: 'kru', 1811: 'ksa', 1812: 'kse', 1813: 'ksi', 1814: 'ksk', 1815: 'ksm', 1816: 'kso', 1817: 'ksp', 1818: 'kst', 1819: 'ksu', 1820: 'kta', 1821: 'kte', 1822: 'kti', 1823: 'kto', 1824: 'ktr', 1825: 'ktu', 1826: 'ku', 1827: 'kua', 1828: 'kub', 1829: 'kuc', 1830: 'kud', 1831: 'kue', 1832: 'kuf', 1833: 'kuh', 1834: 'kui', 1835: 'kuk', 1836: 'kul', 1837: 'kum', 1838: 'kun', 1839: 'kuo', 1840: 'kup', 1841: 'kur', 1842: 'kus', 1843: 'kut', 1844: 'kuy', 1845: 'kwa', 1846: 'kya', 1847: 'kyu', 1848: 'kzi', 1849: 'l-a', 1850: 'l-b', 1851: 'l-q', 1852: 'laa', 1853: 'lab', 1854: 'lac', 1855: 'lad', 1856: 'laf', 1857: 'lag', 1858: 'lah', 1859: 'lai', 1860: 'laj', 1861: 'lak', 1862: 'lal', 1863: 'lam', 1864: 'lan', 1865: 'lao', 1866: 'lap', 1867: 'lar', 1868: 'las', 1869: 'lat', 1870: 'lau', 1871: 'lav', 1872: 'law', 1873: 'lay', 1874: 'laz', 1875: 'lba', 1876: 'lbi', 1877: 'lbu', 1878: 'lda', 1879: 'lde', 1880: 'ldo', 1881: 'ldu', 1882: 'leb', 1883: 'lec', 1884: 'led', 1885: 'lef', 1886: 'leg', 1887: 'leh', 1888: 'lei', 1889: 'lek', 1890: 'lel', 1891: 'lem', 1892: 'len', 1893: 'leo', 1894: 'lep', 1895: 'ler', 1896: 'les', 1897: 'let', 1898: 'leu', 1899: 'lev', 1900: 'lew', 1901: 'lez', 1902: 'lfa', 1903: 'lfi', 1904: 'lfu', 1905: 'lga', 1906: 'lge', 1907: 'lgi', 1908: 'lgo', 1909: 'lgu', 1910: 'lha', 1911: 'li-', 1912: 'lia', 1913: 'lib', 1914: 'lic', 1915: 'lid', 1916: 'lie', 1917: 'lif', 1918: 'lig', 1919: 'lih', 1920: 'lij', 1921: 'lik', 1922: 'lil', 1923: 'lim', 1924: 'lin', 1925: 'lio', 1926: 'lip', 1927: 'lir', 1928: 'lis', 1929: 'lit', 1930: 'liu', 1931: 'liw', 1932: 'lja', 1933: 'lju', 1934: 'lka', 1935: 'lke', 1936: 'lki', 1937: 'lko', 1938: 'lku', 1939: 'lla', 1940: 'lma', 1941: 'lme', 1942: 'lmi', 1943: 'lmu', 1944: 'lny', 1945: \"lo'\", 1946: 'loa', 1947: 'lob', 1948: 'loc', 1949: 'lod', 1950: 'lof', 1951: 'log', 1952: 'loh', 1953: 'loi', 1954: 'loj', 1955: 'lok', 1956: 'lol', 1957: 'lom', 1958: 'lon', 1959: 'lop', 1960: 'lor', 1961: 'los', 1962: 'lot', 1963: 'low', 1964: 'loy', 1965: 'lpa', 1966: 'lpe', 1967: 'lpl', 1968: 'lpo', 1969: 'lpu', 1970: 'lri', 1971: 'lsa', 1972: 'lse', 1973: 'lsi', 1974: 'lsu', 1975: 'lta', 1976: 'lte', 1977: 'lti', 1978: 'lto', 1979: 'ltr', 1980: 'ltu', 1981: 'lu-', 1982: 'lua', 1983: 'lub', 1984: 'luc', 1985: 'lud', 1986: 'lue', 1987: 'lug', 1988: 'luh', 1989: 'lui', 1990: 'luk', 1991: 'lul', 1992: 'lum', 1993: 'lun', 1994: 'lup', 1995: 'lur', 1996: 'lus', 1997: 'lut', 1998: 'luv', 1999: 'luw', 2000: 'luy', 2001: 'lva', 2002: 'lve', 2003: 'lvi', 2004: 'lwa', 2005: 'lya', 2006: 'lye', 2007: \"m'a\", 2008: \"ma'\", 2009: 'ma-', 2010: 'maa', 2011: 'mab', 2012: 'mac', 2013: 'mad', 2014: 'maf', 2015: 'mag', 2016: 'mah', 2017: 'mai', 2018: 'maj', 2019: 'mak', 2020: 'mal', 2021: 'mam', 2022: 'man', 2023: 'map', 2024: 'mar', 2025: 'mas', 2026: 'mat', 2027: 'mau', 2028: 'maw', 2029: 'may', 2030: 'maz', 2031: 'mba', 2032: 'mbe', 2033: 'mbi', 2034: 'mbl', 2035: 'mbo', 2036: 'mbr', 2037: 'mbu', 2038: 'mby', 2039: 'mca', 2040: 'mdu', 2041: 'mea', 2042: 'meb', 2043: 'mec', 2044: 'med', 2045: 'mee', 2046: 'meg', 2047: 'meh', 2048: 'mei', 2049: 'mej', 2050: 'mek', 2051: 'mel', 2052: 'mem', 2053: 'men', 2054: 'meo', 2055: 'mep', 2056: 'mer', 2057: 'mes', 2058: 'met', 2059: 'mew', 2060: 'mey', 2061: 'mfe', 2062: 'mfi', 2063: 'mfo', 2064: 'mi', 2065: 'mi-', 2066: 'mia', 2067: 'mic', 2068: 'mid', 2069: 'mif', 2070: 'mig', 2071: 'mih', 2072: 'mij', 2073: 'mik', 2074: 'mil', 2075: 'mim', 2076: 'min', 2077: 'mio', 2078: 'mip', 2079: 'mir', 2080: 'mis', 2081: 'mit', 2082: 'miu', 2083: 'miz', 2084: 'mka', 2085: 'mko', 2086: 'mla', 2087: 'mm', 2088: 'mna', 2089: 'mne', 2090: 'mni', 2091: 'mny', 2092: 'moa', 2093: 'mob', 2094: 'moc', 2095: 'mod', 2096: 'mof', 2097: 'mog', 2098: 'moh', 2099: 'moi', 2100: 'mok', 2101: 'mol', 2102: 'mom', 2103: 'mon', 2104: 'moo', 2105: 'mop', 2106: 'mor', 2107: 'mos', 2108: 'mot', 2109: 'mov', 2110: 'moy', 2111: 'mpa', 2112: 'mpe', 2113: 'mpi', 2114: 'mpl', 2115: 'mpo', 2116: 'mpr', 2117: 'mpt', 2118: 'mpu', 2119: 'mra', 2120: 'mri', 2121: 'mro', 2122: 'mru', 2123: 'msa', 2124: 'mse', 2125: 'msi', 2126: 'msu', 2127: 'mta', 2128: 'mte', 2129: 'mti', 2130: 'mtu', 2131: \"mu'\", 2132: 'mua', 2133: 'mub', 2134: 'muc', 2135: 'mud', 2136: 'muf', 2137: 'mug', 2138: 'muh', 2139: 'mui', 2140: 'muj', 2141: 'muk', 2142: 'mul', 2143: 'mum', 2144: 'mun', 2145: 'mup', 2146: 'mur', 2147: 'mus', 2148: 'mut', 2149: 'muw', 2150: 'muz', 2151: 'mza', 2152: 'n-p', 2153: 'n-u', 2154: 'naa', 2155: 'nab', 2156: 'nad', 2157: 'nae', 2158: 'naf', 2159: 'nag', 2160: 'nah', 2161: 'nai', 2162: 'naj', 2163: 'nak', 2164: 'nal', 2165: 'nam', 2166: 'nan', 2167: 'nap', 2168: 'nar', 2169: 'nas', 2170: 'nat', 2171: 'nau', 2172: 'nav', 2173: 'naw', 2174: 'nay', 2175: 'naz', 2176: 'nbi', 2177: 'nbo', 2178: 'nbu', 2179: 'nca', 2180: 'nce', 2181: 'nci', 2182: 'nco', 2183: 'ncr', 2184: 'ncu', 2185: 'nda', 2186: 'nde', 2187: 'ndi', 2188: 'ndo', 2189: 'ndr', 2190: 'nds', 2191: 'ndu', 2192: 'ndw', 2193: 'nea', 2194: 'neb', 2195: 'nec', 2196: 'ned', 2197: 'neg', 2198: 'neh', 2199: 'nei', 2200: 'nek', 2201: 'nel', 2202: 'nem', 2203: 'nen', 2204: 'neo', 2205: 'nep', 2206: 'ner', 2207: 'nes', 2208: 'net', 2209: 'new', 2210: 'nfa', 2211: 'nfe', 2212: 'nfi', 2213: 'nfl', 2214: 'nfo', 2215: 'nfr', 2216: 'ng-', 2217: 'nga', 2218: 'ngb', 2219: 'ngc', 2220: 'ngd', 2221: 'nge', 2222: 'ngf', 2223: 'ngg', 2224: 'ngh', 2225: 'ngi', 2226: 'ngj', 2227: 'ngk', 2228: 'ngl', 2229: 'ngm', 2230: 'ngn', 2231: 'ngo', 2232: 'ngp', 2233: 'ngr', 2234: 'ngs', 2235: 'ngt', 2236: 'ngu', 2237: 'nhe', 2238: 'nhi', 2239: 'nia', 2240: 'nib', 2241: 'nic', 2242: 'nid', 2243: 'nif', 2244: 'nig', 2245: 'nih', 2246: 'nik', 2247: 'nil', 2248: 'nim', 2249: 'nin', 2250: 'nio', 2251: 'nip', 2252: 'nir', 2253: 'nis', 2254: 'nit', 2255: 'niu', 2256: 'niv', 2257: 'niw', 2258: 'niz', 2259: 'nja', 2260: 'nje', 2261: 'nji', 2262: 'njl', 2263: 'njo', 2264: 'nju', 2265: 'nka', 2266: 'nke', 2267: 'nki', 2268: 'nko', 2269: 'nkr', 2270: 'nkt', 2271: 'nku', 2272: 'nla', 2273: 'nme', 2274: 'nmu', 2275: 'nna', 2276: 'nny', 2277: 'noa', 2278: 'nob', 2279: 'nod', 2280: 'nog', 2281: 'noh', 2282: 'noi', 2283: 'nok', 2284: 'nol', 2285: 'nom', 2286: 'non', 2287: 'nop', 2288: 'nor', 2289: 'nos', 2290: 'not', 2291: 'nov', 2292: 'noy', 2293: 'npa', 2294: 'npu', 2295: 'nsa', 2296: 'nse', 2297: 'nsf', 2298: 'nsi', 2299: 'nsk', 2300: 'nsm', 2301: 'nso', 2302: 'nsp', 2303: 'nst', 2304: 'nsu', 2305: 'nsw', 2306: 'nsy', 2307: 'nta', 2308: 'nte', 2309: 'ntg', 2310: 'nti', 2311: 'nto', 2312: 'ntr', 2313: 'ntu', 2314: 'nua', 2315: 'nub', 2316: 'nud', 2317: 'nuf', 2318: 'nug', 2319: 'nuh', 2320: 'nui', 2321: 'nuj', 2322: 'nuk', 2323: 'nul', 2324: 'num', 2325: 'nun', 2326: 'nur', 2327: 'nus', 2328: 'nut', 2329: 'nve', 2330: 'nvi', 2331: 'nvo', 2332: 'nwi', 2333: 'nya', 2334: 'nye', 2335: 'nyi', 2336: 'nyo', 2337: 'nyu', 2338: 'nza', 2339: 'nze', 2340: 'nzi', 2341: 'nzo', 2342: \"o'o\", 2343: 'o-e', 2344: 'o-g', 2345: 'o-i', 2346: 'oak', 2347: 'oal', 2348: 'oan', 2349: 'oar', 2350: 'oba', 2351: 'obe', 2352: 'obi', 2353: 'obj', 2354: 'obl', 2355: 'obo', 2356: 'obr', 2357: 'obs', 2358: 'obu', 2359: 'oca', 2360: 'oce', 2361: 'oci', 2362: 'ock', 2363: 'oco', 2364: 'oda', 2365: 'ode', 2366: 'odi', 2367: 'odo', 2368: 'odr', 2369: 'odu', 2370: 'oef', 2371: 'ofa', 2372: 'ofe', 2373: 'ofi', 2374: 'ofo', 2375: 'oga', 2376: 'ogd', 2377: 'oge', 2378: 'ogi', 2379: 'ogm', 2380: 'ogn', 2381: 'ogo', 2382: 'ogr', 2383: 'ogu', 2384: 'oh', 2385: 'oha', 2386: 'ohe', 2387: 'ohi', 2388: 'ohk', 2389: 'ohl', 2390: 'ohn', 2391: 'oho', 2392: 'oid', 2393: 'oik', 2394: 'oil', 2395: 'oin', 2396: 'ois', 2397: 'oit', 2398: 'oja', 2399: 'oje', 2400: 'oji', 2401: 'ojo', 2402: 'oka', 2403: 'oke', 2404: 'oki', 2405: 'okk', 2406: 'okl', 2407: 'okm', 2408: 'okn', 2409: 'oko', 2410: 'okp', 2411: 'okr', 2412: 'oks', 2413: 'okt', 2414: 'oku', 2415: 'ola', 2416: 'old', 2417: 'ole', 2418: 'olf', 2419: 'oli', 2420: 'olk', 2421: 'olm', 2422: 'olo', 2423: 'olp', 2424: 'olr', 2425: 'olt', 2426: 'olu', 2427: 'olv', 2428: 'oma', 2429: 'omb', 2430: 'ome', 2431: 'omi', 2432: 'omk', 2433: 'omo', 2434: 'omp', 2435: 'omr', 2436: 'omu', 2437: 'ona', 2438: 'onb', 2439: 'onc', 2440: 'ond', 2441: 'one', 2442: 'onf', 2443: 'ong', 2444: 'oni', 2445: 'onj', 2446: 'onk', 2447: 'onn', 2448: 'ono', 2449: 'ons', 2450: 'ont', 2451: 'onu', 2452: 'onv', 2453: 'ony', 2454: 'ooh', 2455: 'oor', 2456: 'opa', 2457: 'ope', 2458: 'opi', 2459: 'opk', 2460: 'opl', 2461: 'opn', 2462: 'opo', 2463: 'opr', 2464: 'ops', 2465: 'opt', 2466: 'opu', 2467: 'opy', 2468: 'ora', 2469: 'orb', 2470: 'ord', 2471: 'ore', 2472: 'orf', 2473: 'org', 2474: 'orh', 2475: 'ori', 2476: 'orj', 2477: 'ork', 2478: 'orm', 2479: 'orn', 2480: 'oro', 2481: 'orp', 2482: 'ors', 2483: 'ort', 2484: 'oru', 2485: 'osa', 2486: 'ose', 2487: 'osf', 2488: 'osi', 2489: 'osk', 2490: 'osm', 2491: 'osn', 2492: 'oso', 2493: 'osp', 2494: 'ost', 2495: 'osu', 2496: 'ota', 2497: 'otb', 2498: 'ote', 2499: 'oti', 2500: 'otk', 2501: 'otl', 2502: 'oto', 2503: 'otr', 2504: 'otu', 2505: 'ova', 2506: 'ove', 2507: 'ovi', 2508: 'ovo', 2509: 'owe', 2510: 'owo', 2511: 'oya', 2512: 'oye', 2513: 'oyo', 2514: 'oza', 2515: 'ozo', 2516: 'pa-', 2517: 'paa', 2518: 'pab', 2519: 'pac', 2520: 'pad', 2521: 'pag', 2522: 'pah', 2523: 'pai', 2524: 'paj', 2525: 'pak', 2526: 'pal', 2527: 'pam', 2528: 'pan', 2529: 'pao', 2530: 'pap', 2531: 'par', 2532: 'pas', 2533: 'pat', 2534: 'pau', 2535: 'paw', 2536: 'pay', 2537: 'pca', 2538: 'pe-', 2539: 'pea', 2540: 'peb', 2541: 'pec', 2542: 'ped', 2543: 'peg', 2544: 'peh', 2545: 'pei', 2546: 'pej', 2547: 'pek', 2548: 'pel', 2549: 'pem', 2550: 'pen', 2551: 'peo', 2552: 'pep', 2553: 'per', 2554: 'pes', 2555: 'pet', 2556: 'peu', 2557: 'pew', 2558: 'pey', 2559: 'pez', 2560: 'pia', 2561: 'pic', 2562: 'pid', 2563: 'pie', 2564: 'pig', 2565: 'pih', 2566: 'pij', 2567: 'pik', 2568: 'pil', 2569: 'pim', 2570: 'pin', 2571: 'pio', 2572: 'pip', 2573: 'pir', 2574: 'pis', 2575: 'pit', 2576: 'piu', 2577: 'piz', 2578: 'pji', 2579: 'pka', 2580: 'pki', 2581: 'pko', 2582: 'pku', 2583: 'pla', 2584: 'ple', 2585: 'pli', 2586: 'plo', 2587: 'plu', 2588: 'pmu', 2589: 'pna', 2590: 'pno', 2591: 'pny', 2592: 'pod', 2593: 'pog', 2594: 'poh', 2595: 'poi', 2596: 'poj', 2597: 'pok', 2598: 'pol', 2599: 'pom', 2600: 'pon', 2601: 'pop', 2602: 'por', 2603: 'pos', 2604: 'pot', 2605: 'poy', 2606: 'pra', 2607: 'pre', 2608: 'pri', 2609: 'pro', 2610: 'pru', 2611: 'psi', 2612: 'pst', 2613: 'psu', 2614: 'pta', 2615: 'pte', 2616: 'pti', 2617: 'pto', 2618: 'pua', 2619: 'pub', 2620: 'puc', 2621: 'pud', 2622: 'pug', 2623: 'puh', 2624: 'pui', 2625: 'puj', 2626: 'puk', 2627: 'pul', 2628: 'pun', 2629: 'pup', 2630: 'pur', 2631: 'pus', 2632: 'put', 2633: 'puy', 2634: 'pyo', 2635: 'qil', 2636: 'qur', 2637: \"r'a\", 2638: 'r-a', 2639: 'r-b', 2640: 'r-c', 2641: 'r-h', 2642: 'r-m', 2643: 'ra-', 2644: 'raa', 2645: 'rab', 2646: 'rac', 2647: 'rad', 2648: 'rae', 2649: 'raf', 2650: 'rag', 2651: 'rah', 2652: 'rai', 2653: 'raj', 2654: 'rak', 2655: 'ral', 2656: 'ram', 2657: 'ran', 2658: 'rao', 2659: 'rap', 2660: 'rar', 2661: 'ras', 2662: 'rat', 2663: 'rau', 2664: 'rav', 2665: 'raw', 2666: 'ray', 2667: 'raz', 2668: 'rba', 2669: 'rbe', 2670: 'rbi', 2671: 'rbo', 2672: 'rbu', 2673: 'rca', 2674: 'rce', 2675: 'rci', 2676: 'rco', 2677: 'rcu', 2678: 'rda', 2679: 'rde', 2680: 'rdi', 2681: 'rdo', 2682: 'rdu', 2683: 'rdw', 2684: 'rea', 2685: 'reb', 2686: 'rec', 2687: 'red', 2688: 'ref', 2689: 'reg', 2690: 'reh', 2691: 'rei', 2692: 'rej', 2693: 'rek', 2694: 'rel', 2695: 'rem', 2696: 'ren', 2697: 'reo', 2698: 'rep', 2699: 'rer', 2700: 'res', 2701: 'ret', 2702: 'reu', 2703: 'rev', 2704: 'rew', 2705: 'rey', 2706: 'rez', 2707: 'rfa', 2708: 'rfe', 2709: 'rfi', 2710: 'rfo', 2711: 'rfr', 2712: 'rfu', 2713: 'rga', 2714: 'rge', 2715: 'rgi', 2716: 'rgo', 2717: 'rgu', 2718: 'rha', 2719: 'rhe', 2720: 'rhi', 2721: 'rho', 2722: 'rhu', 2723: 'ri-', 2724: 'ria', 2725: 'rib', 2726: 'ric', 2727: 'rid', 2728: 'rie', 2729: 'rif', 2730: 'rig', 2731: 'rih', 2732: 'rij', 2733: 'rik', 2734: 'ril', 2735: 'rim', 2736: 'rin', 2737: 'rio', 2738: 'rip', 2739: 'rir', 2740: 'ris', 2741: 'rit', 2742: 'riu', 2743: 'riv', 2744: 'riw', 2745: 'riy', 2746: 'riz', 2747: 'rja', 2748: 'rje', 2749: 'rji', 2750: 'rju', 2751: 'rka', 2752: 'rke', 2753: 'rkh', 2754: 'rki', 2755: 'rko', 2756: 'rku', 2757: 'rla', 2758: 'rle', 2759: 'rli', 2760: 'rlo', 2761: 'rlu', 2762: 'rma', 2763: 'rme', 2764: 'rmi', 2765: 'rmo', 2766: 'rmu', 2767: 'rna', 2768: 'rne', 2769: 'rng', 2770: 'rni', 2771: 'rno', 2772: 'rnu', 2773: 'rny', 2774: 'ro-', 2775: 'roa', 2776: 'rob', 2777: 'roc', 2778: 'rod', 2779: 'rof', 2780: 'rog', 2781: 'roh', 2782: 'roi', 2783: 'roj', 2784: 'rok', 2785: 'rol', 2786: 'rom', 2787: 'ron', 2788: 'rop', 2789: 'ror', 2790: 'ros', 2791: 'rot', 2792: 'rov', 2793: 'row', 2794: 'roy', 2795: 'rpa', 2796: 'rpe', 2797: 'rpi', 2798: 'rpo', 2799: 'rpr', 2800: 'rps', 2801: 'rpu', 2802: 'rra', 2803: 'rru', 2804: 'rsa', 2805: 'rse', 2806: 'rsi', 2807: 'rsk', 2808: 'rsl', 2809: 'rso', 2810: 'rsp', 2811: 'rst', 2812: 'rsu', 2813: 'rsy', 2814: 'rta', 2815: 'rte', 2816: 'rth', 2817: 'rti', 2818: 'rto', 2819: 'rtr', 2820: 'rtu', 2821: 'ru-', 2822: 'rua', 2823: 'rub', 2824: 'ruc', 2825: 'rud', 2826: 'ruf', 2827: 'rug', 2828: 'ruh', 2829: 'rui', 2830: 'ruj', 2831: 'ruk', 2832: 'rul', 2833: 'rum', 2834: 'run', 2835: 'rup', 2836: 'rur', 2837: 'rus', 2838: 'rut', 2839: 'ruw', 2840: 'ruy', 2841: 'rva', 2842: 'rve', 2843: 'rvi', 2844: 'rwa', 2845: 'rwe', 2846: 'rwi', 2847: 'rwu', 2848: 'rya', 2849: 'rza', 2850: 'rzi', 2851: 's-b', 2852: 's-c', 2853: 's-k', 2854: 's-t', 2855: \"sa'\", 2856: 'saa', 2857: 'sab', 2858: 'sad', 2859: 'saf', 2860: 'sag', 2861: 'sah', 2862: 'sai', 2863: 'saj', 2864: 'sak', 2865: 'sal', 2866: 'sam', 2867: 'san', 2868: 'sap', 2869: 'sar', 2870: 'sas', 2871: 'sat', 2872: 'sau', 2873: 'saw', 2874: 'say', 2875: 'sba', 2876: 'sbb', 2877: 'sbe', 2878: 'sbi', 2879: 'sbo', 2880: 'sbu', 2881: 'sca', 2882: 'sdi', 2883: 'se', 2884: 'sea', 2885: 'seb', 2886: 'sec', 2887: 'sed', 2888: 'see', 2889: 'seg', 2890: 'seh', 2891: 'sei', 2892: 'sej', 2893: 'sek', 2894: 'sel', 2895: 'sem', 2896: 'sen', 2897: 'seo', 2898: 'sep', 2899: 'ser', 2900: 'ses', 2901: 'set', 2902: 'seu', 2903: 'sew', 2904: 'sez', 2905: 'sfa', 2906: 'sfe', 2907: 'sfo', 2908: 'sfu', 2909: 'sha', 2910: 'she', 2911: 'shi', 2912: 'shu', 2913: 'si', 2914: 'sia', 2915: 'sib', 2916: 'sic', 2917: 'sid', 2918: 'sie', 2919: 'sif', 2920: 'sig', 2921: 'sih', 2922: 'sij', 2923: 'sik', 2924: 'sil', 2925: 'sim', 2926: 'sin', 2927: 'sio', 2928: 'sip', 2929: 'sir', 2930: 'sis', 2931: 'sit', 2932: 'siu', 2933: 'siv', 2934: 'siw', 2935: 'sji', 2936: 'sjo', 2937: 'ska', 2938: 'ske', 2939: 'ski', 2940: 'skl', 2941: 'sko', 2942: 'skr', 2943: 'sku', 2944: 'sla', 2945: 'sli', 2946: 'slo', 2947: 'sma', 2948: 'sme', 2949: 'smi', 2950: 'smo', 2951: 'smu', 2952: 'sna', 2953: 'sne', 2954: 'sni', 2955: 'sny', 2956: 'soa', 2957: 'sob', 2958: 'soc', 2959: 'sod', 2960: 'sof', 2961: 'sog', 2962: 'soh', 2963: 'soi', 2964: 'sok', 2965: 'sol', 2966: 'som', 2967: 'son', 2968: 'sop', 2969: 'sor', 2970: 'sos', 2971: 'sot', 2972: 'spa', 2973: 'spe', 2974: 'spi', 2975: 'spl', 2976: 'spo', 2977: 'spr', 2978: 'sra', 2979: 'sri', 2980: 'sru', 2981: 'ssa', 2982: 'ssi', 2983: 'ssu', 2984: 'sta', 2985: 'ste', 2986: 'sti', 2987: 'sto', 2988: 'str', 2989: 'stu', 2990: 'sua', 2991: 'sub', 2992: 'suc', 2993: 'sud', 2994: 'suf', 2995: 'sug', 2996: 'suh', 2997: 'sui', 2998: 'suj', 2999: 'suk', 3000: 'sul', 3001: 'sum', 3002: 'sun', 3003: 'sup', 3004: 'sur', 3005: 'sus', 3006: 'sut', 3007: 'suv', 3008: 'swa', 3009: 'swe', 3010: 'swi', 3011: 'swt', 3012: 'sya', 3013: 'sye', 3014: 'syg', 3015: 'syh', 3016: 'syi', 3017: 'syk', 3018: 'syo', 3019: 'syr', 3020: 'syt', 3021: 'syu', 3022: 't-g', 3023: \"ta'\", 3024: 'ta-', 3025: 'taa', 3026: 'tab', 3027: 'tac', 3028: 'tad', 3029: 'taf', 3030: 'tag', 3031: 'tah', 3032: 'tai', 3033: 'taj', 3034: 'tak', 3035: 'tal', 3036: 'tam', 3037: 'tan', 3038: 'tap', 3039: 'tar', 3040: 'tas', 3041: 'tat', 3042: 'tau', 3043: 'tav', 3044: 'taw', 3045: 'tay', 3046: 'taz', 3047: 'tba', 3048: 'tbo', 3049: 'tbr', 3050: 'tbu', 3051: 'tea', 3052: 'teb', 3053: 'ted', 3054: 'tef', 3055: 'teg', 3056: 'teh', 3057: 'tei', 3058: 'tej', 3059: 'tek', 3060: 'tel', 3061: 'tem', 3062: 'ten', 3063: 'teo', 3064: 'tep', 3065: 'ter', 3066: 'tes', 3067: 'tet', 3068: 'tew', 3069: 'tey', 3070: 'tfa', 3071: 'tfo', 3072: 'tge', 3073: 'tgl', 3074: 'the', 3075: 'tho', 3076: 'ti-', 3077: 'tia', 3078: 'tib', 3079: 'tid', 3080: 'tie', 3081: 'tif', 3082: 'tig', 3083: 'tih', 3084: 'tij', 3085: 'tik', 3086: 'til', 3087: 'tim', 3088: 'tin', 3089: 'tio', 3090: 'tip', 3091: 'tir', 3092: 'tis', 3093: 'tit', 3094: 'tiu', 3095: 'tiv', 3096: 'tiw', 3097: 'tka', 3098: 'tku', 3099: 'tla', 3100: 'tle', 3101: 'tli', 3102: 'tlo', 3103: 'tma', 3104: 'tme', 3105: 'tmo', 3106: 'tmu', 3107: 'tna', 3108: 'tni', 3109: 'tno', 3110: 'tny', 3111: 'toa', 3112: 'tob', 3113: 'tod', 3114: 'tog', 3115: 'toh', 3116: 'toi', 3117: 'tok', 3118: 'tol', 3119: 'tom', 3120: 'ton', 3121: 'top', 3122: 'tor', 3123: 'tos', 3124: 'tot', 3125: 'tpu', 3126: 'tra', 3127: 'tre', 3128: 'tri', 3129: 'tro', 3130: 'tru', 3131: 'tsa', 3132: 'tse', 3133: 'tta', 3134: 'tti', 3135: 'tu-', 3136: 'tua', 3137: 'tub', 3138: 'tud', 3139: 'tug', 3140: 'tuh', 3141: 'tui', 3142: 'tuj', 3143: 'tuk', 3144: 'tul', 3145: 'tum', 3146: 'tun', 3147: 'tup', 3148: 'tur', 3149: 'tus', 3150: 'tut', 3151: 'tuy', 3152: 'twa', 3153: \"u'j\", 3154: 'u-h', 3155: 'u-l', 3156: 'u-p', 3157: 'u-t', 3158: 'uaa', 3159: 'uab', 3160: 'uac', 3161: 'uad', 3162: 'uaf', 3163: 'uah', 3164: 'uai', 3165: 'uaj', 3166: 'uak', 3167: 'ual', 3168: 'uam', 3169: 'uan', 3170: 'uap', 3171: 'uar', 3172: 'uas', 3173: 'uat', 3174: 'uay', 3175: 'uaz', 3176: 'uba', 3177: 'ube', 3178: 'ubi', 3179: 'ubj', 3180: 'ubk', 3181: 'ubl', 3182: 'ubo', 3183: 'ubr', 3184: 'ubs', 3185: 'ubt', 3186: 'ubu', 3187: 'ubv', 3188: 'uca', 3189: 'uce', 3190: 'uci', 3191: 'uco', 3192: 'ucu', 3193: 'uda', 3194: 'ude', 3195: 'udi', 3196: 'udk', 3197: 'udm', 3198: 'udn', 3199: 'udo', 3200: 'udr', 3201: 'udu', 3202: 'uek', 3203: 'uel', 3204: 'uen', 3205: 'uet', 3206: 'ufa', 3207: 'ufe', 3208: 'ufi', 3209: 'ufl', 3210: 'uft', 3211: 'ufu', 3212: 'uga', 3213: 'ugd', 3214: 'uge', 3215: 'ugi', 3216: 'ugu', 3217: 'uh-', 3218: 'uha', 3219: 'uhi', 3220: 'uhj', 3221: 'uhk', 3222: 'uhl', 3223: 'uhn', 3224: 'uhp', 3225: 'uhr', 3226: 'uhu', 3227: 'uid', 3228: 'uif', 3229: 'uih', 3230: 'uik', 3231: 'uil', 3232: 'uin', 3233: 'uir', 3234: 'uis', 3235: 'uit', 3236: 'uiv', 3237: 'uiz', 3238: 'uja', 3239: 'uje', 3240: 'uji', 3241: 'ujt', 3242: 'uju', 3243: 'uka', 3244: 'uke', 3245: 'ukh', 3246: 'uki', 3247: 'ukj', 3248: 'ukk', 3249: 'ukl', 3250: 'ukm', 3251: 'ukn', 3252: 'uko', 3253: 'uks', 3254: 'ukt', 3255: 'uku', 3256: 'ul-', 3257: 'ula', 3258: 'ulb', 3259: 'uld', 3260: 'ule', 3261: 'ulf', 3262: 'ulg', 3263: 'ulh', 3264: 'uli', 3265: 'ulk', 3266: 'ull', 3267: 'ulm', 3268: 'uln', 3269: 'ulo', 3270: 'ulp', 3271: 'uls', 3272: 'ult', 3273: 'ulu', 3274: \"um'\", 3275: 'uma', 3276: 'umb', 3277: 'ume', 3278: 'umi', 3279: 'umk', 3280: 'uml', 3281: 'umn', 3282: 'umo', 3283: 'ump', 3284: 'umr', 3285: 'ums', 3286: 'umt', 3287: 'umu', 3288: 'un-', 3289: 'una', 3290: 'unb', 3291: 'unc', 3292: 'und', 3293: 'une', 3294: 'ung', 3295: 'uni', 3296: 'unj', 3297: 'unk', 3298: 'unn', 3299: 'uns', 3300: 'unt', 3301: 'unu', 3302: 'uny', 3303: 'uor', 3304: 'uot', 3305: 'upa', 3306: 'upe', 3307: 'upi', 3308: 'upk', 3309: 'upl', 3310: 'upm', 3311: 'upn', 3312: 'upo', 3313: 'upr', 3314: 'ups', 3315: 'upt', 3316: 'upu', 3317: \"ur'\", 3318: 'ur-', 3319: 'ura', 3320: 'urb', 3321: 'urd', 3322: 'ure', 3323: 'urg', 3324: 'urh', 3325: 'uri', 3326: 'urj', 3327: 'urk', 3328: 'url', 3329: 'urm', 3330: 'urn', 3331: 'uro', 3332: 'urs', 3333: 'urt', 3334: 'uru', 3335: 'urv', 3336: 'urw', 3337: 'ury', 3338: 'usa', 3339: 'use', 3340: 'ush', 3341: 'usi', 3342: 'usk', 3343: 'usl', 3344: 'usn', 3345: 'ust', 3346: 'usu', 3347: 'usw', 3348: 'usy', 3349: 'uta', 3350: 'utb', 3351: 'ute', 3352: 'utf', 3353: 'uti', 3354: 'utk', 3355: 'utl', 3356: 'utm', 3357: 'utn', 3358: 'uto', 3359: 'utr', 3360: 'uts', 3361: 'utu', 3362: 'uve', 3363: 'uvi', 3364: 'uwa', 3365: 'uwe', 3366: 'uwi', 3367: 'uya', 3368: 'uyo', 3369: 'uyu', 3370: 'uza', 3371: 'uze', 3372: 'uzi', 3373: 'uzu', 3374: 'vag', 3375: 'vak', 3376: 'val', 3377: 'van', 3378: 'var', 3379: 'vas', 3380: 'vat', 3381: 'veg', 3382: 'vei', 3383: 'vek', 3384: 'vel', 3385: 'ven', 3386: 'veo', 3387: 'ver', 3388: 'ves', 3389: 'vet', 3390: 'vga', 3391: 'via', 3392: 'vid', 3393: 'vie', 3394: 'vig', 3395: 'vik', 3396: 'vil', 3397: 'vin', 3398: 'vio', 3399: 'vir', 3400: 'vis', 3401: 'vit', 3402: 'viu', 3403: 'voi', 3404: 'vok', 3405: 'vol', 3406: 'von', 3407: 'vor', 3408: 'vos', 3409: 'vul', 3410: 'waa', 3411: 'wab', 3412: 'wac', 3413: 'wad', 3414: 'waf', 3415: 'wag', 3416: 'wah', 3417: 'wai', 3418: 'waj', 3419: 'wak', 3420: 'wal', 3421: 'wam', 3422: 'wan', 3423: 'war', 3424: 'was', 3425: 'wat', 3426: 'waw', 3427: 'way', 3428: 'waz', 3429: 'wee', 3430: 'wej', 3431: 'wek', 3432: 'wel', 3433: 'wen', 3434: 'wer', 3435: 'wes', 3436: 'wet', 3437: 'wew', 3438: 'wia', 3439: 'wib', 3440: 'wid', 3441: 'wif', 3442: 'wig', 3443: 'wih', 3444: 'wij', 3445: 'wil', 3446: 'wim', 3447: 'win', 3448: 'wip', 3449: 'wir', 3450: 'wis', 3451: 'wit', 3452: 'wiw', 3453: 'wok', 3454: 'wol', 3455: 'won', 3456: 'wor', 3457: 'wot', 3458: 'wud', 3459: 'wuf', 3460: 'wuh', 3461: 'wuj', 3462: 'wul', 3463: 'wur', 3464: 'wus', 3465: 'wut', 3466: 'ya-', 3467: 'yaa', 3468: 'yab', 3469: 'yad', 3470: 'yaf', 3471: 'yah', 3472: 'yai', 3473: 'yaj', 3474: 'yak', 3475: 'yal', 3476: 'yam', 3477: 'yan', 3478: 'yap', 3479: 'yar', 3480: 'yas', 3481: 'yat', 3482: 'yau', 3483: 'yaw', 3484: 'yay', 3485: 'yea', 3486: 'yeb', 3487: 'yed', 3488: 'yeg', 3489: 'yeh', 3490: 'yej', 3491: 'yek', 3492: 'yel', 3493: 'yem', 3494: 'yen', 3495: 'yep', 3496: 'yer', 3497: 'yes', 3498: 'yet', 3499: 'yew', 3500: 'ygu', 3501: 'yhu', 3502: 'yia', 3503: 'yib', 3504: 'yid', 3505: 'yif', 3506: 'yih', 3507: 'yik', 3508: 'yil', 3509: 'yim', 3510: 'yin', 3511: 'yir', 3512: 'yis', 3513: 'yit', 3514: 'yki', 3515: 'yoa', 3516: 'yod', 3517: 'yog', 3518: 'yoh', 3519: 'yok', 3520: 'yol', 3521: 'yom', 3522: 'yon', 3523: 'yor', 3524: 'yot', 3525: 'yri', 3526: 'yta', 3527: 'yti', 3528: 'yu', 3529: 'yua', 3530: 'yub', 3531: 'yuc', 3532: 'yud', 3533: 'yuh', 3534: 'yuk', 3535: 'yul', 3536: 'yum', 3537: 'yun', 3538: 'yup', 3539: 'yur', 3540: 'yus', 3541: 'yut', 3542: 'zab', 3543: 'zah', 3544: 'zai', 3545: 'zak', 3546: 'zal', 3547: 'zam', 3548: 'zan', 3549: 'zap', 3550: 'zar', 3551: 'zat', 3552: 'zba', 3553: 'zeb', 3554: 'zek', 3555: 'zen', 3556: 'zer', 3557: 'zha', 3558: 'zia', 3559: 'zik', 3560: 'zil', 3561: 'zim', 3562: 'zin', 3563: 'zir', 3564: 'zma', 3565: 'zmu', 3566: 'zoh', 3567: 'zoi', 3568: 'zok', 3569: 'zon', 3570: 'zua', 3571: 'zuh', 3572: 'zul', 3573: 'zur', 3574: 'zza'}\n",
      "test grp 3575 {0: '<SOS>', 1: '<EOS>', 2: '<PAD>', 3: '<UNK>', 4: \"'ah\", 5: \"'an\", 6: \"'at\", 7: \"'ay\", 8: \"'ba\", 9: \"'da\", 10: \"'du\", 11: \"'ha\", 12: \"'ji\", 13: \"'na\", 14: \"'on\", 15: \"'ri\", 16: \"'un\", 17: '--i', 18: '--n', 19: '-ab', 20: '-ad', 21: '-ak', 22: '-al', 23: '-an', 24: '-ap', 25: '-ar', 26: '-ba', 27: '-be', 28: '-bi', 29: '-bl', 30: '-bo', 31: '-ca', 32: '-ci', 33: '-co', 34: '-cu', 35: '-de', 36: '-di', 37: '-du', 38: '-el', 39: '-ga', 40: '-go', 41: '-gu', 42: '-ha', 43: '-hi', 44: '-is', 45: '-ja', 46: '-je', 47: '-ka', 48: '-ku', 49: '-la', 50: '-le', 51: '-li', 52: '-ma', 53: '-me', 54: '-mi', 55: '-mo', 56: '-ne', 57: '-nu', 58: '-ny', 59: '-pa', 60: '-pi', 61: '-pl', 62: '-po', 63: '-qu', 64: '-ra', 65: '-sa', 66: '-se', 67: '-si', 68: '-su', 69: '-ta', 70: '-te', 71: '-ti', 72: '-tu', 73: '-ub', 74: '-un', 75: '-ur', 76: '-wa', 77: \"a'a\", 78: \"a'b\", 79: \"a'd\", 80: \"a'h\", 81: \"a'i\", 82: \"a'n\", 83: \"a'r\", 84: \"a'u\", 85: 'a-a', 86: 'a-c', 87: 'a-g', 88: 'a-j', 89: 'a-k', 90: 'a-m', 91: 'a-n', 92: 'a-p', 93: 'a-r', 94: 'a-u', 95: 'aad', 96: 'aaf', 97: 'aah', 98: 'aai', 99: 'aal', 100: 'aan', 101: 'aar', 102: 'aat', 103: 'aay', 104: 'ab', 105: 'aba', 106: 'abd', 107: 'abe', 108: 'abi', 109: 'abj', 110: 'abk', 111: 'abl', 112: 'abn', 113: 'abo', 114: 'abr', 115: 'abs', 116: 'abt', 117: 'abu', 118: 'aca', 119: 'ace', 120: 'aci', 121: 'aco', 122: 'acu', 123: 'ada', 124: 'adb', 125: 'ade', 126: 'adh', 127: 'adi', 128: 'adj', 129: 'adk', 130: 'adm', 131: 'ado', 132: 'adr', 133: 'ads', 134: 'adu', 135: 'adv', 136: 'adw', 137: 'adz', 138: 'aed', 139: 'aem', 140: 'aen', 141: 'aer', 142: 'afa', 143: 'afd', 144: 'afe', 145: 'afi', 146: 'afk', 147: 'afn', 148: 'afo', 149: 'afr', 150: 'afs', 151: 'aft', 152: 'afw', 153: 'ag-', 154: 'aga', 155: 'age', 156: 'agh', 157: 'agi', 158: 'agl', 159: 'agm', 160: 'agn', 161: 'ago', 162: 'agr', 163: 'agu', 164: 'ah', 165: 'ah-', 166: 'aha', 167: 'ahb', 168: 'ahd', 169: 'ahe', 170: 'ahg', 171: 'ahi', 172: 'ahj', 173: 'ahk', 174: 'ahl', 175: 'ahm', 176: 'ahn', 177: 'aho', 178: 'ahr', 179: 'ahs', 180: 'aht', 181: 'ahu', 182: 'ahw', 183: 'ahy', 184: 'aia', 185: 'aib', 186: 'aic', 187: 'aid', 188: 'aif', 189: 'aih', 190: 'aij', 191: 'aik', 192: 'ail', 193: 'aim', 194: 'ain', 195: 'aip', 196: 'air', 197: 'ais', 198: 'ait', 199: 'aiw', 200: 'aiz', 201: 'aja', 202: 'aje', 203: 'aji', 204: 'ajl', 205: 'ajn', 206: 'ajo', 207: 'aju', 208: 'ajw', 209: 'ak-', 210: 'aka', 211: 'akb', 212: 'akc', 213: 'akd', 214: 'ake', 215: 'akh', 216: 'aki', 217: 'akj', 218: 'akk', 219: 'akl', 220: 'akm', 221: 'akn', 222: 'ako', 223: 'akp', 224: 'akr', 225: 'aks', 226: 'akt', 227: 'aku', 228: 'akw', 229: 'aky', 230: 'akz', 231: 'al', 232: 'al-', 233: 'ala', 234: 'alb', 235: 'ald', 236: 'ale', 237: 'alf', 238: 'alg', 239: 'alh', 240: 'ali', 241: 'alj', 242: 'alk', 243: 'all', 244: 'alm', 245: 'aln', 246: 'alo', 247: 'alp', 248: 'als', 249: 'alt', 250: 'alu', 251: 'alv', 252: 'alw', 253: 'am', 254: 'ama', 255: 'amb', 256: 'amc', 257: 'amd', 258: 'ame', 259: 'amf', 260: 'ami', 261: 'amk', 262: 'amn', 263: 'amo', 264: 'amp', 265: 'amr', 266: 'ams', 267: 'amt', 268: 'amu', 269: 'amz', 270: 'ana', 271: 'anb', 272: 'anc', 273: 'and', 274: 'ane', 275: 'anf', 276: 'ang', 277: 'ani', 278: 'anj', 279: 'ank', 280: 'anl', 281: 'anm', 282: 'ann', 283: 'ano', 284: 'anp', 285: 'ans', 286: 'ant', 287: 'anu', 288: 'anw', 289: 'any', 290: 'anz', 291: 'aok', 292: 'aos', 293: 'apa', 294: 'apc', 295: 'ape', 296: 'api', 297: 'apj', 298: 'apk', 299: 'apl', 300: 'apn', 301: 'apo', 302: 'apr', 303: 'aps', 304: 'apt', 305: 'apu', 306: 'aqi', 307: 'ar-', 308: 'ara', 309: 'arb', 310: 'arc', 311: 'ard', 312: 'are', 313: 'arf', 314: 'arg', 315: 'arh', 316: 'ari', 317: 'arj', 318: 'ark', 319: 'arl', 320: 'arm', 321: 'arn', 322: 'aro', 323: 'arp', 324: 'arr', 325: 'ars', 326: 'art', 327: 'aru', 328: 'arw', 329: 'ary', 330: 'arz', 331: 'as', 332: 'as-', 333: 'asa', 334: 'asb', 335: 'asc', 336: 'ase', 337: 'asf', 338: 'ash', 339: 'asi', 340: 'asj', 341: 'ask', 342: 'asl', 343: 'asm', 344: 'asn', 345: 'aso', 346: 'asp', 347: 'asr', 348: 'ass', 349: 'ast', 350: 'asu', 351: 'asw', 352: 'asy', 353: 'at-', 354: 'ata', 355: 'atb', 356: 'ate', 357: 'atf', 358: 'ath', 359: 'ati', 360: 'atk', 361: 'atl', 362: 'atm', 363: 'atn', 364: 'ato', 365: 'atp', 366: 'atr', 367: 'att', 368: 'atu', 369: 'atw', 370: 'au', 371: 'aua', 372: 'aub', 373: 'aud', 374: 'auf', 375: 'aug', 376: 'auh', 377: 'aui', 378: 'auj', 379: 'auk', 380: 'aul', 381: 'aum', 382: 'aun', 383: 'aup', 384: 'aur', 385: 'aus', 386: 'aut', 387: 'auz', 388: 'ava', 389: 'ave', 390: 'avg', 391: 'avi', 392: 'avo', 393: 'awa', 394: 'awe', 395: 'awi', 396: 'awo', 397: 'awu', 398: 'aya', 399: 'aye', 400: 'ayi', 401: 'ayo', 402: 'ayu', 403: 'aza', 404: 'azb', 405: 'aze', 406: 'azh', 407: 'azi', 408: 'azm', 409: 'azo', 410: 'azu', 411: 'ba', 412: \"ba'\", 413: 'baa', 414: 'bab', 415: 'bac', 416: 'bad', 417: 'bag', 418: 'bah', 419: 'bai', 420: 'baj', 421: 'bak', 422: 'bal', 423: 'bam', 424: 'ban', 425: 'bap', 426: 'bar', 427: 'bas', 428: 'bat', 429: 'bau', 430: 'baw', 431: 'bay', 432: 'baz', 433: 'bda', 434: 'bdi', 435: 'bdo', 436: 'bdu', 437: 'be', 438: 'bea', 439: 'beb', 440: 'bec', 441: 'bed', 442: 'beg', 443: 'beh', 444: 'bei', 445: 'bej', 446: 'bek', 447: 'bel', 448: 'bem', 449: 'ben', 450: 'beo', 451: 'bep', 452: 'ber', 453: 'bes', 454: 'bet', 455: 'bew', 456: 'bez', 457: 'bha', 458: 'bi', 459: 'bia', 460: 'bib', 461: 'bic', 462: 'bid', 463: 'big', 464: 'bih', 465: 'bii', 466: 'bij', 467: 'bik', 468: 'bil', 469: 'bim', 470: 'bin', 471: 'bio', 472: 'bip', 473: 'bir', 474: 'bis', 475: 'bit', 476: 'biu', 477: 'biv', 478: 'biz', 479: 'bja', 480: 'bje', 481: 'bka', 482: 'bku', 483: 'bla', 484: 'ble', 485: 'bli', 486: 'blo', 487: 'blu', 488: 'bmu', 489: 'bno', 490: 'bnu', 491: 'bny', 492: 'bob', 493: 'boc', 494: 'bod', 495: 'bog', 496: 'boh', 497: 'boi', 498: 'boj', 499: 'bok', 500: 'bol', 501: 'bom', 502: 'bon', 503: 'bop', 504: 'bor', 505: 'bos', 506: 'bot', 507: 'boy', 508: 'boz', 509: 'bra', 510: 'bre', 511: 'bri', 512: 'bro', 513: 'bru', 514: 'bsa', 515: 'bse', 516: 'bsi', 517: 'bso', 518: 'bst', 519: 'bsu', 520: 'bta', 521: 'btr', 522: 'bu', 523: 'bua', 524: 'bub', 525: 'buc', 526: 'bud', 527: 'buf', 528: 'bug', 529: 'buh', 530: 'bui', 531: 'buj', 532: 'buk', 533: 'bul', 534: 'bum', 535: 'bun', 536: 'bup', 537: 'bur', 538: 'bus', 539: 'but', 540: 'buy', 541: 'bve', 542: 'bya', 543: 'caa', 544: 'cab', 545: 'cac', 546: 'cad', 547: 'cae', 548: 'cag', 549: 'cah', 550: 'cai', 551: 'cak', 552: 'cal', 553: 'cam', 554: 'can', 555: 'cao', 556: 'cap', 557: 'car', 558: 'cas', 559: 'cat', 560: 'cau', 561: 'caw', 562: 'cay', 563: 'ce', 564: \"ce'\", 565: 'ceb', 566: 'cec', 567: 'ced', 568: 'ceg', 569: 'ceh', 570: 'cek', 571: 'cel', 572: 'cem', 573: 'cen', 574: 'cep', 575: 'cer', 576: 'ces', 577: 'cet', 578: 'cew', 579: 'chi', 580: 'ci', 581: 'cia', 582: 'cib', 583: 'cic', 584: 'cid', 585: 'cig', 586: 'cih', 587: 'cik', 588: 'cil', 589: 'cim', 590: 'cin', 591: 'cip', 592: 'cir', 593: 'cis', 594: 'cit', 595: 'ciu', 596: 'cm', 597: 'coa', 598: 'cob', 599: 'coc', 600: 'cod', 601: 'cog', 602: 'coh', 603: 'cok', 604: 'col', 605: 'com', 606: 'con', 607: 'cop', 608: 'cor', 609: 'cos', 610: 'cot', 611: 'cow', 612: 'cra', 613: 'cre', 614: 'cri', 615: 'cua', 616: 'cub', 617: 'cuc', 618: 'cud', 619: 'cue', 620: 'cuh', 621: 'cui', 622: 'cuk', 623: 'cul', 624: 'cum', 625: 'cun', 626: 'cup', 627: 'cur', 628: 'cus', 629: 'cut', 630: \"d'a\", 631: \"da'\", 632: 'daa', 633: 'dab', 634: 'dac', 635: 'dad', 636: 'dae', 637: 'daf', 638: 'dag', 639: 'dah', 640: 'dai', 641: 'daj', 642: 'dak', 643: 'dal', 644: 'dam', 645: 'dan', 646: 'dap', 647: 'dar', 648: 'das', 649: 'dat', 650: 'dau', 651: 'daw', 652: 'day', 653: 'dbi', 654: 'de', 655: 'dea', 656: 'deb', 657: 'dec', 658: 'ded', 659: 'dee', 660: 'def', 661: 'deg', 662: 'deh', 663: 'dek', 664: 'del', 665: 'dem', 666: 'den', 667: 'deo', 668: 'dep', 669: 'der', 670: 'des', 671: 'det', 672: 'dev', 673: 'dew', 674: 'dha', 675: 'dhe', 676: 'di', 677: 'dia', 678: 'dib', 679: 'dic', 680: 'did', 681: 'die', 682: 'dif', 683: 'dig', 684: 'dih', 685: 'dii', 686: 'dij', 687: 'dik', 688: 'dil', 689: 'dim', 690: 'din', 691: 'dio', 692: 'dip', 693: 'dir', 694: 'dis', 695: 'dit', 696: 'diu', 697: 'div', 698: 'diw', 699: 'diy', 700: 'dje', 701: 'dka', 702: 'dma', 703: 'dmi', 704: 'dmu', 705: 'dny', 706: 'do', 707: 'doa', 708: 'dob', 709: 'doc', 710: 'dod', 711: 'dog', 712: 'doh', 713: 'doi', 714: 'dok', 715: 'dol', 716: 'dom', 717: 'don', 718: 'dop', 719: 'dor', 720: 'dos', 721: 'dot', 722: 'dow', 723: 'doy', 724: 'dr', 725: 'dra', 726: 'dre', 727: 'dri', 728: 'dro', 729: 'dru', 730: 'dsk', 731: 'dso', 732: 'dua', 733: 'dub', 734: 'dud', 735: 'due', 736: 'dug', 737: 'duh', 738: 'dui', 739: 'duk', 740: 'dul', 741: 'dum', 742: 'dun', 743: 'dup', 744: 'dur', 745: 'dus', 746: 'dut', 747: 'duw', 748: 'duy', 749: 'dve', 750: 'dvi', 751: 'dvo', 752: 'dwa', 753: 'dwi', 754: 'dya', 755: 'dzi', 756: 'e-t', 757: 'eab', 758: 'ead', 759: 'eag', 760: 'eah', 761: 'eai', 762: 'eaj', 763: 'eak', 764: 'eal', 765: 'eam', 766: 'ean', 767: 'ear', 768: 'eas', 769: 'eat', 770: 'eau', 771: 'eaw', 772: 'eay', 773: 'eaz', 774: 'eba', 775: 'ebe', 776: 'ebi', 777: 'ebl', 778: 'ebo', 779: 'ebr', 780: 'ebu', 781: 'eby', 782: 'eca', 783: 'ece', 784: 'eci', 785: 'eco', 786: 'ecr', 787: 'ecu', 788: 'eda', 789: 'ede', 790: 'edh', 791: 'edi', 792: 'edo', 793: 'edr', 794: 'edu', 795: 'edw', 796: 'eed', 797: 'eeh', 798: 'eek', 799: 'eel', 800: 'een', 801: 'eer', 802: 'ees', 803: 'ef', 804: 'efa', 805: 'efe', 806: 'efi', 807: 'efl', 808: 'efo', 809: 'ega', 810: 'ege', 811: 'egi', 812: 'egm', 813: 'ego', 814: 'egr', 815: 'egu', 816: 'eh', 817: 'eha', 818: 'ehe', 819: 'ehi', 820: 'ehk', 821: 'ehn', 822: 'eho', 823: 'ehu', 824: 'eia', 825: 'eib', 826: 'eid', 827: 'eie', 828: 'eig', 829: 'eik', 830: 'eil', 831: 'eim', 832: 'ein', 833: 'eir', 834: 'eis', 835: 'eiz', 836: 'eja', 837: 'eje', 838: 'eji', 839: 'ejo', 840: 'eju', 841: 'ek-', 842: 'eka', 843: 'ekc', 844: 'ekd', 845: 'eke', 846: 'ekh', 847: 'eki', 848: 'ekk', 849: 'ekl', 850: 'ekm', 851: 'ekn', 852: 'eko', 853: 'ekp', 854: 'ekr', 855: 'eks', 856: 'ekt', 857: 'eku', 858: 'ekw', 859: 'el', 860: 'ela', 861: 'elb', 862: 'eld', 863: 'ele', 864: 'eli', 865: 'elk', 866: 'elm', 867: 'eln', 868: 'elo', 869: 'elp', 870: 'elt', 871: 'elu', 872: 'elv', 873: 'em', 874: 'ema', 875: 'emb', 876: 'eme', 877: 'emf', 878: 'emi', 879: 'eml', 880: 'emo', 881: 'emp', 882: 'emr', 883: 'emu', 884: 'ena', 885: 'enc', 886: 'end', 887: 'ene', 888: 'eng', 889: 'enh', 890: 'eni', 891: 'enj', 892: 'enk', 893: 'enm', 894: 'enn', 895: 'eno', 896: 'ens', 897: 'ent', 898: 'enu', 899: 'env', 900: 'eny', 901: 'enz', 902: 'eod', 903: 'eof', 904: 'eog', 905: 'eok', 906: 'eol', 907: 'eom', 908: 'eon', 909: 'eop', 910: 'eor', 911: 'eos', 912: 'eot', 913: 'epa', 914: 'epe', 915: 'epi', 916: 'epl', 917: 'epo', 918: 'epr', 919: 'eps', 920: 'ept', 921: 'epu', 922: 'er-', 923: 'era', 924: 'erb', 925: 'erc', 926: 'erd', 927: 'ere', 928: 'erf', 929: 'erg', 930: 'erh', 931: 'eri', 932: 'erj', 933: 'erk', 934: 'erl', 935: 'erm', 936: 'ern', 937: 'ero', 938: 'erp', 939: 'ers', 940: 'ert', 941: 'eru', 942: 'erv', 943: 'erw', 944: 'erz', 945: 'es', 946: 'esa', 947: 'ese', 948: 'esi', 949: 'esk', 950: 'esl', 951: 'esm', 952: 'eso', 953: 'esp', 954: 'esr', 955: 'est', 956: 'esu', 957: 'esy', 958: 'eta', 959: 'ete', 960: 'eti', 961: 'etk', 962: 'etn', 963: 'eto', 964: 'etr', 965: 'ets', 966: 'ett', 967: 'etu', 968: 'eua', 969: 'eud', 970: 'eul', 971: 'eum', 972: 'eun', 973: 'eus', 974: 'eut', 975: 'euz', 976: 'eva', 977: 'eve', 978: 'evi', 979: 'evo', 980: 'ewa', 981: 'ewe', 982: 'ewi', 983: 'ewo', 984: 'ewu', 985: 'eya', 986: 'eye', 987: 'eyo', 988: 'eza', 989: 'eze', 990: 'ezi', 991: 'faa', 992: 'fab', 993: 'fad', 994: 'fae', 995: 'fah', 996: 'fai', 997: 'faj', 998: 'fak', 999: 'fal', 1000: 'fam', 1001: 'fan', 1002: 'far', 1003: 'fas', 1004: 'fat', 1005: 'fau', 1006: 'fav', 1007: 'fay', 1008: 'faz', 1009: 'fba', 1010: 'fda', 1011: 'fde', 1012: 'fdr', 1013: 'fed', 1014: 'fek', 1015: 'fel', 1016: 'fem', 1017: 'fen', 1018: 'feo', 1019: 'fer', 1020: 'fes', 1021: 'fet', 1022: 'fia', 1023: 'fib', 1024: 'fid', 1025: 'fig', 1026: 'fik', 1027: 'fil', 1028: 'fin', 1029: 'fir', 1030: 'fis', 1031: 'fit', 1032: 'fka', 1033: 'fla', 1034: 'fle', 1035: 'fli', 1036: 'flo', 1037: 'flu', 1038: 'fna', 1039: 'fob', 1040: 'fok', 1041: 'fol', 1042: 'fon', 1043: 'for', 1044: 'fos', 1045: 'fot', 1046: 'foy', 1047: 'fra', 1048: 'fre', 1049: 'fri', 1050: 'fro', 1051: 'fru', 1052: 'fsi', 1053: 'fsu', 1054: 'fta', 1055: 'fte', 1056: 'fti', 1057: 'fto', 1058: 'fua', 1059: 'fug', 1060: 'fuk', 1061: 'ful', 1062: 'fun', 1063: 'fur', 1064: 'fus', 1065: 'fut', 1066: 'fwa', 1067: 'g--', 1068: 'g-b', 1069: 'g-c', 1070: 'g-d', 1071: 'g-j', 1072: 'g-p', 1073: 'g-t', 1074: 'g-u', 1075: 'ga-', 1076: 'gaa', 1077: 'gab', 1078: 'gac', 1079: 'gad', 1080: 'gaf', 1081: 'gag', 1082: 'gah', 1083: 'gai', 1084: 'gaj', 1085: 'gak', 1086: 'gal', 1087: 'gam', 1088: 'gan', 1089: 'gao', 1090: 'gap', 1091: 'gar', 1092: 'gas', 1093: 'gat', 1094: 'gau', 1095: 'gaw', 1096: 'gay', 1097: 'gaz', 1098: 'gbe', 1099: 'gbr', 1100: 'gbu', 1101: 'gca', 1102: 'gco', 1103: 'gda', 1104: 'gde', 1105: 'gdo', 1106: 'gdu', 1107: 'gea', 1108: 'geb', 1109: 'gec', 1110: 'ged', 1111: 'gef', 1112: 'geg', 1113: 'geh', 1114: 'gej', 1115: 'gek', 1116: 'gel', 1117: 'gem', 1118: 'gen', 1119: 'geo', 1120: 'gep', 1121: 'ger', 1122: 'ges', 1123: 'get', 1124: 'gev', 1125: 'gfu', 1126: 'gga', 1127: 'gge', 1128: 'ggi', 1129: 'ggl', 1130: 'ggo', 1131: 'ggr', 1132: 'ggu', 1133: 'gha', 1134: 'ghe', 1135: 'ghf', 1136: 'ghi', 1137: 'gho', 1138: 'ghr', 1139: 'ghu', 1140: 'ghy', 1141: 'gi-', 1142: 'gia', 1143: 'gib', 1144: 'gid', 1145: 'gig', 1146: 'gih', 1147: 'gik', 1148: 'gil', 1149: 'gim', 1150: 'gin', 1151: 'gio', 1152: 'gip', 1153: 'gir', 1154: 'gis', 1155: 'git', 1156: 'giu', 1157: 'giz', 1158: 'gja', 1159: 'gka', 1160: 'gke', 1161: 'gkh', 1162: 'gki', 1163: 'gkl', 1164: 'gko', 1165: 'gkr', 1166: 'gku', 1167: 'gla', 1168: 'gle', 1169: 'gli', 1170: 'glo', 1171: 'glu', 1172: 'gma', 1173: 'gme', 1174: 'gna', 1175: 'gne', 1176: 'gni', 1177: 'gno', 1178: 'gny', 1179: 'go-', 1180: 'goa', 1181: 'gob', 1182: 'goc', 1183: 'god', 1184: 'gog', 1185: 'goh', 1186: 'goi', 1187: 'goj', 1188: 'gok', 1189: 'gol', 1190: 'gom', 1191: 'gon', 1192: 'gop', 1193: 'gor', 1194: 'gos', 1195: 'got', 1196: 'goy', 1197: 'gpa', 1198: 'gpo', 1199: 'gra', 1200: 'gre', 1201: 'gri', 1202: 'gro', 1203: 'gru', 1204: 'gsa', 1205: 'gse', 1206: 'gsi', 1207: 'gso', 1208: 'gst', 1209: 'gsu', 1210: 'gta', 1211: 'gti', 1212: 'gtu', 1213: 'gua', 1214: 'gub', 1215: 'guc', 1216: 'gud', 1217: 'gue', 1218: 'gug', 1219: 'guh', 1220: 'gui', 1221: 'guj', 1222: 'guk', 1223: 'gul', 1224: 'gum', 1225: 'gun', 1226: 'gup', 1227: 'gur', 1228: 'gus', 1229: 'gut', 1230: 'guy', 1231: 'h-a', 1232: 'h-b', 1233: 'h-s', 1234: 'h-t', 1235: 'ha', 1236: 'haa', 1237: 'hab', 1238: 'had', 1239: 'hae', 1240: 'haf', 1241: 'hag', 1242: 'hah', 1243: 'hai', 1244: 'haj', 1245: 'hak', 1246: 'hal', 1247: 'ham', 1248: 'han', 1249: 'hap', 1250: 'har', 1251: 'has', 1252: 'hat', 1253: 'hau', 1254: 'haw', 1255: 'hay', 1256: 'haz', 1257: 'hba', 1258: 'hbi', 1259: 'hdi', 1260: 'heb', 1261: 'hei', 1262: 'hek', 1263: 'hel', 1264: 'hem', 1265: 'hen', 1266: 'her', 1267: 'hes', 1268: 'het', 1269: 'heu', 1270: 'hew', 1271: 'hfa', 1272: 'hgu', 1273: 'hia', 1274: 'hib', 1275: 'hid', 1276: 'hie', 1277: 'hih', 1278: 'hij', 1279: 'hik', 1280: 'hil', 1281: 'him', 1282: 'hin', 1283: 'hip', 1284: 'hir', 1285: 'his', 1286: 'hit', 1287: 'hiu', 1288: 'hja', 1289: 'hji', 1290: 'hka', 1291: 'hko', 1292: 'hku', 1293: 'hla', 1294: 'hli', 1295: 'hlu', 1296: 'hma', 1297: 'hmu', 1298: 'hni', 1299: 'hny', 1300: 'hob', 1301: 'hod', 1302: 'hok', 1303: 'hol', 1304: 'hom', 1305: 'hon', 1306: 'hor', 1307: 'hos', 1308: 'hot', 1309: 'hpu', 1310: 'hra', 1311: 'hri', 1312: 'hru', 1313: 'hsa', 1314: 'hsi', 1315: 'hsy', 1316: 'hta', 1317: 'hte', 1318: 'hti', 1319: 'hua', 1320: 'hub', 1321: 'hud', 1322: 'hui', 1323: 'huj', 1324: 'huk', 1325: 'hul', 1326: 'hum', 1327: 'hun', 1328: 'hur', 1329: 'hus', 1330: 'hut', 1331: 'huy', 1332: 'hwa', 1333: 'hwe', 1334: 'hwi', 1335: 'hya', 1336: 'hyu', 1337: 'i-b', 1338: 'i-h', 1339: 'i-k', 1340: 'i-l', 1341: 'i-n', 1342: 'i-r', 1343: 'i-t', 1344: 'ia', 1345: 'ia-', 1346: 'iaa', 1347: 'iab', 1348: 'iac', 1349: 'iad', 1350: 'iag', 1351: 'iah', 1352: 'iai', 1353: 'iaj', 1354: 'iak', 1355: 'ial', 1356: 'iam', 1357: 'ian', 1358: 'iap', 1359: 'iar', 1360: 'ias', 1361: 'iat', 1362: 'iau', 1363: 'iaw', 1364: 'iay', 1365: 'iba', 1366: 'ibe', 1367: 'ibi', 1368: 'ibk', 1369: 'ibl', 1370: 'ibm', 1371: 'ibn', 1372: 'ibo', 1373: 'ibr', 1374: 'ibu', 1375: 'ica', 1376: 'ice', 1377: 'ici', 1378: 'ico', 1379: 'icu', 1380: 'id', 1381: \"id'\", 1382: 'ida', 1383: 'ide', 1384: 'idi', 1385: 'idm', 1386: 'idn', 1387: 'ido', 1388: 'idr', 1389: 'idu', 1390: 'idy', 1391: 'ieb', 1392: 'iek', 1393: 'iel', 1394: 'ien', 1395: 'ier', 1396: 'ies', 1397: 'iet', 1398: 'ifa', 1399: 'ifb', 1400: 'ife', 1401: 'ifi', 1402: 'ifk', 1403: 'ifo', 1404: 'ift', 1405: 'ifu', 1406: 'ig-', 1407: 'iga', 1408: 'igd', 1409: 'ige', 1410: 'igh', 1411: 'igi', 1412: 'igm', 1413: 'ign', 1414: 'igo', 1415: 'igr', 1416: 'igu', 1417: 'ih-', 1418: 'iha', 1419: 'ihe', 1420: 'ihi', 1421: 'ihk', 1422: 'ihn', 1423: 'iho', 1424: 'ihs', 1425: 'ihu', 1426: 'ihw', 1427: 'iik', 1428: 'iim', 1429: 'iin', 1430: 'iir', 1431: 'iis', 1432: 'iiz', 1433: 'ija', 1434: 'ije', 1435: 'iji', 1436: 'ijr', 1437: 'ijt', 1438: 'iju', 1439: 'ik-', 1440: 'ika', 1441: 'ike', 1442: 'ikh', 1443: 'iki', 1444: 'ikk', 1445: 'ikl', 1446: 'ikm', 1447: 'ikn', 1448: 'iko', 1449: 'ikr', 1450: 'iks', 1451: 'ikt', 1452: 'iku', 1453: 'il-', 1454: 'ila', 1455: 'ile', 1456: 'ilf', 1457: 'ilh', 1458: 'ili', 1459: 'ilk', 1460: 'ill', 1461: 'ilm', 1462: 'iln', 1463: 'ilo', 1464: 'ils', 1465: 'ilt', 1466: 'ilu', 1467: 'ilw', 1468: 'ily', 1469: 'ima', 1470: 'imb', 1471: 'ime', 1472: 'imf', 1473: 'imi', 1474: 'imk', 1475: 'imn', 1476: 'imo', 1477: 'imp', 1478: 'ims', 1479: 'imu', 1480: 'in-', 1481: 'ina', 1482: 'inc', 1483: 'ind', 1484: 'ine', 1485: 'inf', 1486: 'ing', 1487: 'inh', 1488: 'ini', 1489: 'inj', 1490: 'ink', 1491: 'inn', 1492: 'ino', 1493: 'inp', 1494: 'ins', 1495: 'int', 1496: 'inu', 1497: 'inv', 1498: 'iny', 1499: 'io-', 1500: 'ioa', 1501: 'iob', 1502: 'iod', 1503: 'iof', 1504: 'iog', 1505: 'iok', 1506: 'iol', 1507: 'iom', 1508: 'ion', 1509: 'iop', 1510: 'ior', 1511: 'ios', 1512: 'iot', 1513: 'iov', 1514: 'ipa', 1515: 'ipe', 1516: 'ipi', 1517: 'ipk', 1518: 'ipl', 1519: 'ipn', 1520: 'ipo', 1521: 'ipr', 1522: 'ips', 1523: 'ipt', 1524: 'ipu', 1525: 'ira', 1526: 'irb', 1527: 'irc', 1528: 'ird', 1529: 'ire', 1530: 'irg', 1531: 'irh', 1532: 'iri', 1533: 'irj', 1534: 'irk', 1535: 'irm', 1536: 'irn', 1537: 'iro', 1538: 'irs', 1539: 'iru', 1540: 'is-', 1541: 'isa', 1542: 'isb', 1543: 'isc', 1544: 'isd', 1545: 'ise', 1546: 'isf', 1547: 'ish', 1548: 'isi', 1549: 'isj', 1550: 'isk', 1551: 'isl', 1552: 'ism', 1553: 'isn', 1554: 'iso', 1555: 'isp', 1556: 'isr', 1557: 'iss', 1558: 'ist', 1559: 'isu', 1560: 'isw', 1561: 'isy', 1562: 'ita', 1563: 'ite', 1564: 'ith', 1565: 'iti', 1566: 'itk', 1567: 'itl', 1568: 'itm', 1569: 'itn', 1570: 'ito', 1571: 'itp', 1572: 'itr', 1573: 'itu', 1574: 'iub', 1575: 'iuc', 1576: 'iuh', 1577: 'iuj', 1578: 'iuk', 1579: 'iul', 1580: 'ium', 1581: 'iun', 1582: 'iup', 1583: 'iur', 1584: 'ius', 1585: 'iut', 1586: 'iva', 1587: 'ive', 1588: 'ivi', 1589: 'ivo', 1590: 'iwa', 1591: 'iwe', 1592: 'iwi', 1593: 'iwu', 1594: 'iya', 1595: 'iyi', 1596: 'iza', 1597: 'ize', 1598: 'izi', 1599: 'izu', 1600: 'izz', 1601: 'jaa', 1602: 'jab', 1603: 'jad', 1604: 'jag', 1605: 'jah', 1606: 'jai', 1607: 'jaj', 1608: 'jak', 1609: 'jal', 1610: 'jam', 1611: 'jan', 1612: 'jap', 1613: 'jar', 1614: 'jas', 1615: 'jat', 1616: 'jau', 1617: 'jaw', 1618: 'jay', 1619: 'jaz', 1620: 'jeb', 1621: 'jed', 1622: 'jej', 1623: 'jek', 1624: 'jel', 1625: 'jem', 1626: 'jen', 1627: 'jep', 1628: 'jer', 1629: 'jet', 1630: 'jia', 1631: 'jib', 1632: 'jid', 1633: 'jih', 1634: 'jij', 1635: 'jik', 1636: 'jil', 1637: 'jim', 1638: 'jin', 1639: 'jip', 1640: 'jir', 1641: 'jis', 1642: 'jit', 1643: 'jiw', 1644: 'jiz', 1645: 'jli', 1646: 'jlo', 1647: 'jna', 1648: 'jod', 1649: 'jog', 1650: 'joh', 1651: 'joj', 1652: 'jok', 1653: 'jol', 1654: 'jom', 1655: 'jon', 1656: 'jor', 1657: 'jot', 1658: 'jra', 1659: 'jta', 1660: 'jti', 1661: 'jua', 1662: 'jub', 1663: 'jud', 1664: 'jug', 1665: 'juh', 1666: 'jui', 1667: 'juj', 1668: 'juk', 1669: 'jul', 1670: 'jum', 1671: 'jun', 1672: 'jur', 1673: 'jus', 1674: 'jut', 1675: 'juw', 1676: 'jwi', 1677: 'k-a', 1678: 'k-b', 1679: 'k-d', 1680: 'k-j', 1681: 'k-m', 1682: 'k-p', 1683: 'k-s', 1684: 'k-t', 1685: 'ka-', 1686: 'kaa', 1687: 'kab', 1688: 'kac', 1689: 'kad', 1690: 'kae', 1691: 'kaf', 1692: 'kag', 1693: 'kah', 1694: 'kai', 1695: 'kaj', 1696: 'kak', 1697: 'kal', 1698: 'kam', 1699: 'kan', 1700: 'kao', 1701: 'kap', 1702: 'kar', 1703: 'kas', 1704: 'kat', 1705: 'kau', 1706: 'kav', 1707: 'kaw', 1708: 'kay', 1709: 'kbi', 1710: 'kbu', 1711: 'kci', 1712: 'kco', 1713: 'kda', 1714: 'kdi', 1715: 'kdu', 1716: 'ke', 1717: 'kea', 1718: 'keb', 1719: 'kec', 1720: 'ked', 1721: 'kee', 1722: 'kef', 1723: 'keg', 1724: 'keh', 1725: 'kei', 1726: 'kej', 1727: 'kek', 1728: 'kel', 1729: 'kem', 1730: 'ken', 1731: 'keo', 1732: 'kep', 1733: 'ker', 1734: 'kes', 1735: 'ket', 1736: 'keu', 1737: 'kew', 1738: 'key', 1739: 'kha', 1740: 'khb', 1741: 'khe', 1742: 'khi', 1743: 'khl', 1744: 'kho', 1745: 'kht', 1746: 'khu', 1747: 'khw', 1748: 'ki-', 1749: 'kia', 1750: 'kib', 1751: 'kic', 1752: 'kid', 1753: 'kif', 1754: 'kih', 1755: 'kij', 1756: 'kik', 1757: 'kil', 1758: 'kim', 1759: 'kin', 1760: 'kio', 1761: 'kip', 1762: 'kir', 1763: 'kis', 1764: 'kit', 1765: 'kiw', 1766: 'kji', 1767: 'kju', 1768: 'kka', 1769: 'kku', 1770: 'kla', 1771: 'kle', 1772: 'kli', 1773: 'klo', 1774: 'klu', 1775: 'kma', 1776: 'kme', 1777: 'kmi', 1778: 'kmu', 1779: 'kna', 1780: 'kni', 1781: 'kno', 1782: 'knu', 1783: 'kny', 1784: 'koa', 1785: 'kob', 1786: 'koc', 1787: 'kod', 1788: 'koe', 1789: 'kog', 1790: 'koh', 1791: 'koi', 1792: 'koj', 1793: 'kok', 1794: 'kol', 1795: 'kom', 1796: 'kon', 1797: 'koo', 1798: 'kop', 1799: 'kor', 1800: 'kos', 1801: 'kot', 1802: 'koy', 1803: 'kpa', 1804: 'kpe', 1805: 'kpi', 1806: 'kra', 1807: 'kre', 1808: 'kri', 1809: 'kro', 1810: 'kru', 1811: 'ksa', 1812: 'kse', 1813: 'ksi', 1814: 'ksk', 1815: 'ksm', 1816: 'kso', 1817: 'ksp', 1818: 'kst', 1819: 'ksu', 1820: 'kta', 1821: 'kte', 1822: 'kti', 1823: 'kto', 1824: 'ktr', 1825: 'ktu', 1826: 'ku', 1827: 'kua', 1828: 'kub', 1829: 'kuc', 1830: 'kud', 1831: 'kue', 1832: 'kuf', 1833: 'kuh', 1834: 'kui', 1835: 'kuk', 1836: 'kul', 1837: 'kum', 1838: 'kun', 1839: 'kuo', 1840: 'kup', 1841: 'kur', 1842: 'kus', 1843: 'kut', 1844: 'kuy', 1845: 'kwa', 1846: 'kya', 1847: 'kyu', 1848: 'kzi', 1849: 'l-a', 1850: 'l-b', 1851: 'l-q', 1852: 'laa', 1853: 'lab', 1854: 'lac', 1855: 'lad', 1856: 'laf', 1857: 'lag', 1858: 'lah', 1859: 'lai', 1860: 'laj', 1861: 'lak', 1862: 'lal', 1863: 'lam', 1864: 'lan', 1865: 'lao', 1866: 'lap', 1867: 'lar', 1868: 'las', 1869: 'lat', 1870: 'lau', 1871: 'lav', 1872: 'law', 1873: 'lay', 1874: 'laz', 1875: 'lba', 1876: 'lbi', 1877: 'lbu', 1878: 'lda', 1879: 'lde', 1880: 'ldo', 1881: 'ldu', 1882: 'leb', 1883: 'lec', 1884: 'led', 1885: 'lef', 1886: 'leg', 1887: 'leh', 1888: 'lei', 1889: 'lek', 1890: 'lel', 1891: 'lem', 1892: 'len', 1893: 'leo', 1894: 'lep', 1895: 'ler', 1896: 'les', 1897: 'let', 1898: 'leu', 1899: 'lev', 1900: 'lew', 1901: 'lez', 1902: 'lfa', 1903: 'lfi', 1904: 'lfu', 1905: 'lga', 1906: 'lge', 1907: 'lgi', 1908: 'lgo', 1909: 'lgu', 1910: 'lha', 1911: 'li-', 1912: 'lia', 1913: 'lib', 1914: 'lic', 1915: 'lid', 1916: 'lie', 1917: 'lif', 1918: 'lig', 1919: 'lih', 1920: 'lij', 1921: 'lik', 1922: 'lil', 1923: 'lim', 1924: 'lin', 1925: 'lio', 1926: 'lip', 1927: 'lir', 1928: 'lis', 1929: 'lit', 1930: 'liu', 1931: 'liw', 1932: 'lja', 1933: 'lju', 1934: 'lka', 1935: 'lke', 1936: 'lki', 1937: 'lko', 1938: 'lku', 1939: 'lla', 1940: 'lma', 1941: 'lme', 1942: 'lmi', 1943: 'lmu', 1944: 'lny', 1945: \"lo'\", 1946: 'loa', 1947: 'lob', 1948: 'loc', 1949: 'lod', 1950: 'lof', 1951: 'log', 1952: 'loh', 1953: 'loi', 1954: 'loj', 1955: 'lok', 1956: 'lol', 1957: 'lom', 1958: 'lon', 1959: 'lop', 1960: 'lor', 1961: 'los', 1962: 'lot', 1963: 'low', 1964: 'loy', 1965: 'lpa', 1966: 'lpe', 1967: 'lpl', 1968: 'lpo', 1969: 'lpu', 1970: 'lri', 1971: 'lsa', 1972: 'lse', 1973: 'lsi', 1974: 'lsu', 1975: 'lta', 1976: 'lte', 1977: 'lti', 1978: 'lto', 1979: 'ltr', 1980: 'ltu', 1981: 'lu-', 1982: 'lua', 1983: 'lub', 1984: 'luc', 1985: 'lud', 1986: 'lue', 1987: 'lug', 1988: 'luh', 1989: 'lui', 1990: 'luk', 1991: 'lul', 1992: 'lum', 1993: 'lun', 1994: 'lup', 1995: 'lur', 1996: 'lus', 1997: 'lut', 1998: 'luv', 1999: 'luw', 2000: 'luy', 2001: 'lva', 2002: 'lve', 2003: 'lvi', 2004: 'lwa', 2005: 'lya', 2006: 'lye', 2007: \"m'a\", 2008: \"ma'\", 2009: 'ma-', 2010: 'maa', 2011: 'mab', 2012: 'mac', 2013: 'mad', 2014: 'maf', 2015: 'mag', 2016: 'mah', 2017: 'mai', 2018: 'maj', 2019: 'mak', 2020: 'mal', 2021: 'mam', 2022: 'man', 2023: 'map', 2024: 'mar', 2025: 'mas', 2026: 'mat', 2027: 'mau', 2028: 'maw', 2029: 'may', 2030: 'maz', 2031: 'mba', 2032: 'mbe', 2033: 'mbi', 2034: 'mbl', 2035: 'mbo', 2036: 'mbr', 2037: 'mbu', 2038: 'mby', 2039: 'mca', 2040: 'mdu', 2041: 'mea', 2042: 'meb', 2043: 'mec', 2044: 'med', 2045: 'mee', 2046: 'meg', 2047: 'meh', 2048: 'mei', 2049: 'mej', 2050: 'mek', 2051: 'mel', 2052: 'mem', 2053: 'men', 2054: 'meo', 2055: 'mep', 2056: 'mer', 2057: 'mes', 2058: 'met', 2059: 'mew', 2060: 'mey', 2061: 'mfe', 2062: 'mfi', 2063: 'mfo', 2064: 'mi', 2065: 'mi-', 2066: 'mia', 2067: 'mic', 2068: 'mid', 2069: 'mif', 2070: 'mig', 2071: 'mih', 2072: 'mij', 2073: 'mik', 2074: 'mil', 2075: 'mim', 2076: 'min', 2077: 'mio', 2078: 'mip', 2079: 'mir', 2080: 'mis', 2081: 'mit', 2082: 'miu', 2083: 'miz', 2084: 'mka', 2085: 'mko', 2086: 'mla', 2087: 'mm', 2088: 'mna', 2089: 'mne', 2090: 'mni', 2091: 'mny', 2092: 'moa', 2093: 'mob', 2094: 'moc', 2095: 'mod', 2096: 'mof', 2097: 'mog', 2098: 'moh', 2099: 'moi', 2100: 'mok', 2101: 'mol', 2102: 'mom', 2103: 'mon', 2104: 'moo', 2105: 'mop', 2106: 'mor', 2107: 'mos', 2108: 'mot', 2109: 'mov', 2110: 'moy', 2111: 'mpa', 2112: 'mpe', 2113: 'mpi', 2114: 'mpl', 2115: 'mpo', 2116: 'mpr', 2117: 'mpt', 2118: 'mpu', 2119: 'mra', 2120: 'mri', 2121: 'mro', 2122: 'mru', 2123: 'msa', 2124: 'mse', 2125: 'msi', 2126: 'msu', 2127: 'mta', 2128: 'mte', 2129: 'mti', 2130: 'mtu', 2131: \"mu'\", 2132: 'mua', 2133: 'mub', 2134: 'muc', 2135: 'mud', 2136: 'muf', 2137: 'mug', 2138: 'muh', 2139: 'mui', 2140: 'muj', 2141: 'muk', 2142: 'mul', 2143: 'mum', 2144: 'mun', 2145: 'mup', 2146: 'mur', 2147: 'mus', 2148: 'mut', 2149: 'muw', 2150: 'muz', 2151: 'mza', 2152: 'n-p', 2153: 'n-u', 2154: 'naa', 2155: 'nab', 2156: 'nad', 2157: 'nae', 2158: 'naf', 2159: 'nag', 2160: 'nah', 2161: 'nai', 2162: 'naj', 2163: 'nak', 2164: 'nal', 2165: 'nam', 2166: 'nan', 2167: 'nap', 2168: 'nar', 2169: 'nas', 2170: 'nat', 2171: 'nau', 2172: 'nav', 2173: 'naw', 2174: 'nay', 2175: 'naz', 2176: 'nbi', 2177: 'nbo', 2178: 'nbu', 2179: 'nca', 2180: 'nce', 2181: 'nci', 2182: 'nco', 2183: 'ncr', 2184: 'ncu', 2185: 'nda', 2186: 'nde', 2187: 'ndi', 2188: 'ndo', 2189: 'ndr', 2190: 'nds', 2191: 'ndu', 2192: 'ndw', 2193: 'nea', 2194: 'neb', 2195: 'nec', 2196: 'ned', 2197: 'neg', 2198: 'neh', 2199: 'nei', 2200: 'nek', 2201: 'nel', 2202: 'nem', 2203: 'nen', 2204: 'neo', 2205: 'nep', 2206: 'ner', 2207: 'nes', 2208: 'net', 2209: 'new', 2210: 'nfa', 2211: 'nfe', 2212: 'nfi', 2213: 'nfl', 2214: 'nfo', 2215: 'nfr', 2216: 'ng-', 2217: 'nga', 2218: 'ngb', 2219: 'ngc', 2220: 'ngd', 2221: 'nge', 2222: 'ngf', 2223: 'ngg', 2224: 'ngh', 2225: 'ngi', 2226: 'ngj', 2227: 'ngk', 2228: 'ngl', 2229: 'ngm', 2230: 'ngn', 2231: 'ngo', 2232: 'ngp', 2233: 'ngr', 2234: 'ngs', 2235: 'ngt', 2236: 'ngu', 2237: 'nhe', 2238: 'nhi', 2239: 'nia', 2240: 'nib', 2241: 'nic', 2242: 'nid', 2243: 'nif', 2244: 'nig', 2245: 'nih', 2246: 'nik', 2247: 'nil', 2248: 'nim', 2249: 'nin', 2250: 'nio', 2251: 'nip', 2252: 'nir', 2253: 'nis', 2254: 'nit', 2255: 'niu', 2256: 'niv', 2257: 'niw', 2258: 'niz', 2259: 'nja', 2260: 'nje', 2261: 'nji', 2262: 'njl', 2263: 'njo', 2264: 'nju', 2265: 'nka', 2266: 'nke', 2267: 'nki', 2268: 'nko', 2269: 'nkr', 2270: 'nkt', 2271: 'nku', 2272: 'nla', 2273: 'nme', 2274: 'nmu', 2275: 'nna', 2276: 'nny', 2277: 'noa', 2278: 'nob', 2279: 'nod', 2280: 'nog', 2281: 'noh', 2282: 'noi', 2283: 'nok', 2284: 'nol', 2285: 'nom', 2286: 'non', 2287: 'nop', 2288: 'nor', 2289: 'nos', 2290: 'not', 2291: 'nov', 2292: 'noy', 2293: 'npa', 2294: 'npu', 2295: 'nsa', 2296: 'nse', 2297: 'nsf', 2298: 'nsi', 2299: 'nsk', 2300: 'nsm', 2301: 'nso', 2302: 'nsp', 2303: 'nst', 2304: 'nsu', 2305: 'nsw', 2306: 'nsy', 2307: 'nta', 2308: 'nte', 2309: 'ntg', 2310: 'nti', 2311: 'nto', 2312: 'ntr', 2313: 'ntu', 2314: 'nua', 2315: 'nub', 2316: 'nud', 2317: 'nuf', 2318: 'nug', 2319: 'nuh', 2320: 'nui', 2321: 'nuj', 2322: 'nuk', 2323: 'nul', 2324: 'num', 2325: 'nun', 2326: 'nur', 2327: 'nus', 2328: 'nut', 2329: 'nve', 2330: 'nvi', 2331: 'nvo', 2332: 'nwi', 2333: 'nya', 2334: 'nye', 2335: 'nyi', 2336: 'nyo', 2337: 'nyu', 2338: 'nza', 2339: 'nze', 2340: 'nzi', 2341: 'nzo', 2342: \"o'o\", 2343: 'o-e', 2344: 'o-g', 2345: 'o-i', 2346: 'oak', 2347: 'oal', 2348: 'oan', 2349: 'oar', 2350: 'oba', 2351: 'obe', 2352: 'obi', 2353: 'obj', 2354: 'obl', 2355: 'obo', 2356: 'obr', 2357: 'obs', 2358: 'obu', 2359: 'oca', 2360: 'oce', 2361: 'oci', 2362: 'ock', 2363: 'oco', 2364: 'oda', 2365: 'ode', 2366: 'odi', 2367: 'odo', 2368: 'odr', 2369: 'odu', 2370: 'oef', 2371: 'ofa', 2372: 'ofe', 2373: 'ofi', 2374: 'ofo', 2375: 'oga', 2376: 'ogd', 2377: 'oge', 2378: 'ogi', 2379: 'ogm', 2380: 'ogn', 2381: 'ogo', 2382: 'ogr', 2383: 'ogu', 2384: 'oh', 2385: 'oha', 2386: 'ohe', 2387: 'ohi', 2388: 'ohk', 2389: 'ohl', 2390: 'ohn', 2391: 'oho', 2392: 'oid', 2393: 'oik', 2394: 'oil', 2395: 'oin', 2396: 'ois', 2397: 'oit', 2398: 'oja', 2399: 'oje', 2400: 'oji', 2401: 'ojo', 2402: 'oka', 2403: 'oke', 2404: 'oki', 2405: 'okk', 2406: 'okl', 2407: 'okm', 2408: 'okn', 2409: 'oko', 2410: 'okp', 2411: 'okr', 2412: 'oks', 2413: 'okt', 2414: 'oku', 2415: 'ola', 2416: 'old', 2417: 'ole', 2418: 'olf', 2419: 'oli', 2420: 'olk', 2421: 'olm', 2422: 'olo', 2423: 'olp', 2424: 'olr', 2425: 'olt', 2426: 'olu', 2427: 'olv', 2428: 'oma', 2429: 'omb', 2430: 'ome', 2431: 'omi', 2432: 'omk', 2433: 'omo', 2434: 'omp', 2435: 'omr', 2436: 'omu', 2437: 'ona', 2438: 'onb', 2439: 'onc', 2440: 'ond', 2441: 'one', 2442: 'onf', 2443: 'ong', 2444: 'oni', 2445: 'onj', 2446: 'onk', 2447: 'onn', 2448: 'ono', 2449: 'ons', 2450: 'ont', 2451: 'onu', 2452: 'onv', 2453: 'ony', 2454: 'ooh', 2455: 'oor', 2456: 'opa', 2457: 'ope', 2458: 'opi', 2459: 'opk', 2460: 'opl', 2461: 'opn', 2462: 'opo', 2463: 'opr', 2464: 'ops', 2465: 'opt', 2466: 'opu', 2467: 'opy', 2468: 'ora', 2469: 'orb', 2470: 'ord', 2471: 'ore', 2472: 'orf', 2473: 'org', 2474: 'orh', 2475: 'ori', 2476: 'orj', 2477: 'ork', 2478: 'orm', 2479: 'orn', 2480: 'oro', 2481: 'orp', 2482: 'ors', 2483: 'ort', 2484: 'oru', 2485: 'osa', 2486: 'ose', 2487: 'osf', 2488: 'osi', 2489: 'osk', 2490: 'osm', 2491: 'osn', 2492: 'oso', 2493: 'osp', 2494: 'ost', 2495: 'osu', 2496: 'ota', 2497: 'otb', 2498: 'ote', 2499: 'oti', 2500: 'otk', 2501: 'otl', 2502: 'oto', 2503: 'otr', 2504: 'otu', 2505: 'ova', 2506: 'ove', 2507: 'ovi', 2508: 'ovo', 2509: 'owe', 2510: 'owo', 2511: 'oya', 2512: 'oye', 2513: 'oyo', 2514: 'oza', 2515: 'ozo', 2516: 'pa-', 2517: 'paa', 2518: 'pab', 2519: 'pac', 2520: 'pad', 2521: 'pag', 2522: 'pah', 2523: 'pai', 2524: 'paj', 2525: 'pak', 2526: 'pal', 2527: 'pam', 2528: 'pan', 2529: 'pao', 2530: 'pap', 2531: 'par', 2532: 'pas', 2533: 'pat', 2534: 'pau', 2535: 'paw', 2536: 'pay', 2537: 'pca', 2538: 'pe-', 2539: 'pea', 2540: 'peb', 2541: 'pec', 2542: 'ped', 2543: 'peg', 2544: 'peh', 2545: 'pei', 2546: 'pej', 2547: 'pek', 2548: 'pel', 2549: 'pem', 2550: 'pen', 2551: 'peo', 2552: 'pep', 2553: 'per', 2554: 'pes', 2555: 'pet', 2556: 'peu', 2557: 'pew', 2558: 'pey', 2559: 'pez', 2560: 'pia', 2561: 'pic', 2562: 'pid', 2563: 'pie', 2564: 'pig', 2565: 'pih', 2566: 'pij', 2567: 'pik', 2568: 'pil', 2569: 'pim', 2570: 'pin', 2571: 'pio', 2572: 'pip', 2573: 'pir', 2574: 'pis', 2575: 'pit', 2576: 'piu', 2577: 'piz', 2578: 'pji', 2579: 'pka', 2580: 'pki', 2581: 'pko', 2582: 'pku', 2583: 'pla', 2584: 'ple', 2585: 'pli', 2586: 'plo', 2587: 'plu', 2588: 'pmu', 2589: 'pna', 2590: 'pno', 2591: 'pny', 2592: 'pod', 2593: 'pog', 2594: 'poh', 2595: 'poi', 2596: 'poj', 2597: 'pok', 2598: 'pol', 2599: 'pom', 2600: 'pon', 2601: 'pop', 2602: 'por', 2603: 'pos', 2604: 'pot', 2605: 'poy', 2606: 'pra', 2607: 'pre', 2608: 'pri', 2609: 'pro', 2610: 'pru', 2611: 'psi', 2612: 'pst', 2613: 'psu', 2614: 'pta', 2615: 'pte', 2616: 'pti', 2617: 'pto', 2618: 'pua', 2619: 'pub', 2620: 'puc', 2621: 'pud', 2622: 'pug', 2623: 'puh', 2624: 'pui', 2625: 'puj', 2626: 'puk', 2627: 'pul', 2628: 'pun', 2629: 'pup', 2630: 'pur', 2631: 'pus', 2632: 'put', 2633: 'puy', 2634: 'pyo', 2635: 'qil', 2636: 'qur', 2637: \"r'a\", 2638: 'r-a', 2639: 'r-b', 2640: 'r-c', 2641: 'r-h', 2642: 'r-m', 2643: 'ra-', 2644: 'raa', 2645: 'rab', 2646: 'rac', 2647: 'rad', 2648: 'rae', 2649: 'raf', 2650: 'rag', 2651: 'rah', 2652: 'rai', 2653: 'raj', 2654: 'rak', 2655: 'ral', 2656: 'ram', 2657: 'ran', 2658: 'rao', 2659: 'rap', 2660: 'rar', 2661: 'ras', 2662: 'rat', 2663: 'rau', 2664: 'rav', 2665: 'raw', 2666: 'ray', 2667: 'raz', 2668: 'rba', 2669: 'rbe', 2670: 'rbi', 2671: 'rbo', 2672: 'rbu', 2673: 'rca', 2674: 'rce', 2675: 'rci', 2676: 'rco', 2677: 'rcu', 2678: 'rda', 2679: 'rde', 2680: 'rdi', 2681: 'rdo', 2682: 'rdu', 2683: 'rdw', 2684: 'rea', 2685: 'reb', 2686: 'rec', 2687: 'red', 2688: 'ref', 2689: 'reg', 2690: 'reh', 2691: 'rei', 2692: 'rej', 2693: 'rek', 2694: 'rel', 2695: 'rem', 2696: 'ren', 2697: 'reo', 2698: 'rep', 2699: 'rer', 2700: 'res', 2701: 'ret', 2702: 'reu', 2703: 'rev', 2704: 'rew', 2705: 'rey', 2706: 'rez', 2707: 'rfa', 2708: 'rfe', 2709: 'rfi', 2710: 'rfo', 2711: 'rfr', 2712: 'rfu', 2713: 'rga', 2714: 'rge', 2715: 'rgi', 2716: 'rgo', 2717: 'rgu', 2718: 'rha', 2719: 'rhe', 2720: 'rhi', 2721: 'rho', 2722: 'rhu', 2723: 'ri-', 2724: 'ria', 2725: 'rib', 2726: 'ric', 2727: 'rid', 2728: 'rie', 2729: 'rif', 2730: 'rig', 2731: 'rih', 2732: 'rij', 2733: 'rik', 2734: 'ril', 2735: 'rim', 2736: 'rin', 2737: 'rio', 2738: 'rip', 2739: 'rir', 2740: 'ris', 2741: 'rit', 2742: 'riu', 2743: 'riv', 2744: 'riw', 2745: 'riy', 2746: 'riz', 2747: 'rja', 2748: 'rje', 2749: 'rji', 2750: 'rju', 2751: 'rka', 2752: 'rke', 2753: 'rkh', 2754: 'rki', 2755: 'rko', 2756: 'rku', 2757: 'rla', 2758: 'rle', 2759: 'rli', 2760: 'rlo', 2761: 'rlu', 2762: 'rma', 2763: 'rme', 2764: 'rmi', 2765: 'rmo', 2766: 'rmu', 2767: 'rna', 2768: 'rne', 2769: 'rng', 2770: 'rni', 2771: 'rno', 2772: 'rnu', 2773: 'rny', 2774: 'ro-', 2775: 'roa', 2776: 'rob', 2777: 'roc', 2778: 'rod', 2779: 'rof', 2780: 'rog', 2781: 'roh', 2782: 'roi', 2783: 'roj', 2784: 'rok', 2785: 'rol', 2786: 'rom', 2787: 'ron', 2788: 'rop', 2789: 'ror', 2790: 'ros', 2791: 'rot', 2792: 'rov', 2793: 'row', 2794: 'roy', 2795: 'rpa', 2796: 'rpe', 2797: 'rpi', 2798: 'rpo', 2799: 'rpr', 2800: 'rps', 2801: 'rpu', 2802: 'rra', 2803: 'rru', 2804: 'rsa', 2805: 'rse', 2806: 'rsi', 2807: 'rsk', 2808: 'rsl', 2809: 'rso', 2810: 'rsp', 2811: 'rst', 2812: 'rsu', 2813: 'rsy', 2814: 'rta', 2815: 'rte', 2816: 'rth', 2817: 'rti', 2818: 'rto', 2819: 'rtr', 2820: 'rtu', 2821: 'ru-', 2822: 'rua', 2823: 'rub', 2824: 'ruc', 2825: 'rud', 2826: 'ruf', 2827: 'rug', 2828: 'ruh', 2829: 'rui', 2830: 'ruj', 2831: 'ruk', 2832: 'rul', 2833: 'rum', 2834: 'run', 2835: 'rup', 2836: 'rur', 2837: 'rus', 2838: 'rut', 2839: 'ruw', 2840: 'ruy', 2841: 'rva', 2842: 'rve', 2843: 'rvi', 2844: 'rwa', 2845: 'rwe', 2846: 'rwi', 2847: 'rwu', 2848: 'rya', 2849: 'rza', 2850: 'rzi', 2851: 's-b', 2852: 's-c', 2853: 's-k', 2854: 's-t', 2855: \"sa'\", 2856: 'saa', 2857: 'sab', 2858: 'sad', 2859: 'saf', 2860: 'sag', 2861: 'sah', 2862: 'sai', 2863: 'saj', 2864: 'sak', 2865: 'sal', 2866: 'sam', 2867: 'san', 2868: 'sap', 2869: 'sar', 2870: 'sas', 2871: 'sat', 2872: 'sau', 2873: 'saw', 2874: 'say', 2875: 'sba', 2876: 'sbb', 2877: 'sbe', 2878: 'sbi', 2879: 'sbo', 2880: 'sbu', 2881: 'sca', 2882: 'sdi', 2883: 'se', 2884: 'sea', 2885: 'seb', 2886: 'sec', 2887: 'sed', 2888: 'see', 2889: 'seg', 2890: 'seh', 2891: 'sei', 2892: 'sej', 2893: 'sek', 2894: 'sel', 2895: 'sem', 2896: 'sen', 2897: 'seo', 2898: 'sep', 2899: 'ser', 2900: 'ses', 2901: 'set', 2902: 'seu', 2903: 'sew', 2904: 'sez', 2905: 'sfa', 2906: 'sfe', 2907: 'sfo', 2908: 'sfu', 2909: 'sha', 2910: 'she', 2911: 'shi', 2912: 'shu', 2913: 'si', 2914: 'sia', 2915: 'sib', 2916: 'sic', 2917: 'sid', 2918: 'sie', 2919: 'sif', 2920: 'sig', 2921: 'sih', 2922: 'sij', 2923: 'sik', 2924: 'sil', 2925: 'sim', 2926: 'sin', 2927: 'sio', 2928: 'sip', 2929: 'sir', 2930: 'sis', 2931: 'sit', 2932: 'siu', 2933: 'siv', 2934: 'siw', 2935: 'sji', 2936: 'sjo', 2937: 'ska', 2938: 'ske', 2939: 'ski', 2940: 'skl', 2941: 'sko', 2942: 'skr', 2943: 'sku', 2944: 'sla', 2945: 'sli', 2946: 'slo', 2947: 'sma', 2948: 'sme', 2949: 'smi', 2950: 'smo', 2951: 'smu', 2952: 'sna', 2953: 'sne', 2954: 'sni', 2955: 'sny', 2956: 'soa', 2957: 'sob', 2958: 'soc', 2959: 'sod', 2960: 'sof', 2961: 'sog', 2962: 'soh', 2963: 'soi', 2964: 'sok', 2965: 'sol', 2966: 'som', 2967: 'son', 2968: 'sop', 2969: 'sor', 2970: 'sos', 2971: 'sot', 2972: 'spa', 2973: 'spe', 2974: 'spi', 2975: 'spl', 2976: 'spo', 2977: 'spr', 2978: 'sra', 2979: 'sri', 2980: 'sru', 2981: 'ssa', 2982: 'ssi', 2983: 'ssu', 2984: 'sta', 2985: 'ste', 2986: 'sti', 2987: 'sto', 2988: 'str', 2989: 'stu', 2990: 'sua', 2991: 'sub', 2992: 'suc', 2993: 'sud', 2994: 'suf', 2995: 'sug', 2996: 'suh', 2997: 'sui', 2998: 'suj', 2999: 'suk', 3000: 'sul', 3001: 'sum', 3002: 'sun', 3003: 'sup', 3004: 'sur', 3005: 'sus', 3006: 'sut', 3007: 'suv', 3008: 'swa', 3009: 'swe', 3010: 'swi', 3011: 'swt', 3012: 'sya', 3013: 'sye', 3014: 'syg', 3015: 'syh', 3016: 'syi', 3017: 'syk', 3018: 'syo', 3019: 'syr', 3020: 'syt', 3021: 'syu', 3022: 't-g', 3023: \"ta'\", 3024: 'ta-', 3025: 'taa', 3026: 'tab', 3027: 'tac', 3028: 'tad', 3029: 'taf', 3030: 'tag', 3031: 'tah', 3032: 'tai', 3033: 'taj', 3034: 'tak', 3035: 'tal', 3036: 'tam', 3037: 'tan', 3038: 'tap', 3039: 'tar', 3040: 'tas', 3041: 'tat', 3042: 'tau', 3043: 'tav', 3044: 'taw', 3045: 'tay', 3046: 'taz', 3047: 'tba', 3048: 'tbo', 3049: 'tbr', 3050: 'tbu', 3051: 'tea', 3052: 'teb', 3053: 'ted', 3054: 'tef', 3055: 'teg', 3056: 'teh', 3057: 'tei', 3058: 'tej', 3059: 'tek', 3060: 'tel', 3061: 'tem', 3062: 'ten', 3063: 'teo', 3064: 'tep', 3065: 'ter', 3066: 'tes', 3067: 'tet', 3068: 'tew', 3069: 'tey', 3070: 'tfa', 3071: 'tfo', 3072: 'tge', 3073: 'tgl', 3074: 'the', 3075: 'tho', 3076: 'ti-', 3077: 'tia', 3078: 'tib', 3079: 'tid', 3080: 'tie', 3081: 'tif', 3082: 'tig', 3083: 'tih', 3084: 'tij', 3085: 'tik', 3086: 'til', 3087: 'tim', 3088: 'tin', 3089: 'tio', 3090: 'tip', 3091: 'tir', 3092: 'tis', 3093: 'tit', 3094: 'tiu', 3095: 'tiv', 3096: 'tiw', 3097: 'tka', 3098: 'tku', 3099: 'tla', 3100: 'tle', 3101: 'tli', 3102: 'tlo', 3103: 'tma', 3104: 'tme', 3105: 'tmo', 3106: 'tmu', 3107: 'tna', 3108: 'tni', 3109: 'tno', 3110: 'tny', 3111: 'toa', 3112: 'tob', 3113: 'tod', 3114: 'tog', 3115: 'toh', 3116: 'toi', 3117: 'tok', 3118: 'tol', 3119: 'tom', 3120: 'ton', 3121: 'top', 3122: 'tor', 3123: 'tos', 3124: 'tot', 3125: 'tpu', 3126: 'tra', 3127: 'tre', 3128: 'tri', 3129: 'tro', 3130: 'tru', 3131: 'tsa', 3132: 'tse', 3133: 'tta', 3134: 'tti', 3135: 'tu-', 3136: 'tua', 3137: 'tub', 3138: 'tud', 3139: 'tug', 3140: 'tuh', 3141: 'tui', 3142: 'tuj', 3143: 'tuk', 3144: 'tul', 3145: 'tum', 3146: 'tun', 3147: 'tup', 3148: 'tur', 3149: 'tus', 3150: 'tut', 3151: 'tuy', 3152: 'twa', 3153: \"u'j\", 3154: 'u-h', 3155: 'u-l', 3156: 'u-p', 3157: 'u-t', 3158: 'uaa', 3159: 'uab', 3160: 'uac', 3161: 'uad', 3162: 'uaf', 3163: 'uah', 3164: 'uai', 3165: 'uaj', 3166: 'uak', 3167: 'ual', 3168: 'uam', 3169: 'uan', 3170: 'uap', 3171: 'uar', 3172: 'uas', 3173: 'uat', 3174: 'uay', 3175: 'uaz', 3176: 'uba', 3177: 'ube', 3178: 'ubi', 3179: 'ubj', 3180: 'ubk', 3181: 'ubl', 3182: 'ubo', 3183: 'ubr', 3184: 'ubs', 3185: 'ubt', 3186: 'ubu', 3187: 'ubv', 3188: 'uca', 3189: 'uce', 3190: 'uci', 3191: 'uco', 3192: 'ucu', 3193: 'uda', 3194: 'ude', 3195: 'udi', 3196: 'udk', 3197: 'udm', 3198: 'udn', 3199: 'udo', 3200: 'udr', 3201: 'udu', 3202: 'uek', 3203: 'uel', 3204: 'uen', 3205: 'uet', 3206: 'ufa', 3207: 'ufe', 3208: 'ufi', 3209: 'ufl', 3210: 'uft', 3211: 'ufu', 3212: 'uga', 3213: 'ugd', 3214: 'uge', 3215: 'ugi', 3216: 'ugu', 3217: 'uh-', 3218: 'uha', 3219: 'uhi', 3220: 'uhj', 3221: 'uhk', 3222: 'uhl', 3223: 'uhn', 3224: 'uhp', 3225: 'uhr', 3226: 'uhu', 3227: 'uid', 3228: 'uif', 3229: 'uih', 3230: 'uik', 3231: 'uil', 3232: 'uin', 3233: 'uir', 3234: 'uis', 3235: 'uit', 3236: 'uiv', 3237: 'uiz', 3238: 'uja', 3239: 'uje', 3240: 'uji', 3241: 'ujt', 3242: 'uju', 3243: 'uka', 3244: 'uke', 3245: 'ukh', 3246: 'uki', 3247: 'ukj', 3248: 'ukk', 3249: 'ukl', 3250: 'ukm', 3251: 'ukn', 3252: 'uko', 3253: 'uks', 3254: 'ukt', 3255: 'uku', 3256: 'ul-', 3257: 'ula', 3258: 'ulb', 3259: 'uld', 3260: 'ule', 3261: 'ulf', 3262: 'ulg', 3263: 'ulh', 3264: 'uli', 3265: 'ulk', 3266: 'ull', 3267: 'ulm', 3268: 'uln', 3269: 'ulo', 3270: 'ulp', 3271: 'uls', 3272: 'ult', 3273: 'ulu', 3274: \"um'\", 3275: 'uma', 3276: 'umb', 3277: 'ume', 3278: 'umi', 3279: 'umk', 3280: 'uml', 3281: 'umn', 3282: 'umo', 3283: 'ump', 3284: 'umr', 3285: 'ums', 3286: 'umt', 3287: 'umu', 3288: 'un-', 3289: 'una', 3290: 'unb', 3291: 'unc', 3292: 'und', 3293: 'une', 3294: 'ung', 3295: 'uni', 3296: 'unj', 3297: 'unk', 3298: 'unn', 3299: 'uns', 3300: 'unt', 3301: 'unu', 3302: 'uny', 3303: 'uor', 3304: 'uot', 3305: 'upa', 3306: 'upe', 3307: 'upi', 3308: 'upk', 3309: 'upl', 3310: 'upm', 3311: 'upn', 3312: 'upo', 3313: 'upr', 3314: 'ups', 3315: 'upt', 3316: 'upu', 3317: \"ur'\", 3318: 'ur-', 3319: 'ura', 3320: 'urb', 3321: 'urd', 3322: 'ure', 3323: 'urg', 3324: 'urh', 3325: 'uri', 3326: 'urj', 3327: 'urk', 3328: 'url', 3329: 'urm', 3330: 'urn', 3331: 'uro', 3332: 'urs', 3333: 'urt', 3334: 'uru', 3335: 'urv', 3336: 'urw', 3337: 'ury', 3338: 'usa', 3339: 'use', 3340: 'ush', 3341: 'usi', 3342: 'usk', 3343: 'usl', 3344: 'usn', 3345: 'ust', 3346: 'usu', 3347: 'usw', 3348: 'usy', 3349: 'uta', 3350: 'utb', 3351: 'ute', 3352: 'utf', 3353: 'uti', 3354: 'utk', 3355: 'utl', 3356: 'utm', 3357: 'utn', 3358: 'uto', 3359: 'utr', 3360: 'uts', 3361: 'utu', 3362: 'uve', 3363: 'uvi', 3364: 'uwa', 3365: 'uwe', 3366: 'uwi', 3367: 'uya', 3368: 'uyo', 3369: 'uyu', 3370: 'uza', 3371: 'uze', 3372: 'uzi', 3373: 'uzu', 3374: 'vag', 3375: 'vak', 3376: 'val', 3377: 'van', 3378: 'var', 3379: 'vas', 3380: 'vat', 3381: 'veg', 3382: 'vei', 3383: 'vek', 3384: 'vel', 3385: 'ven', 3386: 'veo', 3387: 'ver', 3388: 'ves', 3389: 'vet', 3390: 'vga', 3391: 'via', 3392: 'vid', 3393: 'vie', 3394: 'vig', 3395: 'vik', 3396: 'vil', 3397: 'vin', 3398: 'vio', 3399: 'vir', 3400: 'vis', 3401: 'vit', 3402: 'viu', 3403: 'voi', 3404: 'vok', 3405: 'vol', 3406: 'von', 3407: 'vor', 3408: 'vos', 3409: 'vul', 3410: 'waa', 3411: 'wab', 3412: 'wac', 3413: 'wad', 3414: 'waf', 3415: 'wag', 3416: 'wah', 3417: 'wai', 3418: 'waj', 3419: 'wak', 3420: 'wal', 3421: 'wam', 3422: 'wan', 3423: 'war', 3424: 'was', 3425: 'wat', 3426: 'waw', 3427: 'way', 3428: 'waz', 3429: 'wee', 3430: 'wej', 3431: 'wek', 3432: 'wel', 3433: 'wen', 3434: 'wer', 3435: 'wes', 3436: 'wet', 3437: 'wew', 3438: 'wia', 3439: 'wib', 3440: 'wid', 3441: 'wif', 3442: 'wig', 3443: 'wih', 3444: 'wij', 3445: 'wil', 3446: 'wim', 3447: 'win', 3448: 'wip', 3449: 'wir', 3450: 'wis', 3451: 'wit', 3452: 'wiw', 3453: 'wok', 3454: 'wol', 3455: 'won', 3456: 'wor', 3457: 'wot', 3458: 'wud', 3459: 'wuf', 3460: 'wuh', 3461: 'wuj', 3462: 'wul', 3463: 'wur', 3464: 'wus', 3465: 'wut', 3466: 'ya-', 3467: 'yaa', 3468: 'yab', 3469: 'yad', 3470: 'yaf', 3471: 'yah', 3472: 'yai', 3473: 'yaj', 3474: 'yak', 3475: 'yal', 3476: 'yam', 3477: 'yan', 3478: 'yap', 3479: 'yar', 3480: 'yas', 3481: 'yat', 3482: 'yau', 3483: 'yaw', 3484: 'yay', 3485: 'yea', 3486: 'yeb', 3487: 'yed', 3488: 'yeg', 3489: 'yeh', 3490: 'yej', 3491: 'yek', 3492: 'yel', 3493: 'yem', 3494: 'yen', 3495: 'yep', 3496: 'yer', 3497: 'yes', 3498: 'yet', 3499: 'yew', 3500: 'ygu', 3501: 'yhu', 3502: 'yia', 3503: 'yib', 3504: 'yid', 3505: 'yif', 3506: 'yih', 3507: 'yik', 3508: 'yil', 3509: 'yim', 3510: 'yin', 3511: 'yir', 3512: 'yis', 3513: 'yit', 3514: 'yki', 3515: 'yoa', 3516: 'yod', 3517: 'yog', 3518: 'yoh', 3519: 'yok', 3520: 'yol', 3521: 'yom', 3522: 'yon', 3523: 'yor', 3524: 'yot', 3525: 'yri', 3526: 'yta', 3527: 'yti', 3528: 'yu', 3529: 'yua', 3530: 'yub', 3531: 'yuc', 3532: 'yud', 3533: 'yuh', 3534: 'yuk', 3535: 'yul', 3536: 'yum', 3537: 'yun', 3538: 'yup', 3539: 'yur', 3540: 'yus', 3541: 'yut', 3542: 'zab', 3543: 'zah', 3544: 'zai', 3545: 'zak', 3546: 'zal', 3547: 'zam', 3548: 'zan', 3549: 'zap', 3550: 'zar', 3551: 'zat', 3552: 'zba', 3553: 'zeb', 3554: 'zek', 3555: 'zen', 3556: 'zer', 3557: 'zha', 3558: 'zia', 3559: 'zik', 3560: 'zil', 3561: 'zim', 3562: 'zin', 3563: 'zir', 3564: 'zma', 3565: 'zmu', 3566: 'zoh', 3567: 'zoi', 3568: 'zok', 3569: 'zon', 3570: 'zua', 3571: 'zuh', 3572: 'zul', 3573: 'zur', 3574: 'zza'}\n",
      "train phn 36 {0: '<SOS>', 1: '<EOS>', 2: '<PAD>', 3: 'AA', 4: 'AO', 5: 'AW', 6: 'AX', 7: 'AY', 8: 'B', 9: 'CH', 10: 'D', 11: 'EH', 12: 'EY', 13: 'F', 14: 'G', 15: 'HH', 16: 'IY', 17: 'JH', 18: 'K', 19: 'L', 20: 'M', 21: 'N', 22: 'NG', 23: 'NY', 24: 'OY', 25: 'P', 26: 'Q', 27: 'R', 28: 'S', 29: 'SH', 30: 'T', 31: 'UW', 32: 'V', 33: 'W', 34: 'Y', 35: 'Z'}\n",
      "test phn 36 {0: '<SOS>', 1: '<EOS>', 2: '<PAD>', 3: 'AA', 4: 'AO', 5: 'AW', 6: 'AX', 7: 'AY', 8: 'B', 9: 'CH', 10: 'D', 11: 'EH', 12: 'EY', 13: 'F', 14: 'G', 15: 'HH', 16: 'IY', 17: 'JH', 18: 'K', 19: 'L', 20: 'M', 21: 'N', 22: 'NG', 23: 'NY', 24: 'OY', 25: 'P', 26: 'Q', 27: 'R', 28: 'S', 29: 'SH', 30: 'T', 31: 'UW', 32: 'V', 33: 'W', 34: 'Y', 35: 'Z'}\n",
      "3571 {'--n': 18, '-ny': 58, 'nya': 2333, '-an': 23, 'and': 273, 'nda': 2185, '-be': 27, 'bel': 447, 'ela': 860, 'las': 1868, '-co': 33, 'com': 605, 'omp': 2434, 'mpe': 2112, 'pen': 2550, 'eng': 888, '-de': 35, 'del': 664, 'lap': 1866, 'apa': 293, 'pan': 2528, '-ka': 47, 'kan': 1699, '-ku': 48, '-le': 50, 'len': 1892, 'ngg': 2223, 'gga': 1126, 'gan': 1088, 'ang': 276, '-ma': 52, 'mah': 2016, 'aha': 166, 'has': 1251, 'asi': 339, 'sis': 2930, 'isw': 1560, 'swa': 3008, '-se': 66, 'sep': 2898, 'epi': 915, 'pit': 2575, '-ta': 69, 'tak': 3034, '-wa': 76, 'wan': 3422, 'wat': 3425, 'ati': 359, \"a'd\": 79, \"'du\": 10, \"a'h\": 80, \"'ha\": 11, 'had': 1238, 'ab': 104, 'aba': 105, 'bad': 416, 'adi': 127, 'dia': 677, 'iah': 1351, 'dik': 687, 'ika': 1440, 'bah': 418, 'bai': 419, 'aia': 184, 'ian': 1357, 'aik': 191, 'aim': 193, 'ima': 1469, 'man': 2022, 'ana': 270, 'ban': 424, 'nga': 2217, 'ngn': 2230, 'gny': 1178, 'bar': 426, 'ara': 308, 'ran': 2657, 'bat': 428, 'ato': 364, 'toa': 3111, 'oar': 2349, 'bau': 429, 'abd': 106, 'bda': 433, 'das': 648, 'bdi': 434, 'kas': 1703, 'bdo': 435, 'dom': 716, 'ome': 2430, 'men': 2053, 'omi': 2431, 'min': 2076, 'ina': 1481, 'nal': 2164, 'abe': 107, 'ben': 449, 'ber': 452, 'era': 923, 'ras': 2661, 'bet': 454, 'abi': 108, 'bia': 459, 'bid': 462, 'idi': 1384, 'din': 690, 'bil': 468, 'ila': 1454, 'lah': 1858, 'bis': 474, 'bit': 475, 'itu': 1573, 'tur': 3148, 'uri': 3325, 'rie': 2728, 'ien': 1394, 'abj': 109, 'bja': 479, 'jad': 1603, 'abl': 111, 'bla': 483, 'lau': 1870, 'aut': 386, 'abn': 112, 'bno': 489, 'nor': 2288, 'orm': 2478, 'rma': 2762, 'mal': 2020, 'ali': 240, 'lit': 1929, 'ita': 1562, 'tas': 3040, 'bnu': 490, 'nus': 2327, 'abo': 113, 'boi': 497, 'bol': 500, 'oli': 2419, 'lis': 1928, 'isi': 1548, 'bon': 502, 'one': 2441, 'nem': 2202, 'eme': 876, 'abr': 114, 'bra': 509, 'rak': 2654, 'aka': 210, 'kad': 1689, 'ada': 123, 'dab': 633, 'rar': 2660, 'bre': 510, 'rea': 2684, 'eak': 763, 'aks': 225, 'ksi': 1813, 'rek': 2693, 'rev': 2703, 'evi': 978, 'via': 3391, 'ias': 1360, 'bri': 511, 'rik': 2733, 'iko': 1448, 'kos': 1800, 'abs': 115, 'bse': 515, 'sen': 2896, 'ens': 896, 'nsi': 2298, 'ent': 897, 'nte': 2308, 'tei': 3057, 'eis': 834, 'ism': 1552, 'sme': 2948, 'bsi': 516, 'bso': 517, 'sol': 2965, 'olu': 2426, 'lus': 1996, 'usi': 3341, 'lut': 1997, 'uti': 3353, 'tis': 3092, 'sor': 2969, 'orp': 2481, 'rps': 2800, 'psi': 2611, 'bst': 518, 'sta': 2984, 'tai': 3032, 'ain': 194, 'str': 2988, 'tra': 3126, 'bsu': 519, 'sur': 3004, 'urd': 3321, 'abt': 116, 'bta': 520, 'tar': 3039, 'abu': 117, 'bua': 523, 'uan': 3169, 'buh': 529, 'uha': 3218, 'han': 1248, 'buk': 532, 'bul': 533, 'ulh': 3263, 'lha': 1910, 'hay': 1255, 'aya': 398, 'yat': 3481, 'bur': 537, 'bus': 538, 'aca': 118, 'cah': 549, 'cak': 551, 'can': 554, 'cap': 556, 'car': 557, 'ram': 2656, 'cat': 559, 'ata': 354, 'tan': 3037, 'cau': 560, 'ace': 119, 'cer': 575, 'aci': 120, 'cia': 581, 'cik': 587, 'aco': 121, 'acu': 122, 'cua': 615, 'cuh': 620, 'cum': 624, 'uma': 3275, 'cun': 625, 'ung': 3294, 'ngk': 2227, 'gka': 1159, 'daa': 632, 'aan': 100, 'dad': 635, 'dag': 638, 'agi': 157, 'gio': 1151, 'giu': 1156, 'ium': 1580, 'dak': 642, 'kah': 1693, 'kal': 1697, 'ala': 233, 'dal': 643, 'lat': 1869, 'dam': 644, 'dan': 645, 'any': 289, 'dap': 646, 'apt': 304, 'pta': 2614, 'pti': 2616, 'tif': 3081, 'pto': 2617, 'tor': 3122, 'apu': 305, 'pun': 2628, 'dar': 647, 'dat': 649, 'ade': 125, 'deg': 661, 'ega': 809, 'deh': 662, 'dek': 663, 'eku': 857, 'kua': 1827, 'uat': 3173, 'dem': 665, 'emp': 881, 'mpa': 2111, 'pau': 2534, 'auz': 387, 'uze': 3371, 'dib': 678, 'ibu': 1374, 'usa': 3338, 'san': 2867, 'dic': 679, 'ici': 1377, 'cit': 594, 'did': 680, 'ida': 1382, 'day': 652, 'dig': 683, 'iga': 1407, 'igu': 1416, 'gun': 1225, 'una': 3289, 'kar': 1702, 'ary': 329, 'rya': 2848, 'ikk': 1444, 'kku': 1769, 'ikn': 1447, 'kny': 1783, 'kod': 1787, 'odr': 2368, 'dra': 725, 'rat': 2662, 'iks': 1450, 'ikt': 1451, 'kti': 1822, 'iku': 1452, 'uas': 3172, 'asa': 333, 'dil': 688, 'dim': 689, 'mar': 2024, 'arg': 314, 'rga': 2713, 'dip': 692, 'ipa': 1514, 'pat': 2533, 'ipe': 1515, 'ngh': 2224, 'gha': 1133, 'ant': 286, 'nta': 2307, 'ipo': 1520, 'pos': 2603, 'osi': 2488, 'sit': 2931, 'ipu': 1524, 'pur': 2630, 'ura': 3319, 'dir': 693, 'ira': 1525, 'raj': 2653, 'aja': 201, 'dis': 694, 'dit': 695, 'iti': 1565, 'ito': 1570, 'tok': 3117, 'oko': 2409, 'koh': 1790, 'diw': 698, 'iwa': 1590, 'ngs': 2234, 'gsa': 1204, 'war': 3423, 'arn': 321, 'rna': 2767, 'iwi': 1592, 'wid': 3440, 'adj': 128, 'dje': 700, 'jek': 1623, 'ekt': 856, 'tiv': 3095, 'iva': 1586, 'adm': 130, 'dmi': 703, 'ini': 1488, 'nis': 2253, 'ist': 1558, 'mis': 2080, 'ado': 131, 'don': 717, 'ona': 2437, 'nan': 2166, 'dop': 718, 'opt': 2465, 'adr': 132, 'dre': 726, 'ren': 2696, 'ena': 884, 'lin': 1924, 'res': 2700, 'adu': 134, 'dua': 732, 'duh': 737, 'hai': 1243, 'duk': 739, 'uka': 3243, 'adv': 135, 'dve': 749, 'ver': 3387, 'erb': 924, 'rbi': 2670, 'ial': 1355, 'ert': 940, 'rte': 2815, 'ten': 3062, 'dvi': 750, 'vis': 3400, 'dvo': 751, 'vok': 3404, 'oka': 2402, 'aer': 141, 'ero': 937, 'rob': 2776, 'oba': 2350, 'tik': 3085, 'obi': 2352, 'bik': 467, 'rod': 2778, 'odi': 2366, 'nam': 2165, 'ami': 260, 'mik': 2073, 'rog': 2780, 'ogr': 2382, 'gra': 1199, 'rol': 2785, 'olo': 2422, 'log': 1951, 'ogi': 2378, 'rom': 2786, 'met': 2058, 'ete': 959, 'ter': 3065, 'omo': 2433, 'mov': 2109, 'ove': 2506, 'vel': 3384, 'ron': 2787, 'nau': 2171, 'ros': 2790, 'osk': 2489, 'sko': 2941, 'kop': 1798, 'oso': 2492, 'afd': 143, 'fda': 1010, 'fde': 1011, 'eli': 864, 'ing': 1486, 'fdr': 1012, 'dru': 729, 'ruk': 2831, 'afe': 144, 'fek': 1014, 'eks': 855, 'afi': 145, 'fia': 1022, 'iat': 1361, 'fik': 1026, 'ksa': 1811, 'sas': 2870, 'fil': 1027, 'ili': 1458, 'lia': 1912, 'fin': 1028, 'nit': 2254, 'fir': 1029, 'irm': 1535, 'mas': 2025, 'mat': 2026, 'afr': 149, 'fri': 1049, 'rit': 2741, 'fro': 1050, 'sia': 2914, 'iak': 1354, 'afw': 152, 'fwa': 1066, 'wah': 3416, 'aga': 154, 'gah': 1082, 'gak': 1085, 'akn': 221, 'gam': 1087, 'ama': 254, 'mak': 2019, 'aku': 227, 'maw': 2028, 'awa': 393, 'awi': 395, 'gar': 1091, 'gas': 1092, 'age': 155, 'gen': 1118, 'end': 886, 'gih': 1146, 'iha': 1418, 'git': 1155, 'tat': 3041, 'agl': 158, 'glu': 1171, 'tin': 3088, 'nas': 2169, 'agn': 160, 'gno': 1177, 'nos': 2289, 'ost': 2494, 'sti': 2986, 'agr': 162, 'ari': 316, 'ria': 2724, 'ris': 2740, 'gre': 1200, 'esi': 948, 'sif': 2919, 'siv': 2933, 'ivi': 1588, 'vit': 3401, 'eso': 952, 'gro': 1202, 'roi': 2782, 'oin': 2395, 'ind': 1483, 'ndu': 2191, 'dus': 745, 'ust': 3345, 'tri': 3128, 'ono': 2448, 'nom': 2285, 'agu': 163, 'guk': 1222, 'gul': 1223, 'gus': 1228, 'ah': 164, 'ahk': 173, 'hka': 1290, 'kam': 1698, 'ahl': 174, 'hli': 1294, 'hlu': 1295, 'lul': 1991, 'ulb': 3258, 'lba': 1875, 'ait': 198, 'ulk': 3265, 'lki': 1936, 'kit': 1764, 'tab': 3026, 'lku': 1938, 'kub': 1828, 'ubu': 3186, 'ahm': 175, 'hma': 1296, 'mad': 2013, 'aho': 177, 'ahw': 182, 'hwa': 1332, 'wal': 3420, 'aid': 187, 'ilf': 1456, 'lfi': 1903, 'fit': 1031, 'itr': 1572, 'air': 196, 'irn': 1536, 'rny': 2773, 'ais': 197, 'jab': 1602, 'jai': 1606, 'aib': 185, 'jak': 1608, 'jal': 1609, 'jan': 1611, 'jar': 1613, 'anm': 281, 'nmu': 2274, 'aje': 202, 'jen': 1626, 'aji': 203, 'jir': 1640, 'ajn': 205, 'jna': 1647, 'nab': 2155, 'ajo': 206, 'joj': 1651, 'oji': 2400, 'jin': 1638, 'aju': 207, 'jua': 1661, 'jud': 1663, 'uda': 3193, 'juj': 1667, 'uja': 3238, 'jah': 1605, 'juk': 1668, 'jun': 1671, 'jur': 1672, 'ak-': 209, 'k-a': 1677, '-ak': 21, 'emi': 878, 'kus': 1842, 'kai': 1694, 'aln': 245, 'lny': 1944, 'kau': 1705, 'aun': 382, 'akh': 215, 'khb': 1740, 'hba': 1257, 'khi': 1742, 'hir': 1284, 'khl': 1743, 'hla': 1293, 'lak': 1861, 'kht': 1745, 'hta': 1316, 'taj': 3033, 'khw': 1747, 'aki': 216, 'kib': 1750, 'iba': 1365, 'kid': 1752, 'dah': 639, 'kik': 1756, 'kil': 1757, 'akl': 219, 'kla': 1770, 'lam': 1863, 'kli': 1772, 'lim': 1923, 'isa': 1541, 'akm': 220, 'kma': 1775, 'ako': 222, 'kom': 1795, 'mod': 2095, 'oda': 2364, 'kor': 1799, 'akr': 224, 'kra': 1806, 'rab': 2645, 'kre': 1807, 'red': 2687, 'edi': 791, 'kri': 1808, 'ril': 2734, 'lik': 1921, 'kro': 1809, 'sar': 2869, 'raw': 2665, 'kse': 1812, 'sel': 2894, 'ele': 863, 'ler': 1895, 'ntu': 2313, 'tua': 3136, 'ept': 920, 'ses': 2900, 'sib': 2915, 'ibi': 1367, 'sid': 2917, 'ide': 1383, 'den': 666, 'tal': 3035, 'sio': 2927, 'iom': 1507, 'oma': 2428, 'kso': 1816, 'son': 2967, 'akt': 226, 'kto': 1823, 'ktr': 1824, 'ktu': 1825, 'ual': 3167, 'uar': 3171, 'uad': 3161, 'des': 670, 'are': 312, 'rel': 2694, 'riu': 2742, 'kui': 1834, 'uif': 3228, 'ife': 1400, 'fer': 1019, 'kuk': 1835, 'kul': 1836, 'ult': 3272, 'ltu': 1980, 'kum': 1837, 'umu': 3287, 'mul': 2142, 'ula': 3257, 'kun': 1838, 'unt': 3300, 'ans': 285, 'kup': 1840, 'upu': 3316, 'unk': 3297, 'nkt': 2270, 'kur': 1841, 'sat': 2871, 'kut': 1843, 'akw': 228, 'kwa': 1845, 'al': 231, 'al-': 232, 'l-q': 1851, '-qu': 63, 'qur': 2636, \"ur'\": 3317, \"r'a\": 2637, \"'an\": 5, 'lab': 1853, 'bio': 471, 'laf': 1856, 'lai': 1859, 'atu': 368, 'tul': 3144, 'mia': 2066, 'amn': 262, 'mny': 2091, 'lan': 1864, 'lar': 1867, 'arm': 320, 'alb': 234, 'bas': 427, 'lbi': 1876, 'bin': 470, 'ino': 1492, 'lbu': 1877, 'bum': 534, 'ume': 3277, 'ale': 236, 'leg': 1886, 'ego': 813, 'gor': 1193, 'ori': 2475, 'lem': 1891, 'ema': 874, 'erg': 929, 'rge': 2714, 'alf': 237, 'lfa': 1902, 'fab': 992, 'eti': 960, 'lfu': 1904, 'alg': 238, 'lga': 1905, 'lgo': 1908, 'goj': 1187, 'ojo': 2401, 'itm': 1568, 'tma': 3103, 'tme': 3104, 'alh': 239, 'ham': 1247, 'amd': 257, 'mdu': 2040, 'dul': 740, 'uli': 3264, 'lil': 1922, 'ill': 1460, 'lla': 1939, 'sil': 2924, 'lib': 1913, 'lie': 1916, 'lif': 1917, 'ifb': 1399, 'fba': 1009, 'lih': 1919, 'ime': 1471, 'imi': 1473, 'ine': 1484, 'nea': 2193, 'lip': 1926, 'lir': 1927, 'ite': 1563, 'alj': 241, 'lja': 1932, 'alk': 242, 'lka': 1934, 'alo': 246, 'loi': 1953, 'oid': 2392, 'asy': 352, 'sya': 3012, 'yaf': 3470, 'lke': 1935, 'ken': 1730, 'kis': 1763, 'sah': 2861, 'lko': 1937, 'oho': 2391, 'hol': 1303, 'all': 243, 'alm': 244, 'lma': 1940, 'alu': 250, 'lun': 1993, 'mam': 2021, 'ate': 356, 'arh': 315, 'rhu': 2722, 'hum': 1326, 'lmu': 1943, 'muk': 2141, 'ukh': 3245, 'lof': 1950, 'ofo': 2374, 'fon': 1042, 'lok': 1955, 'lom': 1957, 'mor': 2106, 'orf': 2472, 'lon': 1958, 'alp': 247, 'lpa': 1965, 'pak': 2525, 'lpe': 1966, 'per': 2553, 'ere': 927, 'lpu': 1969, 'puk': 2626, 'alt': 249, 'lte': 1976, 'ern': 936, 'nat': 2170, 'lto': 1978, 'ltr': 1979, 'tru': 3130, 'rui': 2829, 'uis': 3234, 'lua': 1982, 'lum': 1992, 'umi': 3278, 'niu': 2255, 'umn': 3281, 'mni': 2090, 'lup': 1994, 'luv': 1998, 'uvi': 3363, 'alv': 251, 'lve': 2002, 'veo': 3386, 'eol': 906, 'alw': 252, 'lwa': 2004, 'was': 3424, 'am': 253, 'ann': 282, 'nny': 2276, 'nah': 2160, 'rah': 2651, 'ahn': 176, 'hny': 1299, 'atl': 361, 'tla': 3099, 'amb': 255, 'mba': 2031, 'bak': 421, 'bal': 422, 'sad': 2858, 'dor': 719, 'mbe': 2032, 'bei': 444, 'eie': 827, 'mbi': 2033, 'big': 463, 'gui': 1220, 'uit': 3235, 'ilk': 1459, 'siu': 2932, 'ius': 1584, 'biv': 477, 'val': 3376, 'mbl': 2034, 'ble': 484, 'lek': 1889, 'les': 1896, 'mbo': 2035, 'mbr': 2036, 'bro': 512, 'bru': 513, 'mbu': 2037, 'bun': 535, 'rad': 2647, 'mby': 2038, 'bya': 542, 'yar': 3479, 'ame': 258, 'meb': 2042, 'eba': 774, 'ebi': 776, 'mel': 2051, 'lio': 1925, 'ior': 1510, 'ora': 2468, 'nde': 2186, 'amf': 259, 'mfe': 2061, 'fet': 1021, 'eta': 958, 'tam': 3036, 'mfi': 2062, 'fib': 1023, 'tea': 3051, 'eat': 769, 'mil': 2074, 'mir': 2079, 'iru': 1539, 'rul': 2832, 'har': 1250, 'haj': 1244, 'ulm': 3267, 'ukm': 3250, 'kmi': 1777, 'nin': 2249, 'amk': 261, 'mko': 2085, 'mne': 2089, 'nes': 2207, 'est': 955, 'amo': 263, 'moi': 2099, 'mon': 2103, 'oni': 2444, 'nia': 2239, 'ort': 2483, 'rti': 2817, 'amp': 264, 'pai': 2523, 'pea': 2539, 'ean': 766, 'pek': 2547, 'pel': 2548, 'mpl': 2114, 'pli': 2585, 'ifi': 1401, 'tud': 3138, 'udo': 3199, 'plo': 2586, 'lop': 1959, 'mpo': 2115, 'mpr': 2116, 'pro': 2609, 'rok': 2784, 'mpu': 2118, 'puh': 2623, 'put': 2632, 'uta': 3349, 'amr': 265, 'mra': 2119, 'mri': 2120, 'ams': 266, 'msa': 2123, 'sal': 2865, 'amt': 267, 'mte': 2128, 'nar': 2168, 'amu': 268, 'ule': 3260, 'let': 1897, 'mun': 2144, 'uni': 3295, 'nae': 2157, 'naf': 2158, 'nai': 2161, 'nak': 2163, 'akk': 218, 'kta': 1820, 'lge': 1906, 'ges': 1122, 'sik': 2923, 'ani': 277, 'ark': 318, 'rki': 2754, 'ion': 1508, 'sir': 2929, 'anb': 271, 'nbi': 2176, 'anc': 272, 'nca': 2179, 'cal': 552, 'cam': 553, 'nco': 2182, 'coa': 597, 'col': 604, 'ncu': 2184, 'cuk': 622, 'dai': 640, 'iny': 1498, 'api': 296, 'der': 669, 'ndi': 2187, 'ndo': 2188, 'dok': 714, 'ndr': 2189, 'win': 3447, 'dro': 728, 'oge': 2377, 'dun': 742, 'dur': 744, 'ane': 274, 'neh': 2198, 'ehn': 821, 'nek': 2200, 'eka': 842, 'mer': 2056, 'ste': 2985, 'tes': 3066, 'iol': 1506, 'anf': 275, 'nfa': 2210, 'fas': 1003, 'ank': 279, 'nka': 2265, 'nge': 2221, 'gel': 1116, 'gai': 1083, 'gal': 1086, 'gap': 1090, 'gge': 1127, 'ger': 1121, 'erk': 933, 'rka': 2751, 'ggi': 1128, 'ggl': 1129, 'gla': 1167, 'ggo': 1130, 'got': 1195, 'ota': 2496, 'ggr': 1131, 'ekw': 858, 'ggu': 1132, 'gur': 1227, 'ngi': 2225, 'gin': 1150, 'kak': 1696, 'saw': 2873, 'kat': 1704, 'atn': 363, 'tny': 3110, 'gke': 1160, 'kel': 1728, 'ket': 1735, 'gki': 1162, 'kin': 1759, 'gkl': 1163, 'klu': 1774, 'gko': 1164, 'kon': 1796, 'ong': 2443, 'gkr': 1165, 'rin': 2736, 'gku': 1166, 'ngl': 2228, 'glo': 1170, 'ngo': 2231, 'gon': 1191, 'gop': 1192, 'ngp': 2232, 'gpa': 1197, 'gso': 1207, 'sok': 2964, 'gsu': 1209, 'ngu': 2236, 'gut': 1229, 'iay': 1364, 'nih': 2245, 'nim': 2248, 'imo': 1476, 'anj': 278, 'nja': 2259, 'nji': 2261, 'jim': 1637, 'njl': 2262, 'jlo': 1646, 'nju': 2264, 'ano': 283, 'noa': 2277, 'non': 2286, 'ore': 2471, 'org': 2473, 'nik': 2246, 'nsa': 2295, 'sam': 2866, 'nsu': 2304, 'tag': 3030, 'ago': 161, 'tah': 3031, 'ake': 214, 'kes': 1734, 'esu': 956, 'sum': 3001, 'tap': 3038, 'arb': 309, 'rba': 2668, 'rbe': 2669, 'enu': 898, 'nua': 2314, 'ard': 311, 'rda': 2678, 'dae': 636, 'rke': 2752, 'elo': 868, 'pok': 2597, 'ast': 349, 'rmo': 2765, 'mol': 2101, 'ole': 2417, 'rmu': 2766, 'rne': 2768, 'neg': 2197, 'arp': 323, 'rpr': 2799, 'pri': 2608, 'rib': 2725, 'rpu': 2801, 'pul': 2627, 'arr': 324, 'rra': 2802, 'rru': 2803, 'rua': 2822, 'ars': 325, 'rse': 2805, 'rsu': 2812, 'suk': 2999, 'uku': 3255, 'art': 326, 'taw': 3044, 'wac': 3412, 'tek': 3059, 'eke': 845, 'tel': 3060, 'tem': 3061, 'tep': 3064, 'nti': 2310, 'ti-': 3076, 'i-k': 1339, 'tib': 3078, 'ibe': 1366, 'bek': 446, 'ios': 1511, 'iot': 1512, 'oti': 2499, 'ibo': 1372, 'bod': 494, 'tid': 3079, 'dio': 691, 'iok': 1505, 'oks': 2412, 'tig': 3082, 'ige': 1409, 'tih': 3083, 'ihi': 1420, 'his': 1285, 'ikl': 1445, 'ikr': 1449, 'stu': 2989, 'tus': 3149, 'tip': 3090, 'pod': 2592, 'ode': 2365, 'ise': 1545, 'eps': 919, 'sip': 2928, 'pas': 2532, 'iso': 1554, 'sos': 2970, 'tit': 3093, 'tiw': 3096, 'wir': 3449, 'nto': 2311, 'tol': 3118, 'ton': 3120, 'top': 3121, 'ntr': 2312, 'tre': 3127, 'tro': 3129, 'rop': 2788, 'opo': 2462, 'pol': 2598, 'pom': 2599, 'rfi': 2709, 'fis': 1030, 'ose': 2486, 'tuk': 3143, 'tun': 3146, 'anu': 287, 'nug': 2318, 'uge': 3214, 'nui': 2320, 'nul': 2323, 'num': 2324, 'rta': 2814, 'nun': 2325, 'usw': 3347, 'nut': 2328, 'yam': 3476, 'yan': 3477, 'nyi': 2335, 'yir': 3511, 'paa': 2517, 'pab': 2518, 'pal': 2526, 'lag': 1857, 'pam': 2527, 'pap': 2530, 'par': 2531, 'rth': 2816, 'the': 3074, 'hei': 1261, 'eid': 826, 'ape': 295, 'ers': 939, 'pes': 2554, 'pik': 2567, 'pil': 2568, 'pio': 2571, 'apk': 298, 'pki': 2580, 'kir': 1762, 'apl': 299, 'pla': 2583, 'aus': 385, 'plu': 2587, 'apo': 301, 'get': 1123, 'gia': 1142, 'pop': 2601, 'opl': 2460, 'ple': 2584, 'eri': 931, 'rio': 2737, 'sto': 2987, 'pot': 2604, 'ote': 2498, 'ker': 1733, 'apr': 302, 'pre': 2607, 'aqi': 306, 'qil': 2635, 'rai': 2652, 'nse': 2296, 'sem': 2895, 'aru': 327, 'rut': 2838, 'rau': 2663, 'bab': 414, 'ase': 336, 'rer': 2699, 'arc': 310, 'rca': 2673, 'rdi': 2680, 'eal': 764, 'rem': 2695, 'rgo': 2716, 'gom': 1190, 'rgu': 2717, 'gum': 1224, 'rif': 2729, 'rih': 2731, 'rip': 2738, 'okr': 2411, 'arj': 317, 'rja': 2747, 'keo': 1731, 'gis': 1154, 'kia': 1749, 'rku': 2756, 'aro': 322, 'oga': 2375, 'omb': 2429, 'pus': 2631, 'eni': 890, 'rsi': 2806, 'tef': 3054, 'efa': 804, 'fak': 998, 'iog': 1504, 'raf': 2649, 'tet': 3067, 'tia': 3077, 'ifa': 1398, 'ike': 1441, 'til': 3086, 'ile': 1455, 'rto': 2818, 'rud': 2825, 'run': 2834, 'rus': 2837, 'arw': 328, 'rwa': 2844, 'arz': 330, 'rza': 2849, 'zak': 3545, 'as': 331, 'sab': 2857, 'sai': 2862, 'sak': 2864, 'sap': 2868, 'asn': 344, 'sny': 2955, 'asb': 334, 'sba': 2875, 'sbe': 2877, 'bes': 453, 'sek': 2893, 'ksu': 1819, 'sua': 2990, 'ser': 2899, 'set': 2901, 'eto': 963, 'asf': 337, 'sfa': 2905, 'fal': 999, 'far': 1002, 'ash': 338, 'sha': 2909, 'sih': 2921, 'sin': 2926, 'iri': 1532, 'ask': 341, 'skr': 2942, 'ipt': 1523, 'asl': 342, 'sli': 2945, 'asm': 343, 'sma': 2947, 'sna': 2952, 'nad': 2156, 'aso': 345, 'soi': 2963, 'asp': 346, 'spa': 2972, 'rag': 2650, 'spe': 2973, 'spi': 2974, 'pir': 2573, 'asr': 347, 'sra': 2978, 'ral': 2655, 'asu': 350, 'suh': 2996, 'ums': 3285, 'msi': 2125, 'umt': 3286, 'mti': 2129, 'sun': 3002, 'sus': 3005, 'asw': 351, 'wad': 3413, 'syi': 3016, 'yik': 3507, 'tau': 3042, 'aup': 383, 'tav': 3043, 'avi': 391, 'tli': 3101, 'atm': 362, 'tmo': 3105, 'mom': 2102, 'mos': 2107, 'osf': 2487, 'sfe': 2906, 'tom': 3119, 'atr': 366, 'but': 539, 'au': 370, 'aub': 372, 'uba': 3176, 'aud': 373, 'udi': 3195, 'iov': 1513, 'ovi': 2507, 'isu': 1559, 'auk': 379, 'uks': 3253, 'aum': 381, 'aur': 384, 'ute': 3351, 'uto': 3358, 'tob': 3112, 'tod': 3113, 'tog': 3114, 'mob': 2093, 'ops': 2464, 'avg': 390, 'vga': 3390, 'avo': 392, 'von': 3406, 'ont': 2450, 'rir': 2739, 'waa': 3410, 'aar': 101, 'wab': 3411, 'wai': 3417, 'wak': 3419, 'wam': 3421, 'rac': 2646, 'waw': 3426, 'awe': 394, 'wet': 3436, 'awu': 397, 'wur': 3463, 'wut': 3465, 'yah': 3471, 'hmu': 1297, 'yak': 3474, 'yal': 3475, 'yap': 3478, 'aye': 399, 'yem': 3493, 'ayo': 401, 'ayu': 402, 'yuh': 3533, 'yum': 3536, 'yun': 3537, 'und': 3292, 'yut': 3541, 'aza': 403, 'zab': 3542, 'zal': 3546, 'zam': 3547, 'zan': 3548, 'aze': 405, 'zer': 3556, 'aij': 190, 'ija': 1433, 'azh': 406, 'zha': 3557, 'azi': 407, 'zim': 3561, 'imu': 1479, 'mut': 2148, 'zir': 3563, 'ba': 411, \"ba'\": 412, \"'da\": 9, 'bac': 415, 'caa': 543, 'cek': 570, 'cem': 572, 'cin': 590, 'cok': 603, 'cut': 629, 'dau': 650, 'int': 1495, 'dut': 746, 'bag': 417, 'gau': 1094, 'usn': 3344, 'hag': 1241, 'hak': 1245, 'hal': 1246, 'riw': 2744, 'haw': 1254, 'ahe': 169, 'hen': 1265, 'eno': 895, 'nol': 2284, 'ahi': 171, 'him': 1281, 'ahr': 178, 'hru': 1312, 'ahu': 181, 'huk': 1324, 'hun': 1327, 'uny': 3302, 'idu': 1389, 'baj': 420, 'jaj': 1607, 'jau': 1616, 'jik': 1635, 'jul': 1669, 'jum': 1670, 'ure': 3322, 'akd': 213, 'kda': 1713, 'kdu': 1715, 'akp': 223, 'kpi': 1805, 'pia': 2560, 'kte': 1821, 'lad': 1855, 'lal': 1862, 'lel': 1890, 'lig': 1918, 'iho': 1423, 'kka': 1768, 'lot': 1962, 'als': 248, 'lsa': 1971, 'luh': 1988, 'luk': 1990, 'lur': 1995, 'bam': 423, 'nci': 2181, 'dea': 655, 'dos': 720, 'dot': 721, 'gat': 1093, 'ngb': 2218, 'gbu': 1100, 'gir': 1153, 'keh': 1724, 'kok': 1793, 'kot': 1801, 'gsi': 1206, 'nki': 2267, 'tut': 3150, 'nyo': 2336, 'yol': 3520, 'nyu': 2337, 'anz': 290, 'nza': 2338, 'zai': 3544, 'bap': 425, 'pet': 2555, 'tuh': 3140, 'rap': 2659, 'rbu': 2672, 'ret': 2701, 'rid': 2727, 'arl': 319, 'rli': 2759, 'cud': 618, 'rso': 2809, 'ruh': 2828, 'ska': 2937, 'ske': 2938, 'sut': 3006, 'usu': 3346, 'baw': 430, 'wel': 3432, 'bay': 431, 'yas': 3480, 'ayi': 400, 'yin': 3510, 'yua': 3529, 'yur': 3539, 'baz': 432, 'zar': 3550, 'azo': 409, 'zok': 3568, 'be': 437, 'bea': 438, 'eas': 768, 'beb': 439, 'ebe': 775, 'eki': 847, 'ebo': 778, 'odo': 2367, 'ola': 2415, 'bot': 506, 'oto': 2502, 'toh': 3115, 'ebr': 779, 'ebu': 780, 'uah': 3163, 'bec': 440, 'eca': 782, 'ece': 783, 'cen': 573, 'erm': 935, 'rmi': 2764, 'ecu': 787, 'bed': 441, 'eda': 788, 'ede': 789, 'deb': 656, 'edo': 792, 'dol': 715, 'edu': 794, 'dud': 734, 'beg': 442, 'gad': 1079, 'gaw': 1095, 'egi': 811, 'nil': 2247, 'egu': 815, 'beh': 443, 'eha': 817, 'kap': 1701, 'erd': 926, 'rdo': 2681, 'erj': 932, 'jas': 1614, 'erl': 934, 'rla': 2757, 'ekl': 849, 'kle': 1771, 'led': 1884, 'laa': 1852, 'lac': 1854, 'laj': 1860, 'jaw': 1617, 'kaw': 1707, 'law': 1872, 'lay': 1873, 'leb': 1882, 'kek': 1727, 'eko': 852, 'emb': 875, 'enc': 885, 'con': 606, 'iau': 1362, 'lid': 1915, 'igo': 1414, 'imb': 1470, 'inc': 1482, 'liu': 1930, 'iun': 1581, \"lo'\": 1945, \"o'o\": 2342, \"'on\": 14, 'lod': 1949, 'lol': 1956, 'gok': 1188, 'elu': 871, 'uam': 3168, 'lub': 1983, 'ulu': 3273, 'unj': 3296, 'uru': 3334, 'luw': 1999, 'uwe': 3365, 'wek': 3431, 'bem': 448, 'emo': 880, 'daw': 651, 'eru': 941, 'oro': 2480, 'gek': 1115, 'gep': 1120, 'gil': 1148, 'gol': 1189, 'gik': 1147, 'kay': 1708, 'goh': 1185, 'enj': 891, 'njo': 2263, 'jol': 1653, 'jut': 1674, 'enk': 892, 'teh': 3056, 'tos': 3123, 'nur': 2326, 'eny': 900, 'nye': 2334, 'yek': 3491, 'yoh': 3518, 'yot': 3524, 'enz': 901, 'nze': 2339, 'zen': 3555, 'nzo': 2341, 'zoi': 3567, 'beo': 450, 'bep': 451, 'epe': 914, 'rgi': 2715, 'er-': 922, 'r-c': 2640, '-ca': 31, 'ra-': 2643, 'a-g': 87, '-go': 40, 'go-': 1179, 'o-g': 2344, 'rae': 2648, 'irk': 1534, 'ngt': 2235, 'gta': 1210, 'sim': 2925, 'pka': 2579, 'ray': 2666, 'raz': 2667, 'as-': 332, 's-k': 2853, 'esa': 946, 'etu': 967, 'bic': 461, 'ica': 1375, 'bij': 466, 'iji': 1435, 'bim': 469, 'bir': 473, 'isn': 1553, 'sni': 2954, 'sul': 3000, 'rbo': 2671, 'bob': 492, 'obo': 2355, 'bog': 495, 'boh': 496, 'hon': 1305, 'onc': 2439, 'nce': 2180, 'bor': 504, 'boy': 507, 'oyo': 2513, 'yon': 3522, 'uai': 3164, 'buc': 525, 'ucu': 3192, 'bud': 526, 'bui': 530, 'uih': 3229, 'uki': 3246, 'umb': 3276, 'tir': 3091, 'erc': 925, 'cab': 544, 'cac': 545, 'cad': 546, 'mpi': 2113, 'pin': 2570, 'tum': 3145, 'caw': 561, 'rce': 2674, 'ceb': 565, 'bok': 499, 'cec': 566, 'ced': 567, 'ekc': 843, 'kco': 1712, 'cel': 571, 'ric': 2726, 'rci': 2675, 'cir': 592, 'ciu': 595, 'iut': 1585, 'rco': 2676, 'kol': 1794, 'cor': 608, 'rcu': 2677, 'cuc': 617, 'cur': 627, 'cui': 621, 'cup': 626, 'upi': 3307, 'rig': 2730, 'daf': 637, 'aft': 151, 'fta': 1054, 'mai': 2017, 'ngd': 2220, 'gdu': 1106, 'wis': 3450, 'aul': 380, 'ya-': 3466, 'a-c': 86, '-ci': 32, 'cip': 591, 'rde': 2679, 'dec': 657, 'eci': 784, 'ded': 658, 'def': 660, 'efi': 806, 'ons': 2449, 'nst': 2303, 'dep': 668, 'epa': 913, 'jat': 1615, 'rum': 2833, 'sau': 2872, 'det': 671, 'iam': 1356, 'ipl': 1518, 'isk': 1550, 'sku': 2943, 'doa': 707, 'dog': 711, 'ogo': 2381, 'osa': 2485, 'rdu': 2682, 'uaa': 3158, 'due': 735, 'uel': 3203, 'uet': 3205, 'kac': 1688, 'rdw': 2683, 'dwi': 753, 'wif': 3441, 'ifu': 1405, 'fun': 1062, 'reb': 2685, 'ref': 2688, 'efl': 807, 'fle': 1034, 'reg': 2689, 'reh': 2690, 'hat': 1252, 'ekr': 854, 'ksk': 1814, 'urs': 3332, 'ksp': 1817, 'rim': 2735, 'gse': 1205, 'sot': 2971, 'reo': 2697, 'evo': 979, 'vol': 3405, 'rew': 2704, 'ewo': 983, 'wok': 3453, 'erf': 928, 'rfa': 2707, 'saf': 2859, 'afa': 142, 'fah': 995, 'fan': 1001, 'iki': 1443, 'rfo': 2710, 'fok': 1040, 'oku': 2414, 'fot': 1045, 'rfr': 2711, 'fre': 1048, 'kue': 1831, 'uen': 3204, 'rfu': 2712, 'gab': 1077, 'gaj': 1084, 'geg': 1112, 'gej': 1114, 'ejo': 839, 'imp': 1477, 'lor': 1960, 'gem': 1117, 'emu': 883, 'mur': 2146, 'rej': 2692, 'eja': 836, 'igi': 1411, 'ese': 947, 'gig': 1145, 'giz': 1157, 'izi': 1598, 'gos': 1194, 'ump': 3283, 'unc': 3291, 'erh': 930, 'rha': 2718, 'hab': 1237, 'rhe': 2719, 'rhi': 2720, 'hia': 1273, 'hib': 1274, 'hij': 1278, 'ijr': 1436, 'jra': 1658, 'hik': 1279, 'ikm': 1446, 'hub': 1320, 'huj': 1323, 'rij': 2732, 'jaz': 1619, 'zah': 3543, 'atk': 360, 'tka': 3097, 'ikh': 1442, 'hti': 1318, 'iar': 1359, 'utn': 3357, 'ilm': 1461, 'igh': 1410, 'ghf': 1135, 'hfa': 1271, 'riz': 2746, 'zin': 3562, 'jag': 1604, 'hit': 1286, 'jam': 1610, 'auh': 376, 'jay': 1618, 'rje': 2748, 'jej': 1622, 'jel': 1624, 'jem': 1625, 'maa': 2010, 'aah': 97, 'jer': 1628, 'rji': 2749, 'jil': 1636, 'jiw': 1643, 'rju': 2750, 'jub': 1662, 'udu': 3201, 'uml': 3280, 'mla': 2086, 'kab': 1687, 'kea': 1717, 'ead': 758, 'eah': 760, 'keb': 1718, 'leh': 1887, 'yaa': 3467, 'kec': 1719, 'cep': 574, 'cil': 588, 'cim': 589, 'upa': 3305, 'ked': 1720, 'ehe': 818, 'kei': 1725, 'ein': 832, 'kej': 1726, 'eji': 838, 'saa': 2856, 'bih': 464, 'lep': 1894, 'loc': 1948, 'oca': 2359, 'luy': 2000, 'uyu': 3369, 'kem': 1729, 'pua': 2618, 'mih': 2071, 'mud': 2135, 'naa': 2154, 'eok': 905, 'kep': 1732, 'epu': 921, 'iap': 1358, 'iuk': 1578, 'rub': 2823, 'iur': 1583, 'sud': 2993, 'etr': 964, 'kew': 1737, 'ewa': 980, 'waj': 3418, 'jib': 1631, 'key': 1738, 'eya': 985, 'rkh': 2753, 'kha': 1739, 'hid': 1275, 'idm': 1385, 'dma': 702, 'kho': 1744, 'hot': 1308, 'otb': 2497, 'tba': 3047, 'ibl': 1369, 'kic': 1751, 'kip': 1761, 'rko': 2755, 'koc': 1786, 'omu': 2436, 'onf': 2442, 'nfr': 2215, 'onv': 2452, 'nvo': 2331, 'voi': 3403, 'orb': 2469, 'kud': 1830, 'pis': 2574, 'rle': 2758, 'her': 1266, 'itk': 1566, 'mau': 2027, 'rlo': 2760, 'rlu': 2761, 'utu': 3361, 'mac': 2012, 'kna': 1779, 'may': 2029, 'rme': 2763, 'meg': 2046, 'mek': 2050, 'mes': 2057, 'esr': 954, 'mim': 2075, 'mot': 2108, 'mua': 2132, 'kim': 1758, 'cul': 623, 'mus': 2147, 'usy': 3348, 'yaw': 3483, 'afk': 146, 'fka': 1032, 'afs': 150, 'fsu': 1053, 'nap': 2167, 'rni': 2770, 'iag': 1350, 'rno': 2771, 'nob': 2278, 'nod': 2279, 'lgi': 1907, 'rnu': 2772, 'nub': 2315, 'ond': 2440, 'onj': 2445, 'jon': 1655, 'nok': 2283, 'ope': 2457, 'erp': 938, 'rpa': 2795, 'pac': 2519, 'pad': 2520, 'pag': 2521, 'pah': 2522, 'mit': 2081, 'rpe': 2796, 'pec': 2541, 'peg': 2543, 'pem': 2549, 'hua': 1319, 'iaa': 1346, 'rpi': 2797, 'pid': 2562, 'pih': 2565, 'pij': 2566, 'piu': 2576, 'rpo': 2798, 'poh': 2594, 'pra': 2606, 'odu': 2369, 'rsa': 2804, 'hut': 1330, 'saj': 2863, 'lju': 1933, 'say': 2874, 'seb': 2885, 'sec': 2886, 'sed': 2887, 'dih': 684, 'seg': 2889, 'ege': 810, 'geh': 1113, 'sej': 2892, 'eju': 840, 'utk': 3354, 'kuh': 1833, 'liw': 1931, 'iwe': 1591, 'wer': 3434, 'jor': 1656, 'ahy': 183, 'hya': 1335, 'gay': 1096, 'tub': 3137, 'sew': 2903, 'unu': 3301, 'nuh': 2319, 'sic': 2916, 'ice': 1376, 'hul': 1325, 'fat': 1004, 'ils': 1464, 'lsi': 1973, 'teg': 3055, 'iul': 1579, 'rsk': 2807, 'soa': 2956, 'oal': 2347, 'rst': 2811, 'sub': 2991, 'ubs': 3184, 'suc': 2992, 'uci': 3190, 'rsy': 2813, 'syu': 3021, 'yuk': 3534, 'taf': 3029, 'hap': 1249, 'guh': 1219, 'ng-': 2216, 'g-j': 1071, '-ja': 45, 'teb': 3052, 'ted': 3053, 'uhk': 3221, 'ekn': 851, 'kno': 1781, 'pon': 2600, 'epo': 917, 'nag': 2159, 'teo': 3063, 'eor': 910, 'esm': 951, 'tim': 3087, 'inj': 1489, 'tiu': 3094, 'iup': 1582, 'opi': 2458, 'rtu': 2820, 'tug': 3139, 'uga': 3212, 'tuj': 3142, 'uju': 3242, 'juh': 1665, 'ruc': 2824, 'uca': 3188, 'ruj': 2830, 'nif': 2243, 'ifo': 1403, 'for': 1043, 'uns': 3299, 'urk': 3327, 'rup': 2835, 'pay': 2536, 'rur': 2836, 'erv': 942, 'rva': 2841, 'var': 3378, 'erw': 943, 'rwe': 2845, 'wew': 3437, 'ewe': 981, 'wen': 3433, 'rwi': 2846, 'wib': 3439, 'rwu': 2847, 'wuj': 3461, 'erz': 944, 'rzi': 2850, 'zia': 3558, 'esl': 950, 'sla': 2944, 'tot': 3124, 'bew': 455, 'bez': 456, 'eza': 988, 'bha': 457, 'bi': 458, 'iad': 1349, 'iaw': 1363, 'bib': 460, 'bli': 485, 'ico': 1378, 'icu': 1379, \"id'\": 1381, \"d'a\": 630, \"'ah\": 4, 'ido': 1387, 'naw': 2173, 'jia': 1630, 'jih': 1633, 'onk': 2446, 'kaf': 1691, 'nve': 2329, 'vek': 3383, 'ilh': 1457, 'gua': 1213, 'ilu': 1466, 'ily': 1468, 'lye': 2006, 'yet': 3498, 'ner': 2206, 'ul-': 3256, 'l-b': 1850, '-ba': 26, 'iof': 1503, 'ofi': 2373, 'iop': 1509, 'bip': 472, 'ri-': 2723, 'i-b': 1337, '-bi': 28, 'iro': 1537, 'smu': 2951, 'iss': 1557, 'ssu': 2983, 'biu': 476, 'k-b': 1678, '-bl': 29, 'lew': 1900, 'blo': 486, 'blu': 487, 'lud': 1985, 'udr': 3200, 'bos': 505, 'obr': 2356, 'boc': 493, 'oco': 2363, 'doh': 712, 'ohn': 2390, 'hor': 1306, 'oik': 2393, 'ehk': 820, 'los': 1961, 'otu': 2504, 'olp': 2423, 'lpo': 1968, 'poi': 2595, 'bom': 501, 'moh': 2098, 'fid': 1024, 'onb': 2438, 'nbo': 2177, 'ngm': 2229, 'gme': 1173, 'meh': 2047, 'onu': 2451, 'ony': 2453, 'yok': 3519, 'bop': 503, 'ord': 2470, 'orh': 2474, 'orj': 2476, 'jui': 1666, 'osm': 2490, 'oya': 2511, 'boz': 508, 'oza': 2514, 'anw': 288, 'nwi': 2332, 'eve': 977, 'vet': 3389, 'oil': 2394, 'nku': 2271, 'osu': 2495, 'ude': 3194, 'bu': 522, 'uak': 3166, 'uay': 3174, 'bub': 524, 'buf': 527, 'ufe': 3207, 'bug': 528, 'env': 899, 'nvi': 2330, 'vil': 3396, 'ugi': 3215, 'uhu': 3226, 'buj': 531, 'uje': 3239, 'jet': 1629, 'kaa': 1686, 'anl': 280, 'nla': 2272, 'uke': 3244, 'ukl': 3249, 'ukt': 3254, 'uld': 3259, 'lda': 1878, 'ldo': 1880, 'uls': 3271, 'unb': 3290, 'nbu': 2178, 'cis': 593, 'uh-': 3217, 'h-a': 1231, 'uro': 3331, 'ukn': 3251, 'use': 3339, 'ush': 3340, 'shi': 2911, 'rep': 2698, 'utb': 3350, 'tbu': 3050, 'buy': 540, 'uya': 3367, 'cae': 547, 'aem': 139, 'cag': 548, 'cai': 550, 'kru': 1810, 'amc': 256, 'mca': 2039, 'ngc': 2219, 'gca': 1101, 'kih': 1754, 'klo': 1773, 'umk': 3279, 'mka': 2084, 'cao': 555, 'aos': 292, 'apc': 294, 'pca': 2537, 'apj': 297, 'pji': 2578, 'cas': 558, 'urw': 3336, 'wul': 3462, 'ce': 563, \"ce'\": 564, 'ceg': 568, 'ek-': 841, 'k-d': 1679, 'ekd': 844, 'mok': 2100, 'opa': 2456, 'rot': 2791, 'mee': 2045, 'eeh': 797, 'moo': 2104, 'ooh': 2454, 'por': 2602, 'muh': 2138, 'nay': 2174, 'gbe': 1098, 'gco': 1102, 'epl': 916, 'roc': 2777, 'cos': 609, 'ces': 576, 'esp': 953, 'spl': 2975, 'cet': 577, 'cew': 578, 'chi': 579, 'hin': 1282, 'ci': 580, 'cib': 582, 'cic': 583, 'cid': 584, 'cig': 585, 'cih': 586, 'wag': 3415, 'ilo': 1463, 'ta-': 3024, 'a-k': 89, 'ipr': 1521, 'taa': 3025, 'irc': 1527, 'raa': 2644, 'cm': 596, 'oan': 2348, 'cob': 598, 'baa': 413, 'obe': 2351, 'obl': 2354, 'coc': 599, 'cod': 600, 'cog': 601, 'oke': 2403, 'okm': 2407, 'omr': 2435, 'mro': 2121, 'net': 2208, 'cop': 607, 'cot': 610, 'cow': 611, 'owo': 2510, 'cra': 612, 'cri': 614, 'ipi': 1516, 'uac': 3160, 'cub': 616, 'ubi': 3178, 'ubl': 3181, 'cue': 619, 'uek': 3202, 'uik': 3230, 'uil': 3231, 'uko': 3252, 'mep': 2055, 'dri': 727, 'upe': 3306, 'upl': 3309, 'urn': 3330, 'cus': 628, 'tbr': 3049, \"da'\": 631, \"a'a\": 77, \"'ay\": 7, \"a'i\": 81, 'aay': 103, 'dac': 634, 'aen': 140, 'afn': 147, 'fna': 1038, 'ag-': 153, 'g-d': 1070, '-di': 36, 'ig-': 1406, '-du': 37, 'dug': 736, 'hri': 1311, 'ahs': 179, 'hsy': 1315, 'aif': 188, 'daj': 641, 'hil': 1280, 'ald': 235, 'ghy': 1140, 'hku': 1292, 'mab': 2011, 'sbo': 2879, 'yus': 3540, 'de': 654, 'bup': 536, 'dee': 659, 'ees': 802, 'esk': 949, 'fai': 996, 'efe': 805, 'fen': 1017, 'fla': 1033, 'efo': 808, 'ene': 887, 'egr': 814, 'gup': 1226, 'hem': 1264, 'ehi': 819, 'idr': 1388, 'ink': 1490, 'elm': 866, 'elt': 870, 'lta': 1975, 'mag': 2015, 'gog': 1184, 'mog': 2097, 'gue': 1217, 'not': 2290, 'yit': 3513, 'deo': 667, 'eod': 902, 'nir': 2252, 'epr': 918, 'riv': 2743, 'vas': 3379, 'vat': 3380, 'inf': 1485, 'nfe': 2211, 'spo': 2976, 'sup': 3003, 'dev': 672, 'eva': 976, 'vos': 3408, 'dew': 673, 'ewi': 982, 'di': 676, 'iab': 1347, 'iac': 1348, 'iaj': 1353, 'ihk': 1421, 'ohi': 2387, 'die': 681, 'ieb': 1391, 'iek': 1392, 'iel': 1393, 'iet': 1397, 'dif': 682, 'usk': 3342, 'ift': 1404, 'fto': 1057, 'gag': 1081, 'igd': 1408, 'gda': 1103, 'goy': 1196, 'igr': 1415, 'gub': 1214, 'ubr': 3183, 'gug': 1218, 'tui': 3141, 'ihe': 1419, 'heb': 1260, 'ohk': 2388, 'hel': 1263, 'dup': 743, 'upk': 3308, 'ihu': 1425, 'dii': 685, 'iik': 1427, 'uts': 3360, 'tse': 3132, 'iim': 1428, 'iin': 1429, 'iir': 1430, 'iis': 1431, 'iiz': 1432, 'dij': 686, 'uhi': 3219, 'ije': 1434, 'iju': 1438, 'hui': 1322, 'uin': 3232, 'itn': 1569, 'lui': 1989, 'aui': 377, 'ork': 2477, 'aaf': 96, 'udk': 3196, 'dka': 701, 'faa': 991, 'aat': 102, 'ukk': 3248, 'inu': 1496, 'iob': 1501, 'iod': 1502, 'uln': 3268, 'cay': 562, 'yai': 3472, 'abk': 110, 'bka': 481, 'ngj': 2226, 'gja': 1158, 'pim': 2569, 'otr': 2503, 'aih': 189, 'ire': 1529, 'irg': 1530, 'irj': 1533, 'rug': 2827, 'sag': 2860, 'ipk': 1517, 'isf': 1546, 'sfu': 2908, 'ish': 1547, 'imk': 1474, 'ins': 1494, 'isj': 1549, 'sjo': 2936, 'jok': 1652, 'oki': 2404, 'isl': 1551, 'slo': 2946, 'isp': 1555, 'isr': 1556, 'sru': 2980, 'ups': 3314, 'gti': 1211, 'ors': 2482, 'sug': 2995, 'ugu': 3216, 'uhn': 3223, 'kdi': 1714, 'tew': 3068, 'tup': 3147, 'diu': 696, 'iub': 1574, 'iuc': 1575, 'iuj': 1577, 'uji': 3240, 'div': 697, 'ive': 1587, 'vid': 3392, 'ibk': 1368, 'diy': 699, 'iya': 1594, 'do': 706, 'dob': 708, 'dod': 710, 'ogd': 2376, 'gdo': 1105, 'ogm': 2379, 'gma': 1172, 'hok': 1302, 'doi': 713, 'okt': 2413, 'olf': 2418, 'olm': 2421, 'lme': 1941, 'etn': 962, 'gbr': 1099, 'orn': 2479, 'rtr': 2819, 'dow': 722, 'owe': 2509, 'doy': 723, 'dr': 724, 'urg': 3323, 'uab': 3159, 'uaf': 3162, 'uaj': 3165, 'dub': 733, 'dui': 738, 'dum': 741, 'urh': 3324, 'urj': 3326, 'noi': 2282, 'ois': 2396, 'duw': 747, 'duy': 748, 'wia': 3438, 'wig': 3442, 'wil': 3445, 'wim': 3446, 'wip': 3448, 'wit': 3451, 'wiw': 3452, 'eco': 785, 'sie': 2918, 'goi': 1186, 'eh': 816, 'eig': 828, 'jaa': 1601, 'eje': 837, 'ips': 1522, 'pie': 2563, 'skl': 2940, 'sod': 2959, 'sog': 2961, 'ped': 2542, 'oit': 2397, 'nen': 2203, 'spr': 2977, 'kst': 1818, 'nei': 2199, 'rov': 2792, 'ibr': 1373, 'uiv': 3236, 'el': 859, 'lef': 1885, 'gne': 1175, 'kni': 1780, 'lev': 1899, 'okn': 2408, 'em': 873, 'mig': 2070, 'atp': 365, 'tpu': 3125, 'mio': 2077, 'pig': 2564, 'es': 945, 'sei': 2891, 'tio': 3089, 'tni': 3108, 'tno': 3109, 'nog': 2280, 'ets': 965, 'tsa': 3131, 'van': 3377, 'fad': 993, 'fae': 994, 'aed': 138, 'ail': 192, 'faj': 997, 'lti': 1977, 'fam': 1000, 'hah': 1242, 'fau': 1005, 'fav': 1006, 'vor': 3407, 'fed': 1013, 'fem': 1016, 'feo': 1018, 'fes': 1020, 'fig': 1025, 'sof': 2960, 'lsu': 1974, 'suf': 2994, 'ilt': 1465, 'ird': 1528, 'tna': 3107, 'flo': 1036, 'flu': 1037, 'fob': 1039, 'fol': 1041, 'oru': 2484, 'fos': 1044, 'sfo': 2907, 'foy': 1046, 'fra': 1047, 'agm': 159, 'fru': 1051, 'fua': 1058, 'ful': 1061, 'fus': 1064, 'fut': 1065, 'jus': 1673, 'lva': 2001, 'gst': 1208, 'gao': 1089, 'aok': 291, 'geb': 1108, 'ged': 1110, 'geo': 1119, 'eof': 903, 'eom': 907, 'lya': 2005, 'ihn': 1422, 'gim': 1149, 'imn': 1475, 'mna': 2088, 'gle': 1168, 'gli': 1169, 'lob': 1947, 'gob': 1181, 'god': 1183, 'mof': 2096, 'rav': 2664, 'guc': 1215, 'gud': 1216, 'aua': 371, 'guy': 1230, 'uyo': 3368, 'ha': 1235, 'ith': 1564, 'haf': 1240, 'faz': 1008, 'aiw': 199, 'k-m': 1681, '-mi': 54, 'amz': 269, 'mza': 2151, 'arf': 313, 'usl': 3343, 'iln': 1462, 'att': 367, 'tta': 3133, 'hau': 1253, 'hek': 1262, 'pte': 2615, 'ivo': 1589, 'het': 1268, 'hew': 1270, 'ro-': 2774, 'o-e': 2343, '-el': 38, 'pku': 2582, 'upn': 3311, 'pny': 2591, 'hie': 1276, 'ier': 1395, 'hip': 1283, 'ipn': 1519, 'pno': 2590, 'hiu': 1287, 'hob': 1300, 'hom': 1304, 'hos': 1307, 'osp': 2493, 'hud': 1321, 'hur': 1328, 'ru-': 2821, 'u-h': 3154, '-ha': 42, 'huy': 1331, 'hwe': 1333, 'wee': 3429, 'id': 1380, 'ulf': 3261, 'ihs': 1424, 'hsa': 1313, 'ihw': 1426, 'ijt': 1437, 'jti': 1660, 'lmi': 1942, 'muw': 2149, 'uwa': 3364, 'maj': 2018, 'aug': 375, 'nfi': 2212, 'nfl': 2213, 'lue': 1986, 'nfo': 2214, 'inh': 1487, 'nhe': 2237, 'nje': 2260, 'nov': 2291, 'ova': 2505, 'inp': 1493, 'npu': 2294, 'nsp': 2302, 'nsy': 2306, 'gri': 1201, 'lij': 1920, 'rve': 2842, 'ven': 3385, 'rvi': 2843, 'viu': 3402, 'mid': 2068, 'inv': 1497, 'ves': 3388, 'mew': 2059, 'isy': 1561, 'syt': 3020, 'yti': 3527, 'adw': 136, 'dwa': 752, 'gaa': 1076, 'goa': 1180, 'uhl': 3222, 'bku': 482, 'bny': 491, 'jeb': 1620, 'jed': 1621, 'jep': 1627, 'roa': 2775, 'jij': 1634, 'jip': 1639, 'jit': 1642, 'jod': 1648, 'jog': 1649, 'joh': 1650, 'oha': 2385, 'jom': 1654, 'jot': 1657, 'juw': 1675, 'uwi': 3366, 'miu': 2082, 'kae': 1690, 'kag': 1692, 'hwi': 1334, 'kaj': 1695, 'ldu': 1881, 'lei': 1888, 'nib': 2240, 'nop': 2287, 'kao': 1700, 'aps': 303, 'psu': 2613, 'rao': 2658, 'ava': 388, 'ibn': 1371, 'nav': 2172, 'edr': 793, 'ath': 358, 'tho': 3075, 'kav': 1706, 'ke': 1716, 'eab': 757, 'bsa': 514, 'eag': 759, 'li-': 1911, 'i-n': 1341, '-ne': 56, 'eai': 761, 'eaj': 762, 'eam': 765, 'ka-': 1685, 'a-r': 93, '-ra': 64, 'ear': 767, 'sri': 2979, 'eau': 770, 'eaw': 771, 'eay': 772, 'eaz': 773, 'bej': 445, 'ebl': 777, 'unn': 3298, 'eby': 781, 'coh': 602, 'ecr': 786, 'cre': 613, '-gu': 41, 'uap': 3170, 'edw': 795, 'kee': 1721, 'eed': 796, 'eek': 798, 'eel': 799, 'een': 800, 'eer': 801, 'kef': 1722, 'keg': 1723, 'kmu': 1778, 'ehu': 823, 'eik': 829, 'eil': 830, 'eim': 831, 'eiz': 835, 'jap': 1612, 'ekh': 846, 'kuf': 1832, 'ufu': 3211, 'fur': 1063, 'laz': 1874, 'eld': 862, 'lde': 1879, 'lez': 1901, 'zat': 3551, 'lic': 1914, 'loy': 1964, 'ar-': 307, 'r-b': 2639, 'luc': 1984, 'map': 2023, 'boj': 498, 'oja': 2398, 'mej': 2049, 'ski': 2939, 'eml': 879, 'moc': 2094, 'oce': 2360, 'muj': 2140, 'mum': 2143, 'syk': 3017, 'yki': 3514, 'naj': 2162, 'jis': 1641, 'ncr': 2183, 'nid': 2242, 'noh': 2281, 'eon': 908, 'elb': 861, 'gec': 1109, 'pru': 2610, 'utr': 3359, 'aky': 229, 'kya': 1846, 'nic': 2241, 'nel': 2201, 'yau': 3482, 'yih': 3506, 'roh': 2781, 'roy': 2794, 'ruw': 2839, 'ruy': 2840, 'hih': 1277, 'ma-': 2009, 'yup': 3538, 'seh': 2890, 'aht': 180, 'hte': 1317, 'leo': 1893, 'nio': 2250, 'seo': 2897, 'a-m': 90, '-me': 53, 'ia-': 1345, 'soh': 2962, 'som': 2966, 'sop': 2968, 'yia': 3502, 'esy': 957, 'tay': 3045, 'ga-': 1075, 'a-n': 91, '-nu': 57, 'nuk': 2322, 'k-j': 1680, '-je': 46, 'k-p': 1682, '-pa': 59, 'k-s': 1683, '-sa': 65, '-si': 67, 'k-t': 1684, '-te': 70, 'kpe': 1804, 'opr': 2463, 'uir': 3233, 'keu': 1736, 'eua': 968, 'eul': 970, 'eun': 972, 'eus': 973, 'eut': 974, 'euz': 975, 'uzu': 3373, 'zur': 3573, 'wes': 3435, 'ewu': 984, 'wuh': 3460, 'haz': 1256, 'khe': 1741, 'khu': 1746, 'hus': 1329, 'iai': 1352, 'kij': 1755, 'kio': 1760, 'irb': 1526, 'miz': 2083, 'smi': 2949, 'rof': 2779, 'koa': 1784, 'kob': 1785, 'koe': 1788, 'oef': 2370, 'kog': 1789, 'ogn': 2380, 'gni': 1176, 'okp': 2410, 'nso': 2301, 'fli': 1035, 'ngr': 2233, 'jug': 1664, 'nkr': 2269, 'sye': 3013, 'yen': 3494, 'koo': 1797, 'oor': 2455, 'eog': 904, 'smo': 2950, 'mop': 2105, 'osn': 2491, 'koy': 1802, 'ku': 1826, 'ube': 3177, 'kuc': 1829, 'uce': 3189, 'uiz': 3237, 'kuo': 1839, 'uot': 3304, 'upo': 3312, 'urm': 3329, 'urv': 3335, 'l-a': 1849, '-ab': 19, 'aic': 186, 'inn': 1491, 'ki-': 1748, 'i-l': 1340, '-la': 49, 'lu-': 1981, 'u-l': 3155, '-li': 51, 'nds': 2190, 'dsk': 730, 'sui': 2997, 'nsk': 2299, 'lao': 1865, 'lav': 1871, 'azu': 410, 'zua': 3570, 'lec': 1883, 'ceh': 569, 'uco': 3191, 'yeh': 3489, 'uid': 3227, 'leu': 1898, 'eum': 971, 'pst': 2612, 'loa': 1946, 'oak': 2346, 'loh': 1952, 'loj': 1954, 'low': 1963, 'won': 3455, 'lug': 1987, 'umr': 3284, \"ma'\": 2008, \"a'n\": 82, \"'na\": 13, 'agh': 156, 'ghr': 1138, 'swi': 3010, 'hko': 1291, 'hra': 1310, 'aiz': 200, 'ize': 1597, 'ajl': 204, 'jli': 1645, 'ruf': 2826, 'udm': 3197, 'dmu': 704, 'kyu': 1847, 'nip': 2251, 'nuf': 2317, 'ufa': 3206, 'hae': 1239, 'asj': 340, 'sji': 2935, 'jid': 1632, 'ass': 348, 'ssa': 2981, 'urb': 3320, 'syg': 3014, 'ygu': 3500, 'syh': 3015, 'yhu': 3501, 'syr': 3019, 'yri': 3525, 'yor': 3523, 'maz': 2030, 'azb': 404, 'zba': 3552, 'azm': 408, 'zmu': 3565, 'mec': 2043, 'med': 2044, 'gaf': 1080, 'afo': 148, 'nko': 2268, 'at-': 353, 't-g': 3022, '-ga': 39, 'mem': 2052, 'okk': 2405, 's-t': 2854, '-tu': 72, 'etk': 961, 'olk': 2420, 'mi-': 2065, 'i-h': 1338, 'i-r': 1342, 'ah-': 165, 'h-b': 1232, 'ekk': 848, 'otk': 2500, 'emf': 877, 'mfo': 2063, 'mij': 2072, 'moa': 2092, 'opu': 2466, 'mup': 2145, 'utl': 3355, 'ahb': 167, 'hbi': 1258, 'akj': 217, 'kju': 1767, 'ubk': 3180, 'ur-': 3318, 'r-a': 2638, '-ad': 20, 'elk': 865, 'row': 2793, 'r-h': 2641, '-hi': 43, 'ifk': 1402, 'ndw': 2192, 'neb': 2194, 'ned': 2196, 'mui': 2139, 'nep': 2205, 'g-t': 1073, 'ror': 2789, 'new': 2209, 'g--': 1067, '--i': 17, 'adk': 129, 'gac': 1078, 'ih-': 1417, 'h-t': 1234, 'a-a': 85, '-ar': 25, 'opk': 2459, '-ti': 71, 'a-j': 88, 'apn': 300, 'yom': 3521, 'gaz': 1097, 'gef': 1111, 'g-b': 1068, 'omk': 2432, 'rec': 2686, 'gev': 1124, 'is-': 1540, 's-b': 2851, 'opy': 2467, 'pyo': 2634, 'goc': 1182, 'ghe': 1134, 'ghi': 1136, 'gho': 1137, 'ghu': 1139, 'gib': 1143, 'gid': 1144, 'gkh': 1161, 'tku': 3098, 'guj': 1221, 'enh': 889, 'nhi': 2238, 'ik-': 1439, 'nsw': 2305, 'nud': 2316, 'nuj': 2321, 'yab': 3468, 'yad': 3469, 'yaj': 3473, 'ahg': 170, 'hgu': 1272, 'fsi': 1052, 'tu-': 3135, 'u-p': 3156, 'yay': 3484, 'yeb': 3486, 'yed': 3487, 'yeg': 3488, 'yej': 3490, 'yel': 3492, 'yep': 3495, 'yer': 3496, 'yes': 3497, 'yew': 3499, 'yib': 3503, 'yif': 3505, 'yim': 3509, 'yis': 3512, 'yoa': 3515, 'yod': 3516, 'yog': 3517, 'yuc': 3531, 'yud': 3532, 'nzi': 2340, 'meo': 2054, 'hyu': 1336, 'mey': 2060, 'mi': 2064, 'une': 3293, 'mm': 2087, '-mo': 55, \"mu'\": 2131, \"u'j\": 3153, \"'ji\": 12, 'jiz': 1644, 'iza': 1596, 'mub': 2133, 'muf': 2136, 'ufl': 3209, 'uft': 3210, 'fti': 1056, 'uhr': 3225, 'ujt': 3241, 'jta': 1659, 'ukj': 3247, 'kji': 1766, 'taz': 3046, 'zil': 3560, 'utm': 3356, 'tmu': 3106, 'r-m': 2642, 'yta': 3526, 'muz': 2150, 'uza': 3370, 'uzi': 3372, 'zik': 3559, 'adz': 137, 'dzi': 755, 'ahd': 168, 'hdi': 1259, 'iyi': 1595, 'hod': 1301, 'ibm': 1370, 'bmu': 488, 'yid': 3504, 'vig': 3394, 'naz': 2175, 'neo': 2204, 'nig': 2244, 'isb': 1542, 'sbi': 2878, 'isc': 1543, 'sca': 2881, 'niz': 2258, 'eln': 867, 'utf': 3352, 'tfa': 3070, 'obj': 2353, 'bje': 480, 'obs': 2357, 'oh': 2384, 'knu': 1782, 'sig': 2920, 'opn': 2461, 'pna': 2589, 'gtu': 1212, 'ozo': 2515, 'zon': 3569, 'pa-': 2516, 'a-p': 92, 'yub': 3530, 'aip': 195, 'paj': 2524, 'akc': 212, 'kci': 1711, 'igm': 1412, 'asc': 335, 'paw': 2535, 'pe-': 2538, 'e-t': 756, 'peb': 2540, 'peh': 2544, 'eho': 822, 'pei': 2545, 'pej': 2546, 'kiw': 1765, 'koj': 1792, 'elp': 869, 'lpl': 1967, 'elv': 872, 'lvi': 2003, 'irs': 1538, 'mug': 2137, 'ahj': 172, 'hji': 1289, 'il-': 1453, '-al': 22, 'gip': 1152, 'gru': 1203, 'h-s': 1233, '-su': 68, 'yea': 3485, 'yul': 3535, 'peo': 2551, 'eot': 912, 'pep': 2552, 'puj': 2625, 'u-t': 3157, 'rei': 2691, 'rfe': 2708, 'rho': 2721, '-ap': 24, 'mea': 2041, '-bo': 30, 'rsl': 2808, 'rsp': 2810, 'lse': 1972, 'haa': 1236, 'uhj': 3220, 'hja': 1288, 'siw': 2934, 'pew': 2557, 'pey': 2558, 'eye': 986, 'pez': 2559, 'ezi': 990, 'pic': 2561, 'g-p': 1072, '-po': 62, 'gpo': 1198, 'pip': 2572, 'piz': 2577, 'in-': 1480, 'n-p': 2152, '-pl': 61, 'onn': 2447, 'poj': 2596, 'olr': 2424, 'lri': 1970, 'otl': 2501, 'tlo': 3102, 'enn': 894, 'riy': 2745, 'ofe': 2372, 'roj': 2783, 'oje': 2399, 'okl': 2406, 'vin': 3397, 'ovo': 2508, 'oye': 2512, 'pub': 2619, 'puc': 2620, 'pud': 2621, 'pug': 2622, 'pui': 2624, 'ulp': 3270, 'pup': 2629, 'puy': 2633, 'io-': 1499, 'o-i': 2345, '-is': 44, 'ioa': 1500, 'hsi': 1314, 'ull': 3266, 'edh': 790, 'dha': 674, 'reu': 2702, 'olv': 2427, 'rey': 2705, 'eyo': 987, 'rez': 2706, 'eze': 989, 'zek': 3554, 'iuh': 1576, 'way': 3427, 'ock': 2362, 'ntg': 2309, 'tge': 3072, \"sa'\": 2855, \"a'b\": 78, \"'ba\": 8, 'aad': 95, 'mse': 2124, 'msu': 2126, 'atw': 369, 'twa': 3152, 'auj': 378, 'awo': 396, 'sbb': 2876, 'se': 2883, 'sea': 2884, 'itp': 1571, 'see': 2888, 'gi-': 1141, 'i-t': 1343, 'egm': 812, 'eia': 824, 'eib': 825, 'eir': 833, 'ilw': 1467, 'oci': 2361, 'koi': 1791, 'ksm': 1815, 'ofa': 2371, 'ulo': 3269, 'maf': 2014, 'mif': 2069, 'mip': 2078, 'poy': 2605, 'emr': 882, 'doc': 709, 'niw': 2257, 'tad': 3028, 'fug': 1059, 'atb': 355, 'tbo': 3048, 'ett': 966, 'tti': 3134, 'seu': 2902, 'eud': 969, 'wot': 3457, 'sez': 2904, 'she': 2910, 'si': 2913, 'ign': 1413, 'sij': 2922, 'imf': 1472, 'mpt': 2117, 'sne': 2953, 'sob': 2957, 'ogu': 2383, 'old': 2416, 'obu': 2358, 'ies': 1396, 'gna': 1174, 'eos': 911, 'pko': 2581, 'ubj': 3179, 'ubo': 3182, 'ubt': 3185, 'btr': 521, 'ubv': 3187, 'bve': 541, 'ufi': 3208, 'suj': 2998, 'umo': 3282, 'uhp': 3224, 'hpu': 1309, 'nna': 2275, 'upr': 3313, 'vei': 3382, 'ury': 3337, 'suv': 3007, 'uve': 3362, 'swe': 3009, 'swt': 3011, 'syo': 3018, \"ta'\": 3023, \"a'r\": 83, \"'ri\": 15, \"a'u\": 84, \"'un\": 16, 'bii': 465, 'adb': 124, 'dbi': 653, 'hni': 1298, 'ajw': 208, 'jwi': 1676, 'akb': 211, 'kbu': 1710, 'akz': 230, 'kzi': 1848, 'mta': 2127, 'anp': 284, 'npa': 2293, 'wih': 3443, 'auf': 374, 'tac': 3027, 'tej': 3058, 'ekp': 853, 'muc': 2134, 'kuy': 1844, 'peu': 2556, 'itl': 1567, 'rng': 2769, 'tey': 3069, 'url': 3328, 'pog': 2593, 'nsf': 2297, 'nsm': 2300, 'iwu': 1593, 'un-': 3288, 'n-u': 2153, '-ub': 73, 'fuk': 1060, \"um'\": 3274, \"m'a\": 2007, \"'at\": 6, 'g-u': 1074, '-un': 74, 'niv': 2256, 'a-u': 94, '-ur': 75, 'vag': 3374, 'vak': 3375, 'veg': 3381, 'vie': 3393, 'vik': 3395, 'vir': 3399, 'vul': 3409, 'fel': 1015, 'waz': 3428, 'wej': 3430, 'idy': 1390, 'dya': 754, 'wij': 3444, 'wol': 3454, 'wor': 3456, 'wud': 3458, 'udn': 3198, 'dny': 705, 'wus': 3464, 'shu': 2912, 'mtu': 2130, 'ssi': 2982, 'yu': 3528, 'isd': 1544, 'sdi': 2882, 'mru': 2122, 'zeb': 3553, 'zoh': 3566, 'zuh': 3571, 'zul': 3572, 'bdu': 436, 'adh': 126, 'dhe': 675, 'hes': 1267, 'ads': 133, 'dso': 731, 'ims': 1478, 'uaz': 3175, 'tie': 3080, 'tij': 3084, 'toi': 3116, 'sbu': 2880, 'tle': 3100, 'ave': 389, 'aai': 98, 'zma': 3564, 'aal': 99, 'gea': 1107, 'heu': 1269, 'kpa': 1803, 'pao': 2529, 'biz': 478, 'izu': 1599, 'ohl': 2389, 'ulg': 3262, 'lgu': 1909, 's-c': 2852, '-cu': 34, 'g-c': 1069, 'fte': 1055, 'irh': 1531, 'mei': 2048, 'ugd': 3213, 'gde': 1104, 'ef': 803, 'eop': 909, 'upm': 3310, 'pmu': 2588, 'ia': 1344, 'izz': 1600, 'zza': 3574, 'nke': 2266, 'ekm': 850, 'kme': 1776, 'waf': 3414, 'kif': 1753, 'fay': 1007, 'ohe': 2386, 'upt': 3315, 'ngf': 2222, 'gfu': 1125, 'uor': 3303, 'mic': 2067, 'yil': 3508, 'moy': 2110, 'idn': 1386, 'urt': 3333, 'nec': 2195, 'enm': 893, 'nme': 2273, 'atf': 357, 'tfo': 3071, 'noy': 2292, 'soc': 2958, 'kbi': 1709, 'wuf': 3459, '-pi': 60, 'tgl': 3073, 'tuy': 3151, 'vio': 3398, 'olt': 2425, 'zap': 3549}\n",
      "3571 {'--n': 18, '-ny': 58, 'nya': 2333, '-an': 23, 'and': 273, 'nda': 2185, '-be': 27, 'bel': 447, 'ela': 860, 'las': 1868, '-co': 33, 'com': 605, 'omp': 2434, 'mpe': 2112, 'pen': 2550, 'eng': 888, '-de': 35, 'del': 664, 'lap': 1866, 'apa': 293, 'pan': 2528, '-ka': 47, 'kan': 1699, '-ku': 48, '-le': 50, 'len': 1892, 'ngg': 2223, 'gga': 1126, 'gan': 1088, 'ang': 276, '-ma': 52, 'mah': 2016, 'aha': 166, 'has': 1251, 'asi': 339, 'sis': 2930, 'isw': 1560, 'swa': 3008, '-se': 66, 'sep': 2898, 'epi': 915, 'pit': 2575, '-ta': 69, 'tak': 3034, '-wa': 76, 'wan': 3422, 'wat': 3425, 'ati': 359, \"a'd\": 79, \"'du\": 10, \"a'h\": 80, \"'ha\": 11, 'had': 1238, 'ab': 104, 'aba': 105, 'bad': 416, 'adi': 127, 'dia': 677, 'iah': 1351, 'dik': 687, 'ika': 1440, 'bah': 418, 'bai': 419, 'aia': 184, 'ian': 1357, 'aik': 191, 'aim': 193, 'ima': 1469, 'man': 2022, 'ana': 270, 'ban': 424, 'nga': 2217, 'ngn': 2230, 'gny': 1178, 'bar': 426, 'ara': 308, 'ran': 2657, 'bat': 428, 'ato': 364, 'toa': 3111, 'oar': 2349, 'bau': 429, 'abd': 106, 'bda': 433, 'das': 648, 'bdi': 434, 'kas': 1703, 'bdo': 435, 'dom': 716, 'ome': 2430, 'men': 2053, 'omi': 2431, 'min': 2076, 'ina': 1481, 'nal': 2164, 'abe': 107, 'ben': 449, 'ber': 452, 'era': 923, 'ras': 2661, 'bet': 454, 'abi': 108, 'bia': 459, 'bid': 462, 'idi': 1384, 'din': 690, 'bil': 468, 'ila': 1454, 'lah': 1858, 'bis': 474, 'bit': 475, 'itu': 1573, 'tur': 3148, 'uri': 3325, 'rie': 2728, 'ien': 1394, 'abj': 109, 'bja': 479, 'jad': 1603, 'abl': 111, 'bla': 483, 'lau': 1870, 'aut': 386, 'abn': 112, 'bno': 489, 'nor': 2288, 'orm': 2478, 'rma': 2762, 'mal': 2020, 'ali': 240, 'lit': 1929, 'ita': 1562, 'tas': 3040, 'bnu': 490, 'nus': 2327, 'abo': 113, 'boi': 497, 'bol': 500, 'oli': 2419, 'lis': 1928, 'isi': 1548, 'bon': 502, 'one': 2441, 'nem': 2202, 'eme': 876, 'abr': 114, 'bra': 509, 'rak': 2654, 'aka': 210, 'kad': 1689, 'ada': 123, 'dab': 633, 'rar': 2660, 'bre': 510, 'rea': 2684, 'eak': 763, 'aks': 225, 'ksi': 1813, 'rek': 2693, 'rev': 2703, 'evi': 978, 'via': 3391, 'ias': 1360, 'bri': 511, 'rik': 2733, 'iko': 1448, 'kos': 1800, 'abs': 115, 'bse': 515, 'sen': 2896, 'ens': 896, 'nsi': 2298, 'ent': 897, 'nte': 2308, 'tei': 3057, 'eis': 834, 'ism': 1552, 'sme': 2948, 'bsi': 516, 'bso': 517, 'sol': 2965, 'olu': 2426, 'lus': 1996, 'usi': 3341, 'lut': 1997, 'uti': 3353, 'tis': 3092, 'sor': 2969, 'orp': 2481, 'rps': 2800, 'psi': 2611, 'bst': 518, 'sta': 2984, 'tai': 3032, 'ain': 194, 'str': 2988, 'tra': 3126, 'bsu': 519, 'sur': 3004, 'urd': 3321, 'abt': 116, 'bta': 520, 'tar': 3039, 'abu': 117, 'bua': 523, 'uan': 3169, 'buh': 529, 'uha': 3218, 'han': 1248, 'buk': 532, 'bul': 533, 'ulh': 3263, 'lha': 1910, 'hay': 1255, 'aya': 398, 'yat': 3481, 'bur': 537, 'bus': 538, 'aca': 118, 'cah': 549, 'cak': 551, 'can': 554, 'cap': 556, 'car': 557, 'ram': 2656, 'cat': 559, 'ata': 354, 'tan': 3037, 'cau': 560, 'ace': 119, 'cer': 575, 'aci': 120, 'cia': 581, 'cik': 587, 'aco': 121, 'acu': 122, 'cua': 615, 'cuh': 620, 'cum': 624, 'uma': 3275, 'cun': 625, 'ung': 3294, 'ngk': 2227, 'gka': 1159, 'daa': 632, 'aan': 100, 'dad': 635, 'dag': 638, 'agi': 157, 'gio': 1151, 'giu': 1156, 'ium': 1580, 'dak': 642, 'kah': 1693, 'kal': 1697, 'ala': 233, 'dal': 643, 'lat': 1869, 'dam': 644, 'dan': 645, 'any': 289, 'dap': 646, 'apt': 304, 'pta': 2614, 'pti': 2616, 'tif': 3081, 'pto': 2617, 'tor': 3122, 'apu': 305, 'pun': 2628, 'dar': 647, 'dat': 649, 'ade': 125, 'deg': 661, 'ega': 809, 'deh': 662, 'dek': 663, 'eku': 857, 'kua': 1827, 'uat': 3173, 'dem': 665, 'emp': 881, 'mpa': 2111, 'pau': 2534, 'auz': 387, 'uze': 3371, 'dib': 678, 'ibu': 1374, 'usa': 3338, 'san': 2867, 'dic': 679, 'ici': 1377, 'cit': 594, 'did': 680, 'ida': 1382, 'day': 652, 'dig': 683, 'iga': 1407, 'igu': 1416, 'gun': 1225, 'una': 3289, 'kar': 1702, 'ary': 329, 'rya': 2848, 'ikk': 1444, 'kku': 1769, 'ikn': 1447, 'kny': 1783, 'kod': 1787, 'odr': 2368, 'dra': 725, 'rat': 2662, 'iks': 1450, 'ikt': 1451, 'kti': 1822, 'iku': 1452, 'uas': 3172, 'asa': 333, 'dil': 688, 'dim': 689, 'mar': 2024, 'arg': 314, 'rga': 2713, 'dip': 692, 'ipa': 1514, 'pat': 2533, 'ipe': 1515, 'ngh': 2224, 'gha': 1133, 'ant': 286, 'nta': 2307, 'ipo': 1520, 'pos': 2603, 'osi': 2488, 'sit': 2931, 'ipu': 1524, 'pur': 2630, 'ura': 3319, 'dir': 693, 'ira': 1525, 'raj': 2653, 'aja': 201, 'dis': 694, 'dit': 695, 'iti': 1565, 'ito': 1570, 'tok': 3117, 'oko': 2409, 'koh': 1790, 'diw': 698, 'iwa': 1590, 'ngs': 2234, 'gsa': 1204, 'war': 3423, 'arn': 321, 'rna': 2767, 'iwi': 1592, 'wid': 3440, 'adj': 128, 'dje': 700, 'jek': 1623, 'ekt': 856, 'tiv': 3095, 'iva': 1586, 'adm': 130, 'dmi': 703, 'ini': 1488, 'nis': 2253, 'ist': 1558, 'mis': 2080, 'ado': 131, 'don': 717, 'ona': 2437, 'nan': 2166, 'dop': 718, 'opt': 2465, 'adr': 132, 'dre': 726, 'ren': 2696, 'ena': 884, 'lin': 1924, 'res': 2700, 'adu': 134, 'dua': 732, 'duh': 737, 'hai': 1243, 'duk': 739, 'uka': 3243, 'adv': 135, 'dve': 749, 'ver': 3387, 'erb': 924, 'rbi': 2670, 'ial': 1355, 'ert': 940, 'rte': 2815, 'ten': 3062, 'dvi': 750, 'vis': 3400, 'dvo': 751, 'vok': 3404, 'oka': 2402, 'aer': 141, 'ero': 937, 'rob': 2776, 'oba': 2350, 'tik': 3085, 'obi': 2352, 'bik': 467, 'rod': 2778, 'odi': 2366, 'nam': 2165, 'ami': 260, 'mik': 2073, 'rog': 2780, 'ogr': 2382, 'gra': 1199, 'rol': 2785, 'olo': 2422, 'log': 1951, 'ogi': 2378, 'rom': 2786, 'met': 2058, 'ete': 959, 'ter': 3065, 'omo': 2433, 'mov': 2109, 'ove': 2506, 'vel': 3384, 'ron': 2787, 'nau': 2171, 'ros': 2790, 'osk': 2489, 'sko': 2941, 'kop': 1798, 'oso': 2492, 'afd': 143, 'fda': 1010, 'fde': 1011, 'eli': 864, 'ing': 1486, 'fdr': 1012, 'dru': 729, 'ruk': 2831, 'afe': 144, 'fek': 1014, 'eks': 855, 'afi': 145, 'fia': 1022, 'iat': 1361, 'fik': 1026, 'ksa': 1811, 'sas': 2870, 'fil': 1027, 'ili': 1458, 'lia': 1912, 'fin': 1028, 'nit': 2254, 'fir': 1029, 'irm': 1535, 'mas': 2025, 'mat': 2026, 'afr': 149, 'fri': 1049, 'rit': 2741, 'fro': 1050, 'sia': 2914, 'iak': 1354, 'afw': 152, 'fwa': 1066, 'wah': 3416, 'aga': 154, 'gah': 1082, 'gak': 1085, 'akn': 221, 'gam': 1087, 'ama': 254, 'mak': 2019, 'aku': 227, 'maw': 2028, 'awa': 393, 'awi': 395, 'gar': 1091, 'gas': 1092, 'age': 155, 'gen': 1118, 'end': 886, 'gih': 1146, 'iha': 1418, 'git': 1155, 'tat': 3041, 'agl': 158, 'glu': 1171, 'tin': 3088, 'nas': 2169, 'agn': 160, 'gno': 1177, 'nos': 2289, 'ost': 2494, 'sti': 2986, 'agr': 162, 'ari': 316, 'ria': 2724, 'ris': 2740, 'gre': 1200, 'esi': 948, 'sif': 2919, 'siv': 2933, 'ivi': 1588, 'vit': 3401, 'eso': 952, 'gro': 1202, 'roi': 2782, 'oin': 2395, 'ind': 1483, 'ndu': 2191, 'dus': 745, 'ust': 3345, 'tri': 3128, 'ono': 2448, 'nom': 2285, 'agu': 163, 'guk': 1222, 'gul': 1223, 'gus': 1228, 'ah': 164, 'ahk': 173, 'hka': 1290, 'kam': 1698, 'ahl': 174, 'hli': 1294, 'hlu': 1295, 'lul': 1991, 'ulb': 3258, 'lba': 1875, 'ait': 198, 'ulk': 3265, 'lki': 1936, 'kit': 1764, 'tab': 3026, 'lku': 1938, 'kub': 1828, 'ubu': 3186, 'ahm': 175, 'hma': 1296, 'mad': 2013, 'aho': 177, 'ahw': 182, 'hwa': 1332, 'wal': 3420, 'aid': 187, 'ilf': 1456, 'lfi': 1903, 'fit': 1031, 'itr': 1572, 'air': 196, 'irn': 1536, 'rny': 2773, 'ais': 197, 'jab': 1602, 'jai': 1606, 'aib': 185, 'jak': 1608, 'jal': 1609, 'jan': 1611, 'jar': 1613, 'anm': 281, 'nmu': 2274, 'aje': 202, 'jen': 1626, 'aji': 203, 'jir': 1640, 'ajn': 205, 'jna': 1647, 'nab': 2155, 'ajo': 206, 'joj': 1651, 'oji': 2400, 'jin': 1638, 'aju': 207, 'jua': 1661, 'jud': 1663, 'uda': 3193, 'juj': 1667, 'uja': 3238, 'jah': 1605, 'juk': 1668, 'jun': 1671, 'jur': 1672, 'ak-': 209, 'k-a': 1677, '-ak': 21, 'emi': 878, 'kus': 1842, 'kai': 1694, 'aln': 245, 'lny': 1944, 'kau': 1705, 'aun': 382, 'akh': 215, 'khb': 1740, 'hba': 1257, 'khi': 1742, 'hir': 1284, 'khl': 1743, 'hla': 1293, 'lak': 1861, 'kht': 1745, 'hta': 1316, 'taj': 3033, 'khw': 1747, 'aki': 216, 'kib': 1750, 'iba': 1365, 'kid': 1752, 'dah': 639, 'kik': 1756, 'kil': 1757, 'akl': 219, 'kla': 1770, 'lam': 1863, 'kli': 1772, 'lim': 1923, 'isa': 1541, 'akm': 220, 'kma': 1775, 'ako': 222, 'kom': 1795, 'mod': 2095, 'oda': 2364, 'kor': 1799, 'akr': 224, 'kra': 1806, 'rab': 2645, 'kre': 1807, 'red': 2687, 'edi': 791, 'kri': 1808, 'ril': 2734, 'lik': 1921, 'kro': 1809, 'sar': 2869, 'raw': 2665, 'kse': 1812, 'sel': 2894, 'ele': 863, 'ler': 1895, 'ntu': 2313, 'tua': 3136, 'ept': 920, 'ses': 2900, 'sib': 2915, 'ibi': 1367, 'sid': 2917, 'ide': 1383, 'den': 666, 'tal': 3035, 'sio': 2927, 'iom': 1507, 'oma': 2428, 'kso': 1816, 'son': 2967, 'akt': 226, 'kto': 1823, 'ktr': 1824, 'ktu': 1825, 'ual': 3167, 'uar': 3171, 'uad': 3161, 'des': 670, 'are': 312, 'rel': 2694, 'riu': 2742, 'kui': 1834, 'uif': 3228, 'ife': 1400, 'fer': 1019, 'kuk': 1835, 'kul': 1836, 'ult': 3272, 'ltu': 1980, 'kum': 1837, 'umu': 3287, 'mul': 2142, 'ula': 3257, 'kun': 1838, 'unt': 3300, 'ans': 285, 'kup': 1840, 'upu': 3316, 'unk': 3297, 'nkt': 2270, 'kur': 1841, 'sat': 2871, 'kut': 1843, 'akw': 228, 'kwa': 1845, 'al': 231, 'al-': 232, 'l-q': 1851, '-qu': 63, 'qur': 2636, \"ur'\": 3317, \"r'a\": 2637, \"'an\": 5, 'lab': 1853, 'bio': 471, 'laf': 1856, 'lai': 1859, 'atu': 368, 'tul': 3144, 'mia': 2066, 'amn': 262, 'mny': 2091, 'lan': 1864, 'lar': 1867, 'arm': 320, 'alb': 234, 'bas': 427, 'lbi': 1876, 'bin': 470, 'ino': 1492, 'lbu': 1877, 'bum': 534, 'ume': 3277, 'ale': 236, 'leg': 1886, 'ego': 813, 'gor': 1193, 'ori': 2475, 'lem': 1891, 'ema': 874, 'erg': 929, 'rge': 2714, 'alf': 237, 'lfa': 1902, 'fab': 992, 'eti': 960, 'lfu': 1904, 'alg': 238, 'lga': 1905, 'lgo': 1908, 'goj': 1187, 'ojo': 2401, 'itm': 1568, 'tma': 3103, 'tme': 3104, 'alh': 239, 'ham': 1247, 'amd': 257, 'mdu': 2040, 'dul': 740, 'uli': 3264, 'lil': 1922, 'ill': 1460, 'lla': 1939, 'sil': 2924, 'lib': 1913, 'lie': 1916, 'lif': 1917, 'ifb': 1399, 'fba': 1009, 'lih': 1919, 'ime': 1471, 'imi': 1473, 'ine': 1484, 'nea': 2193, 'lip': 1926, 'lir': 1927, 'ite': 1563, 'alj': 241, 'lja': 1932, 'alk': 242, 'lka': 1934, 'alo': 246, 'loi': 1953, 'oid': 2392, 'asy': 352, 'sya': 3012, 'yaf': 3470, 'lke': 1935, 'ken': 1730, 'kis': 1763, 'sah': 2861, 'lko': 1937, 'oho': 2391, 'hol': 1303, 'all': 243, 'alm': 244, 'lma': 1940, 'alu': 250, 'lun': 1993, 'mam': 2021, 'ate': 356, 'arh': 315, 'rhu': 2722, 'hum': 1326, 'lmu': 1943, 'muk': 2141, 'ukh': 3245, 'lof': 1950, 'ofo': 2374, 'fon': 1042, 'lok': 1955, 'lom': 1957, 'mor': 2106, 'orf': 2472, 'lon': 1958, 'alp': 247, 'lpa': 1965, 'pak': 2525, 'lpe': 1966, 'per': 2553, 'ere': 927, 'lpu': 1969, 'puk': 2626, 'alt': 249, 'lte': 1976, 'ern': 936, 'nat': 2170, 'lto': 1978, 'ltr': 1979, 'tru': 3130, 'rui': 2829, 'uis': 3234, 'lua': 1982, 'lum': 1992, 'umi': 3278, 'niu': 2255, 'umn': 3281, 'mni': 2090, 'lup': 1994, 'luv': 1998, 'uvi': 3363, 'alv': 251, 'lve': 2002, 'veo': 3386, 'eol': 906, 'alw': 252, 'lwa': 2004, 'was': 3424, 'am': 253, 'ann': 282, 'nny': 2276, 'nah': 2160, 'rah': 2651, 'ahn': 176, 'hny': 1299, 'atl': 361, 'tla': 3099, 'amb': 255, 'mba': 2031, 'bak': 421, 'bal': 422, 'sad': 2858, 'dor': 719, 'mbe': 2032, 'bei': 444, 'eie': 827, 'mbi': 2033, 'big': 463, 'gui': 1220, 'uit': 3235, 'ilk': 1459, 'siu': 2932, 'ius': 1584, 'biv': 477, 'val': 3376, 'mbl': 2034, 'ble': 484, 'lek': 1889, 'les': 1896, 'mbo': 2035, 'mbr': 2036, 'bro': 512, 'bru': 513, 'mbu': 2037, 'bun': 535, 'rad': 2647, 'mby': 2038, 'bya': 542, 'yar': 3479, 'ame': 258, 'meb': 2042, 'eba': 774, 'ebi': 776, 'mel': 2051, 'lio': 1925, 'ior': 1510, 'ora': 2468, 'nde': 2186, 'amf': 259, 'mfe': 2061, 'fet': 1021, 'eta': 958, 'tam': 3036, 'mfi': 2062, 'fib': 1023, 'tea': 3051, 'eat': 769, 'mil': 2074, 'mir': 2079, 'iru': 1539, 'rul': 2832, 'har': 1250, 'haj': 1244, 'ulm': 3267, 'ukm': 3250, 'kmi': 1777, 'nin': 2249, 'amk': 261, 'mko': 2085, 'mne': 2089, 'nes': 2207, 'est': 955, 'amo': 263, 'moi': 2099, 'mon': 2103, 'oni': 2444, 'nia': 2239, 'ort': 2483, 'rti': 2817, 'amp': 264, 'pai': 2523, 'pea': 2539, 'ean': 766, 'pek': 2547, 'pel': 2548, 'mpl': 2114, 'pli': 2585, 'ifi': 1401, 'tud': 3138, 'udo': 3199, 'plo': 2586, 'lop': 1959, 'mpo': 2115, 'mpr': 2116, 'pro': 2609, 'rok': 2784, 'mpu': 2118, 'puh': 2623, 'put': 2632, 'uta': 3349, 'amr': 265, 'mra': 2119, 'mri': 2120, 'ams': 266, 'msa': 2123, 'sal': 2865, 'amt': 267, 'mte': 2128, 'nar': 2168, 'amu': 268, 'ule': 3260, 'let': 1897, 'mun': 2144, 'uni': 3295, 'nae': 2157, 'naf': 2158, 'nai': 2161, 'nak': 2163, 'akk': 218, 'kta': 1820, 'lge': 1906, 'ges': 1122, 'sik': 2923, 'ani': 277, 'ark': 318, 'rki': 2754, 'ion': 1508, 'sir': 2929, 'anb': 271, 'nbi': 2176, 'anc': 272, 'nca': 2179, 'cal': 552, 'cam': 553, 'nco': 2182, 'coa': 597, 'col': 604, 'ncu': 2184, 'cuk': 622, 'dai': 640, 'iny': 1498, 'api': 296, 'der': 669, 'ndi': 2187, 'ndo': 2188, 'dok': 714, 'ndr': 2189, 'win': 3447, 'dro': 728, 'oge': 2377, 'dun': 742, 'dur': 744, 'ane': 274, 'neh': 2198, 'ehn': 821, 'nek': 2200, 'eka': 842, 'mer': 2056, 'ste': 2985, 'tes': 3066, 'iol': 1506, 'anf': 275, 'nfa': 2210, 'fas': 1003, 'ank': 279, 'nka': 2265, 'nge': 2221, 'gel': 1116, 'gai': 1083, 'gal': 1086, 'gap': 1090, 'gge': 1127, 'ger': 1121, 'erk': 933, 'rka': 2751, 'ggi': 1128, 'ggl': 1129, 'gla': 1167, 'ggo': 1130, 'got': 1195, 'ota': 2496, 'ggr': 1131, 'ekw': 858, 'ggu': 1132, 'gur': 1227, 'ngi': 2225, 'gin': 1150, 'kak': 1696, 'saw': 2873, 'kat': 1704, 'atn': 363, 'tny': 3110, 'gke': 1160, 'kel': 1728, 'ket': 1735, 'gki': 1162, 'kin': 1759, 'gkl': 1163, 'klu': 1774, 'gko': 1164, 'kon': 1796, 'ong': 2443, 'gkr': 1165, 'rin': 2736, 'gku': 1166, 'ngl': 2228, 'glo': 1170, 'ngo': 2231, 'gon': 1191, 'gop': 1192, 'ngp': 2232, 'gpa': 1197, 'gso': 1207, 'sok': 2964, 'gsu': 1209, 'ngu': 2236, 'gut': 1229, 'iay': 1364, 'nih': 2245, 'nim': 2248, 'imo': 1476, 'anj': 278, 'nja': 2259, 'nji': 2261, 'jim': 1637, 'njl': 2262, 'jlo': 1646, 'nju': 2264, 'ano': 283, 'noa': 2277, 'non': 2286, 'ore': 2471, 'org': 2473, 'nik': 2246, 'nsa': 2295, 'sam': 2866, 'nsu': 2304, 'tag': 3030, 'ago': 161, 'tah': 3031, 'ake': 214, 'kes': 1734, 'esu': 956, 'sum': 3001, 'tap': 3038, 'arb': 309, 'rba': 2668, 'rbe': 2669, 'enu': 898, 'nua': 2314, 'ard': 311, 'rda': 2678, 'dae': 636, 'rke': 2752, 'elo': 868, 'pok': 2597, 'ast': 349, 'rmo': 2765, 'mol': 2101, 'ole': 2417, 'rmu': 2766, 'rne': 2768, 'neg': 2197, 'arp': 323, 'rpr': 2799, 'pri': 2608, 'rib': 2725, 'rpu': 2801, 'pul': 2627, 'arr': 324, 'rra': 2802, 'rru': 2803, 'rua': 2822, 'ars': 325, 'rse': 2805, 'rsu': 2812, 'suk': 2999, 'uku': 3255, 'art': 326, 'taw': 3044, 'wac': 3412, 'tek': 3059, 'eke': 845, 'tel': 3060, 'tem': 3061, 'tep': 3064, 'nti': 2310, 'ti-': 3076, 'i-k': 1339, 'tib': 3078, 'ibe': 1366, 'bek': 446, 'ios': 1511, 'iot': 1512, 'oti': 2499, 'ibo': 1372, 'bod': 494, 'tid': 3079, 'dio': 691, 'iok': 1505, 'oks': 2412, 'tig': 3082, 'ige': 1409, 'tih': 3083, 'ihi': 1420, 'his': 1285, 'ikl': 1445, 'ikr': 1449, 'stu': 2989, 'tus': 3149, 'tip': 3090, 'pod': 2592, 'ode': 2365, 'ise': 1545, 'eps': 919, 'sip': 2928, 'pas': 2532, 'iso': 1554, 'sos': 2970, 'tit': 3093, 'tiw': 3096, 'wir': 3449, 'nto': 2311, 'tol': 3118, 'ton': 3120, 'top': 3121, 'ntr': 2312, 'tre': 3127, 'tro': 3129, 'rop': 2788, 'opo': 2462, 'pol': 2598, 'pom': 2599, 'rfi': 2709, 'fis': 1030, 'ose': 2486, 'tuk': 3143, 'tun': 3146, 'anu': 287, 'nug': 2318, 'uge': 3214, 'nui': 2320, 'nul': 2323, 'num': 2324, 'rta': 2814, 'nun': 2325, 'usw': 3347, 'nut': 2328, 'yam': 3476, 'yan': 3477, 'nyi': 2335, 'yir': 3511, 'paa': 2517, 'pab': 2518, 'pal': 2526, 'lag': 1857, 'pam': 2527, 'pap': 2530, 'par': 2531, 'rth': 2816, 'the': 3074, 'hei': 1261, 'eid': 826, 'ape': 295, 'ers': 939, 'pes': 2554, 'pik': 2567, 'pil': 2568, 'pio': 2571, 'apk': 298, 'pki': 2580, 'kir': 1762, 'apl': 299, 'pla': 2583, 'aus': 385, 'plu': 2587, 'apo': 301, 'get': 1123, 'gia': 1142, 'pop': 2601, 'opl': 2460, 'ple': 2584, 'eri': 931, 'rio': 2737, 'sto': 2987, 'pot': 2604, 'ote': 2498, 'ker': 1733, 'apr': 302, 'pre': 2607, 'aqi': 306, 'qil': 2635, 'rai': 2652, 'nse': 2296, 'sem': 2895, 'aru': 327, 'rut': 2838, 'rau': 2663, 'bab': 414, 'ase': 336, 'rer': 2699, 'arc': 310, 'rca': 2673, 'rdi': 2680, 'eal': 764, 'rem': 2695, 'rgo': 2716, 'gom': 1190, 'rgu': 2717, 'gum': 1224, 'rif': 2729, 'rih': 2731, 'rip': 2738, 'okr': 2411, 'arj': 317, 'rja': 2747, 'keo': 1731, 'gis': 1154, 'kia': 1749, 'rku': 2756, 'aro': 322, 'oga': 2375, 'omb': 2429, 'pus': 2631, 'eni': 890, 'rsi': 2806, 'tef': 3054, 'efa': 804, 'fak': 998, 'iog': 1504, 'raf': 2649, 'tet': 3067, 'tia': 3077, 'ifa': 1398, 'ike': 1441, 'til': 3086, 'ile': 1455, 'rto': 2818, 'rud': 2825, 'run': 2834, 'rus': 2837, 'arw': 328, 'rwa': 2844, 'arz': 330, 'rza': 2849, 'zak': 3545, 'as': 331, 'sab': 2857, 'sai': 2862, 'sak': 2864, 'sap': 2868, 'asn': 344, 'sny': 2955, 'asb': 334, 'sba': 2875, 'sbe': 2877, 'bes': 453, 'sek': 2893, 'ksu': 1819, 'sua': 2990, 'ser': 2899, 'set': 2901, 'eto': 963, 'asf': 337, 'sfa': 2905, 'fal': 999, 'far': 1002, 'ash': 338, 'sha': 2909, 'sih': 2921, 'sin': 2926, 'iri': 1532, 'ask': 341, 'skr': 2942, 'ipt': 1523, 'asl': 342, 'sli': 2945, 'asm': 343, 'sma': 2947, 'sna': 2952, 'nad': 2156, 'aso': 345, 'soi': 2963, 'asp': 346, 'spa': 2972, 'rag': 2650, 'spe': 2973, 'spi': 2974, 'pir': 2573, 'asr': 347, 'sra': 2978, 'ral': 2655, 'asu': 350, 'suh': 2996, 'ums': 3285, 'msi': 2125, 'umt': 3286, 'mti': 2129, 'sun': 3002, 'sus': 3005, 'asw': 351, 'wad': 3413, 'syi': 3016, 'yik': 3507, 'tau': 3042, 'aup': 383, 'tav': 3043, 'avi': 391, 'tli': 3101, 'atm': 362, 'tmo': 3105, 'mom': 2102, 'mos': 2107, 'osf': 2487, 'sfe': 2906, 'tom': 3119, 'atr': 366, 'but': 539, 'au': 370, 'aub': 372, 'uba': 3176, 'aud': 373, 'udi': 3195, 'iov': 1513, 'ovi': 2507, 'isu': 1559, 'auk': 379, 'uks': 3253, 'aum': 381, 'aur': 384, 'ute': 3351, 'uto': 3358, 'tob': 3112, 'tod': 3113, 'tog': 3114, 'mob': 2093, 'ops': 2464, 'avg': 390, 'vga': 3390, 'avo': 392, 'von': 3406, 'ont': 2450, 'rir': 2739, 'waa': 3410, 'aar': 101, 'wab': 3411, 'wai': 3417, 'wak': 3419, 'wam': 3421, 'rac': 2646, 'waw': 3426, 'awe': 394, 'wet': 3436, 'awu': 397, 'wur': 3463, 'wut': 3465, 'yah': 3471, 'hmu': 1297, 'yak': 3474, 'yal': 3475, 'yap': 3478, 'aye': 399, 'yem': 3493, 'ayo': 401, 'ayu': 402, 'yuh': 3533, 'yum': 3536, 'yun': 3537, 'und': 3292, 'yut': 3541, 'aza': 403, 'zab': 3542, 'zal': 3546, 'zam': 3547, 'zan': 3548, 'aze': 405, 'zer': 3556, 'aij': 190, 'ija': 1433, 'azh': 406, 'zha': 3557, 'azi': 407, 'zim': 3561, 'imu': 1479, 'mut': 2148, 'zir': 3563, 'ba': 411, \"ba'\": 412, \"'da\": 9, 'bac': 415, 'caa': 543, 'cek': 570, 'cem': 572, 'cin': 590, 'cok': 603, 'cut': 629, 'dau': 650, 'int': 1495, 'dut': 746, 'bag': 417, 'gau': 1094, 'usn': 3344, 'hag': 1241, 'hak': 1245, 'hal': 1246, 'riw': 2744, 'haw': 1254, 'ahe': 169, 'hen': 1265, 'eno': 895, 'nol': 2284, 'ahi': 171, 'him': 1281, 'ahr': 178, 'hru': 1312, 'ahu': 181, 'huk': 1324, 'hun': 1327, 'uny': 3302, 'idu': 1389, 'baj': 420, 'jaj': 1607, 'jau': 1616, 'jik': 1635, 'jul': 1669, 'jum': 1670, 'ure': 3322, 'akd': 213, 'kda': 1713, 'kdu': 1715, 'akp': 223, 'kpi': 1805, 'pia': 2560, 'kte': 1821, 'lad': 1855, 'lal': 1862, 'lel': 1890, 'lig': 1918, 'iho': 1423, 'kka': 1768, 'lot': 1962, 'als': 248, 'lsa': 1971, 'luh': 1988, 'luk': 1990, 'lur': 1995, 'bam': 423, 'nci': 2181, 'dea': 655, 'dos': 720, 'dot': 721, 'gat': 1093, 'ngb': 2218, 'gbu': 1100, 'gir': 1153, 'keh': 1724, 'kok': 1793, 'kot': 1801, 'gsi': 1206, 'nki': 2267, 'tut': 3150, 'nyo': 2336, 'yol': 3520, 'nyu': 2337, 'anz': 290, 'nza': 2338, 'zai': 3544, 'bap': 425, 'pet': 2555, 'tuh': 3140, 'rap': 2659, 'rbu': 2672, 'ret': 2701, 'rid': 2727, 'arl': 319, 'rli': 2759, 'cud': 618, 'rso': 2809, 'ruh': 2828, 'ska': 2937, 'ske': 2938, 'sut': 3006, 'usu': 3346, 'baw': 430, 'wel': 3432, 'bay': 431, 'yas': 3480, 'ayi': 400, 'yin': 3510, 'yua': 3529, 'yur': 3539, 'baz': 432, 'zar': 3550, 'azo': 409, 'zok': 3568, 'be': 437, 'bea': 438, 'eas': 768, 'beb': 439, 'ebe': 775, 'eki': 847, 'ebo': 778, 'odo': 2367, 'ola': 2415, 'bot': 506, 'oto': 2502, 'toh': 3115, 'ebr': 779, 'ebu': 780, 'uah': 3163, 'bec': 440, 'eca': 782, 'ece': 783, 'cen': 573, 'erm': 935, 'rmi': 2764, 'ecu': 787, 'bed': 441, 'eda': 788, 'ede': 789, 'deb': 656, 'edo': 792, 'dol': 715, 'edu': 794, 'dud': 734, 'beg': 442, 'gad': 1079, 'gaw': 1095, 'egi': 811, 'nil': 2247, 'egu': 815, 'beh': 443, 'eha': 817, 'kap': 1701, 'erd': 926, 'rdo': 2681, 'erj': 932, 'jas': 1614, 'erl': 934, 'rla': 2757, 'ekl': 849, 'kle': 1771, 'led': 1884, 'laa': 1852, 'lac': 1854, 'laj': 1860, 'jaw': 1617, 'kaw': 1707, 'law': 1872, 'lay': 1873, 'leb': 1882, 'kek': 1727, 'eko': 852, 'emb': 875, 'enc': 885, 'con': 606, 'iau': 1362, 'lid': 1915, 'igo': 1414, 'imb': 1470, 'inc': 1482, 'liu': 1930, 'iun': 1581, \"lo'\": 1945, \"o'o\": 2342, \"'on\": 14, 'lod': 1949, 'lol': 1956, 'gok': 1188, 'elu': 871, 'uam': 3168, 'lub': 1983, 'ulu': 3273, 'unj': 3296, 'uru': 3334, 'luw': 1999, 'uwe': 3365, 'wek': 3431, 'bem': 448, 'emo': 880, 'daw': 651, 'eru': 941, 'oro': 2480, 'gek': 1115, 'gep': 1120, 'gil': 1148, 'gol': 1189, 'gik': 1147, 'kay': 1708, 'goh': 1185, 'enj': 891, 'njo': 2263, 'jol': 1653, 'jut': 1674, 'enk': 892, 'teh': 3056, 'tos': 3123, 'nur': 2326, 'eny': 900, 'nye': 2334, 'yek': 3491, 'yoh': 3518, 'yot': 3524, 'enz': 901, 'nze': 2339, 'zen': 3555, 'nzo': 2341, 'zoi': 3567, 'beo': 450, 'bep': 451, 'epe': 914, 'rgi': 2715, 'er-': 922, 'r-c': 2640, '-ca': 31, 'ra-': 2643, 'a-g': 87, '-go': 40, 'go-': 1179, 'o-g': 2344, 'rae': 2648, 'irk': 1534, 'ngt': 2235, 'gta': 1210, 'sim': 2925, 'pka': 2579, 'ray': 2666, 'raz': 2667, 'as-': 332, 's-k': 2853, 'esa': 946, 'etu': 967, 'bic': 461, 'ica': 1375, 'bij': 466, 'iji': 1435, 'bim': 469, 'bir': 473, 'isn': 1553, 'sni': 2954, 'sul': 3000, 'rbo': 2671, 'bob': 492, 'obo': 2355, 'bog': 495, 'boh': 496, 'hon': 1305, 'onc': 2439, 'nce': 2180, 'bor': 504, 'boy': 507, 'oyo': 2513, 'yon': 3522, 'uai': 3164, 'buc': 525, 'ucu': 3192, 'bud': 526, 'bui': 530, 'uih': 3229, 'uki': 3246, 'umb': 3276, 'tir': 3091, 'erc': 925, 'cab': 544, 'cac': 545, 'cad': 546, 'mpi': 2113, 'pin': 2570, 'tum': 3145, 'caw': 561, 'rce': 2674, 'ceb': 565, 'bok': 499, 'cec': 566, 'ced': 567, 'ekc': 843, 'kco': 1712, 'cel': 571, 'ric': 2726, 'rci': 2675, 'cir': 592, 'ciu': 595, 'iut': 1585, 'rco': 2676, 'kol': 1794, 'cor': 608, 'rcu': 2677, 'cuc': 617, 'cur': 627, 'cui': 621, 'cup': 626, 'upi': 3307, 'rig': 2730, 'daf': 637, 'aft': 151, 'fta': 1054, 'mai': 2017, 'ngd': 2220, 'gdu': 1106, 'wis': 3450, 'aul': 380, 'ya-': 3466, 'a-c': 86, '-ci': 32, 'cip': 591, 'rde': 2679, 'dec': 657, 'eci': 784, 'ded': 658, 'def': 660, 'efi': 806, 'ons': 2449, 'nst': 2303, 'dep': 668, 'epa': 913, 'jat': 1615, 'rum': 2833, 'sau': 2872, 'det': 671, 'iam': 1356, 'ipl': 1518, 'isk': 1550, 'sku': 2943, 'doa': 707, 'dog': 711, 'ogo': 2381, 'osa': 2485, 'rdu': 2682, 'uaa': 3158, 'due': 735, 'uel': 3203, 'uet': 3205, 'kac': 1688, 'rdw': 2683, 'dwi': 753, 'wif': 3441, 'ifu': 1405, 'fun': 1062, 'reb': 2685, 'ref': 2688, 'efl': 807, 'fle': 1034, 'reg': 2689, 'reh': 2690, 'hat': 1252, 'ekr': 854, 'ksk': 1814, 'urs': 3332, 'ksp': 1817, 'rim': 2735, 'gse': 1205, 'sot': 2971, 'reo': 2697, 'evo': 979, 'vol': 3405, 'rew': 2704, 'ewo': 983, 'wok': 3453, 'erf': 928, 'rfa': 2707, 'saf': 2859, 'afa': 142, 'fah': 995, 'fan': 1001, 'iki': 1443, 'rfo': 2710, 'fok': 1040, 'oku': 2414, 'fot': 1045, 'rfr': 2711, 'fre': 1048, 'kue': 1831, 'uen': 3204, 'rfu': 2712, 'gab': 1077, 'gaj': 1084, 'geg': 1112, 'gej': 1114, 'ejo': 839, 'imp': 1477, 'lor': 1960, 'gem': 1117, 'emu': 883, 'mur': 2146, 'rej': 2692, 'eja': 836, 'igi': 1411, 'ese': 947, 'gig': 1145, 'giz': 1157, 'izi': 1598, 'gos': 1194, 'ump': 3283, 'unc': 3291, 'erh': 930, 'rha': 2718, 'hab': 1237, 'rhe': 2719, 'rhi': 2720, 'hia': 1273, 'hib': 1274, 'hij': 1278, 'ijr': 1436, 'jra': 1658, 'hik': 1279, 'ikm': 1446, 'hub': 1320, 'huj': 1323, 'rij': 2732, 'jaz': 1619, 'zah': 3543, 'atk': 360, 'tka': 3097, 'ikh': 1442, 'hti': 1318, 'iar': 1359, 'utn': 3357, 'ilm': 1461, 'igh': 1410, 'ghf': 1135, 'hfa': 1271, 'riz': 2746, 'zin': 3562, 'jag': 1604, 'hit': 1286, 'jam': 1610, 'auh': 376, 'jay': 1618, 'rje': 2748, 'jej': 1622, 'jel': 1624, 'jem': 1625, 'maa': 2010, 'aah': 97, 'jer': 1628, 'rji': 2749, 'jil': 1636, 'jiw': 1643, 'rju': 2750, 'jub': 1662, 'udu': 3201, 'uml': 3280, 'mla': 2086, 'kab': 1687, 'kea': 1717, 'ead': 758, 'eah': 760, 'keb': 1718, 'leh': 1887, 'yaa': 3467, 'kec': 1719, 'cep': 574, 'cil': 588, 'cim': 589, 'upa': 3305, 'ked': 1720, 'ehe': 818, 'kei': 1725, 'ein': 832, 'kej': 1726, 'eji': 838, 'saa': 2856, 'bih': 464, 'lep': 1894, 'loc': 1948, 'oca': 2359, 'luy': 2000, 'uyu': 3369, 'kem': 1729, 'pua': 2618, 'mih': 2071, 'mud': 2135, 'naa': 2154, 'eok': 905, 'kep': 1732, 'epu': 921, 'iap': 1358, 'iuk': 1578, 'rub': 2823, 'iur': 1583, 'sud': 2993, 'etr': 964, 'kew': 1737, 'ewa': 980, 'waj': 3418, 'jib': 1631, 'key': 1738, 'eya': 985, 'rkh': 2753, 'kha': 1739, 'hid': 1275, 'idm': 1385, 'dma': 702, 'kho': 1744, 'hot': 1308, 'otb': 2497, 'tba': 3047, 'ibl': 1369, 'kic': 1751, 'kip': 1761, 'rko': 2755, 'koc': 1786, 'omu': 2436, 'onf': 2442, 'nfr': 2215, 'onv': 2452, 'nvo': 2331, 'voi': 3403, 'orb': 2469, 'kud': 1830, 'pis': 2574, 'rle': 2758, 'her': 1266, 'itk': 1566, 'mau': 2027, 'rlo': 2760, 'rlu': 2761, 'utu': 3361, 'mac': 2012, 'kna': 1779, 'may': 2029, 'rme': 2763, 'meg': 2046, 'mek': 2050, 'mes': 2057, 'esr': 954, 'mim': 2075, 'mot': 2108, 'mua': 2132, 'kim': 1758, 'cul': 623, 'mus': 2147, 'usy': 3348, 'yaw': 3483, 'afk': 146, 'fka': 1032, 'afs': 150, 'fsu': 1053, 'nap': 2167, 'rni': 2770, 'iag': 1350, 'rno': 2771, 'nob': 2278, 'nod': 2279, 'lgi': 1907, 'rnu': 2772, 'nub': 2315, 'ond': 2440, 'onj': 2445, 'jon': 1655, 'nok': 2283, 'ope': 2457, 'erp': 938, 'rpa': 2795, 'pac': 2519, 'pad': 2520, 'pag': 2521, 'pah': 2522, 'mit': 2081, 'rpe': 2796, 'pec': 2541, 'peg': 2543, 'pem': 2549, 'hua': 1319, 'iaa': 1346, 'rpi': 2797, 'pid': 2562, 'pih': 2565, 'pij': 2566, 'piu': 2576, 'rpo': 2798, 'poh': 2594, 'pra': 2606, 'odu': 2369, 'rsa': 2804, 'hut': 1330, 'saj': 2863, 'lju': 1933, 'say': 2874, 'seb': 2885, 'sec': 2886, 'sed': 2887, 'dih': 684, 'seg': 2889, 'ege': 810, 'geh': 1113, 'sej': 2892, 'eju': 840, 'utk': 3354, 'kuh': 1833, 'liw': 1931, 'iwe': 1591, 'wer': 3434, 'jor': 1656, 'ahy': 183, 'hya': 1335, 'gay': 1096, 'tub': 3137, 'sew': 2903, 'unu': 3301, 'nuh': 2319, 'sic': 2916, 'ice': 1376, 'hul': 1325, 'fat': 1004, 'ils': 1464, 'lsi': 1973, 'teg': 3055, 'iul': 1579, 'rsk': 2807, 'soa': 2956, 'oal': 2347, 'rst': 2811, 'sub': 2991, 'ubs': 3184, 'suc': 2992, 'uci': 3190, 'rsy': 2813, 'syu': 3021, 'yuk': 3534, 'taf': 3029, 'hap': 1249, 'guh': 1219, 'ng-': 2216, 'g-j': 1071, '-ja': 45, 'teb': 3052, 'ted': 3053, 'uhk': 3221, 'ekn': 851, 'kno': 1781, 'pon': 2600, 'epo': 917, 'nag': 2159, 'teo': 3063, 'eor': 910, 'esm': 951, 'tim': 3087, 'inj': 1489, 'tiu': 3094, 'iup': 1582, 'opi': 2458, 'rtu': 2820, 'tug': 3139, 'uga': 3212, 'tuj': 3142, 'uju': 3242, 'juh': 1665, 'ruc': 2824, 'uca': 3188, 'ruj': 2830, 'nif': 2243, 'ifo': 1403, 'for': 1043, 'uns': 3299, 'urk': 3327, 'rup': 2835, 'pay': 2536, 'rur': 2836, 'erv': 942, 'rva': 2841, 'var': 3378, 'erw': 943, 'rwe': 2845, 'wew': 3437, 'ewe': 981, 'wen': 3433, 'rwi': 2846, 'wib': 3439, 'rwu': 2847, 'wuj': 3461, 'erz': 944, 'rzi': 2850, 'zia': 3558, 'esl': 950, 'sla': 2944, 'tot': 3124, 'bew': 455, 'bez': 456, 'eza': 988, 'bha': 457, 'bi': 458, 'iad': 1349, 'iaw': 1363, 'bib': 460, 'bli': 485, 'ico': 1378, 'icu': 1379, \"id'\": 1381, \"d'a\": 630, \"'ah\": 4, 'ido': 1387, 'naw': 2173, 'jia': 1630, 'jih': 1633, 'onk': 2446, 'kaf': 1691, 'nve': 2329, 'vek': 3383, 'ilh': 1457, 'gua': 1213, 'ilu': 1466, 'ily': 1468, 'lye': 2006, 'yet': 3498, 'ner': 2206, 'ul-': 3256, 'l-b': 1850, '-ba': 26, 'iof': 1503, 'ofi': 2373, 'iop': 1509, 'bip': 472, 'ri-': 2723, 'i-b': 1337, '-bi': 28, 'iro': 1537, 'smu': 2951, 'iss': 1557, 'ssu': 2983, 'biu': 476, 'k-b': 1678, '-bl': 29, 'lew': 1900, 'blo': 486, 'blu': 487, 'lud': 1985, 'udr': 3200, 'bos': 505, 'obr': 2356, 'boc': 493, 'oco': 2363, 'doh': 712, 'ohn': 2390, 'hor': 1306, 'oik': 2393, 'ehk': 820, 'los': 1961, 'otu': 2504, 'olp': 2423, 'lpo': 1968, 'poi': 2595, 'bom': 501, 'moh': 2098, 'fid': 1024, 'onb': 2438, 'nbo': 2177, 'ngm': 2229, 'gme': 1173, 'meh': 2047, 'onu': 2451, 'ony': 2453, 'yok': 3519, 'bop': 503, 'ord': 2470, 'orh': 2474, 'orj': 2476, 'jui': 1666, 'osm': 2490, 'oya': 2511, 'boz': 508, 'oza': 2514, 'anw': 288, 'nwi': 2332, 'eve': 977, 'vet': 3389, 'oil': 2394, 'nku': 2271, 'osu': 2495, 'ude': 3194, 'bu': 522, 'uak': 3166, 'uay': 3174, 'bub': 524, 'buf': 527, 'ufe': 3207, 'bug': 528, 'env': 899, 'nvi': 2330, 'vil': 3396, 'ugi': 3215, 'uhu': 3226, 'buj': 531, 'uje': 3239, 'jet': 1629, 'kaa': 1686, 'anl': 280, 'nla': 2272, 'uke': 3244, 'ukl': 3249, 'ukt': 3254, 'uld': 3259, 'lda': 1878, 'ldo': 1880, 'uls': 3271, 'unb': 3290, 'nbu': 2178, 'cis': 593, 'uh-': 3217, 'h-a': 1231, 'uro': 3331, 'ukn': 3251, 'use': 3339, 'ush': 3340, 'shi': 2911, 'rep': 2698, 'utb': 3350, 'tbu': 3050, 'buy': 540, 'uya': 3367, 'cae': 547, 'aem': 139, 'cag': 548, 'cai': 550, 'kru': 1810, 'amc': 256, 'mca': 2039, 'ngc': 2219, 'gca': 1101, 'kih': 1754, 'klo': 1773, 'umk': 3279, 'mka': 2084, 'cao': 555, 'aos': 292, 'apc': 294, 'pca': 2537, 'apj': 297, 'pji': 2578, 'cas': 558, 'urw': 3336, 'wul': 3462, 'ce': 563, \"ce'\": 564, 'ceg': 568, 'ek-': 841, 'k-d': 1679, 'ekd': 844, 'mok': 2100, 'opa': 2456, 'rot': 2791, 'mee': 2045, 'eeh': 797, 'moo': 2104, 'ooh': 2454, 'por': 2602, 'muh': 2138, 'nay': 2174, 'gbe': 1098, 'gco': 1102, 'epl': 916, 'roc': 2777, 'cos': 609, 'ces': 576, 'esp': 953, 'spl': 2975, 'cet': 577, 'cew': 578, 'chi': 579, 'hin': 1282, 'ci': 580, 'cib': 582, 'cic': 583, 'cid': 584, 'cig': 585, 'cih': 586, 'wag': 3415, 'ilo': 1463, 'ta-': 3024, 'a-k': 89, 'ipr': 1521, 'taa': 3025, 'irc': 1527, 'raa': 2644, 'cm': 596, 'oan': 2348, 'cob': 598, 'baa': 413, 'obe': 2351, 'obl': 2354, 'coc': 599, 'cod': 600, 'cog': 601, 'oke': 2403, 'okm': 2407, 'omr': 2435, 'mro': 2121, 'net': 2208, 'cop': 607, 'cot': 610, 'cow': 611, 'owo': 2510, 'cra': 612, 'cri': 614, 'ipi': 1516, 'uac': 3160, 'cub': 616, 'ubi': 3178, 'ubl': 3181, 'cue': 619, 'uek': 3202, 'uik': 3230, 'uil': 3231, 'uko': 3252, 'mep': 2055, 'dri': 727, 'upe': 3306, 'upl': 3309, 'urn': 3330, 'cus': 628, 'tbr': 3049, \"da'\": 631, \"a'a\": 77, \"'ay\": 7, \"a'i\": 81, 'aay': 103, 'dac': 634, 'aen': 140, 'afn': 147, 'fna': 1038, 'ag-': 153, 'g-d': 1070, '-di': 36, 'ig-': 1406, '-du': 37, 'dug': 736, 'hri': 1311, 'ahs': 179, 'hsy': 1315, 'aif': 188, 'daj': 641, 'hil': 1280, 'ald': 235, 'ghy': 1140, 'hku': 1292, 'mab': 2011, 'sbo': 2879, 'yus': 3540, 'de': 654, 'bup': 536, 'dee': 659, 'ees': 802, 'esk': 949, 'fai': 996, 'efe': 805, 'fen': 1017, 'fla': 1033, 'efo': 808, 'ene': 887, 'egr': 814, 'gup': 1226, 'hem': 1264, 'ehi': 819, 'idr': 1388, 'ink': 1490, 'elm': 866, 'elt': 870, 'lta': 1975, 'mag': 2015, 'gog': 1184, 'mog': 2097, 'gue': 1217, 'not': 2290, 'yit': 3513, 'deo': 667, 'eod': 902, 'nir': 2252, 'epr': 918, 'riv': 2743, 'vas': 3379, 'vat': 3380, 'inf': 1485, 'nfe': 2211, 'spo': 2976, 'sup': 3003, 'dev': 672, 'eva': 976, 'vos': 3408, 'dew': 673, 'ewi': 982, 'di': 676, 'iab': 1347, 'iac': 1348, 'iaj': 1353, 'ihk': 1421, 'ohi': 2387, 'die': 681, 'ieb': 1391, 'iek': 1392, 'iel': 1393, 'iet': 1397, 'dif': 682, 'usk': 3342, 'ift': 1404, 'fto': 1057, 'gag': 1081, 'igd': 1408, 'gda': 1103, 'goy': 1196, 'igr': 1415, 'gub': 1214, 'ubr': 3183, 'gug': 1218, 'tui': 3141, 'ihe': 1419, 'heb': 1260, 'ohk': 2388, 'hel': 1263, 'dup': 743, 'upk': 3308, 'ihu': 1425, 'dii': 685, 'iik': 1427, 'uts': 3360, 'tse': 3132, 'iim': 1428, 'iin': 1429, 'iir': 1430, 'iis': 1431, 'iiz': 1432, 'dij': 686, 'uhi': 3219, 'ije': 1434, 'iju': 1438, 'hui': 1322, 'uin': 3232, 'itn': 1569, 'lui': 1989, 'aui': 377, 'ork': 2477, 'aaf': 96, 'udk': 3196, 'dka': 701, 'faa': 991, 'aat': 102, 'ukk': 3248, 'inu': 1496, 'iob': 1501, 'iod': 1502, 'uln': 3268, 'cay': 562, 'yai': 3472, 'abk': 110, 'bka': 481, 'ngj': 2226, 'gja': 1158, 'pim': 2569, 'otr': 2503, 'aih': 189, 'ire': 1529, 'irg': 1530, 'irj': 1533, 'rug': 2827, 'sag': 2860, 'ipk': 1517, 'isf': 1546, 'sfu': 2908, 'ish': 1547, 'imk': 1474, 'ins': 1494, 'isj': 1549, 'sjo': 2936, 'jok': 1652, 'oki': 2404, 'isl': 1551, 'slo': 2946, 'isp': 1555, 'isr': 1556, 'sru': 2980, 'ups': 3314, 'gti': 1211, 'ors': 2482, 'sug': 2995, 'ugu': 3216, 'uhn': 3223, 'kdi': 1714, 'tew': 3068, 'tup': 3147, 'diu': 696, 'iub': 1574, 'iuc': 1575, 'iuj': 1577, 'uji': 3240, 'div': 697, 'ive': 1587, 'vid': 3392, 'ibk': 1368, 'diy': 699, 'iya': 1594, 'do': 706, 'dob': 708, 'dod': 710, 'ogd': 2376, 'gdo': 1105, 'ogm': 2379, 'gma': 1172, 'hok': 1302, 'doi': 713, 'okt': 2413, 'olf': 2418, 'olm': 2421, 'lme': 1941, 'etn': 962, 'gbr': 1099, 'orn': 2479, 'rtr': 2819, 'dow': 722, 'owe': 2509, 'doy': 723, 'dr': 724, 'urg': 3323, 'uab': 3159, 'uaf': 3162, 'uaj': 3165, 'dub': 733, 'dui': 738, 'dum': 741, 'urh': 3324, 'urj': 3326, 'noi': 2282, 'ois': 2396, 'duw': 747, 'duy': 748, 'wia': 3438, 'wig': 3442, 'wil': 3445, 'wim': 3446, 'wip': 3448, 'wit': 3451, 'wiw': 3452, 'eco': 785, 'sie': 2918, 'goi': 1186, 'eh': 816, 'eig': 828, 'jaa': 1601, 'eje': 837, 'ips': 1522, 'pie': 2563, 'skl': 2940, 'sod': 2959, 'sog': 2961, 'ped': 2542, 'oit': 2397, 'nen': 2203, 'spr': 2977, 'kst': 1818, 'nei': 2199, 'rov': 2792, 'ibr': 1373, 'uiv': 3236, 'el': 859, 'lef': 1885, 'gne': 1175, 'kni': 1780, 'lev': 1899, 'okn': 2408, 'em': 873, 'mig': 2070, 'atp': 365, 'tpu': 3125, 'mio': 2077, 'pig': 2564, 'es': 945, 'sei': 2891, 'tio': 3089, 'tni': 3108, 'tno': 3109, 'nog': 2280, 'ets': 965, 'tsa': 3131, 'van': 3377, 'fad': 993, 'fae': 994, 'aed': 138, 'ail': 192, 'faj': 997, 'lti': 1977, 'fam': 1000, 'hah': 1242, 'fau': 1005, 'fav': 1006, 'vor': 3407, 'fed': 1013, 'fem': 1016, 'feo': 1018, 'fes': 1020, 'fig': 1025, 'sof': 2960, 'lsu': 1974, 'suf': 2994, 'ilt': 1465, 'ird': 1528, 'tna': 3107, 'flo': 1036, 'flu': 1037, 'fob': 1039, 'fol': 1041, 'oru': 2484, 'fos': 1044, 'sfo': 2907, 'foy': 1046, 'fra': 1047, 'agm': 159, 'fru': 1051, 'fua': 1058, 'ful': 1061, 'fus': 1064, 'fut': 1065, 'jus': 1673, 'lva': 2001, 'gst': 1208, 'gao': 1089, 'aok': 291, 'geb': 1108, 'ged': 1110, 'geo': 1119, 'eof': 903, 'eom': 907, 'lya': 2005, 'ihn': 1422, 'gim': 1149, 'imn': 1475, 'mna': 2088, 'gle': 1168, 'gli': 1169, 'lob': 1947, 'gob': 1181, 'god': 1183, 'mof': 2096, 'rav': 2664, 'guc': 1215, 'gud': 1216, 'aua': 371, 'guy': 1230, 'uyo': 3368, 'ha': 1235, 'ith': 1564, 'haf': 1240, 'faz': 1008, 'aiw': 199, 'k-m': 1681, '-mi': 54, 'amz': 269, 'mza': 2151, 'arf': 313, 'usl': 3343, 'iln': 1462, 'att': 367, 'tta': 3133, 'hau': 1253, 'hek': 1262, 'pte': 2615, 'ivo': 1589, 'het': 1268, 'hew': 1270, 'ro-': 2774, 'o-e': 2343, '-el': 38, 'pku': 2582, 'upn': 3311, 'pny': 2591, 'hie': 1276, 'ier': 1395, 'hip': 1283, 'ipn': 1519, 'pno': 2590, 'hiu': 1287, 'hob': 1300, 'hom': 1304, 'hos': 1307, 'osp': 2493, 'hud': 1321, 'hur': 1328, 'ru-': 2821, 'u-h': 3154, '-ha': 42, 'huy': 1331, 'hwe': 1333, 'wee': 3429, 'id': 1380, 'ulf': 3261, 'ihs': 1424, 'hsa': 1313, 'ihw': 1426, 'ijt': 1437, 'jti': 1660, 'lmi': 1942, 'muw': 2149, 'uwa': 3364, 'maj': 2018, 'aug': 375, 'nfi': 2212, 'nfl': 2213, 'lue': 1986, 'nfo': 2214, 'inh': 1487, 'nhe': 2237, 'nje': 2260, 'nov': 2291, 'ova': 2505, 'inp': 1493, 'npu': 2294, 'nsp': 2302, 'nsy': 2306, 'gri': 1201, 'lij': 1920, 'rve': 2842, 'ven': 3385, 'rvi': 2843, 'viu': 3402, 'mid': 2068, 'inv': 1497, 'ves': 3388, 'mew': 2059, 'isy': 1561, 'syt': 3020, 'yti': 3527, 'adw': 136, 'dwa': 752, 'gaa': 1076, 'goa': 1180, 'uhl': 3222, 'bku': 482, 'bny': 491, 'jeb': 1620, 'jed': 1621, 'jep': 1627, 'roa': 2775, 'jij': 1634, 'jip': 1639, 'jit': 1642, 'jod': 1648, 'jog': 1649, 'joh': 1650, 'oha': 2385, 'jom': 1654, 'jot': 1657, 'juw': 1675, 'uwi': 3366, 'miu': 2082, 'kae': 1690, 'kag': 1692, 'hwi': 1334, 'kaj': 1695, 'ldu': 1881, 'lei': 1888, 'nib': 2240, 'nop': 2287, 'kao': 1700, 'aps': 303, 'psu': 2613, 'rao': 2658, 'ava': 388, 'ibn': 1371, 'nav': 2172, 'edr': 793, 'ath': 358, 'tho': 3075, 'kav': 1706, 'ke': 1716, 'eab': 757, 'bsa': 514, 'eag': 759, 'li-': 1911, 'i-n': 1341, '-ne': 56, 'eai': 761, 'eaj': 762, 'eam': 765, 'ka-': 1685, 'a-r': 93, '-ra': 64, 'ear': 767, 'sri': 2979, 'eau': 770, 'eaw': 771, 'eay': 772, 'eaz': 773, 'bej': 445, 'ebl': 777, 'unn': 3298, 'eby': 781, 'coh': 602, 'ecr': 786, 'cre': 613, '-gu': 41, 'uap': 3170, 'edw': 795, 'kee': 1721, 'eed': 796, 'eek': 798, 'eel': 799, 'een': 800, 'eer': 801, 'kef': 1722, 'keg': 1723, 'kmu': 1778, 'ehu': 823, 'eik': 829, 'eil': 830, 'eim': 831, 'eiz': 835, 'jap': 1612, 'ekh': 846, 'kuf': 1832, 'ufu': 3211, 'fur': 1063, 'laz': 1874, 'eld': 862, 'lde': 1879, 'lez': 1901, 'zat': 3551, 'lic': 1914, 'loy': 1964, 'ar-': 307, 'r-b': 2639, 'luc': 1984, 'map': 2023, 'boj': 498, 'oja': 2398, 'mej': 2049, 'ski': 2939, 'eml': 879, 'moc': 2094, 'oce': 2360, 'muj': 2140, 'mum': 2143, 'syk': 3017, 'yki': 3514, 'naj': 2162, 'jis': 1641, 'ncr': 2183, 'nid': 2242, 'noh': 2281, 'eon': 908, 'elb': 861, 'gec': 1109, 'pru': 2610, 'utr': 3359, 'aky': 229, 'kya': 1846, 'nic': 2241, 'nel': 2201, 'yau': 3482, 'yih': 3506, 'roh': 2781, 'roy': 2794, 'ruw': 2839, 'ruy': 2840, 'hih': 1277, 'ma-': 2009, 'yup': 3538, 'seh': 2890, 'aht': 180, 'hte': 1317, 'leo': 1893, 'nio': 2250, 'seo': 2897, 'a-m': 90, '-me': 53, 'ia-': 1345, 'soh': 2962, 'som': 2966, 'sop': 2968, 'yia': 3502, 'esy': 957, 'tay': 3045, 'ga-': 1075, 'a-n': 91, '-nu': 57, 'nuk': 2322, 'k-j': 1680, '-je': 46, 'k-p': 1682, '-pa': 59, 'k-s': 1683, '-sa': 65, '-si': 67, 'k-t': 1684, '-te': 70, 'kpe': 1804, 'opr': 2463, 'uir': 3233, 'keu': 1736, 'eua': 968, 'eul': 970, 'eun': 972, 'eus': 973, 'eut': 974, 'euz': 975, 'uzu': 3373, 'zur': 3573, 'wes': 3435, 'ewu': 984, 'wuh': 3460, 'haz': 1256, 'khe': 1741, 'khu': 1746, 'hus': 1329, 'iai': 1352, 'kij': 1755, 'kio': 1760, 'irb': 1526, 'miz': 2083, 'smi': 2949, 'rof': 2779, 'koa': 1784, 'kob': 1785, 'koe': 1788, 'oef': 2370, 'kog': 1789, 'ogn': 2380, 'gni': 1176, 'okp': 2410, 'nso': 2301, 'fli': 1035, 'ngr': 2233, 'jug': 1664, 'nkr': 2269, 'sye': 3013, 'yen': 3494, 'koo': 1797, 'oor': 2455, 'eog': 904, 'smo': 2950, 'mop': 2105, 'osn': 2491, 'koy': 1802, 'ku': 1826, 'ube': 3177, 'kuc': 1829, 'uce': 3189, 'uiz': 3237, 'kuo': 1839, 'uot': 3304, 'upo': 3312, 'urm': 3329, 'urv': 3335, 'l-a': 1849, '-ab': 19, 'aic': 186, 'inn': 1491, 'ki-': 1748, 'i-l': 1340, '-la': 49, 'lu-': 1981, 'u-l': 3155, '-li': 51, 'nds': 2190, 'dsk': 730, 'sui': 2997, 'nsk': 2299, 'lao': 1865, 'lav': 1871, 'azu': 410, 'zua': 3570, 'lec': 1883, 'ceh': 569, 'uco': 3191, 'yeh': 3489, 'uid': 3227, 'leu': 1898, 'eum': 971, 'pst': 2612, 'loa': 1946, 'oak': 2346, 'loh': 1952, 'loj': 1954, 'low': 1963, 'won': 3455, 'lug': 1987, 'umr': 3284, \"ma'\": 2008, \"a'n\": 82, \"'na\": 13, 'agh': 156, 'ghr': 1138, 'swi': 3010, 'hko': 1291, 'hra': 1310, 'aiz': 200, 'ize': 1597, 'ajl': 204, 'jli': 1645, 'ruf': 2826, 'udm': 3197, 'dmu': 704, 'kyu': 1847, 'nip': 2251, 'nuf': 2317, 'ufa': 3206, 'hae': 1239, 'asj': 340, 'sji': 2935, 'jid': 1632, 'ass': 348, 'ssa': 2981, 'urb': 3320, 'syg': 3014, 'ygu': 3500, 'syh': 3015, 'yhu': 3501, 'syr': 3019, 'yri': 3525, 'yor': 3523, 'maz': 2030, 'azb': 404, 'zba': 3552, 'azm': 408, 'zmu': 3565, 'mec': 2043, 'med': 2044, 'gaf': 1080, 'afo': 148, 'nko': 2268, 'at-': 353, 't-g': 3022, '-ga': 39, 'mem': 2052, 'okk': 2405, 's-t': 2854, '-tu': 72, 'etk': 961, 'olk': 2420, 'mi-': 2065, 'i-h': 1338, 'i-r': 1342, 'ah-': 165, 'h-b': 1232, 'ekk': 848, 'otk': 2500, 'emf': 877, 'mfo': 2063, 'mij': 2072, 'moa': 2092, 'opu': 2466, 'mup': 2145, 'utl': 3355, 'ahb': 167, 'hbi': 1258, 'akj': 217, 'kju': 1767, 'ubk': 3180, 'ur-': 3318, 'r-a': 2638, '-ad': 20, 'elk': 865, 'row': 2793, 'r-h': 2641, '-hi': 43, 'ifk': 1402, 'ndw': 2192, 'neb': 2194, 'ned': 2196, 'mui': 2139, 'nep': 2205, 'g-t': 1073, 'ror': 2789, 'new': 2209, 'g--': 1067, '--i': 17, 'adk': 129, 'gac': 1078, 'ih-': 1417, 'h-t': 1234, 'a-a': 85, '-ar': 25, 'opk': 2459, '-ti': 71, 'a-j': 88, 'apn': 300, 'yom': 3521, 'gaz': 1097, 'gef': 1111, 'g-b': 1068, 'omk': 2432, 'rec': 2686, 'gev': 1124, 'is-': 1540, 's-b': 2851, 'opy': 2467, 'pyo': 2634, 'goc': 1182, 'ghe': 1134, 'ghi': 1136, 'gho': 1137, 'ghu': 1139, 'gib': 1143, 'gid': 1144, 'gkh': 1161, 'tku': 3098, 'guj': 1221, 'enh': 889, 'nhi': 2238, 'ik-': 1439, 'nsw': 2305, 'nud': 2316, 'nuj': 2321, 'yab': 3468, 'yad': 3469, 'yaj': 3473, 'ahg': 170, 'hgu': 1272, 'fsi': 1052, 'tu-': 3135, 'u-p': 3156, 'yay': 3484, 'yeb': 3486, 'yed': 3487, 'yeg': 3488, 'yej': 3490, 'yel': 3492, 'yep': 3495, 'yer': 3496, 'yes': 3497, 'yew': 3499, 'yib': 3503, 'yif': 3505, 'yim': 3509, 'yis': 3512, 'yoa': 3515, 'yod': 3516, 'yog': 3517, 'yuc': 3531, 'yud': 3532, 'nzi': 2340, 'meo': 2054, 'hyu': 1336, 'mey': 2060, 'mi': 2064, 'une': 3293, 'mm': 2087, '-mo': 55, \"mu'\": 2131, \"u'j\": 3153, \"'ji\": 12, 'jiz': 1644, 'iza': 1596, 'mub': 2133, 'muf': 2136, 'ufl': 3209, 'uft': 3210, 'fti': 1056, 'uhr': 3225, 'ujt': 3241, 'jta': 1659, 'ukj': 3247, 'kji': 1766, 'taz': 3046, 'zil': 3560, 'utm': 3356, 'tmu': 3106, 'r-m': 2642, 'yta': 3526, 'muz': 2150, 'uza': 3370, 'uzi': 3372, 'zik': 3559, 'adz': 137, 'dzi': 755, 'ahd': 168, 'hdi': 1259, 'iyi': 1595, 'hod': 1301, 'ibm': 1370, 'bmu': 488, 'yid': 3504, 'vig': 3394, 'naz': 2175, 'neo': 2204, 'nig': 2244, 'isb': 1542, 'sbi': 2878, 'isc': 1543, 'sca': 2881, 'niz': 2258, 'eln': 867, 'utf': 3352, 'tfa': 3070, 'obj': 2353, 'bje': 480, 'obs': 2357, 'oh': 2384, 'knu': 1782, 'sig': 2920, 'opn': 2461, 'pna': 2589, 'gtu': 1212, 'ozo': 2515, 'zon': 3569, 'pa-': 2516, 'a-p': 92, 'yub': 3530, 'aip': 195, 'paj': 2524, 'akc': 212, 'kci': 1711, 'igm': 1412, 'asc': 335, 'paw': 2535, 'pe-': 2538, 'e-t': 756, 'peb': 2540, 'peh': 2544, 'eho': 822, 'pei': 2545, 'pej': 2546, 'kiw': 1765, 'koj': 1792, 'elp': 869, 'lpl': 1967, 'elv': 872, 'lvi': 2003, 'irs': 1538, 'mug': 2137, 'ahj': 172, 'hji': 1289, 'il-': 1453, '-al': 22, 'gip': 1152, 'gru': 1203, 'h-s': 1233, '-su': 68, 'yea': 3485, 'yul': 3535, 'peo': 2551, 'eot': 912, 'pep': 2552, 'puj': 2625, 'u-t': 3157, 'rei': 2691, 'rfe': 2708, 'rho': 2721, '-ap': 24, 'mea': 2041, '-bo': 30, 'rsl': 2808, 'rsp': 2810, 'lse': 1972, 'haa': 1236, 'uhj': 3220, 'hja': 1288, 'siw': 2934, 'pew': 2557, 'pey': 2558, 'eye': 986, 'pez': 2559, 'ezi': 990, 'pic': 2561, 'g-p': 1072, '-po': 62, 'gpo': 1198, 'pip': 2572, 'piz': 2577, 'in-': 1480, 'n-p': 2152, '-pl': 61, 'onn': 2447, 'poj': 2596, 'olr': 2424, 'lri': 1970, 'otl': 2501, 'tlo': 3102, 'enn': 894, 'riy': 2745, 'ofe': 2372, 'roj': 2783, 'oje': 2399, 'okl': 2406, 'vin': 3397, 'ovo': 2508, 'oye': 2512, 'pub': 2619, 'puc': 2620, 'pud': 2621, 'pug': 2622, 'pui': 2624, 'ulp': 3270, 'pup': 2629, 'puy': 2633, 'io-': 1499, 'o-i': 2345, '-is': 44, 'ioa': 1500, 'hsi': 1314, 'ull': 3266, 'edh': 790, 'dha': 674, 'reu': 2702, 'olv': 2427, 'rey': 2705, 'eyo': 987, 'rez': 2706, 'eze': 989, 'zek': 3554, 'iuh': 1576, 'way': 3427, 'ock': 2362, 'ntg': 2309, 'tge': 3072, \"sa'\": 2855, \"a'b\": 78, \"'ba\": 8, 'aad': 95, 'mse': 2124, 'msu': 2126, 'atw': 369, 'twa': 3152, 'auj': 378, 'awo': 396, 'sbb': 2876, 'se': 2883, 'sea': 2884, 'itp': 1571, 'see': 2888, 'gi-': 1141, 'i-t': 1343, 'egm': 812, 'eia': 824, 'eib': 825, 'eir': 833, 'ilw': 1467, 'oci': 2361, 'koi': 1791, 'ksm': 1815, 'ofa': 2371, 'ulo': 3269, 'maf': 2014, 'mif': 2069, 'mip': 2078, 'poy': 2605, 'emr': 882, 'doc': 709, 'niw': 2257, 'tad': 3028, 'fug': 1059, 'atb': 355, 'tbo': 3048, 'ett': 966, 'tti': 3134, 'seu': 2902, 'eud': 969, 'wot': 3457, 'sez': 2904, 'she': 2910, 'si': 2913, 'ign': 1413, 'sij': 2922, 'imf': 1472, 'mpt': 2117, 'sne': 2953, 'sob': 2957, 'ogu': 2383, 'old': 2416, 'obu': 2358, 'ies': 1396, 'gna': 1174, 'eos': 911, 'pko': 2581, 'ubj': 3179, 'ubo': 3182, 'ubt': 3185, 'btr': 521, 'ubv': 3187, 'bve': 541, 'ufi': 3208, 'suj': 2998, 'umo': 3282, 'uhp': 3224, 'hpu': 1309, 'nna': 2275, 'upr': 3313, 'vei': 3382, 'ury': 3337, 'suv': 3007, 'uve': 3362, 'swe': 3009, 'swt': 3011, 'syo': 3018, \"ta'\": 3023, \"a'r\": 83, \"'ri\": 15, \"a'u\": 84, \"'un\": 16, 'bii': 465, 'adb': 124, 'dbi': 653, 'hni': 1298, 'ajw': 208, 'jwi': 1676, 'akb': 211, 'kbu': 1710, 'akz': 230, 'kzi': 1848, 'mta': 2127, 'anp': 284, 'npa': 2293, 'wih': 3443, 'auf': 374, 'tac': 3027, 'tej': 3058, 'ekp': 853, 'muc': 2134, 'kuy': 1844, 'peu': 2556, 'itl': 1567, 'rng': 2769, 'tey': 3069, 'url': 3328, 'pog': 2593, 'nsf': 2297, 'nsm': 2300, 'iwu': 1593, 'un-': 3288, 'n-u': 2153, '-ub': 73, 'fuk': 1060, \"um'\": 3274, \"m'a\": 2007, \"'at\": 6, 'g-u': 1074, '-un': 74, 'niv': 2256, 'a-u': 94, '-ur': 75, 'vag': 3374, 'vak': 3375, 'veg': 3381, 'vie': 3393, 'vik': 3395, 'vir': 3399, 'vul': 3409, 'fel': 1015, 'waz': 3428, 'wej': 3430, 'idy': 1390, 'dya': 754, 'wij': 3444, 'wol': 3454, 'wor': 3456, 'wud': 3458, 'udn': 3198, 'dny': 705, 'wus': 3464, 'shu': 2912, 'mtu': 2130, 'ssi': 2982, 'yu': 3528, 'isd': 1544, 'sdi': 2882, 'mru': 2122, 'zeb': 3553, 'zoh': 3566, 'zuh': 3571, 'zul': 3572, 'bdu': 436, 'adh': 126, 'dhe': 675, 'hes': 1267, 'ads': 133, 'dso': 731, 'ims': 1478, 'uaz': 3175, 'tie': 3080, 'tij': 3084, 'toi': 3116, 'sbu': 2880, 'tle': 3100, 'ave': 389, 'aai': 98, 'zma': 3564, 'aal': 99, 'gea': 1107, 'heu': 1269, 'kpa': 1803, 'pao': 2529, 'biz': 478, 'izu': 1599, 'ohl': 2389, 'ulg': 3262, 'lgu': 1909, 's-c': 2852, '-cu': 34, 'g-c': 1069, 'fte': 1055, 'irh': 1531, 'mei': 2048, 'ugd': 3213, 'gde': 1104, 'ef': 803, 'eop': 909, 'upm': 3310, 'pmu': 2588, 'ia': 1344, 'izz': 1600, 'zza': 3574, 'nke': 2266, 'ekm': 850, 'kme': 1776, 'waf': 3414, 'kif': 1753, 'fay': 1007, 'ohe': 2386, 'upt': 3315, 'ngf': 2222, 'gfu': 1125, 'uor': 3303, 'mic': 2067, 'yil': 3508, 'moy': 2110, 'idn': 1386, 'urt': 3333, 'nec': 2195, 'enm': 893, 'nme': 2273, 'atf': 357, 'tfo': 3071, 'noy': 2292, 'soc': 2958, 'kbi': 1709, 'wuf': 3459, '-pi': 60, 'tgl': 3073, 'tuy': 3151, 'vio': 3398, 'olt': 2425, 'zap': 3549}\n",
      "33 {'NY': 23, 'AA': 3, 'N': 21, 'D': 10, 'B': 8, 'AX': 6, 'L': 19, 'S': 28, 'CH': 9, 'AO': 4, 'M': 20, 'P': 25, 'EH': 11, 'NG': 22, 'K': 18, 'UW': 31, 'G': 14, 'HH': 15, 'IY': 16, 'W': 33, 'T': 30, 'Q': 26, 'AY': 7, 'R': 27, 'AW': 5, 'JH': 17, 'OY': 24, 'V': 32, 'Y': 34, 'F': 13, 'Z': 35, 'SH': 29, 'EY': 12}\n",
      "33 {'NY': 23, 'AA': 3, 'N': 21, 'D': 10, 'B': 8, 'AX': 6, 'L': 19, 'S': 28, 'CH': 9, 'AO': 4, 'M': 20, 'P': 25, 'EH': 11, 'NG': 22, 'K': 18, 'UW': 31, 'G': 14, 'HH': 15, 'IY': 16, 'W': 33, 'T': 30, 'Q': 26, 'AY': 7, 'R': 27, 'AW': 5, 'JH': 17, 'OY': 24, 'V': 32, 'Y': 34, 'F': 13, 'Z': 35, 'SH': 29, 'EY': 12}\n"
     ]
    }
   ],
   "source": [
    "print(train_g2p_dataset, train_dataloader.dataset[0])\n",
    "print(train_g2p_dataset[0])\n",
    "print(train_dataloader.dataset[0])\n",
    "print(\"train grp\", len(train_g2p_dataset.index2grapheme), train_g2p_dataset.index2grapheme)\n",
    "print(\"test grp\", len(test_g2p_dataset.index2grapheme), test_g2p_dataset.index2grapheme)\n",
    "print(\"train phn\", len(train_g2p_dataset.index2phoneme), train_g2p_dataset.index2phoneme)\n",
    "print(\"test phn\", len(test_g2p_dataset.index2phoneme), test_g2p_dataset.index2phoneme)\n",
    "print(len(train_g2p_dataset.grapheme2index), train_g2p_dataset.grapheme2index)\n",
    "print(len(test_g2p_dataset.grapheme2index), test_g2p_dataset.grapheme2index)\n",
    "print(len(train_g2p_dataset.phoneme2index), train_g2p_dataset.phoneme2index)\n",
    "print(len(test_g2p_dataset.phoneme2index), test_g2p_dataset.phoneme2index)"
   ]
  },
  {
   "cell_type": "markdown",
   "metadata": {
    "id": "rR7MN5jhZKF_"
   },
   "source": [
    "## Model definitions"
   ]
  },
  {
   "cell_type": "markdown",
   "metadata": {
    "id": "ygVvCWJJZOeP"
   },
   "source": [
    "### Encoder"
   ]
  },
  {
   "cell_type": "code",
   "execution_count": 91,
   "metadata": {
    "executionInfo": {
     "elapsed": 123,
     "status": "ok",
     "timestamp": 1739957722884,
     "user": {
      "displayName": "23522026 Ahmad Naufal Hakim",
      "userId": "16621933245327613442"
     },
     "user_tz": -420
    },
    "id": "Q3UD4r8FZP5U"
   },
   "outputs": [],
   "source": [
    "class Encoder(nn.Module) :\n",
    "  def __init__(self, input_size, emb_dim, hidden_size, n_layers=1) -> None :\n",
    "    super(Encoder, self).__init__()\n",
    "    self.input_size = input_size\n",
    "    self.hidden_size = hidden_size\n",
    "    self.n_layers = n_layers\n",
    "\n",
    "    self.embedding = nn.Embedding(input_size, emb_dim).to(DEVICE)\n",
    "    self.gru = nn.GRU(emb_dim, hidden_size, n_layers, batch_first=False).to(DEVICE)\n",
    "\n",
    "  def forward(self, token_inputs, hidden) :\n",
    "    embedded = self.embedding(token_inputs) # [seq_len, batch_size, emb_dim]\n",
    "    output, hidden = self.gru(embedded, hidden)\n",
    "    return output, hidden # output: [seq_len, batch_size, hidden_size]\n",
    "\n",
    "  def init_hidden(self, batch_size=1) :\n",
    "    hidden = torch.zeros(self.n_layers, batch_size, self.hidden_size).to(DEVICE)\n",
    "    # hidden shape: [n_layers, batch_size, hidden_size]\n",
    "    return hidden"
   ]
  },
  {
   "cell_type": "markdown",
   "metadata": {
    "id": "tVCH2fcZZRgY"
   },
   "source": [
    "### Attention"
   ]
  },
  {
   "cell_type": "code",
   "execution_count": 92,
   "metadata": {
    "executionInfo": {
     "elapsed": 123,
     "status": "ok",
     "timestamp": 1739957722884,
     "user": {
      "displayName": "23522026 Ahmad Naufal Hakim",
      "userId": "16621933245327613442"
     },
     "user_tz": -420
    },
    "id": "P_7WmJUSZSgT"
   },
   "outputs": [],
   "source": [
    "class Attn(nn.Module) :\n",
    "  def __init__(self, method, hidden_size) -> None :\n",
    "    super(Attn, self).__init__()\n",
    "    self.method = method\n",
    "    self.hidden_size = hidden_size\n",
    "\n",
    "    if self.method == \"general\" :\n",
    "      self.attn = nn.Linear(self.hidden_size, hidden_size).to(DEVICE)\n",
    "    elif self.method == \"concat\" :\n",
    "      self.attn = nn.Linear(self.hidden_size*2, hidden_size).to(DEVICE)\n",
    "      self.v = nn.Parameter(torch.FloatTensor(hidden_size)).to(DEVICE)\n",
    "\n",
    "  def forward(self, hidden, encoder_outputs) :\n",
    "    # hidden shape: [1, batch_size, hidden_size]\n",
    "    # encoder_outputs shape: [seq_len, batch_size, hidden_size]\n",
    "\n",
    "    if self.method == \"dot\" :\n",
    "      # Vectorized dot product for all positions in the sequence\n",
    "      attn_energies = torch.sum(hidden * encoder_outputs, dim=2) # [seq_len, batch_size]\n",
    "    elif self.method == \"general\" :\n",
    "      energy = self.attn(encoder_outputs) # [seq_len, batch_size, hidden_size]\n",
    "      attn_energies = torch.sum(hidden * energy, dim=2)\n",
    "    elif self.method == \"concat\" :\n",
    "      hidden_expanded = hidden.expand(encoder_outputs.size(0), -1, -1) # [seq_len, batch_size, hidden_size]\n",
    "      energy = self.attn(torch.cat((hidden_expanded, encoder_outputs), 2)) # [seq_len, batch_size, hidden_size]\n",
    "      attn_energies = torch.sum(self.v * energy, dim=2)\n",
    "\n",
    "    # Normalize energies to weights\n",
    "    attn_weights = F.softmax(attn_energies, dim=0) # [seq_len, batch_size]\n",
    "    return attn_weights.transpose(0, 1).unsqueeze(1) # [batch_size, 1, seq_len]"
   ]
  },
  {
   "cell_type": "markdown",
   "metadata": {
    "id": "pLkvrRCoZWf3"
   },
   "source": [
    "### Decoder"
   ]
  },
  {
   "cell_type": "code",
   "execution_count": 93,
   "metadata": {
    "executionInfo": {
     "elapsed": 123,
     "status": "ok",
     "timestamp": 1739957722884,
     "user": {
      "displayName": "23522026 Ahmad Naufal Hakim",
      "userId": "16621933245327613442"
     },
     "user_tz": -420
    },
    "id": "oVtYeNNIZa8U"
   },
   "outputs": [],
   "source": [
    "class Decoder(nn.Module) :\n",
    "  def __init__(self, attn_model, emb_dim, hidden_size, output_size, n_layers=1, dropout_proba=.1) -> None :\n",
    "    super(Decoder, self).__init__()\n",
    "    self.attn_model = attn_model\n",
    "    self.hidden_size = hidden_size\n",
    "    self.output_size = output_size\n",
    "    self.n_layers = n_layers\n",
    "    self.dropout_proba = dropout_proba\n",
    "\n",
    "    # Define layers\n",
    "    self.embedding = nn.Embedding(output_size, emb_dim).to(DEVICE)\n",
    "    self.gru = nn.GRU(emb_dim + hidden_size, hidden_size, n_layers, dropout=dropout_proba, batch_first=False).to(DEVICE)\n",
    "    self.out = nn.Linear(hidden_size*2, output_size).to(DEVICE)\n",
    "\n",
    "    # Choose attention model\n",
    "    if attn_model != \"none\" :\n",
    "      self.attn = Attn(attn_model, hidden_size).to(DEVICE)\n",
    "\n",
    "  def forward(self, token_input, last_context, last_hidden, encoder_outputs) :\n",
    "    # token_input shape: [1, batch_size]\n",
    "    # last_context shape: [batch_size, hidden_size]\n",
    "    # last_hidden shape: [n_layers, batch_size, hidden_size]\n",
    "    # encoder_outputs shape: [seq_len, batch_size, hidden]\n",
    "    # Get the embedding of the current input token (last output token)\n",
    "\n",
    "    embedded = self.embedding(token_input) # [1, batch_size, emb_dim]\n",
    "    # Combine embedded input token and last context, run through RNN\n",
    "    rnn_input = torch.cat((embedded, last_context.unsqueeze(0)), dim=2) # [1, batch_size, emb_dim + hidden_size]\n",
    "    # GRU forward\n",
    "    rnn_output, hidden = self.gru(rnn_input, last_hidden) # rnn_output: [1, batch_size, hidden_size]\n",
    "\n",
    "    # Calculate attention from current RNN state and all encoder outputs; apply to encoder outputs\n",
    "    attn_weights = self.attn(rnn_output, encoder_outputs) # [batch_size, 1, seq_len]\n",
    "    context = torch.bmm(attn_weights, encoder_outputs.transpose(0, 1)) # [batch_size, 1, hidden_size]\n",
    "    context = context.transpose(0, 1) # [1, batch_size, hidden_size]\n",
    "\n",
    "    # Final output layer (next token prediction) using the RNN hidden state and context vector\n",
    "    rnn_output = rnn_output.squeeze(0)  # [batch_size, hidden_size]\n",
    "    context = context.squeeze(0)        # [batch_size, hidden_size]\n",
    "    output = torch.cat((rnn_output, context), dim=1) # [batch_size, hidden_size * 2]\n",
    "    output = F.log_softmax(self.out(output), dim=1) # [batch_size, output_size]\n",
    "\n",
    "    # Return final output, hidden state, and attention weights (for visualization)\n",
    "    return output, context, hidden, attn_weights"
   ]
  },
  {
   "cell_type": "markdown",
   "metadata": {
    "id": "8mDO6QlJZpUZ"
   },
   "source": [
    "## Technical check"
   ]
  },
  {
   "cell_type": "code",
   "execution_count": 94,
   "metadata": {
    "colab": {
     "base_uri": "https://localhost:8080/"
    },
    "executionInfo": {
     "elapsed": 123,
     "status": "ok",
     "timestamp": 1739957722884,
     "user": {
      "displayName": "23522026 Ahmad Naufal Hakim",
      "userId": "16621933245327613442"
     },
     "user_tz": -420
    },
    "id": "kC8lx7n7Zr1Z",
    "outputId": "9a095505-f179-48d0-c305-f4e69125f170"
   },
   "outputs": [
    {
     "name": "stdout",
     "output_type": "stream",
     "text": [
      "Encoder hidden shape: torch.Size([1, 3, 15])\n",
      "Input batch shape: torch.Size([4, 3])\n",
      "Encoder outputs shape: torch.Size([4, 3, 15])\n",
      "Encoder hidden shape: torch.Size([1, 3, 15])\n",
      "Step 0:\n",
      "Decoder output shape: torch.Size([3, 100])\n",
      "Decoder context shape: torch.Size([3, 15])\n",
      "Decoder hidden shape: torch.Size([1, 3, 15])\n",
      "Attention shape: torch.Size([3, 1, 4])\n",
      "Step 1:\n",
      "Decoder output shape: torch.Size([3, 100])\n",
      "Decoder context shape: torch.Size([3, 15])\n",
      "Decoder hidden shape: torch.Size([1, 3, 15])\n",
      "Attention shape: torch.Size([3, 1, 4])\n"
     ]
    }
   ],
   "source": [
    "# testing params\n",
    "batch_size = 3\n",
    "input_size = 100\n",
    "emb_dim = 25\n",
    "hidden_size = 15\n",
    "n_layers = 1\n",
    "\n",
    "# Init models\n",
    "encoder_test = Encoder(input_size, emb_dim, hidden_size, n_layers)\n",
    "decoder_test = Decoder(\"dot\", emb_dim, hidden_size, output_size=input_size, n_layers=n_layers)\n",
    "# Test encoder\n",
    "encoder_hidden = encoder_test.init_hidden(batch_size=batch_size)\n",
    "print(\"Encoder hidden shape:\", encoder_hidden.shape)\n",
    "# Test input (seq_len=4, batch_size=3)\n",
    "input_batch = torch.LongTensor([[1,4,7], [2,5,8], [3,6,9], [4,7,10]]).to(DEVICE)\n",
    "print(\"Input batch shape:\", input_batch.shape)\n",
    "\n",
    "encoder_outputs, encoder_hidden = encoder_test(input_batch, encoder_hidden)\n",
    "print(\"Encoder outputs shape:\", encoder_outputs.shape)\n",
    "print(\"Encoder hidden shape:\", encoder_hidden.shape)\n",
    "\n",
    "# Test decoder\n",
    "decoder_input = torch.LongTensor([[SOS_TOKEN] * batch_size]).to(DEVICE) # (1, batch_size)\n",
    "decoder_context = torch.zeros(batch_size, hidden_size).to(DEVICE) # (batch_size, hidden_size)\n",
    "decoder_hidden = encoder_hidden\n",
    "for di in range(2) :\n",
    "  decoder_output, decoder_context, decoder_hidden, attn = decoder_test(\n",
    "      decoder_input,\n",
    "      decoder_context,\n",
    "      decoder_hidden,\n",
    "      encoder_outputs\n",
    "  )\n",
    "  print(f\"Step {di}:\")\n",
    "  print(\"Decoder output shape:\", decoder_output.shape) # [batch_size, output_size]\n",
    "  print(\"Decoder context shape:\", decoder_context.shape)\n",
    "  print(\"Decoder hidden shape:\", decoder_hidden.shape) # [n_layers, batch_size, hidden_size]\n",
    "  print(\"Attention shape:\", attn.shape) # [batch_size, 1, seq_len]\n",
    "  decoder_input = torch.argmax(decoder_output, dim=1).unsqueeze(0) # Greedy decoding\n",
    "\n",
    "del encoder_test\n",
    "del decoder_test"
   ]
  },
  {
   "cell_type": "markdown",
   "metadata": {
    "id": "T8eP0I6rZtvY"
   },
   "source": [
    "## Helper functions (for training log)"
   ]
  },
  {
   "cell_type": "code",
   "execution_count": 95,
   "metadata": {
    "executionInfo": {
     "elapsed": 4,
     "status": "ok",
     "timestamp": 1739957722884,
     "user": {
      "displayName": "23522026 Ahmad Naufal Hakim",
      "userId": "16621933245327613442"
     },
     "user_tz": -420
    },
    "id": "V-3uJwDCZvqz"
   },
   "outputs": [],
   "source": [
    "import time\n",
    "import math\n",
    "import matplotlib.pyplot as plt\n",
    "plt.switch_backend(\"agg\")\n",
    "import matplotlib.ticker as ticker\n",
    "%matplotlib inline\n",
    "import numpy as np\n",
    "\n",
    "def as_minutes(seconds) :\n",
    "  minutes = math.floor(seconds/60)\n",
    "  seconds -= minutes*60\n",
    "  return f\"{minutes}m {round(seconds, 2)}s\"\n",
    "\n",
    "def time_since(since, percent) :\n",
    "  now = time.time()\n",
    "  seconds = now - since\n",
    "  eta_seconds = seconds/(percent)\n",
    "  remaining_seconds = eta_seconds - seconds\n",
    "  return f\"{as_minutes(seconds)} (- {as_minutes(remaining_seconds)})\""
   ]
  },
  {
   "cell_type": "markdown",
   "metadata": {
    "id": "Cbvh639cZxlA"
   },
   "source": [
    "## Train script"
   ]
  },
  {
   "cell_type": "code",
   "execution_count": 96,
   "metadata": {
    "executionInfo": {
     "elapsed": 3,
     "status": "ok",
     "timestamp": 1739957722884,
     "user": {
      "displayName": "23522026 Ahmad Naufal Hakim",
      "userId": "16621933245327613442"
     },
     "user_tz": -420
    },
    "id": "8l3KSCAaZy5K"
   },
   "outputs": [],
   "source": [
    "teacher_forcing_ratio = .5\n",
    "\n",
    "def train_batch(input_batch, target_batch, encoder, decoder, encoder_optimizer, decoder_optimizer, criterion) :\n",
    "  encoder_optimizer.zero_grad()\n",
    "  decoder_optimizer.zero_grad()\n",
    "\n",
    "  input_batch = input_batch.to(DEVICE)\n",
    "  target_batch = target_batch.to(DEVICE)\n",
    "\n",
    "  batch_size = input_batch.size(1)\n",
    "  # Forward through encoder\n",
    "  encoder_hidden = encoder.init_hidden(batch_size)\n",
    "  encoder_outputs, encoder_hidden = encoder(input_batch, encoder_hidden)\n",
    "  # Prepare decoder inputs\n",
    "  decoder_input = torch.LongTensor([[SOS_TOKEN] * batch_size]).to(DEVICE)\n",
    "  decoder_context = torch.zeros(batch_size, decoder.hidden_size).to(DEVICE)\n",
    "  decoder_hidden = encoder_hidden # Use last hidden state from encoder to start decoder\n",
    "\n",
    "  loss = 0\n",
    "  for di in range(target_batch.size(0)) :\n",
    "    decoder_output, decoder_context, decoder_hidden, decoder_attention = decoder(\n",
    "      decoder_input, decoder_context, decoder_hidden, encoder_outputs\n",
    "    )\n",
    "    # # Debug: check for nan\n",
    "    # if torch.isnan(criterion(decoder_output, target_batch[di])).any() :\n",
    "    #   print(\"nan detected in decoder_output at step\", di)\n",
    "    #   print(f\"step {di}/{target_batch.size(0)-1}\")\n",
    "    #   print(f\"{di-1}:\\t{target_batch[di-1]}\")\n",
    "    #   for i in range(di, target_batch.size(0)) :\n",
    "    #     print(f\"{i}:\\t{target_batch[i]}\")\n",
    "    #   print(target_batch)\n",
    "    #   print(decoder_output.shape, target_batch[di].shape, criterion(decoder_output, target_batch[di]))\n",
    "    # Calculate loss for this step (sum over batch)\n",
    "    loss += criterion(decoder_output, target_batch[di])\n",
    "    # Teacher forcing\n",
    "    decoder_input = target_batch[di].unsqueeze(0) if random.random() < teacher_forcing_ratio else decoder_output.argmax(1).unsqueeze(0)\n",
    "    decoder_input = decoder_input.to(DEVICE)\n",
    "\n",
    "  # Normalize loss\n",
    "  loss /= target_batch.size(0)\n",
    "\n",
    "  # Backpropagate loss\n",
    "  loss.backward()\n",
    "  encoder_optimizer.step()\n",
    "  decoder_optimizer.step()\n",
    "\n",
    "  return loss.item()\n"
   ]
  },
  {
   "cell_type": "markdown",
   "metadata": {
    "id": "u9nserDfZ4Xo"
   },
   "source": [
    "## Initialize model"
   ]
  },
  {
   "cell_type": "code",
   "execution_count": 97,
   "metadata": {
    "colab": {
     "base_uri": "https://localhost:8080/"
    },
    "executionInfo": {
     "elapsed": 483,
     "status": "ok",
     "timestamp": 1739957723364,
     "user": {
      "displayName": "23522026 Ahmad Naufal Hakim",
      "userId": "16621933245327613442"
     },
     "user_tz": -420
    },
    "id": "s1JHP18oZ6zy",
    "outputId": "68700f7a-b173-4800-d808-8d922cd64e2d"
   },
   "outputs": [
    {
     "name": "stdout",
     "output_type": "stream",
     "text": [
      "attn_model: dot\n",
      "emb_dim: 128\n",
      "hidden_size: 128\n",
      "n_layers: 1\n",
      "Encoder has a total number of 556672 parameters\n",
      "Decoder has a total number of 162084 parameters\n",
      "Total number of all parameters is 718756\n"
     ]
    }
   ],
   "source": [
    "attn_model = ATTN_MODEL\n",
    "emb_dim = EMB_DIM\n",
    "hidden_size = HIDDEN_SIZE\n",
    "n_layers = N_LAYERS\n",
    "dropout_proba = DROPOUT_PROBA\n",
    "\n",
    "# Initialize models\n",
    "encoder = Encoder(train_g2p_dataset.n_graphemes, int(emb_dim), int(hidden_size), int(n_layers))\n",
    "decoder = Decoder(attn_model, int(emb_dim), int(hidden_size), train_g2p_dataset.n_phonemes, int(n_layers), dropout_proba=dropout_proba)\n",
    "n_encoder_parameters = sum(p.numel() for p in encoder.parameters() if p.requires_grad)\n",
    "n_decoder_parameters = sum(p.numel() for p in decoder.parameters() if p.requires_grad)\n",
    "\n",
    "print(f\"attn_model: {attn_model}\")\n",
    "print(f\"emb_dim: {emb_dim}\")\n",
    "print(f\"hidden_size: {hidden_size}\")\n",
    "print(f\"n_layers: {n_layers}\")\n",
    "print(f\"Encoder has a total number of {n_encoder_parameters} parameters\")\n",
    "print(f\"Decoder has a total number of {n_decoder_parameters} parameters\")\n",
    "print(f\"Total number of all parameters is {n_encoder_parameters+n_decoder_parameters}\")\n",
    "\n",
    "# Move models to GPU\n",
    "encoder = encoder.to(DEVICE)\n",
    "decoder = decoder.to(DEVICE)\n",
    "\n",
    "# Learning rate and weight decay parameters\n",
    "learning_rate = .001\n",
    "weight_decay = 1e-5\n",
    "# Initialize optimizers and criterion\n",
    "encoder_optimizer = optim.Adam(encoder.parameters(), lr=learning_rate, weight_decay=weight_decay)\n",
    "decoder_optimizer = optim.Adam(decoder.parameters(), lr=learning_rate, weight_decay=weight_decay)\n",
    "criterion = nn.NLLLoss(ignore_index=PAD_TOKEN)\n",
    "\n",
    "# Early stopping parameters\n",
    "patience = 999\n",
    "epochs_without_improvement = 0\n",
    "# Learning rate scheduling\n",
    "encoder_scheduler = optim.lr_scheduler.ReduceLROnPlateau(encoder_optimizer, factor=.5)\n",
    "decoder_scheduler = optim.lr_scheduler.ReduceLROnPlateau(decoder_optimizer, factor=.5)"
   ]
  },
  {
   "cell_type": "markdown",
   "metadata": {
    "id": "4OI03JU0Z9dw"
   },
   "source": [
    "## Run the training script"
   ]
  },
  {
   "cell_type": "code",
   "execution_count": 98,
   "metadata": {
    "colab": {
     "base_uri": "https://localhost:8080/"
    },
    "executionInfo": {
     "elapsed": 2952362,
     "status": "ok",
     "timestamp": 1739960675722,
     "user": {
      "displayName": "23522026 Ahmad Naufal Hakim",
      "userId": "16621933245327613442"
     },
     "user_tz": -420
    },
    "id": "gP6Zh2q4aBvd",
    "outputId": "e9e1eaf7-3a18-4620-b007-cbad6be38496"
   },
   "outputs": [
    {
     "name": "stdout",
     "output_type": "stream",
     "text": [
      "Training for epoch 1 has started (lr=0.001). Found 396 batch(es).\n",
      "Epoch 1 finished in 0m 9.21s (- 15m 11.35s) (1 1.0%). train avg loss: 1.8791\n",
      "Training for epoch 2 has started (lr=0.001). Found 396 batch(es).\n",
      "Epoch 2 finished in 0m 18.02s (- 14m 42.76s) (2 2.0%). train avg loss: 1.3935\n",
      "Training for epoch 3 has started (lr=0.001). Found 396 batch(es).\n",
      "Epoch 3 finished in 0m 27.24s (- 14m 40.64s) (3 3.0%). train avg loss: 1.0602\n",
      "Training for epoch 4 has started (lr=0.001). Found 396 batch(es).\n",
      "Epoch 4 finished in 0m 35.59s (- 14m 14.08s) (4 4.0%). train avg loss: 0.7872\n",
      "Training for epoch 5 has started (lr=0.001). Found 396 batch(es).\n",
      "Epoch 5 finished in 0m 44.08s (- 13m 57.47s) (5 5.0%). train avg loss: 0.5722\n",
      "Training for epoch 6 has started (lr=0.001). Found 396 batch(es).\n",
      "Epoch 6 finished in 0m 52.0s (- 13m 34.7s) (6 6.0%). train avg loss: 0.4086\n",
      "Training for epoch 7 has started (lr=0.001). Found 396 batch(es).\n",
      "Epoch 7 finished in 0m 59.95s (- 13m 16.42s) (7 7.0%). train avg loss: 0.3114\n",
      "Training for epoch 8 has started (lr=0.001). Found 396 batch(es).\n",
      "Epoch 8 finished in 1m 8.01s (- 13m 2.07s) (8 8.0%). train avg loss: 0.2421\n",
      "Training for epoch 9 has started (lr=0.001). Found 396 batch(es).\n",
      "Epoch 9 finished in 1m 16.04s (- 12m 48.82s) (9 9.0%). train avg loss: 0.2338\n",
      "Training for epoch 10 has started (lr=0.001). Found 396 batch(es).\n",
      "Epoch 10 finished in 1m 24.18s (- 12m 37.6s) (10 10.0%). train avg loss: 0.163\n",
      "Training for epoch 11 has started (lr=0.001). Found 396 batch(es).\n",
      "Epoch 11 finished in 1m 32.7s (- 12m 30.05s) (11 11.0%). train avg loss: 0.1456\n",
      "Training for epoch 12 has started (lr=0.001). Found 396 batch(es).\n",
      "Epoch 12 finished in 1m 40.51s (- 12m 17.09s) (12 12.0%). train avg loss: 0.2289\n",
      "Training for epoch 13 has started (lr=0.001). Found 396 batch(es).\n",
      "Epoch 13 finished in 1m 48.11s (- 12m 3.51s) (13 13.0%). train avg loss: 0.1167\n",
      "Training for epoch 14 has started (lr=0.001). Found 396 batch(es).\n",
      "Epoch 14 finished in 1m 56.06s (- 11m 52.95s) (14 14.0%). train avg loss: 0.1135\n",
      "Training for epoch 15 has started (lr=0.001). Found 396 batch(es).\n",
      "Epoch 15 finished in 2m 4.17s (- 11m 43.65s) (15 15.0%). train avg loss: 0.0817\n",
      "Training for epoch 16 has started (lr=0.001). Found 396 batch(es).\n",
      "Epoch 16 finished in 2m 12.22s (- 11m 34.18s) (16 16.0%). train avg loss: 0.076\n",
      "Training for epoch 17 has started (lr=0.001). Found 396 batch(es).\n",
      "Epoch 17 finished in 2m 20.94s (- 11m 28.14s) (17 17.0%). train avg loss: 0.0937\n",
      "Training for epoch 18 has started (lr=0.001). Found 396 batch(es).\n",
      "Epoch 18 finished in 2m 28.51s (- 11m 16.53s) (18 18.0%). train avg loss: 0.1138\n",
      "Training for epoch 19 has started (lr=0.001). Found 396 batch(es).\n",
      "Epoch 19 finished in 2m 36.33s (- 11m 6.46s) (19 19.0%). train avg loss: 0.1458\n",
      "Training for epoch 20 has started (lr=0.001). Found 396 batch(es).\n",
      "Epoch 20 finished in 2m 44.57s (- 10m 58.28s) (20 20.0%). train avg loss: 0.0869\n",
      "Training for epoch 21 has started (lr=0.001). Found 396 batch(es).\n",
      "Epoch 21 finished in 2m 52.56s (- 10m 49.16s) (21 21.0%). train avg loss: 0.0949\n",
      "Training for epoch 22 has started (lr=0.001). Found 396 batch(es).\n",
      "Epoch 22 finished in 3m 0.58s (- 10m 40.25s) (22 22.0%). train avg loss: 0.0672\n",
      "Training for epoch 23 has started (lr=0.001). Found 396 batch(es).\n",
      "Epoch 23 finished in 3m 8.57s (- 10m 31.31s) (23 23.0%). train avg loss: 0.083\n",
      "Training for epoch 24 has started (lr=0.001). Found 396 batch(es).\n",
      "Epoch 24 finished in 3m 16.74s (- 10m 23.0s) (24 24.0%). train avg loss: 0.0617\n",
      "Training for epoch 25 has started (lr=0.001). Found 396 batch(es).\n",
      "Epoch 25 finished in 3m 27.33s (- 10m 21.99s) (25 25.0%). train avg loss: 0.0667\n",
      "Training for epoch 26 has started (lr=0.001). Found 396 batch(es).\n",
      "Epoch 26 finished in 3m 35.96s (- 10m 14.65s) (26 26.0%). train avg loss: 0.0806\n",
      "Training for epoch 27 has started (lr=0.001). Found 396 batch(es).\n",
      "Epoch 27 finished in 3m 43.54s (- 10m 4.38s) (27 27.0%). train avg loss: 0.1267\n",
      "Training for epoch 28 has started (lr=0.001). Found 396 batch(es).\n",
      "Epoch 28 finished in 3m 52.02s (- 9m 56.63s) (28 28.0%). train avg loss: 0.0846\n",
      "Training for epoch 29 has started (lr=0.001). Found 396 batch(es).\n",
      "Epoch 29 finished in 3m 59.9s (- 9m 47.35s) (29 29.0%). train avg loss: 0.051\n",
      "Training for epoch 30 has started (lr=0.001). Found 396 batch(es).\n",
      "Epoch 30 finished in 4m 8.27s (- 9m 39.29s) (30 30.0%). train avg loss: 0.0347\n",
      "Training for epoch 31 has started (lr=0.001). Found 396 batch(es).\n",
      "Epoch 31 finished in 4m 16.73s (- 9m 31.44s) (31 31.0%). train avg loss: 0.0267\n",
      "Training for epoch 32 has started (lr=0.001). Found 396 batch(es).\n",
      "Epoch 32 finished in 4m 25.4s (- 9m 23.98s) (32 32.0%). train avg loss: 0.0254\n",
      "Training for epoch 33 has started (lr=0.001). Found 396 batch(es).\n",
      "Epoch 33 finished in 4m 33.67s (- 9m 15.64s) (33 33.0%). train avg loss: 0.0262\n",
      "Training for epoch 34 has started (lr=0.001). Found 396 batch(es).\n",
      "Epoch 34 finished in 4m 42.36s (- 9m 8.11s) (34 34.0%). train avg loss: 0.1263\n",
      "Training for epoch 35 has started (lr=0.001). Found 396 batch(es).\n",
      "Epoch 35 finished in 4m 50.45s (- 8m 59.41s) (35 35.0%). train avg loss: 0.1587\n",
      "Training for epoch 36 has started (lr=0.001). Found 396 batch(es).\n",
      "Epoch 36 finished in 4m 59.19s (- 8m 51.9s) (36 36.0%). train avg loss: 0.0985\n",
      "Training for epoch 37 has started (lr=0.001). Found 396 batch(es).\n",
      "Epoch 37 finished in 5m 7.63s (- 8m 43.8s) (37 37.0%). train avg loss: 0.1104\n",
      "Training for epoch 38 has started (lr=0.001). Found 396 batch(es).\n",
      "Epoch 38 finished in 5m 15.61s (- 8m 34.94s) (38 38.0%). train avg loss: 0.0827\n",
      "Training for epoch 39 has started (lr=0.001). Found 396 batch(es).\n",
      "Epoch 39 finished in 5m 24.28s (- 8m 27.2s) (39 39.0%). train avg loss: 0.0547\n",
      "Training for epoch 40 has started (lr=0.001). Found 396 batch(es).\n",
      "Epoch 40 finished in 5m 32.63s (- 8m 18.95s) (40 40.0%). train avg loss: 0.0585\n",
      "Training for epoch 41 has started (lr=0.001). Found 396 batch(es).\n",
      "Epoch 41 finished in 5m 41.1s (- 8m 10.84s) (41 41.0%). train avg loss: 0.0826\n",
      "Training for epoch 42 has started (lr=0.001). Found 396 batch(es).\n",
      "Epoch 42 finished in 5m 49.77s (- 8m 3.02s) (42 42.0%). train avg loss: 0.0624\n",
      "Training for epoch 43 has started (lr=0.001). Found 396 batch(es).\n",
      "Epoch 43 finished in 5m 58.01s (- 7m 54.57s) (43 43.0%). train avg loss: 0.0645\n",
      "Training for epoch 44 has started (lr=0.0005). Found 396 batch(es).\n",
      "Epoch 44 finished in 6m 6.46s (- 7m 46.41s) (44 44.0%). train avg loss: 0.0347\n",
      "Training for epoch 45 has started (lr=0.0005). Found 396 batch(es).\n",
      "Epoch 45 finished in 6m 15.43s (- 7m 38.86s) (45 45.0%). train avg loss: 0.0328\n",
      "Training for epoch 46 has started (lr=0.0005). Found 396 batch(es).\n",
      "Epoch 46 finished in 6m 23.67s (- 7m 30.4s) (46 46.0%). train avg loss: 0.0277\n",
      "Training for epoch 47 has started (lr=0.0005). Found 396 batch(es).\n",
      "Epoch 47 finished in 6m 31.75s (- 7m 21.76s) (47 47.0%). train avg loss: 0.0344\n",
      "Training for epoch 48 has started (lr=0.0005). Found 396 batch(es).\n",
      "Epoch 48 finished in 6m 40.21s (- 7m 13.56s) (48 48.0%). train avg loss: 0.0239\n",
      "Training for epoch 49 has started (lr=0.0005). Found 396 batch(es).\n",
      "Epoch 49 finished in 6m 49.42s (- 7m 6.13s) (49 49.0%). train avg loss: 0.0207\n",
      "Training for epoch 50 has started (lr=0.0005). Found 396 batch(es).\n",
      "Epoch 50 finished in 6m 57.66s (- 6m 57.66s) (50 50.0%). train avg loss: 0.0201\n",
      "Training for epoch 51 has started (lr=0.0005). Found 396 batch(es).\n",
      "Epoch 51 finished in 7m 5.65s (- 6m 48.96s) (51 51.0%). train avg loss: 0.0197\n",
      "Training for epoch 52 has started (lr=0.0005). Found 396 batch(es).\n",
      "Epoch 52 finished in 7m 13.79s (- 6m 40.42s) (52 52.0%). train avg loss: 0.0176\n",
      "Training for epoch 53 has started (lr=0.0005). Found 396 batch(es).\n",
      "Epoch 53 finished in 7m 22.79s (- 6m 32.67s) (53 53.0%). train avg loss: 0.0202\n",
      "Training for epoch 54 has started (lr=0.0005). Found 396 batch(es).\n",
      "Epoch 54 finished in 7m 31.7s (- 6m 24.78s) (54 54.0%). train avg loss: 0.0272\n",
      "Training for epoch 55 has started (lr=0.0005). Found 396 batch(es).\n",
      "Epoch 55 finished in 7m 40.77s (- 6m 16.99s) (55 55.0%). train avg loss: 0.0202\n",
      "Training for epoch 56 has started (lr=0.0005). Found 396 batch(es).\n",
      "Epoch 56 finished in 7m 49.64s (- 6m 9.0s) (56 56.0%). train avg loss: 0.0259\n",
      "Training for epoch 57 has started (lr=0.0005). Found 396 batch(es).\n",
      "Epoch 57 finished in 7m 58.5s (- 6m 0.97s) (57 57.0%). train avg loss: 0.0218\n",
      "Training for epoch 58 has started (lr=0.0005). Found 396 batch(es).\n",
      "Epoch 58 finished in 8m 7.83s (- 5m 53.26s) (58 58.0%). train avg loss: 0.0235\n",
      "Training for epoch 59 has started (lr=0.0005). Found 396 batch(es).\n",
      "Epoch 59 finished in 8m 17.12s (- 5m 45.45s) (59 59.0%). train avg loss: 0.0302\n",
      "Training for epoch 60 has started (lr=0.0005). Found 396 batch(es).\n",
      "Epoch 60 finished in 8m 26.51s (- 5m 37.67s) (60 60.0%). train avg loss: 0.0444\n",
      "Training for epoch 61 has started (lr=0.0005). Found 396 batch(es).\n",
      "Epoch 61 finished in 8m 35.38s (- 5m 29.51s) (61 61.0%). train avg loss: 0.0277\n",
      "Training for epoch 62 has started (lr=0.0005). Found 396 batch(es).\n",
      "Epoch 62 finished in 8m 44.41s (- 5m 21.41s) (62 62.0%). train avg loss: 0.0233\n",
      "Training for epoch 63 has started (lr=0.0005). Found 396 batch(es).\n",
      "Epoch 63 finished in 8m 53.51s (- 5m 13.33s) (63 63.0%). train avg loss: 0.018\n",
      "Training for epoch 64 has started (lr=0.00025). Found 396 batch(es).\n",
      "Epoch 64 finished in 9m 2.66s (- 5m 5.25s) (64 64.0%). train avg loss: 0.0142\n",
      "Training for epoch 65 has started (lr=0.00025). Found 396 batch(es).\n",
      "Epoch 65 finished in 9m 11.72s (- 4m 57.08s) (65 65.0%). train avg loss: 0.0129\n",
      "Training for epoch 66 has started (lr=0.00025). Found 396 batch(es).\n",
      "Epoch 66 finished in 9m 20.49s (- 4m 48.74s) (66 66.0%). train avg loss: 0.0115\n",
      "Training for epoch 67 has started (lr=0.00025). Found 396 batch(es).\n",
      "Epoch 67 finished in 9m 29.14s (- 4m 40.32s) (67 67.0%). train avg loss: 0.0124\n",
      "Training for epoch 68 has started (lr=0.00025). Found 396 batch(es).\n",
      "Epoch 68 finished in 9m 38.02s (- 4m 32.01s) (68 68.0%). train avg loss: 0.0134\n",
      "Training for epoch 69 has started (lr=0.00025). Found 396 batch(es).\n",
      "Epoch 69 finished in 9m 47.24s (- 4m 23.83s) (69 69.0%). train avg loss: 0.0122\n",
      "Training for epoch 70 has started (lr=0.00025). Found 396 batch(es).\n",
      "Epoch 70 finished in 9m 56.66s (- 4m 15.71s) (70 70.0%). train avg loss: 0.0108\n",
      "Training for epoch 71 has started (lr=0.00025). Found 396 batch(es).\n",
      "Epoch 71 finished in 10m 5.54s (- 4m 7.33s) (71 71.0%). train avg loss: 0.0117\n",
      "Training for epoch 72 has started (lr=0.00025). Found 396 batch(es).\n",
      "Epoch 72 finished in 10m 14.73s (- 3m 59.06s) (72 72.0%). train avg loss: 0.0166\n",
      "Training for epoch 73 has started (lr=0.00025). Found 396 batch(es).\n",
      "Epoch 73 finished in 10m 23.93s (- 3m 50.77s) (73 73.0%). train avg loss: 0.011\n",
      "Training for epoch 74 has started (lr=0.00025). Found 396 batch(es).\n",
      "Epoch 74 finished in 10m 33.25s (- 3m 42.49s) (74 74.0%). train avg loss: 0.0105\n",
      "Training for epoch 75 has started (lr=0.00025). Found 396 batch(es).\n",
      "Epoch 75 finished in 10m 42.62s (- 3m 34.21s) (75 75.0%). train avg loss: 0.0105\n",
      "Training for epoch 76 has started (lr=0.00025). Found 396 batch(es).\n",
      "Epoch 76 finished in 10m 51.87s (- 3m 25.85s) (76 76.0%). train avg loss: 0.0099\n",
      "Training for epoch 77 has started (lr=0.00025). Found 396 batch(es).\n",
      "Epoch 77 finished in 11m 0.68s (- 3m 17.35s) (77 77.0%). train avg loss: 0.0098\n",
      "Training for epoch 78 has started (lr=0.00025). Found 396 batch(es).\n",
      "Epoch 78 finished in 11m 9.92s (- 3m 8.95s) (78 78.0%). train avg loss: 0.0099\n",
      "Training for epoch 79 has started (lr=0.00025). Found 396 batch(es).\n",
      "Epoch 79 finished in 11m 19.08s (- 3m 0.51s) (79 79.0%). train avg loss: 0.011\n",
      "Training for epoch 80 has started (lr=0.00025). Found 396 batch(es).\n",
      "Epoch 80 finished in 11m 27.97s (- 2m 51.99s) (80 80.0%). train avg loss: 0.015\n",
      "Training for epoch 81 has started (lr=0.00025). Found 396 batch(es).\n",
      "Epoch 81 finished in 11m 37.04s (- 2m 43.5s) (81 81.0%). train avg loss: 0.012\n",
      "Training for epoch 82 has started (lr=0.00025). Found 396 batch(es).\n",
      "Epoch 82 finished in 11m 46.29s (- 2m 35.04s) (82 82.0%). train avg loss: 0.016\n",
      "Training for epoch 83 has started (lr=0.00025). Found 396 batch(es).\n",
      "Epoch 83 finished in 11m 55.76s (- 2m 26.6s) (83 83.0%). train avg loss: 0.0136\n",
      "Training for epoch 84 has started (lr=0.00025). Found 396 batch(es).\n",
      "Epoch 84 finished in 12m 4.87s (- 2m 18.07s) (84 84.0%). train avg loss: 0.0095\n",
      "Training for epoch 85 has started (lr=0.00025). Found 396 batch(es).\n",
      "Epoch 85 finished in 12m 13.86s (- 2m 9.5s) (85 85.0%). train avg loss: 0.0092\n",
      "Training for epoch 86 has started (lr=0.00025). Found 396 batch(es).\n",
      "Epoch 86 finished in 12m 23.16s (- 2m 0.98s) (86 86.0%). train avg loss: 0.0089\n",
      "Training for epoch 87 has started (lr=0.00025). Found 396 batch(es).\n",
      "Epoch 87 finished in 12m 32.36s (- 1m 52.42s) (87 87.0%). train avg loss: 0.0092\n",
      "Training for epoch 88 has started (lr=0.00025). Found 396 batch(es).\n",
      "Epoch 88 finished in 12m 41.42s (- 1m 43.83s) (88 88.0%). train avg loss: 0.0079\n",
      "Training for epoch 89 has started (lr=0.00025). Found 396 batch(es).\n",
      "Epoch 89 finished in 12m 50.19s (- 1m 35.19s) (89 89.0%). train avg loss: 0.0091\n",
      "Training for epoch 90 has started (lr=0.00025). Found 396 batch(es).\n",
      "Epoch 90 finished in 12m 59.09s (- 1m 26.57s) (90 90.0%). train avg loss: 0.0111\n",
      "Training for epoch 91 has started (lr=0.00025). Found 396 batch(es).\n",
      "Epoch 91 finished in 13m 8.26s (- 1m 17.96s) (91 91.0%). train avg loss: 0.009\n",
      "Training for epoch 92 has started (lr=0.00025). Found 396 batch(es).\n",
      "Epoch 92 finished in 13m 17.46s (- 1m 9.34s) (92 92.0%). train avg loss: 0.011\n",
      "Training for epoch 93 has started (lr=0.00025). Found 396 batch(es).\n",
      "Epoch 93 finished in 13m 26.8s (- 1m 0.73s) (93 93.0%). train avg loss: 0.01\n",
      "Training for epoch 94 has started (lr=0.00025). Found 396 batch(es).\n",
      "Epoch 94 finished in 13m 35.66s (- 0m 52.06s) (94 94.0%). train avg loss: 0.0087\n",
      "Training for epoch 95 has started (lr=0.00025). Found 396 batch(es).\n",
      "Epoch 95 finished in 13m 44.49s (- 0m 43.39s) (95 95.0%). train avg loss: 0.0092\n",
      "Training for epoch 96 has started (lr=0.00025). Found 396 batch(es).\n",
      "Epoch 96 finished in 13m 54.11s (- 0m 34.75s) (96 96.0%). train avg loss: 0.0087\n",
      "Training for epoch 97 has started (lr=0.00025). Found 396 batch(es).\n",
      "Epoch 97 finished in 14m 3.17s (- 0m 26.08s) (97 97.0%). train avg loss: 0.0147\n",
      "Training for epoch 98 has started (lr=0.00025). Found 396 batch(es).\n",
      "Epoch 98 finished in 14m 11.94s (- 0m 17.39s) (98 98.0%). train avg loss: 0.018\n",
      "Training for epoch 99 has started (lr=0.00025). Found 396 batch(es).\n",
      "Epoch 99 finished in 14m 20.67s (- 0m 8.69s) (99 99.0%). train avg loss: 0.0082\n",
      "Training for epoch 100 has started (lr=0.000125). Found 396 batch(es).\n",
      "Epoch 100 finished in 14m 29.55s (- 0m 0.0s) (100 100.0%). train avg loss: 0.0093\n"
     ]
    }
   ],
   "source": [
    "# Training configurations\n",
    "n_epochs = 100\n",
    "# Keep track of time elapsed and running averages\n",
    "train_losses = []\n",
    "best_train_loss = float(\"inf\")\n",
    "\n",
    "start = time.time()\n",
    "for epoch in range(1, n_epochs+1) :\n",
    "  # Set both encoder and decoder to training mode\n",
    "  encoder.train()\n",
    "  decoder.train()\n",
    "  print(f\"Training for epoch {epoch} has started (lr={encoder_optimizer.param_groups[0]['lr']}). Found {len(train_dataloader)} batch(es).\")\n",
    "  # Training\n",
    "  total_train_loss = 0\n",
    "  total_train_tokens = 0\n",
    "  for batch, (grps, phns) in enumerate(train_dataloader) :\n",
    "    # Count tokens (excluding padding)\n",
    "    total_train_tokens += (phns!=PAD_TOKEN).sum().item()\n",
    "    # Train and get loss\n",
    "    unweighted_train_loss = train_batch(grps, phns, encoder, decoder, encoder_optimizer, decoder_optimizer, criterion)\n",
    "    # Track train loss for logging\n",
    "    total_train_loss += unweighted_train_loss * (phns!=PAD_TOKEN).sum().item()\n",
    "\n",
    "  # Calculate epoch metrics\n",
    "  avg_train_loss = total_train_loss/total_train_tokens\n",
    "  print(f\"Epoch {epoch} finished in {time_since(start, epoch/n_epochs)} ({epoch} {epoch*100/n_epochs}%). train avg loss: {round(avg_train_loss, 4)}\")\n",
    "\n",
    "  # Update schedulers based on train loss\n",
    "  encoder_scheduler.step(avg_train_loss)\n",
    "  decoder_scheduler.step(avg_train_loss)\n",
    "\n",
    "  # Save the losses for visualization\n",
    "  train_losses.append(avg_train_loss)\n",
    "  # Save the model if the train loss is better than the previous iterations' train loss\n",
    "  if avg_train_loss < best_train_loss :\n",
    "    epochs_without_improvement = 0\n",
    "    if epoch > 1 :\n",
    "      previous_best_encoder = [f for f in os.listdir(MODELS_DIR) if f.startswith(f\"FIN-encoder-wdecay_1e_5-attn_{attn_model}-emb_{emb_dim}-hddn_{hidden_size}-layers_{n_layers}\")][0]\n",
    "      previous_best_decoder = [f for f in os.listdir(MODELS_DIR) if f.startswith(f\"FIN-decoder-wdecay_1e_5-attn_{attn_model}-emb_{emb_dim}-hddn_{hidden_size}-layers_{n_layers}\")][0]\n",
    "      os.remove(os.path.join(MODELS_DIR, previous_best_encoder))\n",
    "      os.remove(os.path.join(MODELS_DIR, previous_best_decoder))\n",
    "    torch.save(encoder.state_dict(), os.path.join(MODELS_DIR, f\"FIN-encoder-wdecay_1e_5-attn_{attn_model}-emb_{emb_dim}-hddn_{hidden_size}-layers_{n_layers}-epoch_{epoch}.pth\"))\n",
    "    torch.save(decoder.state_dict(), os.path.join(MODELS_DIR, f\"FIN-decoder-wdecay_1e_5-attn_{attn_model}-emb_{emb_dim}-hddn_{hidden_size}-layers_{n_layers}-epoch_{epoch}.pth\"))\n",
    "    best_train_loss = avg_train_loss\n",
    "  else :\n",
    "    epochs_without_improvement += 1\n",
    "    if epochs_without_improvement >= patience :\n",
    "      print(f\"Early stopping after {epoch} epochs\")\n",
    "      break"
   ]
  },
  {
   "cell_type": "markdown",
   "metadata": {
    "id": "IvWFlA69aJXJ"
   },
   "source": [
    "## Visualize training loss"
   ]
  },
  {
   "cell_type": "code",
   "execution_count": 99,
   "metadata": {
    "colab": {
     "base_uri": "https://localhost:8080/",
     "height": 469
    },
    "executionInfo": {
     "elapsed": 328,
     "status": "ok",
     "timestamp": 1739960676044,
     "user": {
      "displayName": "23522026 Ahmad Naufal Hakim",
      "userId": "16621933245327613442"
     },
     "user_tz": -420
    },
    "id": "-498emHUaNzb",
    "outputId": "bab4a42d-c2d8-4a89-c7a9-eb0ace0bc12c"
   },
   "outputs": [
    {
     "data": {
      "text/plain": [
       "<Figure size 640x480 with 0 Axes>"
      ]
     },
     "metadata": {},
     "output_type": "display_data"
    },
    {
     "data": {
      "image/png": "[encoded data removed]",
      "text/plain": [
       "<Figure size 640x480 with 1 Axes>"
      ]
     },
     "metadata": {},
     "output_type": "display_data"
    }
   ],
   "source": [
    "def show_plot(**kwargs) :\n",
    "  plt.figure()\n",
    "  fig, ax = plt.subplots()\n",
    "  # This locator puts ticks at regular intervals\n",
    "  loc = ticker.MultipleLocator(base=.2)\n",
    "  ax.yaxis.set_major_locator(loc)\n",
    "  plt.title(\"Loss\")\n",
    "  legends = []\n",
    "  for k, v in kwargs.items() :\n",
    "    plt.plot(v)\n",
    "    plt.xlabel(\"Epoch\")\n",
    "    legends.append(k)\n",
    "    if k == \"train\" :\n",
    "      # Find the minimum value and its index\n",
    "      min_value = min(v)\n",
    "      min_index = v.index(min_value)\n",
    "      # Plot a red dot at the minimum value\n",
    "      plt.plot(min_index, min_value, \"ro\")\n",
    "      # Add text box in the middle of the plot showing the minimum value\n",
    "      plt.text(min_index-6, min_value+.1, f\"{min_value:.4f}\", bbox=dict(facecolor=\"white\", alpha=.5))\n",
    "  plt.legend(legends)\n",
    "\n",
    "show_plot(train=train_losses)"
   ]
  },
  {
   "cell_type": "markdown",
   "metadata": {
    "id": "X8q3Ubs5aUWa"
   },
   "source": [
    "## Evaluate the model"
   ]
  },
  {
   "cell_type": "markdown",
   "metadata": {
    "id": "sgFQoUrINk_L"
   },
   "source": [
    "### Helper functions to evaluate encoder-decoder attention model performance"
   ]
  },
  {
   "cell_type": "code",
   "execution_count": 100,
   "metadata": {
    "executionInfo": {
     "elapsed": 2,
     "status": "ok",
     "timestamp": 1739960676044,
     "user": {
      "displayName": "23522026 Ahmad Naufal Hakim",
      "userId": "16621933245327613442"
     },
     "user_tz": -420
    },
    "id": "wHJTHcbONu7W"
   },
   "outputs": [],
   "source": [
    "def evaluate(word, max_length=MAX_LENGTH) :\n",
    "  # Convert word to tensor with batch dimension\n",
    "  input_variable = variable_from_word(test_g2p_dataset, word, grp_type=GRP_TYPE) # Already in [seq_len, 1]\n",
    "\n",
    "  # Run through encoder\n",
    "  encoder_hidden = encoder.init_hidden(batch_size=1)\n",
    "  encoder_outputs, encoder_hidden = encoder(input_variable, encoder_hidden)\n",
    "  # Prepare decoder inputs\n",
    "  decoder_input = torch.LongTensor([[SOS_TOKEN]]).to(DEVICE) # [1, 1]\n",
    "  decoder_context = torch.zeros(1, decoder.hidden_size).to(DEVICE)\n",
    "  decoder_hidden = encoder_hidden # Use last hidden state from encoder to start decoder\n",
    "\n",
    "  decoded_phonemes = []\n",
    "  attentions = torch.zeros(max_length, max_length)\n",
    "  for di in range(max_length) :\n",
    "    decoder_output, decoder_context, decoder_hidden, attn_weights = decoder(\n",
    "      decoder_input, decoder_context, decoder_hidden, encoder_outputs\n",
    "    )\n",
    "    # Store attention\n",
    "    attentions[di, :attn_weights.size(2)] += attn_weights.squeeze(0).squeeze(0).cpu().data\n",
    "    # Get most likely token\n",
    "    topv, topi = decoder_output.data.topk(1)\n",
    "    ni = topi[0][0]\n",
    "    if ni.item() == EOS_TOKEN :\n",
    "      decoded_phonemes.append(\"<EOS>\")\n",
    "      break\n",
    "    else :\n",
    "      decoded_phonemes.append(test_g2p_dataset.index2phoneme[ni.item()])\n",
    "    # Next input is predicted token\n",
    "    decoder_input = torch.LongTensor([[ni.item()]]).to(DEVICE)\n",
    "\n",
    "  return decoded_phonemes, attentions[:di+1, 1:len(encoder_outputs)]\n",
    "\n",
    "def evaluate_randomly() :\n",
    "  pair = random.choice(pairs)\n",
    "  word, _, _, arpabet_phoneme_sequence = pair\n",
    "\n",
    "  output_phonemes, decoder_attns = evaluate(word, len(word)+1)\n",
    "  try :\n",
    "    output_phonemes.remove(\"<EOS>\")\n",
    "  except ValueError as e :\n",
    "    pass\n",
    "  output_phoneme_sequence = ' '.join(output_phonemes)\n",
    "  label_phonemes = arpabet_phoneme_sequence.split()\n",
    "\n",
    "  print('>', word)\n",
    "  print('=', label_phonemes)\n",
    "  print('<', output_phoneme_sequence, output_phonemes)\n",
    "  print('')\n",
    "  return pair, output_phonemes, decoder_attns"
   ]
  },
  {
   "cell_type": "markdown",
   "metadata": {
    "id": "hedzsfDAM_LC"
   },
   "source": [
    "### Using `test`"
   ]
  },
  {
   "cell_type": "code",
   "execution_count": 101,
   "metadata": {
    "colab": {
     "base_uri": "https://localhost:8080/"
    },
    "executionInfo": {
     "elapsed": 67072,
     "status": "ok",
     "timestamp": 1739960743114,
     "user": {
      "displayName": "23522026 Ahmad Naufal Hakim",
      "userId": "16621933245327613442"
     },
     "user_tz": -420
    },
    "id": "MlSPdqo3QDyr",
    "outputId": "364c407d-3bb7-4fd9-ac12-19a8480c9076"
   },
   "outputs": [
    {
     "name": "stdout",
     "output_type": "stream",
     "text": [
      "Phone error rate (PER) on test set: 4.540830160415928%\n"
     ]
    }
   ],
   "source": [
    "# Total Phone Error Rate (PER)\n",
    "total_per = .0\n",
    "for pair in test_pairs :\n",
    "  word, _, _, arpabet_phoneme_sequence = pair\n",
    "  output_phonemes, decoder_attns = evaluate(word, len(word)+1)\n",
    "  try :\n",
    "    output_phonemes.remove(\"<EOS>\")\n",
    "  except ValueError as e :\n",
    "    pass\n",
    "  total_per += wer(\n",
    "    arpabet_phoneme_sequence,\n",
    "    ' '.join(output_phonemes)\n",
    "  )\n",
    "average_per = total_per / len(test_pairs)\n",
    "print(f\"Phone error rate (PER) on test set: {average_per*100}%\")"
   ]
  },
  {
   "cell_type": "markdown",
   "metadata": {
    "id": "-yQDWj6lNzOZ"
   },
   "source": [
    "### Using randomly chosen words"
   ]
  },
  {
   "cell_type": "code",
   "execution_count": 102,
   "metadata": {
    "colab": {
     "base_uri": "https://localhost:8080/",
     "height": 524
    },
    "executionInfo": {
     "elapsed": 308,
     "status": "ok",
     "timestamp": 1739961996036,
     "user": {
      "displayName": "23522026 Ahmad Naufal Hakim",
      "userId": "16621933245327613442"
     },
     "user_tz": -420
    },
    "id": "HSHGOjSmc3Vi",
    "outputId": "7c2a7917-9217-4397-8be2-0c96496d6b9f"
   },
   "outputs": [
    {
     "name": "stdout",
     "output_type": "stream",
     "text": [
      "> keponakan\n",
      "= ['K', 'AX', 'P', 'AO', 'N', 'AA', 'K', 'AA', 'N']\n",
      "< K AX P AO N AA K AA N ['K', 'AX', 'P', 'AO', 'N', 'AA', 'K', 'AA', 'N']\n",
      "\n"
     ]
    },
    {
     "data": {
      "text/plain": [
       "<matplotlib.image.AxesImage at 0x7f82e3286b80>"
      ]
     },
     "execution_count": 102,
     "metadata": {},
     "output_type": "execute_result"
    },
    {
     "data": {
      "image/png": "[encoded data removed]",
      "text/plain": [
       "<Figure size 400x571.429 with 1 Axes>"
      ]
     },
     "metadata": {},
     "output_type": "display_data"
    }
   ],
   "source": [
    "pair, output_phonemes, decoder_attns = evaluate_randomly()\n",
    "plt.matshow(decoder_attns.numpy())"
   ]
  }
 ],
 "metadata": {
  "colab": {
   "authorship_tag": "ABX9TyPLJmB0V/sNcUHuHtZcdQwt",
   "collapsed_sections": [
    "8mDO6QlJZpUZ",
    "T8eP0I6rZtvY"
   ],
   "provenance": []
  },
  "kernelspec": {
   "display_name": "Python 3",
   "name": "python3"
  },
  "language_info": {
   "codemirror_mode": {
    "name": "ipython",
    "version": 3
   },
   "file_extension": ".py",
   "mimetype": "text/x-python",
   "name": "python",
   "nbconvert_exporter": "python",
   "pygments_lexer": "ipython3",
   "version": "3.8.10"
  }
 },
 "nbformat": 4,
 "nbformat_minor": 0
}
