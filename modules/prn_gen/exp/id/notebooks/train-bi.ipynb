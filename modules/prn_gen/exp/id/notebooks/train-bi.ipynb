{
 "cells": [
  {
   "cell_type": "markdown",
   "metadata": {
    "id": "ec9kWAWVD9UU"
   },
   "source": [
    "## Import libraries"
   ]
  },
  {
   "cell_type": "code",
   "execution_count": 1,
   "metadata": {
    "colab": {
     "base_uri": "https://localhost:8080/"
    },
    "executionInfo": {
     "elapsed": 329,
     "status": "ok",
     "timestamp": 1739957705963,
     "user": {
      "displayName": "23522026 Ahmad Naufal Hakim",
      "userId": "16621933245327613442"
     },
     "user_tz": -420
    },
    "id": "JT1nFx9SK5UF",
    "outputId": "29775173-7761-4953-d853-502b8b825ccc"
   },
   "outputs": [
    {
     "name": "stdout",
     "output_type": "stream",
     "text": [
      "/mnt/d/Hakims/college/S2/tesis/id-g2p-medical-domain/modules/prn_gen/exp/id\n"
     ]
    }
   ],
   "source": [
    "print(globals()[\"_dh\"][0])"
   ]
  },
  {
   "cell_type": "code",
   "execution_count": 2,
   "metadata": {
    "colab": {
     "base_uri": "https://localhost:8080/"
    },
    "executionInfo": {
     "elapsed": 4880,
     "status": "ok",
     "timestamp": 1739957711340,
     "user": {
      "displayName": "23522026 Ahmad Naufal Hakim",
      "userId": "16621933245327613442"
     },
     "user_tz": -420
    },
    "id": "LdstRSwX86t4",
    "outputId": "33e9e6e9-f2b0-4d04-e665-6f2600a2c57e"
   },
   "outputs": [],
   "source": [
    "import os\n",
    "import random\n",
    "import shutil\n",
    "\n",
    "import torch\n",
    "import torch.nn as nn\n",
    "import torch.nn.functional as F\n",
    "from torch.nn.utils.rnn import pad_sequence\n",
    "import torch.optim as optim\n",
    "from torch.utils.data import Dataset, DataLoader"
   ]
  },
  {
   "cell_type": "code",
   "execution_count": 3,
   "metadata": {
    "colab": {
     "base_uri": "https://localhost:8080/"
    },
    "executionInfo": {
     "elapsed": 8274,
     "status": "ok",
     "timestamp": 1739957719612,
     "user": {
      "displayName": "23522026 Ahmad Naufal Hakim",
      "userId": "16621933245327613442"
     },
     "user_tz": -420
    },
    "id": "FlovFUQYJj6-",
    "outputId": "7a08073c-d249-49ab-ddaf-f827de5d8d94"
   },
   "outputs": [
    {
     "name": "stdout",
     "output_type": "stream",
     "text": [
      "Defaulting to user installation because normal site-packages is not writeable\n",
      "\u001b[33mWARNING: Ignoring invalid distribution -vidia-cudnn-cu12 (/home/ahmadnaufalhakim/.local/lib/python3.8/site-packages)\u001b[0m\u001b[33m\n",
      "\u001b[0mRequirement already satisfied: jiwer in /home/ahmadnaufalhakim/.local/lib/python3.8/site-packages (3.1.0)\n",
      "Requirement already satisfied: click>=8.1.8 in /home/ahmadnaufalhakim/.local/lib/python3.8/site-packages (from jiwer) (8.1.8)\n",
      "Requirement already satisfied: rapidfuzz>=3.9.7 in /home/ahmadnaufalhakim/.local/lib/python3.8/site-packages (from jiwer) (3.9.7)\n",
      "\u001b[33mWARNING: Ignoring invalid distribution -vidia-cudnn-cu12 (/home/ahmadnaufalhakim/.local/lib/python3.8/site-packages)\u001b[0m\u001b[33m\n",
      "\u001b[0m\u001b[33mWARNING: Ignoring invalid distribution -vidia-cudnn-cu12 (/home/ahmadnaufalhakim/.local/lib/python3.8/site-packages)\u001b[0m\u001b[33m\n",
      "\u001b[0mNote: you may need to restart the kernel to use updated packages.\n"
     ]
    }
   ],
   "source": [
    "%pip install jiwer"
   ]
  },
  {
   "cell_type": "code",
   "execution_count": 4,
   "metadata": {
    "executionInfo": {
     "elapsed": 9,
     "status": "ok",
     "timestamp": 1739957719612,
     "user": {
      "displayName": "23522026 Ahmad Naufal Hakim",
      "userId": "16621933245327613442"
     },
     "user_tz": -420
    },
    "id": "tIgQTZ7ZJsfT"
   },
   "outputs": [],
   "source": [
    "from jiwer import wer"
   ]
  },
  {
   "cell_type": "markdown",
   "metadata": {
    "id": "3xGGFh-68xYx"
   },
   "source": [
    "## Variables"
   ]
  },
  {
   "cell_type": "code",
   "execution_count": 5,
   "metadata": {
    "executionInfo": {
     "elapsed": 9,
     "status": "ok",
     "timestamp": 1739957719613,
     "user": {
      "displayName": "23522026 Ahmad Naufal Hakim",
      "userId": "16621933245327613442"
     },
     "user_tz": -420
    },
    "id": "R2DTSa3h8zgf"
   },
   "outputs": [],
   "source": [
    "GRP_TYPE = \"bigram\" # @param [\"unigram\", \"bigram\", \"trigram\"]\n",
    "ATTN_MODEL = \"dot\"\n",
    "EMB_DIM = \"64\" # @param [16, 32, 64, 128, 256, 512]\n",
    "HIDDEN_SIZE = \"32\" # @param [64, 128, 256, 512, 1024]\n",
    "N_LAYERS = \"1\" # @param [1, 2]\n",
    "DROPOUT_PROBA = .1"
   ]
  },
  {
   "cell_type": "markdown",
   "metadata": {
    "id": "BiSP-GxlIvUG"
   },
   "source": [
    "## Constants"
   ]
  },
  {
   "cell_type": "code",
   "execution_count": 6,
   "metadata": {
    "colab": {
     "base_uri": "https://localhost:8080/"
    },
    "executionInfo": {
     "elapsed": 9,
     "status": "ok",
     "timestamp": 1739957719613,
     "user": {
      "displayName": "23522026 Ahmad Naufal Hakim",
      "userId": "16621933245327613442"
     },
     "user_tz": -420
    },
    "id": "FfAkZ0ErIxOW",
    "outputId": "704ba764-a750-40fc-d5c9-0a6d289c3ed3"
   },
   "outputs": [
    {
     "name": "stdout",
     "output_type": "stream",
     "text": [
      "Using device: cuda\n"
     ]
    }
   ],
   "source": [
    "# PyTorch\n",
    "DEVICE = torch.device(\"cuda\" if torch.cuda.is_available() else \"cpu\")\n",
    "USE_CUDA = (DEVICE.type == \"cuda\")\n",
    "print(f\"Using device: {DEVICE}\")\n",
    "BATCH_SIZE = 64\n",
    "\n",
    "# Data preprocessing\n",
    "SOS_TOKEN = 0\n",
    "EOS_TOKEN = 1\n",
    "PAD_TOKEN = 2\n",
    "UNK_TOKEN = 3\n",
    "\n",
    "# Directories\n",
    "CURR_DIR = globals()[\"_dh\"][0]\n",
    "DATA_SOURCE_DIR = os.path.join(CURR_DIR, \"../../data/ma\")\n",
    "DATA_DIR = os.path.join(CURR_DIR, \"data\")\n",
    "if not os.path.exists(DATA_DIR) :\n",
    "  os.mkdir(DATA_DIR)\n",
    "shutil.copy(os.path.join(DATA_SOURCE_DIR, \"train_converted.csv\"), os.path.join(DATA_DIR, \"train.csv\"))\n",
    "shutil.copy(os.path.join(DATA_SOURCE_DIR, \"val_converted.csv\"), os.path.join(DATA_DIR, \"val.csv\"))\n",
    "shutil.copy(os.path.join(DATA_SOURCE_DIR, \"test_converted.csv\"), os.path.join(DATA_DIR, \"test.csv\"))\n",
    "MODELS_DIR = os.path.join(CURR_DIR, \"models\")\n",
    "if not os.path.exists(MODELS_DIR) :\n",
    "  os.mkdir(MODELS_DIR)\n",
    "MODELS_DIR = os.path.join(MODELS_DIR, GRP_TYPE)\n",
    "if not os.path.exists(MODELS_DIR) :\n",
    "  os.mkdir(MODELS_DIR)"
   ]
  },
  {
   "cell_type": "markdown",
   "metadata": {
    "id": "Rd1ak2wwJJem"
   },
   "source": [
    "## Preparing dataset"
   ]
  },
  {
   "cell_type": "markdown",
   "metadata": {
    "id": "NFIgZGRJ9qLV"
   },
   "source": [
    "### `G2PDataset` torch dataset class definition"
   ]
  },
  {
   "cell_type": "code",
   "execution_count": 7,
   "metadata": {
    "executionInfo": {
     "elapsed": 6,
     "status": "ok",
     "timestamp": 1739957719613,
     "user": {
      "displayName": "23522026 Ahmad Naufal Hakim",
      "userId": "16621933245327613442"
     },
     "user_tz": -420
    },
    "id": "qaOrjh2JJLLO"
   },
   "outputs": [],
   "source": [
    "class G2PDataset(Dataset) :\n",
    "  def __init__(self, graphemes_list, phonemes_list) -> None :\n",
    "    assert len(graphemes_list) == len(phonemes_list)\n",
    "    # Handle graphemes\n",
    "    self.graphemes_list = graphemes_list\n",
    "    self.grapheme2index = {}\n",
    "    self.index2grapheme = {0: \"<SOS>\", 1: \"<EOS>\", 2:\"<PAD>\", 3:\"<UNK>\"}\n",
    "    self.n_graphemes = 4\n",
    "    for graphemes in graphemes_list :\n",
    "      for grapheme in graphemes :\n",
    "        self.add_grapheme(grapheme)\n",
    "    i = 4\n",
    "    for grapheme in sorted(self.grapheme2index) :\n",
    "      self.grapheme2index[grapheme] = i\n",
    "      self.index2grapheme[i] = grapheme\n",
    "      i += 1\n",
    "    # Handle phonemes\n",
    "    self.phonemes_list = phonemes_list\n",
    "    self.phoneme2index = {}\n",
    "    self.index2phoneme = {0: \"<SOS>\", 1: \"<EOS>\", 2:\"<PAD>\"}\n",
    "    self.n_phonemes = 3\n",
    "    for phonemes in phonemes_list :\n",
    "      for phoneme in phonemes :\n",
    "        self.add_phoneme(phoneme)\n",
    "    i = 3\n",
    "    for phoneme in sorted(self.phoneme2index) :\n",
    "      self.phoneme2index[phoneme] = i\n",
    "      self.index2phoneme[i] = phoneme\n",
    "      i += 1\n",
    "\n",
    "  def add_grapheme(self, grapheme) :\n",
    "    if grapheme not in self.grapheme2index :\n",
    "      self.grapheme2index[grapheme] = self.n_graphemes\n",
    "      self.index2grapheme[self.n_graphemes] = grapheme\n",
    "      self.n_graphemes += 1\n",
    "\n",
    "  def add_phoneme(self, phoneme) :\n",
    "    if phoneme not in self.phoneme2index :\n",
    "      self.phoneme2index[phoneme] = self.n_phonemes\n",
    "      self.index2phoneme[self.n_phonemes] = phoneme\n",
    "      self.n_phonemes += 1\n",
    "\n",
    "  def __len__(self) :\n",
    "    return len(self.graphemes_list)\n",
    "\n",
    "  def __getitem__(self, index) -> str :\n",
    "    graphemes = [self.grapheme2index.get(grapheme, UNK_TOKEN) for grapheme in self.graphemes_list[index]] + [EOS_TOKEN]\n",
    "    phonemes = [self.phoneme2index[phoneme] for phoneme in self.phonemes_list[index]] + [EOS_TOKEN]\n",
    "    return graphemes, phonemes"
   ]
  },
  {
   "cell_type": "markdown",
   "metadata": {
    "id": "J8IB7SapA7MM"
   },
   "source": [
    "### Helper functions to prepare `train/val/test` set"
   ]
  },
  {
   "cell_type": "code",
   "execution_count": 8,
   "metadata": {
    "executionInfo": {
     "elapsed": 6,
     "status": "ok",
     "timestamp": 1739957719613,
     "user": {
      "displayName": "23522026 Ahmad Naufal Hakim",
      "userId": "16621933245327613442"
     },
     "user_tz": -420
    },
    "id": "vU52JF_pBru4"
   },
   "outputs": [],
   "source": [
    "def extract_graphemes(grapheme_syllable_sequence:str, grp_type:str) :\n",
    "  word = ''.join(grapheme_syllable_sequence.split('.')).lower()\n",
    "  # Unigram\n",
    "  if grp_type == \"unigram\" :\n",
    "    return [*word]\n",
    "  # Bigram\n",
    "  elif grp_type == \"bigram\" :\n",
    "    if len(word) < 2 :\n",
    "      return [word]\n",
    "    return [word[i:i+2] for i in range(len(word)-1)]\n",
    "  # Trigram\n",
    "  elif grp_type == \"trigram\" :\n",
    "    if len(word) < 3 :\n",
    "      return [word]\n",
    "    return [word[i:i+3] for i in range(len(word)-2)]\n",
    "\n",
    "def extract_arpabet_phonemes(arpabet_phoneme_sequence:str) :\n",
    "  return arpabet_phoneme_sequence.split()"
   ]
  },
  {
   "cell_type": "code",
   "execution_count": 9,
   "metadata": {
    "executionInfo": {
     "elapsed": 6,
     "status": "ok",
     "timestamp": 1739957719613,
     "user": {
      "displayName": "23522026 Ahmad Naufal Hakim",
      "userId": "16621933245327613442"
     },
     "user_tz": -420
    },
    "id": "59DHgoYQ-R6T"
   },
   "outputs": [],
   "source": [
    "def prepare_dataset(split_name:str, grp_type:str) :\n",
    "  assert split_name in [\"train\", \"val\", \"test\"]\n",
    "  assert grp_type in [\"unigram\", \"bigram\", \"trigram\"]\n",
    "  print(f\"Reading {split_name} entries ..\")\n",
    "  # Read the file and split into lines\n",
    "  with open(os.path.join(DATA_DIR, f\"{split_name}.csv\"), encoding=\"utf-8\") as f_csv :\n",
    "    next(f_csv, None)\n",
    "    # Split every row into pairs\n",
    "    pairs = [[s.strip('\\n') for s in row.split(',')] for row in f_csv]\n",
    "    # Accumulate all lines into two graphemes and phonemes lists\n",
    "    graphemes_list = [extract_graphemes(pair[0], grp_type) for pair in pairs] # Split grapheme as desired\n",
    "    phonemes_list = [extract_arpabet_phonemes(pair[-1]) for pair in pairs]\n",
    "    # Create the G2PDataset object\n",
    "    g2p_dataset = G2PDataset(graphemes_list, phonemes_list)\n",
    "  return g2p_dataset, pairs"
   ]
  },
  {
   "cell_type": "code",
   "execution_count": 10,
   "metadata": {
    "colab": {
     "base_uri": "https://localhost:8080/"
    },
    "executionInfo": {
     "elapsed": 1757,
     "status": "ok",
     "timestamp": 1739957721365,
     "user": {
      "displayName": "23522026 Ahmad Naufal Hakim",
      "userId": "16621933245327613442"
     },
     "user_tz": -420
    },
    "id": "DwbB20gZDJOe",
    "outputId": "1a7e253b-ee59-419e-f7d6-0e469cac96fa"
   },
   "outputs": [
    {
     "name": "stdout",
     "output_type": "stream",
     "text": [
      "Reading train entries ..\n",
      "Reading val entries ..\n",
      "Reading test entries ..\n"
     ]
    }
   ],
   "source": [
    "train_g2p_dataset, train_pairs = prepare_dataset(\"train\", grp_type=GRP_TYPE)\n",
    "val_g2p_dataset, val_pairs = prepare_dataset(\"val\", grp_type=GRP_TYPE)\n",
    "test_g2p_dataset, test_pairs = prepare_dataset(\"test\", grp_type=GRP_TYPE)\n",
    "pairs = train_pairs + val_pairs + test_pairs\n",
    "\n",
    "# Equalize grapheme and phoneme mappings for val and test set\n",
    "## Valid set\n",
    "val_g2p_dataset.grapheme2index = train_g2p_dataset.grapheme2index\n",
    "val_g2p_dataset.index2grapheme = train_g2p_dataset.index2grapheme\n",
    "val_g2p_dataset.n_graphemes = train_g2p_dataset.n_graphemes\n",
    "val_g2p_dataset.phoneme2index = train_g2p_dataset.phoneme2index\n",
    "val_g2p_dataset.index2phoneme = train_g2p_dataset.index2phoneme\n",
    "val_g2p_dataset.n_phonemes = train_g2p_dataset.n_phonemes\n",
    "## Test set\n",
    "test_g2p_dataset.grapheme2index = train_g2p_dataset.grapheme2index\n",
    "test_g2p_dataset.index2grapheme = train_g2p_dataset.index2grapheme\n",
    "test_g2p_dataset.n_graphemes = train_g2p_dataset.n_graphemes\n",
    "test_g2p_dataset.phoneme2index = train_g2p_dataset.phoneme2index\n",
    "test_g2p_dataset.index2phoneme = train_g2p_dataset.index2phoneme\n",
    "test_g2p_dataset.n_phonemes = train_g2p_dataset.n_phonemes\n",
    "\n",
    "# Find the maximum output sequence length among graphemes and phonemes across all datasets\n",
    "MAX_LENGTH = -999\n",
    "for graphemes in train_g2p_dataset.graphemes_list :\n",
    "  if MAX_LENGTH < len(graphemes) :\n",
    "    MAX_LENGTH = len(graphemes)\n",
    "for phonemes in train_g2p_dataset.phonemes_list :\n",
    "  if MAX_LENGTH < len(phonemes) :\n",
    "    MAX_LENGTH = len(phonemes)\n",
    "for graphemes in val_g2p_dataset.graphemes_list :\n",
    "  if MAX_LENGTH < len(graphemes) :\n",
    "    MAX_LENGTH = len(graphemes)\n",
    "for phonemes in val_g2p_dataset.phonemes_list :\n",
    "  if MAX_LENGTH < len(phonemes) :\n",
    "    MAX_LENGTH = len(phonemes)\n",
    "for graphemes in test_g2p_dataset.graphemes_list :\n",
    "  if MAX_LENGTH < len(graphemes) :\n",
    "    MAX_LENGTH = len(graphemes)\n",
    "for phonemes in test_g2p_dataset.phonemes_list :\n",
    "  if MAX_LENGTH < len(phonemes) :\n",
    "    MAX_LENGTH = len(phonemes)"
   ]
  },
  {
   "cell_type": "code",
   "execution_count": 11,
   "metadata": {
    "executionInfo": {
     "elapsed": 4,
     "status": "ok",
     "timestamp": 1739957721365,
     "user": {
      "displayName": "23522026 Ahmad Naufal Hakim",
      "userId": "16621933245327613442"
     },
     "user_tz": -420
    },
    "id": "O9fmoIa9M6RG"
   },
   "outputs": [],
   "source": [
    "torch.save(train_g2p_dataset.index2grapheme, os.path.join(MODELS_DIR, \"id2grp.pth\"))\n",
    "torch.save(train_g2p_dataset.index2phoneme, os.path.join(MODELS_DIR, \"id2phn.pth\"))\n",
    "\n",
    "# Custom Collate function (for padding)\n",
    "def collate_fn(batch) :\n",
    "  # batch: [(input_seq, target_seq), ...]\n",
    "  graphemes, phonemes = zip(*batch)\n",
    "  # Pad sequences\n",
    "  graphemes_padded = pad_sequence([torch.tensor(x) for x in graphemes], padding_value=PAD_TOKEN)\n",
    "  phonemes_padded = pad_sequence([torch.tensor(y) for y in phonemes], padding_value=PAD_TOKEN)\n",
    "  return graphemes_padded, phonemes_padded\n",
    "\n",
    "train_dataloader = DataLoader(train_g2p_dataset, batch_size=BATCH_SIZE, collate_fn=collate_fn, shuffle=True)\n",
    "valid_dataloader = DataLoader(val_g2p_dataset, batch_size=BATCH_SIZE, collate_fn=collate_fn, shuffle=False)\n",
    "test_dataloader = DataLoader(test_g2p_dataset, batch_size=BATCH_SIZE, collate_fn=collate_fn, shuffle=False)"
   ]
  },
  {
   "cell_type": "markdown",
   "metadata": {
    "id": "W9rbldUGJN7b"
   },
   "source": [
    "## Turning grapheme and phoneme data to Tensors/Variables"
   ]
  },
  {
   "cell_type": "code",
   "execution_count": 12,
   "metadata": {
    "executionInfo": {
     "elapsed": 5,
     "status": "ok",
     "timestamp": 1739957721366,
     "user": {
      "displayName": "23522026 Ahmad Naufal Hakim",
      "userId": "16621933245327613442"
     },
     "user_tz": -420
    },
    "id": "I2cem0ghY0mA"
   },
   "outputs": [],
   "source": [
    "def indexes_from_word(dataset, word, grp_type) :\n",
    "  assert grp_type in [\"unigram\", \"bigram\", \"trigram\"]\n",
    "  word = word.lower()\n",
    "  if grp_type == \"unigram\" :\n",
    "    graphemes = [*word]\n",
    "  elif grp_type == \"bigram\" :\n",
    "    graphemes = [word[i:i+2] for i in range(len(word)-1)] if len(word)>=2 else [word]\n",
    "  elif grp_type == \"trigram\" :\n",
    "    graphemes = [word[i:i+3] for i in range(len(word)-2)] if len(word)>=3 else [word]\n",
    "  return [dataset.grapheme2index.get(grapheme, UNK_TOKEN) for grapheme in graphemes] + [EOS_TOKEN]\n",
    "\n",
    "def variable_from_word(dataset, word, grp_type) :\n",
    "  indexes = indexes_from_word(dataset, word, grp_type)\n",
    "  var = torch.LongTensor(indexes).view(-1, 1).to(DEVICE)\n",
    "  return var"
   ]
  },
  {
   "cell_type": "code",
   "execution_count": 13,
   "metadata": {
    "colab": {
     "base_uri": "https://localhost:8080/"
    },
    "executionInfo": {
     "elapsed": 5,
     "status": "ok",
     "timestamp": 1739957721366,
     "user": {
      "displayName": "23522026 Ahmad Naufal Hakim",
      "userId": "16621933245327613442"
     },
     "user_tz": -420
    },
    "id": "433SrerOr4_Y",
    "outputId": "92da8620-4d32-4614-db38-6fdfcd7e04fa"
   },
   "outputs": [
    {
     "name": "stdout",
     "output_type": "stream",
     "text": [
      "[272, 119, 293, 164, 436, 289, 82, 200, 308, 464, 1]\n"
     ]
    }
   ],
   "source": [
    "print(indexes_from_word(train_g2p_dataset, \"menguncinya\", grp_type=GRP_TYPE))\n",
    "# print(variable_from_word(train_g2p_dataset, \"menguncinya\", grp_type=GRP_TYPE))"
   ]
  },
  {
   "cell_type": "code",
   "execution_count": 14,
   "metadata": {
    "colab": {
     "base_uri": "https://localhost:8080/"
    },
    "executionInfo": {
     "elapsed": 1522,
     "status": "ok",
     "timestamp": 1739957722884,
     "user": {
      "displayName": "23522026 Ahmad Naufal Hakim",
      "userId": "16621933245327613442"
     },
     "user_tz": -420
    },
    "id": "vBgWZU1zZIEp",
    "outputId": "56a821f8-be28-4de8-8e2c-f5e7b8d2bc7b"
   },
   "outputs": [
    {
     "name": "stdout",
     "output_type": "stream",
     "text": [
      "<__main__.G2PDataset object at 0x7f109d817e20> ([12, 25, 308, 464, 1], [23, 3, 1])\n",
      "([12, 25, 308, 464, 1], [23, 3, 1])\n",
      "([12, 25, 308, 464, 1], [23, 3, 1])\n",
      "train grp 482 {0: '<SOS>', 1: '<EOS>', 2: '<PAD>', 3: '<UNK>', 4: \"'a\", 5: \"'b\", 6: \"'d\", 7: \"'h\", 8: \"'j\", 9: \"'o\", 10: \"'r\", 11: \"'u\", 12: '--', 13: '-a', 14: '-b', 15: '-c', 16: '-d', 17: '-e', 18: '-g', 19: '-h', 20: '-i', 21: '-j', 22: '-k', 23: '-l', 24: '-m', 25: '-n', 26: '-p', 27: '-q', 28: '-r', 29: '-s', 30: '-t', 31: '-u', 32: '-w', 33: \"a'\", 34: 'a-', 35: 'aa', 36: 'ab', 37: 'ac', 38: 'ad', 39: 'ae', 40: 'af', 41: 'ag', 42: 'ah', 43: 'ai', 44: 'aj', 45: 'ak', 46: 'al', 47: 'am', 48: 'an', 49: 'ao', 50: 'ap', 51: 'aq', 52: 'ar', 53: 'as', 54: 'at', 55: 'au', 56: 'av', 57: 'aw', 58: 'ax', 59: 'ay', 60: 'az', 61: \"b'\", 62: 'ba', 63: 'bb', 64: 'bd', 65: 'be', 66: 'bi', 67: 'bj', 68: 'bk', 69: 'bl', 70: 'bm', 71: 'bn', 72: 'bo', 73: 'br', 74: 'bs', 75: 'bt', 76: 'bu', 77: 'bv', 78: 'by', 79: 'ca', 80: 'ce', 81: 'ch', 82: 'ci', 83: 'cm', 84: 'co', 85: 'cr', 86: 'cu', 87: \"d'\", 88: 'da', 89: 'db', 90: 'de', 91: 'dh', 92: 'di', 93: 'dj', 94: 'dk', 95: 'dm', 96: 'dn', 97: 'do', 98: 'dr', 99: 'ds', 100: 'du', 101: 'dv', 102: 'dw', 103: 'dy', 104: \"e'\", 105: 'e-', 106: 'ea', 107: 'eb', 108: 'ec', 109: 'ed', 110: 'ee', 111: 'ef', 112: 'eg', 113: 'eh', 114: 'ei', 115: 'ej', 116: 'ek', 117: 'el', 118: 'em', 119: 'en', 120: 'eo', 121: 'ep', 122: 'er', 123: 'es', 124: 'et', 125: 'eu', 126: 'ev', 127: 'ew', 128: 'ex', 129: 'ey', 130: 'ez', 131: 'f-', 132: 'fa', 133: 'fd', 134: 'fe', 135: 'fi', 136: 'fk', 137: 'fl', 138: 'fo', 139: 'fr', 140: 'fs', 141: 'ft', 142: 'fu', 143: 'fw', 144: 'g-', 145: 'ga', 146: 'gb', 147: 'gc', 148: 'gd', 149: 'ge', 150: 'gf', 151: 'gg', 152: 'gh', 153: 'gi', 154: 'gj', 155: 'gk', 156: 'gl', 157: 'gm', 158: 'gn', 159: 'go', 160: 'gp', 161: 'gr', 162: 'gs', 163: 'gt', 164: 'gu', 165: 'h-', 166: 'ha', 167: 'hb', 168: 'hd', 169: 'he', 170: 'hf', 171: 'hg', 172: 'hi', 173: 'hj', 174: 'hk', 175: 'hl', 176: 'hm', 177: 'hn', 178: 'ho', 179: 'hp', 180: 'hr', 181: 'hs', 182: 'ht', 183: 'hu', 184: 'hw', 185: 'hy', 186: 'i-', 187: 'ia', 188: 'ib', 189: 'ic', 190: 'id', 191: 'ie', 192: 'if', 193: 'ig', 194: 'ih', 195: 'ii', 196: 'ij', 197: 'ik', 198: 'il', 199: 'im', 200: 'in', 201: 'io', 202: 'ip', 203: 'ir', 204: 'is', 205: 'it', 206: 'iu', 207: 'iv', 208: 'iw', 209: 'ix', 210: 'iy', 211: 'iz', 212: 'ja', 213: 'je', 214: 'ji', 215: 'jl', 216: 'jn', 217: 'jo', 218: 'jr', 219: 'jt', 220: 'ju', 221: 'jw', 222: 'k-', 223: 'ka', 224: 'kb', 225: 'kc', 226: 'kd', 227: 'ke', 228: 'kh', 229: 'ki', 230: 'kj', 231: 'kk', 232: 'kl', 233: 'km', 234: 'kn', 235: 'ko', 236: 'kp', 237: 'kr', 238: 'ks', 239: 'kt', 240: 'ku', 241: 'kw', 242: 'ky', 243: 'kz', 244: 'l-', 245: 'la', 246: 'lb', 247: 'ld', 248: 'le', 249: 'lf', 250: 'lg', 251: 'lh', 252: 'li', 253: 'lj', 254: 'lk', 255: 'll', 256: 'lm', 257: 'ln', 258: 'lo', 259: 'lp', 260: 'lq', 261: 'lr', 262: 'ls', 263: 'lt', 264: 'lu', 265: 'lv', 266: 'lw', 267: 'ly', 268: \"m'\", 269: 'ma', 270: 'mb', 271: 'mc', 272: 'me', 273: 'mf', 274: 'mi', 275: 'mk', 276: 'ml', 277: 'mm', 278: 'mn', 279: 'mo', 280: 'mp', 281: 'mr', 282: 'ms', 283: 'mt', 284: 'mu', 285: 'mz', 286: 'n-', 287: 'na', 288: 'nb', 289: 'nc', 290: 'nd', 291: 'ne', 292: 'nf', 293: 'ng', 294: 'nh', 295: 'ni', 296: 'nj', 297: 'nk', 298: 'nl', 299: 'nm', 300: 'nn', 301: 'no', 302: 'np', 303: 'ns', 304: 'nt', 305: 'nu', 306: 'nv', 307: 'nw', 308: 'ny', 309: 'nz', 310: \"o'\", 311: 'o-', 312: 'oa', 313: 'ob', 314: 'oc', 315: 'od', 316: 'oe', 317: 'of', 318: 'og', 319: 'oh', 320: 'oi', 321: 'oj', 322: 'ok', 323: 'ol', 324: 'om', 325: 'on', 326: 'oo', 327: 'op', 328: 'or', 329: 'os', 330: 'ot', 331: 'ov', 332: 'ow', 333: 'ox', 334: 'oy', 335: 'oz', 336: 'pa', 337: 'pc', 338: 'pe', 339: 'pg', 340: 'pi', 341: 'pj', 342: 'pk', 343: 'pl', 344: 'pm', 345: 'pn', 346: 'po', 347: 'pr', 348: 'ps', 349: 'pt', 350: 'pu', 351: 'py', 352: 'qi', 353: 'qu', 354: \"r'\", 355: 'r-', 356: 'ra', 357: 'rb', 358: 'rc', 359: 'rd', 360: 're', 361: 'rf', 362: 'rg', 363: 'rh', 364: 'ri', 365: 'rj', 366: 'rk', 367: 'rl', 368: 'rm', 369: 'rn', 370: 'ro', 371: 'rp', 372: 'rr', 373: 'rs', 374: 'rt', 375: 'ru', 376: 'rv', 377: 'rw', 378: 'ry', 379: 'rz', 380: 's-', 381: 'sa', 382: 'sb', 383: 'sc', 384: 'sd', 385: 'se', 386: 'sf', 387: 'sh', 388: 'si', 389: 'sj', 390: 'sk', 391: 'sl', 392: 'sm', 393: 'sn', 394: 'so', 395: 'sp', 396: 'sr', 397: 'ss', 398: 'st', 399: 'su', 400: 'sw', 401: 'sy', 402: 't-', 403: 'ta', 404: 'tb', 405: 'te', 406: 'tf', 407: 'tg', 408: 'th', 409: 'ti', 410: 'tk', 411: 'tl', 412: 'tm', 413: 'tn', 414: 'to', 415: 'tp', 416: 'tr', 417: 'ts', 418: 'tt', 419: 'tu', 420: 'tw', 421: \"u'\", 422: 'u-', 423: 'ua', 424: 'ub', 425: 'uc', 426: 'ud', 427: 'ue', 428: 'uf', 429: 'ug', 430: 'uh', 431: 'ui', 432: 'uj', 433: 'uk', 434: 'ul', 435: 'um', 436: 'un', 437: 'uo', 438: 'up', 439: 'ur', 440: 'us', 441: 'ut', 442: 'uv', 443: 'uw', 444: 'uy', 445: 'uz', 446: 'va', 447: 've', 448: 'vg', 449: 'vi', 450: 'vo', 451: 'vu', 452: 'wa', 453: 'we', 454: 'wi', 455: 'wo', 456: 'wt', 457: 'wu', 458: 'xa', 459: 'xe', 460: 'xi', 461: 'xp', 462: 'xt', 463: 'xu', 464: 'ya', 465: 'ye', 466: 'yg', 467: 'yh', 468: 'yi', 469: 'yo', 470: 'yr', 471: 'yt', 472: 'yu', 473: 'za', 474: 'zb', 475: 'ze', 476: 'zh', 477: 'zi', 478: 'zm', 479: 'zo', 480: 'zu', 481: 'zz'}\n",
      "valid grp 482 {0: '<SOS>', 1: '<EOS>', 2: '<PAD>', 3: '<UNK>', 4: \"'a\", 5: \"'b\", 6: \"'d\", 7: \"'h\", 8: \"'j\", 9: \"'o\", 10: \"'r\", 11: \"'u\", 12: '--', 13: '-a', 14: '-b', 15: '-c', 16: '-d', 17: '-e', 18: '-g', 19: '-h', 20: '-i', 21: '-j', 22: '-k', 23: '-l', 24: '-m', 25: '-n', 26: '-p', 27: '-q', 28: '-r', 29: '-s', 30: '-t', 31: '-u', 32: '-w', 33: \"a'\", 34: 'a-', 35: 'aa', 36: 'ab', 37: 'ac', 38: 'ad', 39: 'ae', 40: 'af', 41: 'ag', 42: 'ah', 43: 'ai', 44: 'aj', 45: 'ak', 46: 'al', 47: 'am', 48: 'an', 49: 'ao', 50: 'ap', 51: 'aq', 52: 'ar', 53: 'as', 54: 'at', 55: 'au', 56: 'av', 57: 'aw', 58: 'ax', 59: 'ay', 60: 'az', 61: \"b'\", 62: 'ba', 63: 'bb', 64: 'bd', 65: 'be', 66: 'bi', 67: 'bj', 68: 'bk', 69: 'bl', 70: 'bm', 71: 'bn', 72: 'bo', 73: 'br', 74: 'bs', 75: 'bt', 76: 'bu', 77: 'bv', 78: 'by', 79: 'ca', 80: 'ce', 81: 'ch', 82: 'ci', 83: 'cm', 84: 'co', 85: 'cr', 86: 'cu', 87: \"d'\", 88: 'da', 89: 'db', 90: 'de', 91: 'dh', 92: 'di', 93: 'dj', 94: 'dk', 95: 'dm', 96: 'dn', 97: 'do', 98: 'dr', 99: 'ds', 100: 'du', 101: 'dv', 102: 'dw', 103: 'dy', 104: \"e'\", 105: 'e-', 106: 'ea', 107: 'eb', 108: 'ec', 109: 'ed', 110: 'ee', 111: 'ef', 112: 'eg', 113: 'eh', 114: 'ei', 115: 'ej', 116: 'ek', 117: 'el', 118: 'em', 119: 'en', 120: 'eo', 121: 'ep', 122: 'er', 123: 'es', 124: 'et', 125: 'eu', 126: 'ev', 127: 'ew', 128: 'ex', 129: 'ey', 130: 'ez', 131: 'f-', 132: 'fa', 133: 'fd', 134: 'fe', 135: 'fi', 136: 'fk', 137: 'fl', 138: 'fo', 139: 'fr', 140: 'fs', 141: 'ft', 142: 'fu', 143: 'fw', 144: 'g-', 145: 'ga', 146: 'gb', 147: 'gc', 148: 'gd', 149: 'ge', 150: 'gf', 151: 'gg', 152: 'gh', 153: 'gi', 154: 'gj', 155: 'gk', 156: 'gl', 157: 'gm', 158: 'gn', 159: 'go', 160: 'gp', 161: 'gr', 162: 'gs', 163: 'gt', 164: 'gu', 165: 'h-', 166: 'ha', 167: 'hb', 168: 'hd', 169: 'he', 170: 'hf', 171: 'hg', 172: 'hi', 173: 'hj', 174: 'hk', 175: 'hl', 176: 'hm', 177: 'hn', 178: 'ho', 179: 'hp', 180: 'hr', 181: 'hs', 182: 'ht', 183: 'hu', 184: 'hw', 185: 'hy', 186: 'i-', 187: 'ia', 188: 'ib', 189: 'ic', 190: 'id', 191: 'ie', 192: 'if', 193: 'ig', 194: 'ih', 195: 'ii', 196: 'ij', 197: 'ik', 198: 'il', 199: 'im', 200: 'in', 201: 'io', 202: 'ip', 203: 'ir', 204: 'is', 205: 'it', 206: 'iu', 207: 'iv', 208: 'iw', 209: 'ix', 210: 'iy', 211: 'iz', 212: 'ja', 213: 'je', 214: 'ji', 215: 'jl', 216: 'jn', 217: 'jo', 218: 'jr', 219: 'jt', 220: 'ju', 221: 'jw', 222: 'k-', 223: 'ka', 224: 'kb', 225: 'kc', 226: 'kd', 227: 'ke', 228: 'kh', 229: 'ki', 230: 'kj', 231: 'kk', 232: 'kl', 233: 'km', 234: 'kn', 235: 'ko', 236: 'kp', 237: 'kr', 238: 'ks', 239: 'kt', 240: 'ku', 241: 'kw', 242: 'ky', 243: 'kz', 244: 'l-', 245: 'la', 246: 'lb', 247: 'ld', 248: 'le', 249: 'lf', 250: 'lg', 251: 'lh', 252: 'li', 253: 'lj', 254: 'lk', 255: 'll', 256: 'lm', 257: 'ln', 258: 'lo', 259: 'lp', 260: 'lq', 261: 'lr', 262: 'ls', 263: 'lt', 264: 'lu', 265: 'lv', 266: 'lw', 267: 'ly', 268: \"m'\", 269: 'ma', 270: 'mb', 271: 'mc', 272: 'me', 273: 'mf', 274: 'mi', 275: 'mk', 276: 'ml', 277: 'mm', 278: 'mn', 279: 'mo', 280: 'mp', 281: 'mr', 282: 'ms', 283: 'mt', 284: 'mu', 285: 'mz', 286: 'n-', 287: 'na', 288: 'nb', 289: 'nc', 290: 'nd', 291: 'ne', 292: 'nf', 293: 'ng', 294: 'nh', 295: 'ni', 296: 'nj', 297: 'nk', 298: 'nl', 299: 'nm', 300: 'nn', 301: 'no', 302: 'np', 303: 'ns', 304: 'nt', 305: 'nu', 306: 'nv', 307: 'nw', 308: 'ny', 309: 'nz', 310: \"o'\", 311: 'o-', 312: 'oa', 313: 'ob', 314: 'oc', 315: 'od', 316: 'oe', 317: 'of', 318: 'og', 319: 'oh', 320: 'oi', 321: 'oj', 322: 'ok', 323: 'ol', 324: 'om', 325: 'on', 326: 'oo', 327: 'op', 328: 'or', 329: 'os', 330: 'ot', 331: 'ov', 332: 'ow', 333: 'ox', 334: 'oy', 335: 'oz', 336: 'pa', 337: 'pc', 338: 'pe', 339: 'pg', 340: 'pi', 341: 'pj', 342: 'pk', 343: 'pl', 344: 'pm', 345: 'pn', 346: 'po', 347: 'pr', 348: 'ps', 349: 'pt', 350: 'pu', 351: 'py', 352: 'qi', 353: 'qu', 354: \"r'\", 355: 'r-', 356: 'ra', 357: 'rb', 358: 'rc', 359: 'rd', 360: 're', 361: 'rf', 362: 'rg', 363: 'rh', 364: 'ri', 365: 'rj', 366: 'rk', 367: 'rl', 368: 'rm', 369: 'rn', 370: 'ro', 371: 'rp', 372: 'rr', 373: 'rs', 374: 'rt', 375: 'ru', 376: 'rv', 377: 'rw', 378: 'ry', 379: 'rz', 380: 's-', 381: 'sa', 382: 'sb', 383: 'sc', 384: 'sd', 385: 'se', 386: 'sf', 387: 'sh', 388: 'si', 389: 'sj', 390: 'sk', 391: 'sl', 392: 'sm', 393: 'sn', 394: 'so', 395: 'sp', 396: 'sr', 397: 'ss', 398: 'st', 399: 'su', 400: 'sw', 401: 'sy', 402: 't-', 403: 'ta', 404: 'tb', 405: 'te', 406: 'tf', 407: 'tg', 408: 'th', 409: 'ti', 410: 'tk', 411: 'tl', 412: 'tm', 413: 'tn', 414: 'to', 415: 'tp', 416: 'tr', 417: 'ts', 418: 'tt', 419: 'tu', 420: 'tw', 421: \"u'\", 422: 'u-', 423: 'ua', 424: 'ub', 425: 'uc', 426: 'ud', 427: 'ue', 428: 'uf', 429: 'ug', 430: 'uh', 431: 'ui', 432: 'uj', 433: 'uk', 434: 'ul', 435: 'um', 436: 'un', 437: 'uo', 438: 'up', 439: 'ur', 440: 'us', 441: 'ut', 442: 'uv', 443: 'uw', 444: 'uy', 445: 'uz', 446: 'va', 447: 've', 448: 'vg', 449: 'vi', 450: 'vo', 451: 'vu', 452: 'wa', 453: 'we', 454: 'wi', 455: 'wo', 456: 'wt', 457: 'wu', 458: 'xa', 459: 'xe', 460: 'xi', 461: 'xp', 462: 'xt', 463: 'xu', 464: 'ya', 465: 'ye', 466: 'yg', 467: 'yh', 468: 'yi', 469: 'yo', 470: 'yr', 471: 'yt', 472: 'yu', 473: 'za', 474: 'zb', 475: 'ze', 476: 'zh', 477: 'zi', 478: 'zm', 479: 'zo', 480: 'zu', 481: 'zz'}\n",
      "test grp 482 {0: '<SOS>', 1: '<EOS>', 2: '<PAD>', 3: '<UNK>', 4: \"'a\", 5: \"'b\", 6: \"'d\", 7: \"'h\", 8: \"'j\", 9: \"'o\", 10: \"'r\", 11: \"'u\", 12: '--', 13: '-a', 14: '-b', 15: '-c', 16: '-d', 17: '-e', 18: '-g', 19: '-h', 20: '-i', 21: '-j', 22: '-k', 23: '-l', 24: '-m', 25: '-n', 26: '-p', 27: '-q', 28: '-r', 29: '-s', 30: '-t', 31: '-u', 32: '-w', 33: \"a'\", 34: 'a-', 35: 'aa', 36: 'ab', 37: 'ac', 38: 'ad', 39: 'ae', 40: 'af', 41: 'ag', 42: 'ah', 43: 'ai', 44: 'aj', 45: 'ak', 46: 'al', 47: 'am', 48: 'an', 49: 'ao', 50: 'ap', 51: 'aq', 52: 'ar', 53: 'as', 54: 'at', 55: 'au', 56: 'av', 57: 'aw', 58: 'ax', 59: 'ay', 60: 'az', 61: \"b'\", 62: 'ba', 63: 'bb', 64: 'bd', 65: 'be', 66: 'bi', 67: 'bj', 68: 'bk', 69: 'bl', 70: 'bm', 71: 'bn', 72: 'bo', 73: 'br', 74: 'bs', 75: 'bt', 76: 'bu', 77: 'bv', 78: 'by', 79: 'ca', 80: 'ce', 81: 'ch', 82: 'ci', 83: 'cm', 84: 'co', 85: 'cr', 86: 'cu', 87: \"d'\", 88: 'da', 89: 'db', 90: 'de', 91: 'dh', 92: 'di', 93: 'dj', 94: 'dk', 95: 'dm', 96: 'dn', 97: 'do', 98: 'dr', 99: 'ds', 100: 'du', 101: 'dv', 102: 'dw', 103: 'dy', 104: \"e'\", 105: 'e-', 106: 'ea', 107: 'eb', 108: 'ec', 109: 'ed', 110: 'ee', 111: 'ef', 112: 'eg', 113: 'eh', 114: 'ei', 115: 'ej', 116: 'ek', 117: 'el', 118: 'em', 119: 'en', 120: 'eo', 121: 'ep', 122: 'er', 123: 'es', 124: 'et', 125: 'eu', 126: 'ev', 127: 'ew', 128: 'ex', 129: 'ey', 130: 'ez', 131: 'f-', 132: 'fa', 133: 'fd', 134: 'fe', 135: 'fi', 136: 'fk', 137: 'fl', 138: 'fo', 139: 'fr', 140: 'fs', 141: 'ft', 142: 'fu', 143: 'fw', 144: 'g-', 145: 'ga', 146: 'gb', 147: 'gc', 148: 'gd', 149: 'ge', 150: 'gf', 151: 'gg', 152: 'gh', 153: 'gi', 154: 'gj', 155: 'gk', 156: 'gl', 157: 'gm', 158: 'gn', 159: 'go', 160: 'gp', 161: 'gr', 162: 'gs', 163: 'gt', 164: 'gu', 165: 'h-', 166: 'ha', 167: 'hb', 168: 'hd', 169: 'he', 170: 'hf', 171: 'hg', 172: 'hi', 173: 'hj', 174: 'hk', 175: 'hl', 176: 'hm', 177: 'hn', 178: 'ho', 179: 'hp', 180: 'hr', 181: 'hs', 182: 'ht', 183: 'hu', 184: 'hw', 185: 'hy', 186: 'i-', 187: 'ia', 188: 'ib', 189: 'ic', 190: 'id', 191: 'ie', 192: 'if', 193: 'ig', 194: 'ih', 195: 'ii', 196: 'ij', 197: 'ik', 198: 'il', 199: 'im', 200: 'in', 201: 'io', 202: 'ip', 203: 'ir', 204: 'is', 205: 'it', 206: 'iu', 207: 'iv', 208: 'iw', 209: 'ix', 210: 'iy', 211: 'iz', 212: 'ja', 213: 'je', 214: 'ji', 215: 'jl', 216: 'jn', 217: 'jo', 218: 'jr', 219: 'jt', 220: 'ju', 221: 'jw', 222: 'k-', 223: 'ka', 224: 'kb', 225: 'kc', 226: 'kd', 227: 'ke', 228: 'kh', 229: 'ki', 230: 'kj', 231: 'kk', 232: 'kl', 233: 'km', 234: 'kn', 235: 'ko', 236: 'kp', 237: 'kr', 238: 'ks', 239: 'kt', 240: 'ku', 241: 'kw', 242: 'ky', 243: 'kz', 244: 'l-', 245: 'la', 246: 'lb', 247: 'ld', 248: 'le', 249: 'lf', 250: 'lg', 251: 'lh', 252: 'li', 253: 'lj', 254: 'lk', 255: 'll', 256: 'lm', 257: 'ln', 258: 'lo', 259: 'lp', 260: 'lq', 261: 'lr', 262: 'ls', 263: 'lt', 264: 'lu', 265: 'lv', 266: 'lw', 267: 'ly', 268: \"m'\", 269: 'ma', 270: 'mb', 271: 'mc', 272: 'me', 273: 'mf', 274: 'mi', 275: 'mk', 276: 'ml', 277: 'mm', 278: 'mn', 279: 'mo', 280: 'mp', 281: 'mr', 282: 'ms', 283: 'mt', 284: 'mu', 285: 'mz', 286: 'n-', 287: 'na', 288: 'nb', 289: 'nc', 290: 'nd', 291: 'ne', 292: 'nf', 293: 'ng', 294: 'nh', 295: 'ni', 296: 'nj', 297: 'nk', 298: 'nl', 299: 'nm', 300: 'nn', 301: 'no', 302: 'np', 303: 'ns', 304: 'nt', 305: 'nu', 306: 'nv', 307: 'nw', 308: 'ny', 309: 'nz', 310: \"o'\", 311: 'o-', 312: 'oa', 313: 'ob', 314: 'oc', 315: 'od', 316: 'oe', 317: 'of', 318: 'og', 319: 'oh', 320: 'oi', 321: 'oj', 322: 'ok', 323: 'ol', 324: 'om', 325: 'on', 326: 'oo', 327: 'op', 328: 'or', 329: 'os', 330: 'ot', 331: 'ov', 332: 'ow', 333: 'ox', 334: 'oy', 335: 'oz', 336: 'pa', 337: 'pc', 338: 'pe', 339: 'pg', 340: 'pi', 341: 'pj', 342: 'pk', 343: 'pl', 344: 'pm', 345: 'pn', 346: 'po', 347: 'pr', 348: 'ps', 349: 'pt', 350: 'pu', 351: 'py', 352: 'qi', 353: 'qu', 354: \"r'\", 355: 'r-', 356: 'ra', 357: 'rb', 358: 'rc', 359: 'rd', 360: 're', 361: 'rf', 362: 'rg', 363: 'rh', 364: 'ri', 365: 'rj', 366: 'rk', 367: 'rl', 368: 'rm', 369: 'rn', 370: 'ro', 371: 'rp', 372: 'rr', 373: 'rs', 374: 'rt', 375: 'ru', 376: 'rv', 377: 'rw', 378: 'ry', 379: 'rz', 380: 's-', 381: 'sa', 382: 'sb', 383: 'sc', 384: 'sd', 385: 'se', 386: 'sf', 387: 'sh', 388: 'si', 389: 'sj', 390: 'sk', 391: 'sl', 392: 'sm', 393: 'sn', 394: 'so', 395: 'sp', 396: 'sr', 397: 'ss', 398: 'st', 399: 'su', 400: 'sw', 401: 'sy', 402: 't-', 403: 'ta', 404: 'tb', 405: 'te', 406: 'tf', 407: 'tg', 408: 'th', 409: 'ti', 410: 'tk', 411: 'tl', 412: 'tm', 413: 'tn', 414: 'to', 415: 'tp', 416: 'tr', 417: 'ts', 418: 'tt', 419: 'tu', 420: 'tw', 421: \"u'\", 422: 'u-', 423: 'ua', 424: 'ub', 425: 'uc', 426: 'ud', 427: 'ue', 428: 'uf', 429: 'ug', 430: 'uh', 431: 'ui', 432: 'uj', 433: 'uk', 434: 'ul', 435: 'um', 436: 'un', 437: 'uo', 438: 'up', 439: 'ur', 440: 'us', 441: 'ut', 442: 'uv', 443: 'uw', 444: 'uy', 445: 'uz', 446: 'va', 447: 've', 448: 'vg', 449: 'vi', 450: 'vo', 451: 'vu', 452: 'wa', 453: 'we', 454: 'wi', 455: 'wo', 456: 'wt', 457: 'wu', 458: 'xa', 459: 'xe', 460: 'xi', 461: 'xp', 462: 'xt', 463: 'xu', 464: 'ya', 465: 'ye', 466: 'yg', 467: 'yh', 468: 'yi', 469: 'yo', 470: 'yr', 471: 'yt', 472: 'yu', 473: 'za', 474: 'zb', 475: 'ze', 476: 'zh', 477: 'zi', 478: 'zm', 479: 'zo', 480: 'zu', 481: 'zz'}\n",
      "train phn 36 {0: '<SOS>', 1: '<EOS>', 2: '<PAD>', 3: 'AA', 4: 'AO', 5: 'AW', 6: 'AX', 7: 'AY', 8: 'B', 9: 'CH', 10: 'D', 11: 'EH', 12: 'EY', 13: 'F', 14: 'G', 15: 'HH', 16: 'IY', 17: 'JH', 18: 'K', 19: 'L', 20: 'M', 21: 'N', 22: 'NG', 23: 'NY', 24: 'OY', 25: 'P', 26: 'Q', 27: 'R', 28: 'S', 29: 'SH', 30: 'T', 31: 'UW', 32: 'V', 33: 'W', 34: 'Y', 35: 'Z'}\n",
      "valid phn 36 {0: '<SOS>', 1: '<EOS>', 2: '<PAD>', 3: 'AA', 4: 'AO', 5: 'AW', 6: 'AX', 7: 'AY', 8: 'B', 9: 'CH', 10: 'D', 11: 'EH', 12: 'EY', 13: 'F', 14: 'G', 15: 'HH', 16: 'IY', 17: 'JH', 18: 'K', 19: 'L', 20: 'M', 21: 'N', 22: 'NG', 23: 'NY', 24: 'OY', 25: 'P', 26: 'Q', 27: 'R', 28: 'S', 29: 'SH', 30: 'T', 31: 'UW', 32: 'V', 33: 'W', 34: 'Y', 35: 'Z'}\n",
      "test phn 36 {0: '<SOS>', 1: '<EOS>', 2: '<PAD>', 3: 'AA', 4: 'AO', 5: 'AW', 6: 'AX', 7: 'AY', 8: 'B', 9: 'CH', 10: 'D', 11: 'EH', 12: 'EY', 13: 'F', 14: 'G', 15: 'HH', 16: 'IY', 17: 'JH', 18: 'K', 19: 'L', 20: 'M', 21: 'N', 22: 'NG', 23: 'NY', 24: 'OY', 25: 'P', 26: 'Q', 27: 'R', 28: 'S', 29: 'SH', 30: 'T', 31: 'UW', 32: 'V', 33: 'W', 34: 'Y', 35: 'Z'}\n",
      "478 {'--': 12, '-n': 25, 'ny': 308, 'ya': 464, '-b': 14, 'ba': 62, 'au': 55, 'ur': 439, 'be': 65, 'el': 117, 'la': 245, 'as': 53, '-c': 15, 'co': 84, 'om': 324, 'mp': 280, 'pe': 338, 'en': 119, 'ng': 293, '-k': 22, 'ka': 223, 'an': 48, '-l': 23, 'ah': 42, 'le': 248, 'gg': 151, 'ga': 145, '-m': 24, 'ma': 269, 'ha': 166, 'si': 388, 'is': 204, 'sw': 400, 'wa': 452, '-s': 29, 'se': 385, 'ed': 109, 'da': 88, 'ar': 52, 'ra': 356, 'ep': 121, 'pi': 340, 'it': 205, '-t': 30, 'ta': 403, 'ak': 45, '-w': 32, 'at': 54, 'ti': 409, \"a'\": 33, \"'b\": 5, \"'d\": 6, 'du': 100, \"'h\": 7, 'ad': 38, 'ab': 36, \"b'\": 61, \"'a\": 4, 'a-': 34, '-a': 13, 'di': 92, 'ia': 187, 'ik': 197, 'h-': 165, 'ai': 43, 'im': 199, 'na': 287, 'kt': 239, 'in': 200, 'al': 46, 'ku': 240, 'us': 440, 'gn': 158, 'r-': 355, 'bd': 64, 'do': 97, 'me': 272, 'mi': 274, 'uk': 433, 'ks': 238, 'to': 414, 'or': 328, 'ul': 434, 'er': 122, 'et': 124, 'bi': 66, 'id': 190, 'il': 198, 'io': 201, 'og': 318, 'ge': 149, 'ne': 291, 'es': 123, 'os': 329, 'sf': 386, 'fe': 134, 'ot': 330, 'sa': 381, 'ek': 116, 'tu': 419, 'ri': 364, 'ie': 191, 'bj': 67, 'ja': 212, 'bl': 69, 'ut': 441, 'ps': 348, 'lu': 264, 'bn': 71, 'no': 301, 'rm': 368, 'nu': 305, 'bo': 72, 'oi': 320, 'ol': 323, 'li': 252, 'on': 325, 'em': 118, 'rs': 373, 'rt': 374, 'br': 73, 're': 360, 'ko': 235, 'bs': 74, 'ns': 303, 'nt': 304, 'te': 405, 'ei': 114, 'sm': 392, 'so': 394, 'rb': 357, 'rp': 371, 'pt': 349, 'if': 192, 'st': 398, 'tr': 416, 'su': 399, 'rd': 359, 'bt': 75, 'bu': 76, 'ua': 423, 'uh': 430, 'lh': 251, 'ay': 59, 'un': 436, 'ac': 37, 'ca': 79, 'aw': 57, 'wi': 454, 'ce': 80, 'ci': 82, 'cu': 86, 'um': 435, 'gk': 155, 'aa': 35, 'ag': 41, 'gi': 153, 'iu': 206, 'am': 47, 'ap': 50, 'de': 90, 'eg': 112, 'eh': 113, 'pa': 336, 'uz': 445, 'ze': 475, 'dh': 91, 'he': 169, 'ib': 188, 'ic': 189, 'ig': 193, 'gu': 164, 'kk': 231, 'km': 233, 'mu': 284, 'kn': 234, 'od': 315, 'dr': 98, 'hu': 183, 'rg': 362, 'nd': 290, 'ip': 202, 'po': 346, 'pu': 350, 'ir': 203, 'aj': 44, 'tn': 413, 'ok': 322, 'oh': 319, 'iw': 208, 'gs': 162, 'dj': 93, 'je': 213, 'iv': 207, 'va': 446, 'dm': 95, 'ni': 295, 'op': 327, 'ds': 99, 'dv': 101, 've': 447, 'vi': 449, 'vo': 450, 'ae': 39, 'ro': 370, 'ob': 313, 'gr': 161, 'lo': 258, 'mo': 279, 'ov': 331, 'af': 40, 'fa': 132, 'fd': 133, 'fi': 135, 'fr': 139, 'fs': 140, 'fw': 143, 'ih': 194, 'gl': 156, 'go': 159, 'o-': 311, '-g': 18, 'hi': 172, 'ms': 282, 'hk': 174, 'hl': 175, 'lb': 246, 'lk': 254, 'ki': 229, 'ub': 424, 'hm': 176, 'ho': 178, 'hw': 184, 'lf': 249, 'rn': 369, 'nm': 299, 'ji': 214, 'jn': 216, 'ju': 220, 'uj': 432, 'k-': 222, 'ln': 257, 'kb': 224, 'kh': 228, 'ru': 375, 'ht': 182, 'kl': 232, 'eo': 120, 'kr': 237, 'lt': 263, 'ui': 431, 'up': 438, 'nk': 297, 'kw': 241, 'l-': 244, '-q': 27, 'qu': 353, \"r'\": 354, 'mn': 278, 'lg': 250, 'oj': 321, 'jo': 217, 'tm': 412, 'f-': 131, 'mb': 270, 'ea': 106, 'sy': 401, 'ke': 227, 'll': 255, 'lm': 256, 'rh': 363, 'az': 60, 'za': 473, 'of': 317, 'fo': 138, 'rf': 361, 'lp': 259, 'lq': 260, 'uv': 442, 'lv': 265, 'lw': 266, 'nn': 300, 'hn': 177, 'tl': 411, 'by': 78, 'eb': 107, 'mf': 273, 'mk': 275, 'pl': 343, 'ud': 426, 'mr': 281, 'rk': 366, 'nb': 288, 'nc': 289, 'ew': 127, 'nf': 292, 'gh': 152, 'gp': 160, 'nj': 296, 'ry': 378, 'jl': 215, 'oa': 312, 'pr': 347, 'rr': 372, 'rw': 377, 'i-': 186, 'nz': 309, 'zi': 477, 'ij': 196, 'yi': 468, 'ao': 49, 'th': 408, 'aq': 51, 'qi': 352, 'rc': 358, 'rj': 365, 'rl': 367, 'sb': 382, 'ex': 128, 'xu': 463, 'sh': 387, 'mt': 283, 'sk': 390, 'sl': 391, 'sn': 393, 'sp': 395, 'sr': 396, 'ss': 397, 'yu': 472, 'av': 56, 'vg': 448, 'we': 453, 'wu': 457, 'ax': 58, 'xi': 460, 'ye': 465, 'yo': 469, 'zh': 476, 'iz': 211, 'zm': 478, 'uy': 444, 'ft': 141, 'eu': 125, 'hr': 180, 'kd': 226, 'kp': 236, 'ls': 262, 'rz': 379, 'wo': 455, 'zo': 479, 'ec': 108, 'ej': 115, \"o'\": 310, \"'o\": 9, 'ef': 111, 'tk': 410, 'gt': 163, 'pk': 342, 's-': 380, 'oy': 334, 'uc': 425, 'ug': 429, 'kc': 225, 'gd': 148, 'ue': 427, 'dw': 102, 'fu': 142, 'fl': 137, 'ev': 126, 'jr': 218, 'hf': 170, 'oc': 314, 'tb': 404, 'fk': 136, 'hy': 185, 'rv': 376, 'ez': 130, \"d'\": 87, 'nv': 306, 'ly': 267, 'zu': 480, 'ox': 333, 'oz': 335, 'nw': 307, 'nl': 298, 'ld': 247, 'mc': 271, 'gc': 147, 'pc': 337, 'pg': 339, 'pj': 341, \"e'\": 104, 'oo': 326, 'ch': 81, 'cm': 83, 'g-': 144, 'ow': 332, 'cr': 85, '-d': 16, 'hs': 181, 'ee': 110, 'gm': 157, 'ii': 195, 'ts': 417, 'dk': 94, '-j': 21, 'bk': 68, 'gj': 154, 'iy': 210, 'gb': 146, 'ix': 209, 'tp': 415, 'xp': 461, 'xt': 462, 'mz': 285, 'tt': 418, 'pm': 344, 'pn': 345, 'u-': 422, '-h': 19, 'uf': 428, 'jt': 219, 'uw': 443, 'nh': 294, 'yt': 471, 'zz': 481, 'ml': 276, '-r': 28, 'yh': 467, 'ky': 242, 'py': 351, 'hp': 179, '-p': 26, 'ey': 129, 'oe': 316, 'gf': 150, 'uo': 437, 'dy': 103, 'dn': 96, 'tw': 420, 'sj': 389, 'yg': 466, 'yr': 470, 'zb': 474, 't-': 402, 'hb': 167, 'kj': 230, '-i': 20, '-e': 17, 'hg': 171, 'mm': 277, \"u'\": 421, \"'j\": 8, 'hd': 168, 'bm': 70, 'sc': 383, 'tf': 406, 'e-': 105, 'hj': 173, 'n-': 286, 'lr': 261, 'tg': 407, 'lj': 253, 'bb': 63, 'bv': 77, 'wt': 456, \"'r\": 10, \"'u\": 11, 'db': 89, 'jw': 221, 'kz': 243, 'np': 302, '-u': 31, \"m'\": 268, 'vu': 451, 'xa': 458, 'xe': 459, 'sd': 384}\n",
      "478 {'--': 12, '-n': 25, 'ny': 308, 'ya': 464, '-b': 14, 'ba': 62, 'au': 55, 'ur': 439, 'be': 65, 'el': 117, 'la': 245, 'as': 53, '-c': 15, 'co': 84, 'om': 324, 'mp': 280, 'pe': 338, 'en': 119, 'ng': 293, '-k': 22, 'ka': 223, 'an': 48, '-l': 23, 'ah': 42, 'le': 248, 'gg': 151, 'ga': 145, '-m': 24, 'ma': 269, 'ha': 166, 'si': 388, 'is': 204, 'sw': 400, 'wa': 452, '-s': 29, 'se': 385, 'ed': 109, 'da': 88, 'ar': 52, 'ra': 356, 'ep': 121, 'pi': 340, 'it': 205, '-t': 30, 'ta': 403, 'ak': 45, '-w': 32, 'at': 54, 'ti': 409, \"a'\": 33, \"'b\": 5, \"'d\": 6, 'du': 100, \"'h\": 7, 'ad': 38, 'ab': 36, \"b'\": 61, \"'a\": 4, 'a-': 34, '-a': 13, 'di': 92, 'ia': 187, 'ik': 197, 'h-': 165, 'ai': 43, 'im': 199, 'na': 287, 'kt': 239, 'in': 200, 'al': 46, 'ku': 240, 'us': 440, 'gn': 158, 'r-': 355, 'bd': 64, 'do': 97, 'me': 272, 'mi': 274, 'uk': 433, 'ks': 238, 'to': 414, 'or': 328, 'ul': 434, 'er': 122, 'et': 124, 'bi': 66, 'id': 190, 'il': 198, 'io': 201, 'og': 318, 'ge': 149, 'ne': 291, 'es': 123, 'os': 329, 'sf': 386, 'fe': 134, 'ot': 330, 'sa': 381, 'ek': 116, 'tu': 419, 'ri': 364, 'ie': 191, 'bj': 67, 'ja': 212, 'bl': 69, 'ut': 441, 'ps': 348, 'lu': 264, 'bn': 71, 'no': 301, 'rm': 368, 'nu': 305, 'bo': 72, 'oi': 320, 'ol': 323, 'li': 252, 'on': 325, 'em': 118, 'rs': 373, 'rt': 374, 'br': 73, 're': 360, 'ko': 235, 'bs': 74, 'ns': 303, 'nt': 304, 'te': 405, 'ei': 114, 'sm': 392, 'so': 394, 'rb': 357, 'rp': 371, 'pt': 349, 'if': 192, 'st': 398, 'tr': 416, 'su': 399, 'rd': 359, 'bt': 75, 'bu': 76, 'ua': 423, 'uh': 430, 'lh': 251, 'ay': 59, 'un': 436, 'ac': 37, 'ca': 79, 'aw': 57, 'wi': 454, 'ce': 80, 'ci': 82, 'cu': 86, 'um': 435, 'gk': 155, 'aa': 35, 'ag': 41, 'gi': 153, 'iu': 206, 'am': 47, 'ap': 50, 'de': 90, 'eg': 112, 'eh': 113, 'pa': 336, 'uz': 445, 'ze': 475, 'dh': 91, 'he': 169, 'ib': 188, 'ic': 189, 'ig': 193, 'gu': 164, 'kk': 231, 'km': 233, 'mu': 284, 'kn': 234, 'od': 315, 'dr': 98, 'hu': 183, 'rg': 362, 'nd': 290, 'ip': 202, 'po': 346, 'pu': 350, 'ir': 203, 'aj': 44, 'tn': 413, 'ok': 322, 'oh': 319, 'iw': 208, 'gs': 162, 'dj': 93, 'je': 213, 'iv': 207, 'va': 446, 'dm': 95, 'ni': 295, 'op': 327, 'ds': 99, 'dv': 101, 've': 447, 'vi': 449, 'vo': 450, 'ae': 39, 'ro': 370, 'ob': 313, 'gr': 161, 'lo': 258, 'mo': 279, 'ov': 331, 'af': 40, 'fa': 132, 'fd': 133, 'fi': 135, 'fr': 139, 'fs': 140, 'fw': 143, 'ih': 194, 'gl': 156, 'go': 159, 'o-': 311, '-g': 18, 'hi': 172, 'ms': 282, 'hk': 174, 'hl': 175, 'lb': 246, 'lk': 254, 'ki': 229, 'ub': 424, 'hm': 176, 'ho': 178, 'hw': 184, 'lf': 249, 'rn': 369, 'nm': 299, 'ji': 214, 'jn': 216, 'ju': 220, 'uj': 432, 'k-': 222, 'ln': 257, 'kb': 224, 'kh': 228, 'ru': 375, 'ht': 182, 'kl': 232, 'eo': 120, 'kr': 237, 'lt': 263, 'ui': 431, 'up': 438, 'nk': 297, 'kw': 241, 'l-': 244, '-q': 27, 'qu': 353, \"r'\": 354, 'mn': 278, 'lg': 250, 'oj': 321, 'jo': 217, 'tm': 412, 'f-': 131, 'mb': 270, 'ea': 106, 'sy': 401, 'ke': 227, 'll': 255, 'lm': 256, 'rh': 363, 'az': 60, 'za': 473, 'of': 317, 'fo': 138, 'rf': 361, 'lp': 259, 'lq': 260, 'uv': 442, 'lv': 265, 'lw': 266, 'nn': 300, 'hn': 177, 'tl': 411, 'by': 78, 'eb': 107, 'mf': 273, 'mk': 275, 'pl': 343, 'ud': 426, 'mr': 281, 'rk': 366, 'nb': 288, 'nc': 289, 'ew': 127, 'nf': 292, 'gh': 152, 'gp': 160, 'nj': 296, 'ry': 378, 'jl': 215, 'oa': 312, 'pr': 347, 'rr': 372, 'rw': 377, 'i-': 186, 'nz': 309, 'zi': 477, 'ij': 196, 'yi': 468, 'ao': 49, 'th': 408, 'aq': 51, 'qi': 352, 'rc': 358, 'rj': 365, 'rl': 367, 'sb': 382, 'ex': 128, 'xu': 463, 'sh': 387, 'mt': 283, 'sk': 390, 'sl': 391, 'sn': 393, 'sp': 395, 'sr': 396, 'ss': 397, 'yu': 472, 'av': 56, 'vg': 448, 'we': 453, 'wu': 457, 'ax': 58, 'xi': 460, 'ye': 465, 'yo': 469, 'zh': 476, 'iz': 211, 'zm': 478, 'uy': 444, 'ft': 141, 'eu': 125, 'hr': 180, 'kd': 226, 'kp': 236, 'ls': 262, 'rz': 379, 'wo': 455, 'zo': 479, 'ec': 108, 'ej': 115, \"o'\": 310, \"'o\": 9, 'ef': 111, 'tk': 410, 'gt': 163, 'pk': 342, 's-': 380, 'oy': 334, 'uc': 425, 'ug': 429, 'kc': 225, 'gd': 148, 'ue': 427, 'dw': 102, 'fu': 142, 'fl': 137, 'ev': 126, 'jr': 218, 'hf': 170, 'oc': 314, 'tb': 404, 'fk': 136, 'hy': 185, 'rv': 376, 'ez': 130, \"d'\": 87, 'nv': 306, 'ly': 267, 'zu': 480, 'ox': 333, 'oz': 335, 'nw': 307, 'nl': 298, 'ld': 247, 'mc': 271, 'gc': 147, 'pc': 337, 'pg': 339, 'pj': 341, \"e'\": 104, 'oo': 326, 'ch': 81, 'cm': 83, 'g-': 144, 'ow': 332, 'cr': 85, '-d': 16, 'hs': 181, 'ee': 110, 'gm': 157, 'ii': 195, 'ts': 417, 'dk': 94, '-j': 21, 'bk': 68, 'gj': 154, 'iy': 210, 'gb': 146, 'ix': 209, 'tp': 415, 'xp': 461, 'xt': 462, 'mz': 285, 'tt': 418, 'pm': 344, 'pn': 345, 'u-': 422, '-h': 19, 'uf': 428, 'jt': 219, 'uw': 443, 'nh': 294, 'yt': 471, 'zz': 481, 'ml': 276, '-r': 28, 'yh': 467, 'ky': 242, 'py': 351, 'hp': 179, '-p': 26, 'ey': 129, 'oe': 316, 'gf': 150, 'uo': 437, 'dy': 103, 'dn': 96, 'tw': 420, 'sj': 389, 'yg': 466, 'yr': 470, 'zb': 474, 't-': 402, 'hb': 167, 'kj': 230, '-i': 20, '-e': 17, 'hg': 171, 'mm': 277, \"u'\": 421, \"'j\": 8, 'hd': 168, 'bm': 70, 'sc': 383, 'tf': 406, 'e-': 105, 'hj': 173, 'n-': 286, 'lr': 261, 'tg': 407, 'lj': 253, 'bb': 63, 'bv': 77, 'wt': 456, \"'r\": 10, \"'u\": 11, 'db': 89, 'jw': 221, 'kz': 243, 'np': 302, '-u': 31, \"m'\": 268, 'vu': 451, 'xa': 458, 'xe': 459, 'sd': 384}\n",
      "478 {'--': 12, '-n': 25, 'ny': 308, 'ya': 464, '-b': 14, 'ba': 62, 'au': 55, 'ur': 439, 'be': 65, 'el': 117, 'la': 245, 'as': 53, '-c': 15, 'co': 84, 'om': 324, 'mp': 280, 'pe': 338, 'en': 119, 'ng': 293, '-k': 22, 'ka': 223, 'an': 48, '-l': 23, 'ah': 42, 'le': 248, 'gg': 151, 'ga': 145, '-m': 24, 'ma': 269, 'ha': 166, 'si': 388, 'is': 204, 'sw': 400, 'wa': 452, '-s': 29, 'se': 385, 'ed': 109, 'da': 88, 'ar': 52, 'ra': 356, 'ep': 121, 'pi': 340, 'it': 205, '-t': 30, 'ta': 403, 'ak': 45, '-w': 32, 'at': 54, 'ti': 409, \"a'\": 33, \"'b\": 5, \"'d\": 6, 'du': 100, \"'h\": 7, 'ad': 38, 'ab': 36, \"b'\": 61, \"'a\": 4, 'a-': 34, '-a': 13, 'di': 92, 'ia': 187, 'ik': 197, 'h-': 165, 'ai': 43, 'im': 199, 'na': 287, 'kt': 239, 'in': 200, 'al': 46, 'ku': 240, 'us': 440, 'gn': 158, 'r-': 355, 'bd': 64, 'do': 97, 'me': 272, 'mi': 274, 'uk': 433, 'ks': 238, 'to': 414, 'or': 328, 'ul': 434, 'er': 122, 'et': 124, 'bi': 66, 'id': 190, 'il': 198, 'io': 201, 'og': 318, 'ge': 149, 'ne': 291, 'es': 123, 'os': 329, 'sf': 386, 'fe': 134, 'ot': 330, 'sa': 381, 'ek': 116, 'tu': 419, 'ri': 364, 'ie': 191, 'bj': 67, 'ja': 212, 'bl': 69, 'ut': 441, 'ps': 348, 'lu': 264, 'bn': 71, 'no': 301, 'rm': 368, 'nu': 305, 'bo': 72, 'oi': 320, 'ol': 323, 'li': 252, 'on': 325, 'em': 118, 'rs': 373, 'rt': 374, 'br': 73, 're': 360, 'ko': 235, 'bs': 74, 'ns': 303, 'nt': 304, 'te': 405, 'ei': 114, 'sm': 392, 'so': 394, 'rb': 357, 'rp': 371, 'pt': 349, 'if': 192, 'st': 398, 'tr': 416, 'su': 399, 'rd': 359, 'bt': 75, 'bu': 76, 'ua': 423, 'uh': 430, 'lh': 251, 'ay': 59, 'un': 436, 'ac': 37, 'ca': 79, 'aw': 57, 'wi': 454, 'ce': 80, 'ci': 82, 'cu': 86, 'um': 435, 'gk': 155, 'aa': 35, 'ag': 41, 'gi': 153, 'iu': 206, 'am': 47, 'ap': 50, 'de': 90, 'eg': 112, 'eh': 113, 'pa': 336, 'uz': 445, 'ze': 475, 'dh': 91, 'he': 169, 'ib': 188, 'ic': 189, 'ig': 193, 'gu': 164, 'kk': 231, 'km': 233, 'mu': 284, 'kn': 234, 'od': 315, 'dr': 98, 'hu': 183, 'rg': 362, 'nd': 290, 'ip': 202, 'po': 346, 'pu': 350, 'ir': 203, 'aj': 44, 'tn': 413, 'ok': 322, 'oh': 319, 'iw': 208, 'gs': 162, 'dj': 93, 'je': 213, 'iv': 207, 'va': 446, 'dm': 95, 'ni': 295, 'op': 327, 'ds': 99, 'dv': 101, 've': 447, 'vi': 449, 'vo': 450, 'ae': 39, 'ro': 370, 'ob': 313, 'gr': 161, 'lo': 258, 'mo': 279, 'ov': 331, 'af': 40, 'fa': 132, 'fd': 133, 'fi': 135, 'fr': 139, 'fs': 140, 'fw': 143, 'ih': 194, 'gl': 156, 'go': 159, 'o-': 311, '-g': 18, 'hi': 172, 'ms': 282, 'hk': 174, 'hl': 175, 'lb': 246, 'lk': 254, 'ki': 229, 'ub': 424, 'hm': 176, 'ho': 178, 'hw': 184, 'lf': 249, 'rn': 369, 'nm': 299, 'ji': 214, 'jn': 216, 'ju': 220, 'uj': 432, 'k-': 222, 'ln': 257, 'kb': 224, 'kh': 228, 'ru': 375, 'ht': 182, 'kl': 232, 'eo': 120, 'kr': 237, 'lt': 263, 'ui': 431, 'up': 438, 'nk': 297, 'kw': 241, 'l-': 244, '-q': 27, 'qu': 353, \"r'\": 354, 'mn': 278, 'lg': 250, 'oj': 321, 'jo': 217, 'tm': 412, 'f-': 131, 'mb': 270, 'ea': 106, 'sy': 401, 'ke': 227, 'll': 255, 'lm': 256, 'rh': 363, 'az': 60, 'za': 473, 'of': 317, 'fo': 138, 'rf': 361, 'lp': 259, 'lq': 260, 'uv': 442, 'lv': 265, 'lw': 266, 'nn': 300, 'hn': 177, 'tl': 411, 'by': 78, 'eb': 107, 'mf': 273, 'mk': 275, 'pl': 343, 'ud': 426, 'mr': 281, 'rk': 366, 'nb': 288, 'nc': 289, 'ew': 127, 'nf': 292, 'gh': 152, 'gp': 160, 'nj': 296, 'ry': 378, 'jl': 215, 'oa': 312, 'pr': 347, 'rr': 372, 'rw': 377, 'i-': 186, 'nz': 309, 'zi': 477, 'ij': 196, 'yi': 468, 'ao': 49, 'th': 408, 'aq': 51, 'qi': 352, 'rc': 358, 'rj': 365, 'rl': 367, 'sb': 382, 'ex': 128, 'xu': 463, 'sh': 387, 'mt': 283, 'sk': 390, 'sl': 391, 'sn': 393, 'sp': 395, 'sr': 396, 'ss': 397, 'yu': 472, 'av': 56, 'vg': 448, 'we': 453, 'wu': 457, 'ax': 58, 'xi': 460, 'ye': 465, 'yo': 469, 'zh': 476, 'iz': 211, 'zm': 478, 'uy': 444, 'ft': 141, 'eu': 125, 'hr': 180, 'kd': 226, 'kp': 236, 'ls': 262, 'rz': 379, 'wo': 455, 'zo': 479, 'ec': 108, 'ej': 115, \"o'\": 310, \"'o\": 9, 'ef': 111, 'tk': 410, 'gt': 163, 'pk': 342, 's-': 380, 'oy': 334, 'uc': 425, 'ug': 429, 'kc': 225, 'gd': 148, 'ue': 427, 'dw': 102, 'fu': 142, 'fl': 137, 'ev': 126, 'jr': 218, 'hf': 170, 'oc': 314, 'tb': 404, 'fk': 136, 'hy': 185, 'rv': 376, 'ez': 130, \"d'\": 87, 'nv': 306, 'ly': 267, 'zu': 480, 'ox': 333, 'oz': 335, 'nw': 307, 'nl': 298, 'ld': 247, 'mc': 271, 'gc': 147, 'pc': 337, 'pg': 339, 'pj': 341, \"e'\": 104, 'oo': 326, 'ch': 81, 'cm': 83, 'g-': 144, 'ow': 332, 'cr': 85, '-d': 16, 'hs': 181, 'ee': 110, 'gm': 157, 'ii': 195, 'ts': 417, 'dk': 94, '-j': 21, 'bk': 68, 'gj': 154, 'iy': 210, 'gb': 146, 'ix': 209, 'tp': 415, 'xp': 461, 'xt': 462, 'mz': 285, 'tt': 418, 'pm': 344, 'pn': 345, 'u-': 422, '-h': 19, 'uf': 428, 'jt': 219, 'uw': 443, 'nh': 294, 'yt': 471, 'zz': 481, 'ml': 276, '-r': 28, 'yh': 467, 'ky': 242, 'py': 351, 'hp': 179, '-p': 26, 'ey': 129, 'oe': 316, 'gf': 150, 'uo': 437, 'dy': 103, 'dn': 96, 'tw': 420, 'sj': 389, 'yg': 466, 'yr': 470, 'zb': 474, 't-': 402, 'hb': 167, 'kj': 230, '-i': 20, '-e': 17, 'hg': 171, 'mm': 277, \"u'\": 421, \"'j\": 8, 'hd': 168, 'bm': 70, 'sc': 383, 'tf': 406, 'e-': 105, 'hj': 173, 'n-': 286, 'lr': 261, 'tg': 407, 'lj': 253, 'bb': 63, 'bv': 77, 'wt': 456, \"'r\": 10, \"'u\": 11, 'db': 89, 'jw': 221, 'kz': 243, 'np': 302, '-u': 31, \"m'\": 268, 'vu': 451, 'xa': 458, 'xe': 459, 'sd': 384}\n",
      "33 {'NY': 23, 'AA': 3, 'B': 8, 'UW': 31, 'R': 27, 'AX': 6, 'L': 19, 'S': 28, 'CH': 9, 'AO': 4, 'M': 20, 'P': 25, 'EH': 11, 'NG': 22, 'K': 18, 'N': 21, 'HH': 15, 'G': 14, 'IY': 16, 'W': 33, 'D': 10, 'T': 30, 'Q': 26, 'AY': 7, 'AW': 5, 'F': 13, 'JH': 17, 'OY': 24, 'Y': 34, 'Z': 35, 'V': 32, 'SH': 29, 'EY': 12}\n",
      "33 {'NY': 23, 'AA': 3, 'B': 8, 'UW': 31, 'R': 27, 'AX': 6, 'L': 19, 'S': 28, 'CH': 9, 'AO': 4, 'M': 20, 'P': 25, 'EH': 11, 'NG': 22, 'K': 18, 'N': 21, 'HH': 15, 'G': 14, 'IY': 16, 'W': 33, 'D': 10, 'T': 30, 'Q': 26, 'AY': 7, 'AW': 5, 'F': 13, 'JH': 17, 'OY': 24, 'Y': 34, 'Z': 35, 'V': 32, 'SH': 29, 'EY': 12}\n",
      "33 {'NY': 23, 'AA': 3, 'B': 8, 'UW': 31, 'R': 27, 'AX': 6, 'L': 19, 'S': 28, 'CH': 9, 'AO': 4, 'M': 20, 'P': 25, 'EH': 11, 'NG': 22, 'K': 18, 'N': 21, 'HH': 15, 'G': 14, 'IY': 16, 'W': 33, 'D': 10, 'T': 30, 'Q': 26, 'AY': 7, 'AW': 5, 'F': 13, 'JH': 17, 'OY': 24, 'Y': 34, 'Z': 35, 'V': 32, 'SH': 29, 'EY': 12}\n"
     ]
    }
   ],
   "source": [
    "print(train_g2p_dataset, train_dataloader.dataset[0])\n",
    "print(train_g2p_dataset[0])\n",
    "print(train_dataloader.dataset[0])\n",
    "print(\"train grp\", len(train_g2p_dataset.index2grapheme), train_g2p_dataset.index2grapheme)\n",
    "print(\"valid grp\", len(val_g2p_dataset.index2grapheme), val_g2p_dataset.index2grapheme)\n",
    "print(\"test grp\", len(test_g2p_dataset.index2grapheme), test_g2p_dataset.index2grapheme)\n",
    "print(\"train phn\", len(train_g2p_dataset.index2phoneme), train_g2p_dataset.index2phoneme)\n",
    "print(\"valid phn\", len(val_g2p_dataset.index2phoneme), val_g2p_dataset.index2phoneme)\n",
    "print(\"test phn\", len(test_g2p_dataset.index2phoneme), test_g2p_dataset.index2phoneme)\n",
    "print(len(train_g2p_dataset.grapheme2index), train_g2p_dataset.grapheme2index)\n",
    "print(len(val_g2p_dataset.grapheme2index), val_g2p_dataset.grapheme2index)\n",
    "print(len(test_g2p_dataset.grapheme2index), test_g2p_dataset.grapheme2index)\n",
    "print(len(train_g2p_dataset.phoneme2index), train_g2p_dataset.phoneme2index)\n",
    "print(len(val_g2p_dataset.phoneme2index), val_g2p_dataset.phoneme2index)\n",
    "print(len(test_g2p_dataset.phoneme2index), test_g2p_dataset.phoneme2index)"
   ]
  },
  {
   "cell_type": "markdown",
   "metadata": {
    "id": "rR7MN5jhZKF_"
   },
   "source": [
    "## Model definitions"
   ]
  },
  {
   "cell_type": "markdown",
   "metadata": {
    "id": "ygVvCWJJZOeP"
   },
   "source": [
    "### Encoder"
   ]
  },
  {
   "cell_type": "code",
   "execution_count": 15,
   "metadata": {
    "executionInfo": {
     "elapsed": 123,
     "status": "ok",
     "timestamp": 1739957722884,
     "user": {
      "displayName": "23522026 Ahmad Naufal Hakim",
      "userId": "16621933245327613442"
     },
     "user_tz": -420
    },
    "id": "Q3UD4r8FZP5U"
   },
   "outputs": [],
   "source": [
    "class Encoder(nn.Module) :\n",
    "  def __init__(self, input_size, emb_dim, hidden_size, n_layers=1) -> None :\n",
    "    super(Encoder, self).__init__()\n",
    "    self.input_size = input_size\n",
    "    self.hidden_size = hidden_size\n",
    "    self.n_layers = n_layers\n",
    "\n",
    "    self.embedding = nn.Embedding(input_size, emb_dim).to(DEVICE)\n",
    "    self.gru = nn.GRU(emb_dim, hidden_size, n_layers, batch_first=False).to(DEVICE)\n",
    "\n",
    "  def forward(self, token_inputs, hidden) :\n",
    "    embedded = self.embedding(token_inputs) # [seq_len, batch_size, emb_dim]\n",
    "    output, hidden = self.gru(embedded, hidden)\n",
    "    return output, hidden # output: [seq_len, batch_size, hidden_size]\n",
    "\n",
    "  def init_hidden(self, batch_size=1) :\n",
    "    hidden = torch.zeros(self.n_layers, batch_size, self.hidden_size).to(DEVICE)\n",
    "    # hidden shape: [n_layers, batch_size, hidden_size]\n",
    "    return hidden"
   ]
  },
  {
   "cell_type": "markdown",
   "metadata": {
    "id": "tVCH2fcZZRgY"
   },
   "source": [
    "### Attention"
   ]
  },
  {
   "cell_type": "code",
   "execution_count": 16,
   "metadata": {
    "executionInfo": {
     "elapsed": 123,
     "status": "ok",
     "timestamp": 1739957722884,
     "user": {
      "displayName": "23522026 Ahmad Naufal Hakim",
      "userId": "16621933245327613442"
     },
     "user_tz": -420
    },
    "id": "P_7WmJUSZSgT"
   },
   "outputs": [],
   "source": [
    "class Attn(nn.Module) :\n",
    "  def __init__(self, method, hidden_size) -> None :\n",
    "    super(Attn, self).__init__()\n",
    "    self.method = method\n",
    "    self.hidden_size = hidden_size\n",
    "\n",
    "    if self.method == \"general\" :\n",
    "      self.attn = nn.Linear(self.hidden_size, hidden_size).to(DEVICE)\n",
    "    elif self.method == \"concat\" :\n",
    "      self.attn = nn.Linear(self.hidden_size*2, hidden_size).to(DEVICE)\n",
    "      self.v = nn.Parameter(torch.FloatTensor(hidden_size)).to(DEVICE)\n",
    "\n",
    "  def forward(self, hidden, encoder_outputs) :\n",
    "    # hidden shape: [1, batch_size, hidden_size]\n",
    "    # encoder_outputs shape: [seq_len, batch_size, hidden_size]\n",
    "\n",
    "    if self.method == \"dot\" :\n",
    "      # Vectorized dot product for all positions in the sequence\n",
    "      attn_energies = torch.sum(hidden * encoder_outputs, dim=2) # [seq_len, batch_size]\n",
    "    elif self.method == \"general\" :\n",
    "      energy = self.attn(encoder_outputs) # [seq_len, batch_size, hidden_size]\n",
    "      attn_energies = torch.sum(hidden * energy, dim=2)\n",
    "    elif self.method == \"concat\" :\n",
    "      hidden_expanded = hidden.expand(encoder_outputs.size(0), -1, -1) # [seq_len, batch_size, hidden_size]\n",
    "      energy = self.attn(torch.cat((hidden_expanded, encoder_outputs), 2)) # [seq_len, batch_size, hidden_size]\n",
    "      attn_energies = torch.sum(self.v * energy, dim=2)\n",
    "\n",
    "    # Normalize energies to weights\n",
    "    attn_weights = F.softmax(attn_energies, dim=0) # [seq_len, batch_size]\n",
    "    return attn_weights.transpose(0, 1).unsqueeze(1) # [batch_size, 1, seq_len]"
   ]
  },
  {
   "cell_type": "markdown",
   "metadata": {
    "id": "pLkvrRCoZWf3"
   },
   "source": [
    "### Decoder"
   ]
  },
  {
   "cell_type": "code",
   "execution_count": 17,
   "metadata": {
    "executionInfo": {
     "elapsed": 123,
     "status": "ok",
     "timestamp": 1739957722884,
     "user": {
      "displayName": "23522026 Ahmad Naufal Hakim",
      "userId": "16621933245327613442"
     },
     "user_tz": -420
    },
    "id": "oVtYeNNIZa8U"
   },
   "outputs": [],
   "source": [
    "class Decoder(nn.Module) :\n",
    "  def __init__(self, attn_model, emb_dim, hidden_size, output_size, n_layers=1, dropout_proba=.1) -> None :\n",
    "    super(Decoder, self).__init__()\n",
    "    self.attn_model = attn_model\n",
    "    self.hidden_size = hidden_size\n",
    "    self.output_size = output_size\n",
    "    self.n_layers = n_layers\n",
    "    self.dropout_proba = dropout_proba\n",
    "\n",
    "    # Define layers\n",
    "    self.embedding = nn.Embedding(output_size, emb_dim).to(DEVICE)\n",
    "    self.gru = nn.GRU(emb_dim + hidden_size, hidden_size, n_layers, dropout=dropout_proba, batch_first=False).to(DEVICE)\n",
    "    self.out = nn.Linear(hidden_size*2, output_size).to(DEVICE)\n",
    "\n",
    "    # Choose attention model\n",
    "    if attn_model != \"none\" :\n",
    "      self.attn = Attn(attn_model, hidden_size).to(DEVICE)\n",
    "\n",
    "  def forward(self, token_input, last_context, last_hidden, encoder_outputs) :\n",
    "    # token_input shape: [1, batch_size]\n",
    "    # last_context shape: [batch_size, hidden_size]\n",
    "    # last_hidden shape: [n_layers, batch_size, hidden_size]\n",
    "    # encoder_outputs shape: [seq_len, batch_size, hidden]\n",
    "    # Get the embedding of the current input token (last output token)\n",
    "\n",
    "    embedded = self.embedding(token_input) # [1, batch_size, emb_dim]\n",
    "    # Combine embedded input token and last context, run through RNN\n",
    "    rnn_input = torch.cat((embedded, last_context.unsqueeze(0)), dim=2) # [1, batch_size, emb_dim + hidden_size]\n",
    "    # GRU forward\n",
    "    rnn_output, hidden = self.gru(rnn_input, last_hidden) # rnn_output: [1, batch_size, hidden_size]\n",
    "\n",
    "    # Calculate attention from current RNN state and all encoder outputs; apply to encoder outputs\n",
    "    attn_weights = self.attn(rnn_output, encoder_outputs) # [batch_size, 1, seq_len]\n",
    "    context = torch.bmm(attn_weights, encoder_outputs.transpose(0, 1)) # [batch_size, 1, hidden_size]\n",
    "    context = context.transpose(0, 1) # [1, batch_size, hidden_size]\n",
    "\n",
    "    # Final output layer (next token prediction) using the RNN hidden state and context vector\n",
    "    rnn_output = rnn_output.squeeze(0)  # [batch_size, hidden_size]\n",
    "    context = context.squeeze(0)        # [batch_size, hidden_size]\n",
    "    output = torch.cat((rnn_output, context), dim=1) # [batch_size, hidden_size * 2]\n",
    "    output = F.log_softmax(self.out(output), dim=1) # [batch_size, output_size]\n",
    "\n",
    "    # Return final output, hidden state, and attention weights (for visualization)\n",
    "    return output, context, hidden, attn_weights"
   ]
  },
  {
   "cell_type": "markdown",
   "metadata": {
    "id": "8mDO6QlJZpUZ"
   },
   "source": [
    "## Technical check"
   ]
  },
  {
   "cell_type": "code",
   "execution_count": 18,
   "metadata": {
    "colab": {
     "base_uri": "https://localhost:8080/"
    },
    "executionInfo": {
     "elapsed": 123,
     "status": "ok",
     "timestamp": 1739957722884,
     "user": {
      "displayName": "23522026 Ahmad Naufal Hakim",
      "userId": "16621933245327613442"
     },
     "user_tz": -420
    },
    "id": "kC8lx7n7Zr1Z",
    "outputId": "9a095505-f179-48d0-c305-f4e69125f170"
   },
   "outputs": [
    {
     "name": "stderr",
     "output_type": "stream",
     "text": [
      "/home/ahmadnaufalhakim/.local/lib/python3.8/site-packages/torch/nn/modules/rnn.py:83: UserWarning: dropout option adds dropout after all but last recurrent layer, so non-zero dropout expects num_layers greater than 1, but got dropout=0.1 and num_layers=1\n",
      "  warnings.warn(\"dropout option adds dropout after all but last \"\n"
     ]
    },
    {
     "name": "stdout",
     "output_type": "stream",
     "text": [
      "Encoder hidden shape: torch.Size([1, 3, 15])\n",
      "Input batch shape: torch.Size([4, 3])\n",
      "Encoder outputs shape: torch.Size([4, 3, 15])\n",
      "Encoder hidden shape: torch.Size([1, 3, 15])\n",
      "Step 0:\n",
      "Decoder output shape: torch.Size([3, 100])\n",
      "Decoder context shape: torch.Size([3, 15])\n",
      "Decoder hidden shape: torch.Size([1, 3, 15])\n",
      "Attention shape: torch.Size([3, 1, 4])\n",
      "Step 1:\n",
      "Decoder output shape: torch.Size([3, 100])\n",
      "Decoder context shape: torch.Size([3, 15])\n",
      "Decoder hidden shape: torch.Size([1, 3, 15])\n",
      "Attention shape: torch.Size([3, 1, 4])\n"
     ]
    }
   ],
   "source": [
    "# testing params\n",
    "batch_size = 3\n",
    "input_size = 100\n",
    "emb_dim = 25\n",
    "hidden_size = 15\n",
    "n_layers = 1\n",
    "\n",
    "# Init models\n",
    "encoder_test = Encoder(input_size, emb_dim, hidden_size, n_layers)\n",
    "decoder_test = Decoder(\"dot\", emb_dim, hidden_size, output_size=input_size, n_layers=n_layers)\n",
    "# Test encoder\n",
    "encoder_hidden = encoder_test.init_hidden(batch_size=batch_size)\n",
    "print(\"Encoder hidden shape:\", encoder_hidden.shape)\n",
    "# Test input (seq_len=4, batch_size=3)\n",
    "input_batch = torch.LongTensor([[1,4,7], [2,5,8], [3,6,9], [4,7,10]]).to(DEVICE)\n",
    "print(\"Input batch shape:\", input_batch.shape)\n",
    "\n",
    "encoder_outputs, encoder_hidden = encoder_test(input_batch, encoder_hidden)\n",
    "print(\"Encoder outputs shape:\", encoder_outputs.shape)\n",
    "print(\"Encoder hidden shape:\", encoder_hidden.shape)\n",
    "\n",
    "# Test decoder\n",
    "decoder_input = torch.LongTensor([[SOS_TOKEN] * batch_size]).to(DEVICE) # (1, batch_size)\n",
    "decoder_context = torch.zeros(batch_size, hidden_size).to(DEVICE) # (batch_size, hidden_size)\n",
    "decoder_hidden = encoder_hidden\n",
    "for di in range(2) :\n",
    "  decoder_output, decoder_context, decoder_hidden, attn = decoder_test(\n",
    "      decoder_input,\n",
    "      decoder_context,\n",
    "      decoder_hidden,\n",
    "      encoder_outputs\n",
    "  )\n",
    "  print(f\"Step {di}:\")\n",
    "  print(\"Decoder output shape:\", decoder_output.shape) # [batch_size, output_size]\n",
    "  print(\"Decoder context shape:\", decoder_context.shape)\n",
    "  print(\"Decoder hidden shape:\", decoder_hidden.shape) # [n_layers, batch_size, hidden_size]\n",
    "  print(\"Attention shape:\", attn.shape) # [batch_size, 1, seq_len]\n",
    "  decoder_input = torch.argmax(decoder_output, dim=1).unsqueeze(0) # Greedy decoding\n",
    "\n",
    "del encoder_test\n",
    "del decoder_test"
   ]
  },
  {
   "cell_type": "markdown",
   "metadata": {
    "id": "T8eP0I6rZtvY"
   },
   "source": [
    "## Helper functions (for training log)"
   ]
  },
  {
   "cell_type": "code",
   "execution_count": 19,
   "metadata": {
    "executionInfo": {
     "elapsed": 4,
     "status": "ok",
     "timestamp": 1739957722884,
     "user": {
      "displayName": "23522026 Ahmad Naufal Hakim",
      "userId": "16621933245327613442"
     },
     "user_tz": -420
    },
    "id": "V-3uJwDCZvqz"
   },
   "outputs": [],
   "source": [
    "import time\n",
    "import math\n",
    "import matplotlib.pyplot as plt\n",
    "plt.switch_backend(\"agg\")\n",
    "import matplotlib.ticker as ticker\n",
    "%matplotlib inline\n",
    "import numpy as np\n",
    "\n",
    "def as_minutes(seconds) :\n",
    "  minutes = math.floor(seconds/60)\n",
    "  seconds -= minutes*60\n",
    "  return f\"{minutes}m {round(seconds, 2)}s\"\n",
    "\n",
    "def time_since(since, percent) :\n",
    "  now = time.time()\n",
    "  seconds = now - since\n",
    "  eta_seconds = seconds/(percent)\n",
    "  remaining_seconds = eta_seconds - seconds\n",
    "  return f\"{as_minutes(seconds)} (- {as_minutes(remaining_seconds)})\""
   ]
  },
  {
   "cell_type": "markdown",
   "metadata": {
    "id": "Cbvh639cZxlA"
   },
   "source": [
    "## Train and validation script"
   ]
  },
  {
   "cell_type": "code",
   "execution_count": 20,
   "metadata": {
    "executionInfo": {
     "elapsed": 3,
     "status": "ok",
     "timestamp": 1739957722884,
     "user": {
      "displayName": "23522026 Ahmad Naufal Hakim",
      "userId": "16621933245327613442"
     },
     "user_tz": -420
    },
    "id": "8l3KSCAaZy5K"
   },
   "outputs": [],
   "source": [
    "teacher_forcing_ratio = .5\n",
    "\n",
    "def train_batch(input_batch, target_batch, encoder, decoder, encoder_optimizer, decoder_optimizer, criterion) :\n",
    "  encoder_optimizer.zero_grad()\n",
    "  decoder_optimizer.zero_grad()\n",
    "\n",
    "  input_batch = input_batch.to(DEVICE)\n",
    "  target_batch = target_batch.to(DEVICE)\n",
    "\n",
    "  batch_size = input_batch.size(1)\n",
    "  # Forward through encoder\n",
    "  encoder_hidden = encoder.init_hidden(batch_size)\n",
    "  encoder_outputs, encoder_hidden = encoder(input_batch, encoder_hidden)\n",
    "  # Prepare decoder inputs\n",
    "  decoder_input = torch.LongTensor([[SOS_TOKEN] * batch_size]).to(DEVICE)\n",
    "  decoder_context = torch.zeros(batch_size, decoder.hidden_size).to(DEVICE)\n",
    "  decoder_hidden = encoder_hidden # Use last hidden state from encoder to start decoder\n",
    "\n",
    "  loss = 0\n",
    "  for di in range(target_batch.size(0)) :\n",
    "    decoder_output, decoder_context, decoder_hidden, decoder_attention = decoder(\n",
    "      decoder_input, decoder_context, decoder_hidden, encoder_outputs\n",
    "    )\n",
    "    # # Debug: check for nan\n",
    "    # if torch.isnan(criterion(decoder_output, target_batch[di])).any() :\n",
    "    #   print(\"nan detected in decoder_output at step\", di)\n",
    "    #   print(f\"step {di}/{target_batch.size(0)-1}\")\n",
    "    #   print(f\"{di-1}:\\t{target_batch[di-1]}\")\n",
    "    #   for i in range(di, target_batch.size(0)) :\n",
    "    #     print(f\"{i}:\\t{target_batch[i]}\")\n",
    "    #   print(target_batch)\n",
    "    #   print(decoder_output.shape, target_batch[di].shape, criterion(decoder_output, target_batch[di]))\n",
    "    # Calculate loss for this step (sum over batch)\n",
    "    loss += criterion(decoder_output, target_batch[di])\n",
    "    # Teacher forcing\n",
    "    decoder_input = target_batch[di].unsqueeze(0) if random.random() < teacher_forcing_ratio else decoder_output.argmax(1).unsqueeze(0)\n",
    "    decoder_input = decoder_input.to(DEVICE)\n",
    "\n",
    "  # Normalize loss\n",
    "  loss /= target_batch.size(0)\n",
    "\n",
    "  # Backpropagate loss\n",
    "  loss.backward()\n",
    "  encoder_optimizer.step()\n",
    "  decoder_optimizer.step()\n",
    "\n",
    "  return loss.item()\n",
    "\n",
    "def infer_batch(input_batch, target_batch, encoder, decoder, criterion) :\n",
    "  input_batch = input_batch.to(DEVICE)\n",
    "  target_batch = target_batch.to(DEVICE)\n",
    "\n",
    "  batch_size = input_batch.size(1)\n",
    "  # Forward through encoder\n",
    "  encoder_hidden = encoder.init_hidden(batch_size)\n",
    "  encoder_outputs, encoder_hidden = encoder(input_batch, encoder_hidden)\n",
    "  # Prepare decoder inputs\n",
    "  decoder_input = torch.LongTensor([[SOS_TOKEN] * batch_size]).to(DEVICE)\n",
    "  decoder_context = torch.zeros(batch_size, decoder.hidden_size).to(DEVICE)\n",
    "  decoder_hidden = encoder_hidden # Use last hidden state from encoder to start decoder\n",
    "\n",
    "  loss = 0\n",
    "  for di in range(target_batch.size(0)) :\n",
    "    decoder_output, decoder_context, decoder_hidden, decoder_attention = decoder(\n",
    "        decoder_input, decoder_context, decoder_hidden, encoder_outputs\n",
    "      )\n",
    "    # Calculate loss for this step (sum over batch)\n",
    "    loss += criterion(decoder_output, target_batch[di])\n",
    "    # Greedy decoding without teacher forcing\n",
    "    topi = decoder_output.argmax(1)\n",
    "    decoder_input = topi.unsqueeze(0).detach() # detach from history\n",
    "\n",
    "  # Normalize loss\n",
    "  loss /= target_batch.size(0)\n",
    "\n",
    "  return loss.item()"
   ]
  },
  {
   "cell_type": "markdown",
   "metadata": {
    "id": "u9nserDfZ4Xo"
   },
   "source": [
    "## Initialize model"
   ]
  },
  {
   "cell_type": "code",
   "execution_count": 21,
   "metadata": {
    "colab": {
     "base_uri": "https://localhost:8080/"
    },
    "executionInfo": {
     "elapsed": 483,
     "status": "ok",
     "timestamp": 1739957723364,
     "user": {
      "displayName": "23522026 Ahmad Naufal Hakim",
      "userId": "16621933245327613442"
     },
     "user_tz": -420
    },
    "id": "s1JHP18oZ6zy",
    "outputId": "68700f7a-b173-4800-d808-8d922cd64e2d"
   },
   "outputs": [
    {
     "name": "stderr",
     "output_type": "stream",
     "text": [
      "/home/ahmadnaufalhakim/.local/lib/python3.8/site-packages/torch/nn/modules/rnn.py:83: UserWarning: dropout option adds dropout after all but last recurrent layer, so non-zero dropout expects num_layers greater than 1, but got dropout=0.1 and num_layers=1\n",
      "  warnings.warn(\"dropout option adds dropout after all but last \"\n"
     ]
    },
    {
     "name": "stdout",
     "output_type": "stream",
     "text": [
      "attn_model: dot\n",
      "emb_dim: 64\n",
      "hidden_size: 32\n",
      "n_layers: 1\n",
      "Encoder has a total number of 40256 parameters\n",
      "Decoder has a total number of 17124 parameters\n",
      "Total number of all parameters is 57380\n"
     ]
    }
   ],
   "source": [
    "attn_model = ATTN_MODEL\n",
    "emb_dim = EMB_DIM\n",
    "hidden_size = HIDDEN_SIZE\n",
    "n_layers = N_LAYERS\n",
    "dropout_proba = DROPOUT_PROBA\n",
    "\n",
    "# Initialize models\n",
    "encoder = Encoder(train_g2p_dataset.n_graphemes, int(emb_dim), int(hidden_size), int(n_layers))\n",
    "decoder = Decoder(attn_model, int(emb_dim), int(hidden_size), train_g2p_dataset.n_phonemes, int(n_layers), dropout_proba=dropout_proba)\n",
    "n_encoder_parameters = sum(p.numel() for p in encoder.parameters() if p.requires_grad)\n",
    "n_decoder_parameters = sum(p.numel() for p in decoder.parameters() if p.requires_grad)\n",
    "\n",
    "print(f\"attn_model: {attn_model}\")\n",
    "print(f\"emb_dim: {emb_dim}\")\n",
    "print(f\"hidden_size: {hidden_size}\")\n",
    "print(f\"n_layers: {n_layers}\")\n",
    "print(f\"Encoder has a total number of {n_encoder_parameters} parameters\")\n",
    "print(f\"Decoder has a total number of {n_decoder_parameters} parameters\")\n",
    "print(f\"Total number of all parameters is {n_encoder_parameters+n_decoder_parameters}\")\n",
    "\n",
    "# Move models to GPU\n",
    "encoder = encoder.to(DEVICE)\n",
    "decoder = decoder.to(DEVICE)\n",
    "\n",
    "# Learning rate and weight decay parameters\n",
    "learning_rate = .001\n",
    "weight_decay = 1e-5\n",
    "# Initialize optimizers and criterion\n",
    "encoder_optimizer = optim.Adam(encoder.parameters(), lr=learning_rate, weight_decay=weight_decay)\n",
    "decoder_optimizer = optim.Adam(decoder.parameters(), lr=learning_rate, weight_decay=weight_decay)\n",
    "criterion = nn.NLLLoss(ignore_index=PAD_TOKEN)\n",
    "\n",
    "# Early stopping parameters\n",
    "patience = 999\n",
    "epochs_without_improvement = 0\n",
    "# Learning rate scheduling\n",
    "encoder_scheduler = optim.lr_scheduler.ReduceLROnPlateau(encoder_optimizer, factor=.5)\n",
    "decoder_scheduler = optim.lr_scheduler.ReduceLROnPlateau(decoder_optimizer, factor=.5)"
   ]
  },
  {
   "cell_type": "markdown",
   "metadata": {
    "id": "4OI03JU0Z9dw"
   },
   "source": [
    "## Run the training script"
   ]
  },
  {
   "cell_type": "code",
   "execution_count": 22,
   "metadata": {
    "colab": {
     "base_uri": "https://localhost:8080/"
    },
    "executionInfo": {
     "elapsed": 2952362,
     "status": "ok",
     "timestamp": 1739960675722,
     "user": {
      "displayName": "23522026 Ahmad Naufal Hakim",
      "userId": "16621933245327613442"
     },
     "user_tz": -420
    },
    "id": "gP6Zh2q4aBvd",
    "outputId": "e9e1eaf7-3a18-4620-b007-cbad6be38496"
   },
   "outputs": [
    {
     "name": "stdout",
     "output_type": "stream",
     "text": [
      "Training for epoch 1 has started (lr=0.001). Found 358 batch(es).\n",
      "Epoch 1 finished in 0m 8.8s (- 14m 30.96s) (1 1.0%). train avg loss: 2.1988, val avg loss: 2.2006\n",
      "Training for epoch 2 has started (lr=0.001). Found 358 batch(es).\n",
      "Epoch 2 finished in 0m 16.68s (- 13m 37.17s) (2 2.0%). train avg loss: 1.6632, val avg loss: 1.898\n",
      "Training for epoch 3 has started (lr=0.001). Found 358 batch(es).\n",
      "Epoch 3 finished in 0m 24.93s (- 13m 26.0s) (3 3.0%). train avg loss: 1.4092, val avg loss: 1.6973\n",
      "Training for epoch 4 has started (lr=0.001). Found 358 batch(es).\n",
      "Epoch 4 finished in 0m 33.48s (- 13m 23.51s) (4 4.0%). train avg loss: 1.1734, val avg loss: 1.5838\n",
      "Training for epoch 5 has started (lr=0.001). Found 358 batch(es).\n",
      "Epoch 5 finished in 0m 41.73s (- 13m 12.85s) (5 5.0%). train avg loss: 0.9599, val avg loss: 1.3679\n",
      "Training for epoch 6 has started (lr=0.001). Found 358 batch(es).\n",
      "Epoch 6 finished in 0m 51.32s (- 13m 24.0s) (6 6.0%). train avg loss: 0.7742, val avg loss: 1.2319\n",
      "Training for epoch 7 has started (lr=0.001). Found 358 batch(es).\n",
      "Epoch 7 finished in 0m 59.81s (- 13m 14.62s) (7 7.0%). train avg loss: 0.6519, val avg loss: 1.0425\n",
      "Training for epoch 8 has started (lr=0.001). Found 358 batch(es).\n",
      "Epoch 8 finished in 1m 7.98s (- 13m 1.79s) (8 8.0%). train avg loss: 0.5402, val avg loss: 0.9864\n",
      "Training for epoch 9 has started (lr=0.001). Found 358 batch(es).\n",
      "Epoch 9 finished in 1m 16.38s (- 12m 52.27s) (9 9.0%). train avg loss: 0.4675, val avg loss: 0.9121\n",
      "Training for epoch 10 has started (lr=0.001). Found 358 batch(es).\n",
      "Epoch 10 finished in 1m 25.07s (- 12m 45.62s) (10 10.0%). train avg loss: 0.4135, val avg loss: 0.8573\n",
      "Training for epoch 11 has started (lr=0.001). Found 358 batch(es).\n",
      "Epoch 11 finished in 1m 34.53s (- 12m 44.85s) (11 11.0%). train avg loss: 0.3521, val avg loss: 0.8572\n",
      "Training for epoch 12 has started (lr=0.001). Found 358 batch(es).\n",
      "Epoch 12 finished in 1m 44.65s (- 12m 47.42s) (12 12.0%). train avg loss: 0.3165, val avg loss: 0.7729\n",
      "Training for epoch 13 has started (lr=0.001). Found 358 batch(es).\n",
      "Epoch 13 finished in 1m 54.05s (- 12m 43.25s) (13 13.0%). train avg loss: 0.2739, val avg loss: 0.8345\n",
      "Training for epoch 14 has started (lr=0.001). Found 358 batch(es).\n",
      "Epoch 14 finished in 2m 2.56s (- 12m 32.88s) (14 14.0%). train avg loss: 0.2572, val avg loss: 0.6755\n",
      "Training for epoch 15 has started (lr=0.001). Found 358 batch(es).\n",
      "Epoch 15 finished in 2m 12.51s (- 12m 30.9s) (15 15.0%). train avg loss: 0.2405, val avg loss: 0.618\n",
      "Training for epoch 16 has started (lr=0.001). Found 358 batch(es).\n",
      "Epoch 16 finished in 2m 20.69s (- 12m 18.64s) (16 16.0%). train avg loss: 0.2198, val avg loss: 0.6089\n",
      "Training for epoch 17 has started (lr=0.001). Found 358 batch(es).\n",
      "Epoch 17 finished in 2m 29.28s (- 12m 8.83s) (17 17.0%). train avg loss: 0.2052, val avg loss: 0.6646\n",
      "Training for epoch 18 has started (lr=0.001). Found 358 batch(es).\n",
      "Epoch 18 finished in 2m 37.9s (- 11m 59.32s) (18 18.0%). train avg loss: 0.1856, val avg loss: 0.6241\n",
      "Training for epoch 19 has started (lr=0.001). Found 358 batch(es).\n",
      "Epoch 19 finished in 2m 46.3s (- 11m 48.94s) (19 19.0%). train avg loss: 0.1672, val avg loss: 0.6855\n",
      "Training for epoch 20 has started (lr=0.001). Found 358 batch(es).\n",
      "Epoch 20 finished in 2m 53.96s (- 11m 35.84s) (20 20.0%). train avg loss: 0.1639, val avg loss: 0.6457\n",
      "Training for epoch 21 has started (lr=0.001). Found 358 batch(es).\n",
      "Epoch 21 finished in 3m 2.52s (- 11m 26.64s) (21 21.0%). train avg loss: 0.1478, val avg loss: 0.5794\n",
      "Training for epoch 22 has started (lr=0.001). Found 358 batch(es).\n",
      "Epoch 22 finished in 3m 11.55s (- 11m 19.12s) (22 22.0%). train avg loss: 0.1394, val avg loss: 0.5174\n",
      "Training for epoch 23 has started (lr=0.001). Found 358 batch(es).\n",
      "Epoch 23 finished in 3m 19.5s (- 11m 7.88s) (23 23.0%). train avg loss: 0.1339, val avg loss: 0.5613\n",
      "Training for epoch 24 has started (lr=0.001). Found 358 batch(es).\n",
      "Epoch 24 finished in 3m 28.03s (- 10m 58.77s) (24 24.0%). train avg loss: 0.1389, val avg loss: 0.613\n",
      "Training for epoch 25 has started (lr=0.001). Found 358 batch(es).\n",
      "Epoch 25 finished in 3m 36.41s (- 10m 49.22s) (25 25.0%). train avg loss: 0.1278, val avg loss: 0.4826\n",
      "Training for epoch 26 has started (lr=0.001). Found 358 batch(es).\n",
      "Epoch 26 finished in 3m 45.16s (- 10m 40.84s) (26 26.0%). train avg loss: 0.1195, val avg loss: 0.5129\n",
      "Training for epoch 27 has started (lr=0.001). Found 358 batch(es).\n",
      "Epoch 27 finished in 3m 54.32s (- 10m 33.54s) (27 27.0%). train avg loss: 0.1168, val avg loss: 0.5829\n",
      "Training for epoch 28 has started (lr=0.001). Found 358 batch(es).\n",
      "Epoch 28 finished in 4m 3.43s (- 10m 25.95s) (28 28.0%). train avg loss: 0.0963, val avg loss: 0.432\n",
      "Training for epoch 29 has started (lr=0.001). Found 358 batch(es).\n",
      "Epoch 29 finished in 4m 12.33s (- 10m 17.76s) (29 29.0%). train avg loss: 0.0858, val avg loss: 0.4389\n",
      "Training for epoch 30 has started (lr=0.001). Found 358 batch(es).\n",
      "Epoch 30 finished in 4m 20.51s (- 10m 7.87s) (30 30.0%). train avg loss: 0.0821, val avg loss: 0.4742\n",
      "Training for epoch 31 has started (lr=0.001). Found 358 batch(es).\n",
      "Epoch 31 finished in 4m 30.92s (- 10m 3.0s) (31 31.0%). train avg loss: 0.1253, val avg loss: 0.415\n",
      "Training for epoch 32 has started (lr=0.001). Found 358 batch(es).\n",
      "Epoch 32 finished in 4m 39.52s (- 9m 53.99s) (32 32.0%). train avg loss: 0.1135, val avg loss: 0.4182\n",
      "Training for epoch 33 has started (lr=0.001). Found 358 batch(es).\n",
      "Epoch 33 finished in 4m 47.9s (- 9m 44.53s) (33 33.0%). train avg loss: 0.0806, val avg loss: 0.3899\n",
      "Training for epoch 34 has started (lr=0.001). Found 358 batch(es).\n",
      "Epoch 34 finished in 4m 56.95s (- 9m 36.44s) (34 34.0%). train avg loss: 0.0749, val avg loss: 0.5341\n",
      "Training for epoch 35 has started (lr=0.001). Found 358 batch(es).\n",
      "Epoch 35 finished in 5m 5.86s (- 9m 28.02s) (35 35.0%). train avg loss: 0.0773, val avg loss: 0.3988\n",
      "Training for epoch 36 has started (lr=0.001). Found 358 batch(es).\n",
      "Epoch 36 finished in 5m 15.12s (- 9m 20.21s) (36 36.0%). train avg loss: 0.0621, val avg loss: 0.4062\n",
      "Training for epoch 37 has started (lr=0.001). Found 358 batch(es).\n",
      "Epoch 37 finished in 5m 24.1s (- 9m 11.84s) (37 37.0%). train avg loss: 0.0948, val avg loss: 0.3962\n",
      "Training for epoch 38 has started (lr=0.001). Found 358 batch(es).\n",
      "Epoch 38 finished in 5m 32.32s (- 9m 2.21s) (38 38.0%). train avg loss: 0.0774, val avg loss: 0.3998\n",
      "Training for epoch 39 has started (lr=0.001). Found 358 batch(es).\n",
      "Epoch 39 finished in 5m 40.52s (- 8m 52.6s) (39 39.0%). train avg loss: 0.0721, val avg loss: 0.4566\n",
      "Training for epoch 40 has started (lr=0.001). Found 358 batch(es).\n",
      "Epoch 40 finished in 5m 49.84s (- 8m 44.77s) (40 40.0%). train avg loss: 0.0667, val avg loss: 0.5523\n",
      "Training for epoch 41 has started (lr=0.001). Found 358 batch(es).\n",
      "Epoch 41 finished in 5m 59.88s (- 8m 37.88s) (41 41.0%). train avg loss: 0.1065, val avg loss: 0.4334\n",
      "Training for epoch 42 has started (lr=0.001). Found 358 batch(es).\n",
      "Epoch 42 finished in 6m 8.18s (- 8m 28.43s) (42 42.0%). train avg loss: 0.0778, val avg loss: 0.3271\n",
      "Training for epoch 43 has started (lr=0.001). Found 358 batch(es).\n",
      "Epoch 43 finished in 6m 16.59s (- 8m 19.2s) (43 43.0%). train avg loss: 0.0535, val avg loss: 0.3542\n",
      "Training for epoch 44 has started (lr=0.001). Found 358 batch(es).\n",
      "Epoch 44 finished in 6m 25.5s (- 8m 10.64s) (44 44.0%). train avg loss: 0.0507, val avg loss: 0.337\n",
      "Training for epoch 45 has started (lr=0.001). Found 358 batch(es).\n",
      "Epoch 45 finished in 6m 34.63s (- 8m 2.32s) (45 45.0%). train avg loss: 0.0554, val avg loss: 0.3743\n",
      "Training for epoch 46 has started (lr=0.001). Found 358 batch(es).\n",
      "Epoch 46 finished in 6m 43.6s (- 7m 53.79s) (46 46.0%). train avg loss: 0.0851, val avg loss: 0.4601\n",
      "Training for epoch 47 has started (lr=0.001). Found 358 batch(es).\n",
      "Epoch 47 finished in 6m 52.01s (- 7m 44.61s) (47 47.0%). train avg loss: 0.0833, val avg loss: 0.3223\n",
      "Training for epoch 48 has started (lr=0.001). Found 358 batch(es).\n",
      "Epoch 48 finished in 7m 1.38s (- 7m 36.49s) (48 48.0%). train avg loss: 0.0509, val avg loss: 0.4061\n",
      "Training for epoch 49 has started (lr=0.001). Found 358 batch(es).\n",
      "Epoch 49 finished in 7m 10.83s (- 7m 28.42s) (49 49.0%). train avg loss: 0.1051, val avg loss: 0.4487\n",
      "Training for epoch 50 has started (lr=0.001). Found 358 batch(es).\n",
      "Epoch 50 finished in 7m 20.39s (- 7m 20.39s) (50 50.0%). train avg loss: 0.0608, val avg loss: 0.3396\n",
      "Training for epoch 51 has started (lr=0.001). Found 358 batch(es).\n",
      "Epoch 51 finished in 7m 29.73s (- 7m 12.09s) (51 51.0%). train avg loss: 0.0466, val avg loss: 0.3775\n",
      "Training for epoch 52 has started (lr=0.001). Found 358 batch(es).\n",
      "Epoch 52 finished in 7m 39.06s (- 7m 3.75s) (52 52.0%). train avg loss: 0.0511, val avg loss: 0.4104\n",
      "Training for epoch 53 has started (lr=0.001). Found 358 batch(es).\n",
      "Epoch 53 finished in 7m 48.81s (- 6m 55.73s) (53 53.0%). train avg loss: 0.0469, val avg loss: 0.3278\n",
      "Training for epoch 54 has started (lr=0.001). Found 358 batch(es).\n",
      "Epoch 54 finished in 7m 58.64s (- 6m 47.73s) (54 54.0%). train avg loss: 0.044, val avg loss: 0.3602\n",
      "Training for epoch 55 has started (lr=0.001). Found 358 batch(es).\n",
      "Epoch 55 finished in 8m 8.62s (- 6m 39.78s) (55 55.0%). train avg loss: 0.0406, val avg loss: 0.3549\n",
      "Training for epoch 56 has started (lr=0.001). Found 358 batch(es).\n",
      "Epoch 56 finished in 8m 18.08s (- 6m 31.35s) (56 56.0%). train avg loss: 0.0444, val avg loss: 0.331\n",
      "Training for epoch 57 has started (lr=0.001). Found 358 batch(es).\n",
      "Epoch 57 finished in 8m 27.58s (- 6m 22.91s) (57 57.0%). train avg loss: 0.0407, val avg loss: 0.3381\n",
      "Training for epoch 58 has started (lr=0.001). Found 358 batch(es).\n",
      "Epoch 58 finished in 8m 36.65s (- 6m 14.12s) (58 58.0%). train avg loss: 0.057, val avg loss: 0.3101\n",
      "Training for epoch 59 has started (lr=0.001). Found 358 batch(es).\n",
      "Epoch 59 finished in 8m 46.39s (- 6m 5.8s) (59 59.0%). train avg loss: 0.0521, val avg loss: 0.4043\n",
      "Training for epoch 60 has started (lr=0.001). Found 358 batch(es).\n",
      "Epoch 60 finished in 8m 56.1s (- 5m 57.4s) (60 60.0%). train avg loss: 0.0494, val avg loss: 0.2949\n",
      "Training for epoch 61 has started (lr=0.001). Found 358 batch(es).\n",
      "Epoch 61 finished in 9m 5.61s (- 5m 48.83s) (61 61.0%). train avg loss: 0.039, val avg loss: 0.5038\n",
      "Training for epoch 62 has started (lr=0.001). Found 358 batch(es).\n",
      "Epoch 62 finished in 9m 14.95s (- 5m 40.13s) (62 62.0%). train avg loss: 0.0848, val avg loss: 0.3532\n",
      "Training for epoch 63 has started (lr=0.001). Found 358 batch(es).\n",
      "Epoch 63 finished in 9m 24.56s (- 5m 31.57s) (63 63.0%). train avg loss: 0.0492, val avg loss: 0.2891\n",
      "Training for epoch 64 has started (lr=0.001). Found 358 batch(es).\n",
      "Epoch 64 finished in 9m 34.28s (- 5m 23.03s) (64 64.0%). train avg loss: 0.0549, val avg loss: 0.3389\n",
      "Training for epoch 65 has started (lr=0.001). Found 358 batch(es).\n",
      "Epoch 65 finished in 9m 43.81s (- 5m 14.36s) (65 65.0%). train avg loss: 0.0445, val avg loss: 0.2919\n",
      "Training for epoch 66 has started (lr=0.001). Found 358 batch(es).\n",
      "Epoch 66 finished in 9m 53.1s (- 5m 5.54s) (66 66.0%). train avg loss: 0.0364, val avg loss: 0.2961\n",
      "Training for epoch 67 has started (lr=0.001). Found 358 batch(es).\n",
      "Epoch 67 finished in 10m 2.67s (- 4m 56.84s) (67 67.0%). train avg loss: 0.0331, val avg loss: 0.3571\n",
      "Training for epoch 68 has started (lr=0.001). Found 358 batch(es).\n",
      "Epoch 68 finished in 10m 13.47s (- 4m 48.69s) (68 68.0%). train avg loss: 0.0333, val avg loss: 0.3941\n",
      "Training for epoch 69 has started (lr=0.001). Found 358 batch(es).\n",
      "Epoch 69 finished in 10m 22.38s (- 4m 39.62s) (69 69.0%). train avg loss: 0.0363, val avg loss: 0.3481\n",
      "Training for epoch 70 has started (lr=0.001). Found 358 batch(es).\n",
      "Epoch 70 finished in 10m 31.21s (- 4m 30.52s) (70 70.0%). train avg loss: 0.0854, val avg loss: 0.4348\n",
      "Training for epoch 71 has started (lr=0.001). Found 358 batch(es).\n",
      "Epoch 71 finished in 10m 40.49s (- 4m 21.61s) (71 71.0%). train avg loss: 0.0768, val avg loss: 0.4475\n",
      "Training for epoch 72 has started (lr=0.001). Found 358 batch(es).\n",
      "Epoch 72 finished in 10m 48.57s (- 4m 12.22s) (72 72.0%). train avg loss: 0.0918, val avg loss: 0.3615\n",
      "Training for epoch 73 has started (lr=0.001). Found 358 batch(es).\n",
      "Epoch 73 finished in 10m 58.14s (- 4m 3.42s) (73 73.0%). train avg loss: 0.0484, val avg loss: 0.3377\n",
      "Training for epoch 74 has started (lr=0.001). Found 358 batch(es).\n",
      "Epoch 74 finished in 11m 6.77s (- 3m 54.27s) (74 74.0%). train avg loss: 0.038, val avg loss: 0.3383\n",
      "Training for epoch 75 has started (lr=0.0005). Found 358 batch(es).\n",
      "Epoch 75 finished in 11m 15.54s (- 3m 45.18s) (75 75.0%). train avg loss: 0.0342, val avg loss: 0.3185\n",
      "Training for epoch 76 has started (lr=0.0005). Found 358 batch(es).\n",
      "Epoch 76 finished in 11m 24.11s (- 3m 36.03s) (76 76.0%). train avg loss: 0.0315, val avg loss: 0.3084\n",
      "Training for epoch 77 has started (lr=0.0005). Found 358 batch(es).\n",
      "Epoch 77 finished in 11m 32.88s (- 3m 26.96s) (77 77.0%). train avg loss: 0.0341, val avg loss: 0.2916\n",
      "Training for epoch 78 has started (lr=0.0005). Found 358 batch(es).\n",
      "Epoch 78 finished in 11m 40.52s (- 3m 17.58s) (78 78.0%). train avg loss: 0.0319, val avg loss: 0.3445\n",
      "Training for epoch 79 has started (lr=0.0005). Found 358 batch(es).\n",
      "Epoch 79 finished in 11m 48.89s (- 3m 8.44s) (79 79.0%). train avg loss: 0.0302, val avg loss: 0.3159\n",
      "Training for epoch 80 has started (lr=0.0005). Found 358 batch(es).\n",
      "Epoch 80 finished in 11m 58.18s (- 2m 59.54s) (80 80.0%). train avg loss: 0.028, val avg loss: 0.3282\n",
      "Training for epoch 81 has started (lr=0.0005). Found 358 batch(es).\n",
      "Epoch 81 finished in 12m 6.11s (- 2m 50.32s) (81 81.0%). train avg loss: 0.0284, val avg loss: 0.3288\n",
      "Training for epoch 82 has started (lr=0.0005). Found 358 batch(es).\n",
      "Epoch 82 finished in 12m 13.84s (- 2m 41.09s) (82 82.0%). train avg loss: 0.0275, val avg loss: 0.3202\n",
      "Training for epoch 83 has started (lr=0.0005). Found 358 batch(es).\n",
      "Epoch 83 finished in 12m 22.5s (- 2m 32.08s) (83 83.0%). train avg loss: 0.0288, val avg loss: 0.3159\n",
      "Training for epoch 84 has started (lr=0.0005). Found 358 batch(es).\n",
      "Epoch 84 finished in 12m 31.11s (- 2m 23.07s) (84 84.0%). train avg loss: 0.0262, val avg loss: 0.2951\n",
      "Training for epoch 85 has started (lr=0.0005). Found 358 batch(es).\n",
      "Epoch 85 finished in 12m 39.61s (- 2m 14.05s) (85 85.0%). train avg loss: 0.028, val avg loss: 0.3482\n",
      "Training for epoch 86 has started (lr=0.00025). Found 358 batch(es).\n",
      "Epoch 86 finished in 12m 48.63s (- 2m 5.13s) (86 86.0%). train avg loss: 0.0266, val avg loss: 0.3036\n",
      "Training for epoch 87 has started (lr=0.00025). Found 358 batch(es).\n",
      "Epoch 87 finished in 12m 57.0s (- 1m 56.1s) (87 87.0%). train avg loss: 0.0251, val avg loss: 0.3293\n",
      "Training for epoch 88 has started (lr=0.00025). Found 358 batch(es).\n",
      "Epoch 88 finished in 13m 4.96s (- 1m 47.04s) (88 88.0%). train avg loss: 0.0251, val avg loss: 0.3389\n",
      "Training for epoch 89 has started (lr=0.00025). Found 358 batch(es).\n",
      "Epoch 89 finished in 13m 12.84s (- 1m 37.99s) (89 89.0%). train avg loss: 0.0266, val avg loss: 0.3739\n",
      "Training for epoch 90 has started (lr=0.00025). Found 358 batch(es).\n",
      "Epoch 90 finished in 13m 21.56s (- 1m 29.06s) (90 90.0%). train avg loss: 0.0266, val avg loss: 0.3426\n",
      "Training for epoch 91 has started (lr=0.00025). Found 358 batch(es).\n",
      "Epoch 91 finished in 13m 30.51s (- 1m 20.16s) (91 91.0%). train avg loss: 0.0236, val avg loss: 0.2987\n",
      "Training for epoch 92 has started (lr=0.00025). Found 358 batch(es).\n",
      "Epoch 92 finished in 13m 38.76s (- 1m 11.2s) (92 92.0%). train avg loss: 0.0244, val avg loss: 0.3363\n",
      "Training for epoch 93 has started (lr=0.00025). Found 358 batch(es).\n",
      "Epoch 93 finished in 13m 46.86s (- 1m 2.24s) (93 93.0%). train avg loss: 0.0237, val avg loss: 0.3183\n",
      "Training for epoch 94 has started (lr=0.00025). Found 358 batch(es).\n",
      "Epoch 94 finished in 13m 55.67s (- 0m 53.34s) (94 94.0%). train avg loss: 0.0249, val avg loss: 0.3339\n",
      "Training for epoch 95 has started (lr=0.00025). Found 358 batch(es).\n",
      "Epoch 95 finished in 14m 5.24s (- 0m 44.49s) (95 95.0%). train avg loss: 0.0237, val avg loss: 0.3315\n",
      "Training for epoch 96 has started (lr=0.00025). Found 358 batch(es).\n",
      "Epoch 96 finished in 14m 14.71s (- 0m 35.61s) (96 96.0%). train avg loss: 0.0242, val avg loss: 0.2972\n",
      "Training for epoch 97 has started (lr=0.000125). Found 358 batch(es).\n",
      "Epoch 97 finished in 14m 23.75s (- 0m 26.71s) (97 97.0%). train avg loss: 0.0222, val avg loss: 0.311\n",
      "Training for epoch 98 has started (lr=0.000125). Found 358 batch(es).\n",
      "Epoch 98 finished in 14m 32.71s (- 0m 17.81s) (98 98.0%). train avg loss: 0.0223, val avg loss: 0.3006\n",
      "Training for epoch 99 has started (lr=0.000125). Found 358 batch(es).\n",
      "Epoch 99 finished in 14m 41.84s (- 0m 8.91s) (99 99.0%). train avg loss: 0.0228, val avg loss: 0.3047\n",
      "Training for epoch 100 has started (lr=0.000125). Found 358 batch(es).\n",
      "Epoch 100 finished in 14m 49.66s (- 0m 0.0s) (100 100.0%). train avg loss: 0.0242, val avg loss: 0.329\n"
     ]
    }
   ],
   "source": [
    "# Training configurations\n",
    "n_epochs = 100\n",
    "# Keep track of time elapsed and running averages\n",
    "train_losses = []\n",
    "val_losses = []\n",
    "# Keep track of the best validation set loss\n",
    "best_val_loss = float(\"inf\")\n",
    "\n",
    "start = time.time()\n",
    "for epoch in range(1, n_epochs+1) :\n",
    "  # Set both encoder and decoder to training mode\n",
    "  encoder.train()\n",
    "  decoder.train()\n",
    "  print(f\"Training for epoch {epoch} has started (lr={encoder_optimizer.param_groups[0]['lr']}). Found {len(train_dataloader)} batch(es).\")\n",
    "  # Training\n",
    "  total_train_loss = 0\n",
    "  total_train_tokens = 0\n",
    "  for batch, (grps, phns) in enumerate(train_dataloader) :\n",
    "    # Count tokens (excluding padding)\n",
    "    total_train_tokens += (phns!=PAD_TOKEN).sum().item()\n",
    "    # Train and get loss\n",
    "    unweighted_train_loss = train_batch(grps, phns, encoder, decoder, encoder_optimizer, decoder_optimizer, criterion)\n",
    "    # Track train loss for logging\n",
    "    total_train_loss += unweighted_train_loss * (phns!=PAD_TOKEN).sum().item()\n",
    "\n",
    "  # Set both encoder and decoder to evaluation mode\n",
    "  encoder.eval()\n",
    "  decoder.eval()\n",
    "  # Validation\n",
    "  with torch.no_grad() :\n",
    "    total_val_loss = 0\n",
    "    total_val_tokens = 0\n",
    "    for grps, phns in valid_dataloader :\n",
    "      # Count tokens (excluding padding)\n",
    "      total_val_tokens += (phns!=PAD_TOKEN).sum().item()\n",
    "      # Infer and get loss\n",
    "      val_loss = infer_batch(grps, phns, encoder, decoder, criterion)\n",
    "      # Track val loss for logging\n",
    "      total_val_loss += val_loss * (phns!=PAD_TOKEN).sum().item()\n",
    "\n",
    "  # Calculate epoch metrics\n",
    "  avg_train_loss = total_train_loss/total_train_tokens\n",
    "  avg_val_loss = total_val_loss/total_val_tokens\n",
    "  print(f\"Epoch {epoch} finished in {time_since(start, epoch/n_epochs)} ({epoch} {epoch*100/n_epochs}%). train avg loss: {round(avg_train_loss, 4)}, val avg loss: {round(avg_val_loss, 4)}\")\n",
    "\n",
    "  # Update schedulers based on validation loss\n",
    "  encoder_scheduler.step(avg_val_loss)\n",
    "  decoder_scheduler.step(avg_val_loss)\n",
    "\n",
    "  # Save the losses for visualization\n",
    "  train_losses.append(avg_train_loss)\n",
    "  val_losses.append(avg_val_loss)\n",
    "\n",
    "  # Save the model if the validation loss is better than the previous iterations' validation loss\n",
    "  if avg_val_loss < best_val_loss :\n",
    "    epochs_without_improvement = 0\n",
    "    if epoch > 1 :\n",
    "      previous_best_encoder = [f for f in os.listdir(MODELS_DIR) if f.startswith(f\"train-encoder-wdecay_1e_5-attn_{attn_model}-emb_{emb_dim}-hddn_{hidden_size}-layers_{n_layers}\")][0]\n",
    "      previous_best_decoder = [f for f in os.listdir(MODELS_DIR) if f.startswith(f\"train-decoder-wdecay_1e_5-attn_{attn_model}-emb_{emb_dim}-hddn_{hidden_size}-layers_{n_layers}\")][0]\n",
    "      os.remove(os.path.join(MODELS_DIR, previous_best_encoder))\n",
    "      os.remove(os.path.join(MODELS_DIR, previous_best_decoder))\n",
    "    torch.save(encoder.state_dict(), os.path.join(MODELS_DIR, f\"train-encoder-wdecay_1e_5-attn_{attn_model}-emb_{emb_dim}-hddn_{hidden_size}-layers_{n_layers}-epoch_{epoch}.pth\"))\n",
    "    torch.save(decoder.state_dict(), os.path.join(MODELS_DIR, f\"train-decoder-wdecay_1e_5-attn_{attn_model}-emb_{emb_dim}-hddn_{hidden_size}-layers_{n_layers}-epoch_{epoch}.pth\"))\n",
    "    best_val_loss = avg_val_loss\n",
    "  else :\n",
    "    epochs_without_improvement += 1\n",
    "    if epochs_without_improvement >= patience :\n",
    "      print(f\"Early stopping after {epoch} epochs\")\n",
    "      break"
   ]
  },
  {
   "cell_type": "markdown",
   "metadata": {
    "id": "IvWFlA69aJXJ"
   },
   "source": [
    "## Visualize training loss"
   ]
  },
  {
   "cell_type": "code",
   "execution_count": 23,
   "metadata": {
    "colab": {
     "base_uri": "https://localhost:8080/",
     "height": 469
    },
    "executionInfo": {
     "elapsed": 328,
     "status": "ok",
     "timestamp": 1739960676044,
     "user": {
      "displayName": "23522026 Ahmad Naufal Hakim",
      "userId": "16621933245327613442"
     },
     "user_tz": -420
    },
    "id": "-498emHUaNzb",
    "outputId": "bab4a42d-c2d8-4a89-c7a9-eb0ace0bc12c"
   },
   "outputs": [
    {
     "data": {
      "text/plain": [
       "<Figure size 640x480 with 0 Axes>"
      ]
     },
     "metadata": {},
     "output_type": "display_data"
    },
    {
     "data": {
      "image/png": "[encoded data removed]",
      "text/plain": [
       "<Figure size 640x480 with 1 Axes>"
      ]
     },
     "metadata": {},
     "output_type": "display_data"
    }
   ],
   "source": [
    "def show_plot(**kwargs) :\n",
    "  plt.figure()\n",
    "  fig, ax = plt.subplots()\n",
    "  # This locator puts ticks at regular intervals\n",
    "  loc = ticker.MultipleLocator(base=.2)\n",
    "  ax.yaxis.set_major_locator(loc)\n",
    "  plt.title(\"Loss\")\n",
    "  legends = []\n",
    "  for k, v in kwargs.items() :\n",
    "    plt.plot(v)\n",
    "    plt.xlabel(\"Epoch\")\n",
    "    legends.append(k)\n",
    "    if k == \"val\" :\n",
    "      # Find the minimum value and its index\n",
    "      min_value = min(v)\n",
    "      min_index = v.index(min_value)\n",
    "      # Plot a red dot at the minimum value\n",
    "      plt.plot(min_index, min_value, \"ro\")\n",
    "      # Add text box in the middle of the plot showing the minimum value\n",
    "      plt.text(min_index-5.5, min_value+.125, f\"{min_value:.4f}\", bbox=dict(facecolor=\"white\", alpha=.5))\n",
    "  plt.legend(legends)\n",
    "\n",
    "show_plot(train=train_losses, val=val_losses)"
   ]
  },
  {
   "cell_type": "markdown",
   "metadata": {
    "id": "X8q3Ubs5aUWa"
   },
   "source": [
    "## Evaluate the model"
   ]
  },
  {
   "cell_type": "markdown",
   "metadata": {
    "id": "sgFQoUrINk_L"
   },
   "source": [
    "### Helper functions to evaluate encoder-decoder attention model performance"
   ]
  },
  {
   "cell_type": "code",
   "execution_count": 24,
   "metadata": {
    "executionInfo": {
     "elapsed": 2,
     "status": "ok",
     "timestamp": 1739960676044,
     "user": {
      "displayName": "23522026 Ahmad Naufal Hakim",
      "userId": "16621933245327613442"
     },
     "user_tz": -420
    },
    "id": "wHJTHcbONu7W"
   },
   "outputs": [],
   "source": [
    "def evaluate(word, max_length=MAX_LENGTH) :\n",
    "  # Convert word to tensor with batch dimension\n",
    "  input_variable = variable_from_word(test_g2p_dataset, word, grp_type=GRP_TYPE) # Already in [seq_len, 1]\n",
    "\n",
    "  # Run through encoder\n",
    "  encoder_hidden = encoder.init_hidden(batch_size=1)\n",
    "  encoder_outputs, encoder_hidden = encoder(input_variable, encoder_hidden)\n",
    "  # Prepare decoder inputs\n",
    "  decoder_input = torch.LongTensor([[SOS_TOKEN]]).to(DEVICE) # [1, 1]\n",
    "  decoder_context = torch.zeros(1, decoder.hidden_size).to(DEVICE)\n",
    "  decoder_hidden = encoder_hidden # Use last hidden state from encoder to start decoder\n",
    "\n",
    "  decoded_phonemes = []\n",
    "  attentions = torch.zeros(max_length, max_length)\n",
    "  for di in range(max_length) :\n",
    "    decoder_output, decoder_context, decoder_hidden, attn_weights = decoder(\n",
    "      decoder_input, decoder_context, decoder_hidden, encoder_outputs\n",
    "    )\n",
    "    # Store attention\n",
    "    attentions[di, :attn_weights.size(2)] += attn_weights.squeeze(0).squeeze(0).cpu().data\n",
    "    # Get most likely token\n",
    "    topv, topi = decoder_output.data.topk(1)\n",
    "    ni = topi[0][0]\n",
    "    if ni.item() == EOS_TOKEN :\n",
    "      decoded_phonemes.append(\"<EOS>\")\n",
    "      break\n",
    "    else :\n",
    "      decoded_phonemes.append(test_g2p_dataset.index2phoneme[ni.item()])\n",
    "    # Next input is predicted token\n",
    "    decoder_input = torch.LongTensor([[ni.item()]]).to(DEVICE)\n",
    "\n",
    "  return decoded_phonemes, attentions[:di+1, 1:len(encoder_outputs)]\n",
    "\n",
    "def evaluate_randomly() :\n",
    "  pair = random.choice(pairs)\n",
    "  word, _, _, arpabet_phoneme_sequence = pair\n",
    "\n",
    "  output_phonemes, decoder_attns = evaluate(word, len(word)+1)\n",
    "  try :\n",
    "    output_phonemes.remove(\"<EOS>\")\n",
    "  except ValueError as e :\n",
    "    pass\n",
    "  output_phoneme_sequence = ' '.join(output_phonemes)\n",
    "  label_phonemes = arpabet_phoneme_sequence.split()\n",
    "\n",
    "  print('>', word)\n",
    "  print('=', label_phonemes)\n",
    "  print('<', output_phoneme_sequence, output_phonemes)\n",
    "  print('')\n",
    "  return pair, output_phonemes, decoder_attns"
   ]
  },
  {
   "cell_type": "markdown",
   "metadata": {
    "id": "hedzsfDAM_LC"
   },
   "source": [
    "### Using `val` set (optional)"
   ]
  },
  {
   "cell_type": "code",
   "execution_count": 25,
   "metadata": {
    "colab": {
     "base_uri": "https://localhost:8080/"
    },
    "executionInfo": {
     "elapsed": 67072,
     "status": "ok",
     "timestamp": 1739960743114,
     "user": {
      "displayName": "23522026 Ahmad Naufal Hakim",
      "userId": "16621933245327613442"
     },
     "user_tz": -420
    },
    "id": "MlSPdqo3QDyr",
    "outputId": "364c407d-3bb7-4fd9-ac12-19a8480c9076"
   },
   "outputs": [
    {
     "name": "stdout",
     "output_type": "stream",
     "text": [
      "Phone error rate (PER) on test set: 4.0970458765155495%\n"
     ]
    }
   ],
   "source": [
    "# Total Phone Error Rate (PER)\n",
    "total_per = .0\n",
    "for pair in val_pairs :\n",
    "  word, _, _, arpabet_phoneme_sequence = pair\n",
    "  output_phonemes, decoder_attns = evaluate(word, len(word)+1)\n",
    "  try :\n",
    "    output_phonemes.remove(\"<EOS>\")\n",
    "  except ValueError as e :\n",
    "    pass\n",
    "  total_per += wer(\n",
    "    arpabet_phoneme_sequence,\n",
    "    ' '.join(output_phonemes)\n",
    "  )\n",
    "average_per = total_per / len(val_pairs)\n",
    "print(f\"Phone error rate (PER) on test set: {average_per*100}%\")"
   ]
  },
  {
   "cell_type": "markdown",
   "metadata": {
    "id": "-yQDWj6lNzOZ"
   },
   "source": [
    "### Using randomly chosen words"
   ]
  },
  {
   "cell_type": "code",
   "execution_count": 26,
   "metadata": {
    "colab": {
     "base_uri": "https://localhost:8080/",
     "height": 524
    },
    "executionInfo": {
     "elapsed": 308,
     "status": "ok",
     "timestamp": 1739961996036,
     "user": {
      "displayName": "23522026 Ahmad Naufal Hakim",
      "userId": "16621933245327613442"
     },
     "user_tz": -420
    },
    "id": "HSHGOjSmc3Vi",
    "outputId": "7c2a7917-9217-4397-8be2-0c96496d6b9f"
   },
   "outputs": [
    {
     "name": "stdout",
     "output_type": "stream",
     "text": [
      "> ubun\n",
      "= ['UW', 'B', 'UW', 'N']\n",
      "< UW B UW N ['UW', 'B', 'UW', 'N']\n",
      "\n"
     ]
    },
    {
     "data": {
      "text/plain": [
       "<matplotlib.image.AxesImage at 0x7f0f1c1edac0>"
      ]
     },
     "execution_count": 26,
     "metadata": {},
     "output_type": "execute_result"
    },
    {
     "data": {
      "image/png": "[encoded data removed]",
      "text/plain": [
       "<Figure size 400x666.667 with 1 Axes>"
      ]
     },
     "metadata": {},
     "output_type": "display_data"
    }
   ],
   "source": [
    "pair, output_phonemes, decoder_attns = evaluate_randomly()\n",
    "plt.matshow(decoder_attns.numpy())"
   ]
  }
 ],
 "metadata": {
  "colab": {
   "authorship_tag": "ABX9TyPLJmB0V/sNcUHuHtZcdQwt",
   "collapsed_sections": [
    "8mDO6QlJZpUZ",
    "T8eP0I6rZtvY"
   ],
   "provenance": []
  },
  "kernelspec": {
   "display_name": "Python 3",
   "name": "python3"
  },
  "language_info": {
   "codemirror_mode": {
    "name": "ipython",
    "version": 3
   },
   "file_extension": ".py",
   "mimetype": "text/x-python",
   "name": "python",
   "nbconvert_exporter": "python",
   "pygments_lexer": "ipython3",
   "version": "3.8.10"
  }
 },
 "nbformat": 4,
 "nbformat_minor": 0
}
